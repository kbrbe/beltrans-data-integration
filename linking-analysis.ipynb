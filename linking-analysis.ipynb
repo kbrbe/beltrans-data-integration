{
 "cells": [
  {
   "cell_type": "markdown",
   "id": "266724f5",
   "metadata": {},
   "source": [
    "# BELTRANS Data Integration Analysis\n",
    "\n",
    "This notebook contains an analysis of data from the BELTRANS project.\n",
    "\n",
    "Before this analysis, each data source was loaded into different \"namespaces\" of our **Blazegraph** triple store. Data sources which are already in RDF were directly uploaded to the triple store, heterogeneous data were first mapped via rml.io.\n",
    "\n",
    "We use `SPARQL` queries to investigate for the different data sources how they overlap. The goal is to identify optimal integration strategies. "
   ]
  },
  {
   "cell_type": "code",
   "execution_count": 5,
   "id": "2e4fedce",
   "metadata": {},
   "outputs": [],
   "source": [
    "import sys\n",
    "sys.path.insert(0, './utils/')\n",
    "\n",
    "from SPARQLWrapper import SPARQLWrapper, TURTLE, JSON\n",
    "import sparql_utils\n",
    "\n",
    "endpointWikidata = SPARQLWrapper('http://wikibase-test-srv01.kbr.be/sparql/namespace/wikidata-belgians/sparql')\n",
    "endpointBnf = SPARQLWrapper('http://wikibase-test-srv01.kbr.be/sparql/namespace/bnf-authors-persons/sparql')\n",
    "endpointNTA = SPARQLWrapper('http://wikibase-test-srv01.kbr.be/sparql/namespace/kb-authors-nta/sparql')"
   ]
  },
  {
   "cell_type": "markdown",
   "id": "5da94209",
   "metadata": {},
   "source": [
    "## Wikidata Belgians\n",
    "\n",
    "Todo: overlap from Wikidata Belgians with NTA and BnF, based on different identifiers."
   ]
  },
  {
   "cell_type": "markdown",
   "id": "c5079534",
   "metadata": {},
   "source": [
    "## KB NTA\n",
    "\n",
    "Todo: overlap from KB NTA with Wikidata-belgians and BnF, based on different identifiers."
   ]
  },
  {
   "cell_type": "markdown",
   "id": "f76345e3",
   "metadata": {},
   "source": [
    "## BnF authors\n",
    "\n",
    "Todo: overlap from BnF author persons with Wikidata-belgians and BnF, based on different identifiers."
   ]
  }
 ],
 "metadata": {
  "kernelspec": {
   "display_name": "Python 3 (ipykernel)",
   "language": "python",
   "name": "python3"
  },
  "language_info": {
   "codemirror_mode": {
    "name": "ipython",
    "version": 3
   },
   "file_extension": ".py",
   "mimetype": "text/x-python",
   "name": "python",
   "nbconvert_exporter": "python",
   "pygments_lexer": "ipython3",
   "version": "3.8.10"
  }
 },
 "nbformat": 4,
 "nbformat_minor": 5
}
