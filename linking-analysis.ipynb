{
 "cells": [
  {
   "cell_type": "markdown",
   "id": "266724f5",
   "metadata": {},
   "source": [
    "# BELTRANS Data Integration Analysis\n",
    "\n",
    "This notebook contains an analysis of data from the BELTRANS project.\n",
    "\n",
    "Before this analysis, each data source was loaded into different \"namespaces\" of our **Blazegraph** triple store. Data sources which are already in RDF were directly uploaded to the triple store, heterogeneous data were first mapped via rml.io.\n",
    "\n",
    "We use `SPARQL` queries to investigate for the different data sources how they overlap. The objective is to identify optimal integration strategies with increase the size and interoperability of KBR authority data.\n",
    "\n",
    "# Table of Contents\n",
    "\n",
    "1. [Goals](#Goals)\n",
    "2. [Approach](#Approach)\n",
    "3. [Enrich with identifiers](#Enrich-with-identifiers)\n",
    "4. [Enrich with nationalities](#Enrich-with-nationalities)\n",
    "5. [Enrich with new authorities](#Enrich-with-new-authorities)"
   ]
  },
  {
   "cell_type": "code",
   "execution_count": 6,
   "id": "2e4fedce",
   "metadata": {},
   "outputs": [],
   "source": [
    "import sys\n",
    "sys.path.insert(0, './utils/')\n",
    "\n",
    "from SPARQLWrapper import SPARQLWrapper, TURTLE, JSON\n",
    "import sparql_utils\n",
    "\n",
    "# Establish connections to SPARQL endpoints\n",
    "endpointWikidata = SPARQLWrapper('http://wikibase-test-srv01.kbr.be/sparql/namespace/wikidata-belgians/sparql')\n",
    "endpointBnf = SPARQLWrapper('http://wikibase-test-srv01.kbr.be/sparql/namespace/bnf-authors-persons/sparql')\n",
    "endpointNTA = SPARQLWrapper('http://wikibase-test-srv01.kbr.be/sparql/namespace/kb-authors-nta/sparql')"
   ]
  },
  {
   "cell_type": "markdown",
   "id": "e5e05aab",
   "metadata": {},
   "source": [
    "## Goals\n",
    "We specify the goals of data integration so we can measure and validate the outcome of our integration activities.\n",
    "\n",
    "1. We need to get Belgian authors we do not have already in our KBR authors dataset \n",
    "  * *-> This increases the size of authority data at KBR*\n",
    "2. We need to enrich KBR authors without nationality with any found nationality \n",
    "  * *-> This marks authors in our dataset as non-Belgians and for the future we can prioritize them lower*\n",
    "3. We need to enrich KBR authors without nationality with Belgian nationality if they have it \n",
    "  * *-> This marks authors in our dataset as Belgians and for the future we can prioritize them*\n",
    "4. We need to enrich KBR authors with missing ISNI and VIAF numbers\n",
    "  * *-> This increaes interoperability (similar for the following two goals)*\n",
    "5. We need to enrich KBR authors with identifiers from other libraries\n",
    "6. We need to enrich KBR authors with common identifiers such as Wikidata or DBpedia\n",
    "\n",
    "Before integration we measure the following values related to the goals defined above:"
   ]
  },
  {
   "cell_type": "code",
   "execution_count": null,
   "id": "6257b679",
   "metadata": {},
   "outputs": [],
   "source": [
    "# getInitialGoalStats()\n",
    "\n",
    "# number authors: 800,000\n",
    "# number Belgian authors\n",
    "# number no nationality known authors\n",
    "# number of records with ISNI number\n",
    "# number of records with VIAF number\n",
    "# number of records with link to BnF\n",
    "# number of records with link to KB\n",
    "# number of records with link to DNB\n",
    "# number of records with link to Wikidata"
   ]
  },
  {
   "cell_type": "markdown",
   "id": "ba61757f",
   "metadata": {},
   "source": [
    "\n",
    "## Approach\n",
    "We define how we want to achieve the goals using existing data sources.\n",
    "\n",
    "Each data source is represented as RDF and can be queries using SPARQL. If a data source is not yet represented in RDF we lift it to RDF using the framework [rml.io](https://rml.io).\n",
    "\n",
    "Generally, we have two phases. Firstly we identify missing information based on linking, and secondly we query information to enriche our KBR data. The second phase may involve manual tasks.\n",
    "\n",
    "Please note that ISNI and VIAF can be used in two ways: either as identifiers within KBR data and other data sources which enable linking, or as dedicated data source as ISNI (issued by OCLC) and VIAF provide data dumps themselves.\n",
    "\n",
    "### Complement KBR data with new Belgians\n",
    "To achieve goal *1.* we can ask the following question per data source to identify relevant data:\n",
    "\n",
    "* Which authors have Belgian nationality?\n",
    "\n",
    "Therefore we identify Belgians in the source. However, some of these identififed Belgians may already be in our KBR data. Using identifiers such as ISNI or VIAF which are present in the KBR data we can narrow the initial search result down to a smaller dataset. This smaller dataset can then be further analyzed automatically regarding overlap to KBR data based on entity linking techniques, manual checks or a combination of both.\n",
    "\n",
    "\n",
    "### Identify unknown nationalities in KBR data\n",
    "To achieve goal *2.* and *3.* we can ask the following questions per data source to identify relevant data.\n",
    "\n",
    "* Which KBR authors without nationality are actually Belgians?\n",
    "* Which KBR authors with other than a Belgian nationality are *also* Belgians?\n",
    "* Which KBR authors without nationality do have a known nationality other than Belgian?\n",
    "\n",
    "KBR authors with unknown nationality can be supplemented with nationality information based on linking KBR authors to data sources based on library-related identifiers such as ISNI and VIAF or common identifiers such as Wikidata or DBpedia. \n",
    "\n",
    "### Enrich KBR data with authority-related identifiers\n",
    "To achieve goal *4.* we can ask the following questions per data source to identify relevant data.\n",
    "\n",
    "* Which (Belgian) KBR authors are present in a data source and have a VIAF or ISNI number?\n",
    "\n",
    "Since obvously we only use KBR authors without such identifiers as starting point, we have to link to data sources via other identifiers such as library identifiers or Wikidata to find matches and extract possible VIAF and ISNI numbers.\n",
    "\n",
    "### Enrich KBR data with identifiers from other libraries\n",
    "This is similar to the previous section, but instead of using identifiers of other libraries to identify VIAF and ISNI numbers we want to find identifiers of other libraries. Therefore the following question can be asked per data source to achieve goal *5.* and identify relevant data.\n",
    "\n",
    "* Which (Belgian) KBR authors are present in a data source and have other library identifiers?\n",
    "\n",
    "### Enrich KBR data with common identifiers\n",
    "There is already a wikidata dump manually enriched with KBR identifiers. For other sources such as DBpedia we can ask the following question per data source to identify relevant data.\n",
    "\n",
    "* Which (Belgian) KBR authors are present in a data source and have a link to a common identifier?\n"
   ]
  },
  {
   "cell_type": "markdown",
   "id": "a4ab2574",
   "metadata": {},
   "source": [
    "## Enrich with identifiers"
   ]
  },
  {
   "cell_type": "code",
   "execution_count": null,
   "id": "3654d2df",
   "metadata": {},
   "outputs": [],
   "source": []
  },
  {
   "cell_type": "markdown",
   "id": "09b8630f",
   "metadata": {},
   "source": [
    "## Enrich with nationalities\n"
   ]
  },
  {
   "cell_type": "code",
   "execution_count": null,
   "id": "6047f6f0",
   "metadata": {},
   "outputs": [],
   "source": []
  },
  {
   "cell_type": "markdown",
   "id": "7be008e0",
   "metadata": {},
   "source": [
    "## Enrich with new authorities"
   ]
  },
  {
   "cell_type": "code",
   "execution_count": null,
   "id": "aea6f639",
   "metadata": {},
   "outputs": [],
   "source": []
  }
 ],
 "metadata": {
  "kernelspec": {
   "display_name": "Python 3 (ipykernel)",
   "language": "python",
   "name": "python3"
  },
  "language_info": {
   "codemirror_mode": {
    "name": "ipython",
    "version": 3
   },
   "file_extension": ".py",
   "mimetype": "text/x-python",
   "name": "python",
   "nbconvert_exporter": "python",
   "pygments_lexer": "ipython3",
   "version": "3.8.10"
  }
 },
 "nbformat": 4,
 "nbformat_minor": 5
}
