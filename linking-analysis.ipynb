{
 "cells": [
  {
   "cell_type": "markdown",
   "id": "266724f5",
   "metadata": {},
   "source": [
    "# BELTRANS Data Integration Analysis\n",
    "\n",
    "This notebook contains an analysis of data from the BELTRANS project.\n",
    "\n",
    "Before this analysis, each data source was loaded into different \"namespaces\" of our **Blazegraph** triple store. Data sources which are already in RDF were directly uploaded to the triple store, heterogeneous data were first mapped to RDF via [rml.io](https://rml.io).\n",
    "\n",
    "We use `SPARQL` queries to investigate for the different data sources how they overlap. The objective is to identify optimal integration strategies with increase the size and interoperability of KBR authority data.\n",
    "\n",
    "# Table of Contents\n",
    "\n",
    "1. [Goals](#Goals)\n",
    "2. [Approach](#Approach)\n",
    "3. [Integration Steps](#Integration-steps)<br>\n",
    "  3.1. [Enrich with identifiers](#Enrich-with-identifiers)<br>\n",
    "  3.2. [Enrich with nationalities](#Enrich-with-nationalities)<br>\n",
    "  3.3. [Enrich with new authorities](#Enrich-with-new-authorities)<br>"
   ]
  },
  {
   "cell_type": "code",
   "execution_count": 1,
   "id": "2e4fedce",
   "metadata": {},
   "outputs": [],
   "source": [
    "import sys\n",
    "sys.path.insert(0, './utils/')\n",
    "\n",
    "from SPARQLWrapper import SPARQLWrapper, TURTLE, JSON\n",
    "import sparql_utils\n",
    "\n",
    "# Establish connections to SPARQL endpoints\n",
    "endpointKBR = SPARQLWrapper('http://wikibase-test-srv01.kbr.be/sparql/namespace/kbr-belgians/sparql')\n",
    "endpointWikidataBelgians = SPARQLWrapper('http://wikibase-test-srv01.kbr.be/sparql/namespace/wikidata-belgians/sparql')\n",
    "endpointBnf = SPARQLWrapper('http://wikibase-test-srv01.kbr.be/sparql/namespace/bnf-authors-persons/sparql')\n",
    "endpointNTA = SPARQLWrapper('http://wikibase-test-srv01.kbr.be/sparql/namespace/kb-authors-nta/sparql')"
   ]
  },
  {
   "cell_type": "markdown",
   "id": "e5e05aab",
   "metadata": {},
   "source": [
    "## Goals\n",
    "We specify the goals of data integration so we can measure and validate the outcome of our integration activities.\n",
    "\n",
    "1. We need to get Belgian authors we do not have already in our KBR authors dataset \n",
    "  * *-> This increases the size of authority data at KBR*\n",
    "2. We need to enrich KBR authors without nationality with any found nationality \n",
    "  * *-> This marks authors in our dataset as non-Belgians and for the future we can prioritize them lower*\n",
    "3. We need to enrich KBR authors without nationality with Belgian nationality if they have it \n",
    "  * *-> This marks authors in our dataset as Belgians and for the future we can prioritize them*\n",
    "4. We need to enrich KBR authors with missing ISNI and VIAF numbers\n",
    "  * *-> This increaes interoperability (similar for the following two goals)*\n",
    "5. We need to enrich KBR authors with identifiers from other libraries\n",
    "6. We need to enrich KBR authors with common identifiers such as Wikidata or DBpedia\n"
   ]
  },
  {
   "cell_type": "markdown",
   "id": "be3a0a33",
   "metadata": {},
   "source": [
    "## Initial statistics\n",
    "Before integration we measure the following values related to the goals defined above.\n",
    "We measure the values based on two data sources, an export of Belgian authors from the KBR Syracuse system,\n",
    "and a Wikidata export of Belgians optionally including other identifeirs, manually enriched with KBR identifiers."
   ]
  },
  {
   "cell_type": "code",
   "execution_count": 2,
   "id": "6257b679",
   "metadata": {},
   "outputs": [
    {
     "data": {
      "text/plain": [
       "'51930 Wikidata Belgians, 2377 with KBR identifier, 6083 with BnF identifier 7583 with KB identifier, 5346 with DNB identifier'"
      ]
     },
     "execution_count": 2,
     "metadata": {},
     "output_type": "execute_result"
    }
   ],
   "source": [
    "# getInitialGoalStats()\n",
    "\n",
    "# Todo: get the following data once we have access to a complete Syracuse dump\n",
    "# number authors: 800,000\n",
    "# number no nationality known authors\n",
    "# number of records with ISNI number\n",
    "# number of records with VIAF number\n",
    "# number of records with link to BnF\n",
    "# number of records with link to KB\n",
    "# number of records with link to DNB\n",
    "# number of records with link to Wikidata\n",
    "\n",
    "# number Belgian authors\n",
    "belgianKBRAuthors = sparql_utils.getNumberOfBelgiansLOCURI(endpointKBR)\n",
    "belgianKBRAuthorsWithISNI = sparql_utils.getNumberOfBelgiansWithISNI(endpointKBR)\n",
    "belgianKBRAuthorsWithVIAF = sparql_utils.getNumberOfBelgiansWithIdentifier(endpointKBR, 'VIAF')\n",
    "\n",
    "belgianWikidata = sparql_utils.getNumberOfBelgiansLOCURI(endpointWikidataBelgians)\n",
    "belgianWikidataWithKBR = sparql_utils.getNumberOfBelgiansWithIdentifier(endpointWikidataBelgians, 'KBR')\n",
    "belgianWikidataWithBnF = sparql_utils.getNumberOfBelgiansWithIdentifier(endpointWikidataBelgians, \"BnF\")\n",
    "belgianWikidataWithKB = sparql_utils.getNumberOfBelgiansWithIdentifier(endpointWikidataBelgians, \"NTA\")\n",
    "belgianWikidataWithDNB = sparql_utils.getNumberOfBelgiansWithIdentifier(endpointWikidataBelgians, \"DNB\")\n",
    "\n",
    "# Todo create a data frame to store every value also with percentages to nicely display it\n",
    "\n",
    "\n",
    "f\"{belgianWikidata} Wikidata Belgians, {belgianWikidataWithKBR} with KBR identifier, {belgianWikidataWithBnF} with BnF identifier {belgianWikidataWithKB} with KB identifier, {belgianWikidataWithDNB} with DNB identifier\""
   ]
  },
  {
   "cell_type": "code",
   "execution_count": 3,
   "id": "d518fdc4",
   "metadata": {},
   "outputs": [
    {
     "data": {
      "text/plain": [
       "'The KBR Belgian export contains 18009 Belgians from which 6509 (36.14303959131545%) have an ISNI number and 219 (1.2160586373479927%) have a VIAF number'"
      ]
     },
     "execution_count": 3,
     "metadata": {},
     "output_type": "execute_result"
    }
   ],
   "source": [
    "f\"The KBR Belgian export contains {belgianKBRAuthors} Belgians from which {belgianKBRAuthorsWithISNI} ({(belgianKBRAuthorsWithISNI*100)/belgianKBRAuthors}%) have an ISNI number and {belgianKBRAuthorsWithVIAF} ({(belgianKBRAuthorsWithVIAF*100)/belgianKBRAuthors}%) have a VIAF number\"\n"
   ]
  },
  {
   "cell_type": "markdown",
   "id": "ba61757f",
   "metadata": {},
   "source": [
    "\n",
    "## Approach\n",
    "We define how we want to achieve the goals using existing data sources.\n",
    "\n",
    "Each data source is represented as RDF and can be queried using SPARQL. If a data source is not yet represented in RDF we lift it to RDF using the framework [rml.io](https://rml.io).\n",
    "\n",
    "Generally, we have two phases. Firstly we identify missing information based on linking, and secondly we query information to enriche our KBR data. The second phase may involve manual tasks.\n",
    "\n",
    "Please note that ISNI and VIAF can be used in two ways: either as identifiers within KBR data and other data sources which enable linking, or as dedicated data source because ISNI (issued by OCLC) and VIAF provide data dumps themselves.\n",
    "\n",
    "### Complement KBR data with new Belgians\n",
    "To achieve goal *1.* we can ask the following question per data source to identify relevant data:\n",
    "\n",
    "* Which authors have Belgian nationality?\n",
    "\n",
    "Therefore we identify Belgians in the source. However, some of these identififed Belgians may already be in our KBR data. Using identifiers such as ISNI or VIAF which are present in the KBR data we can narrow the initial search result down to a smaller dataset. This smaller dataset can then be further analyzed automatically regarding overlap to KBR data based on entity linking techniques, manual checks or a combination of both.\n",
    "\n",
    "\n",
    "### Identify unknown nationalities in KBR data\n",
    "To achieve goal *2.* and *3.* we can ask the following questions per data source to identify relevant data.\n",
    "\n",
    "* Which KBR authors without nationality are actually Belgians?\n",
    "* Which KBR authors with other than a Belgian nationality are *also* Belgians?\n",
    "* Which KBR authors without nationality do have a known nationality other than Belgian?\n",
    "\n",
    "KBR authors with unknown nationality can be supplemented with nationality information based on linking KBR authors to data sources based on library-related identifiers such as ISNI and VIAF or common identifiers such as Wikidata or DBpedia. \n",
    "\n",
    "### Enrich KBR data with authority-related identifiers\n",
    "To achieve goal *4.* we can ask the following questions per data source to identify relevant data.\n",
    "\n",
    "* Which (Belgian) KBR authors are present in a data source and have a VIAF or ISNI number?\n",
    "\n",
    "Since obvously we only use KBR authors without such identifiers as starting point, we have to link to data sources via other identifiers such as library identifiers or Wikidata to find matches and extract possible VIAF and ISNI numbers.\n",
    "\n",
    "### Enrich KBR data with identifiers from other libraries\n",
    "This is similar to the previous section, but instead of using identifiers of other libraries to identify VIAF and ISNI numbers we want to find identifiers of other libraries. Therefore the following question can be asked per data source to achieve goal *5.* and identify relevant data.\n",
    "\n",
    "* Which (Belgian) KBR authors are present in a data source and have other library identifiers?\n",
    "\n",
    "### Enrich KBR data with common identifiers\n",
    "There is already a wikidata dump manually enriched with KBR identifiers. For other sources such as DBpedia we can ask the following question per data source to identify relevant data.\n",
    "\n",
    "* Which (Belgian) KBR authors are present in a data source and have a link to a common identifier?\n"
   ]
  },
  {
   "cell_type": "markdown",
   "id": "a4ab2574",
   "metadata": {},
   "source": [
    "## Integration steps\n",
    "We apply the aforementioned approach to our data sources. We start with steps to enrich data with identifiers and enrich nationality information before executing steps to add new data because the former steps help to determine what is \"new\".\n",
    "\n",
    "### Enrich with identifiers"
   ]
  },
  {
   "cell_type": "code",
   "execution_count": null,
   "id": "3654d2df",
   "metadata": {},
   "outputs": [],
   "source": []
  },
  {
   "cell_type": "markdown",
   "id": "09b8630f",
   "metadata": {},
   "source": [
    "### Enrich with nationalities\n"
   ]
  },
  {
   "cell_type": "code",
   "execution_count": null,
   "id": "6047f6f0",
   "metadata": {},
   "outputs": [],
   "source": []
  },
  {
   "cell_type": "markdown",
   "id": "7be008e0",
   "metadata": {},
   "source": [
    "### Enrich with new authorities"
   ]
  },
  {
   "cell_type": "code",
   "execution_count": null,
   "id": "aea6f639",
   "metadata": {},
   "outputs": [],
   "source": []
  }
 ],
 "metadata": {
  "kernelspec": {
   "display_name": "Python 3 (ipykernel)",
   "language": "python",
   "name": "python3"
  },
  "language_info": {
   "codemirror_mode": {
    "name": "ipython",
    "version": 3
   },
   "file_extension": ".py",
   "mimetype": "text/x-python",
   "name": "python",
   "nbconvert_exporter": "python",
   "pygments_lexer": "ipython3",
   "version": "3.8.10"
  }
 },
 "nbformat": 4,
 "nbformat_minor": 5
}
