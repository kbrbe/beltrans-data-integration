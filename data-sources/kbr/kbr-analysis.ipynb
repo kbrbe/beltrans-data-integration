{
 "cells": [
  {
   "cell_type": "markdown",
   "id": "4b51c30d",
   "metadata": {},
   "source": [
    "# KBR Analysis\n",
    "\n",
    "This notebook contains an analysis of data from KBR."
   ]
  },
  {
   "cell_type": "code",
   "execution_count": 1,
   "id": "25cf46ee",
   "metadata": {},
   "outputs": [],
   "source": [
    "import pandas as pd"
   ]
  },
  {
   "cell_type": "markdown",
   "id": "ed633707",
   "metadata": {},
   "source": [
    "## Translations\n",
    "This data is exported from KBRs library management system in the XML-based MARC SLIM format. The script `get-marc-slim-stats.py` generates statistics into which we look into the following.\n",
    "\n",
    "We first look how many records have at least one of the MARC fields on the x-axis."
   ]
  },
  {
   "cell_type": "code",
   "execution_count": 6,
   "id": "c2a403ae",
   "metadata": {},
   "outputs": [],
   "source": [
    "bt1Stats = pd.read_csv('beltrans1-stats.csv', index_col='field')"
   ]
  },
  {
   "cell_type": "code",
   "execution_count": 12,
   "id": "cf4626f9",
   "metadata": {
    "scrolled": true
   },
   "outputs": [
    {
     "data": {
      "text/plain": [
       "<AxesSubplot:xlabel='field'>"
      ]
     },
     "execution_count": 12,
     "metadata": {},
     "output_type": "execute_result"
    },
    {
     "data": {
      "image/png": "[encoded data removed]",
      "text/plain": [
       "<Figure size 432x288 with 1 Axes>"
      ]
     },
     "metadata": {
      "needs_background": "light"
     },
     "output_type": "display_data"
    }
   ],
   "source": [
    "filteredBt1Stats = bt1Stats[bt1Stats['percentage'] > 3]\n",
    "filteredBt1Stats['percentage'].sort_values(ascending=False).plot.bar()"
   ]
  },
  {
   "cell_type": "markdown",
   "id": "8e58bbf2",
   "metadata": {},
   "source": [
    "The following MARC fields are used in more than `80%` of the records:"
   ]
  },
  {
   "cell_type": "code",
   "execution_count": 17,
   "id": "c4a500c9",
   "metadata": {},
   "outputs": [
    {
     "data": {
      "text/html": [
       "<div>\n",
       "<style scoped>\n",
       "    .dataframe tbody tr th:only-of-type {\n",
       "        vertical-align: middle;\n",
       "    }\n",
       "\n",
       "    .dataframe tbody tr th {\n",
       "        vertical-align: top;\n",
       "    }\n",
       "\n",
       "    .dataframe thead th {\n",
       "        text-align: right;\n",
       "    }\n",
       "</style>\n",
       "<table border=\"1\" class=\"dataframe\">\n",
       "  <thead>\n",
       "    <tr style=\"text-align: right;\">\n",
       "      <th></th>\n",
       "      <th>number</th>\n",
       "      <th>unique</th>\n",
       "      <th>percentage</th>\n",
       "    </tr>\n",
       "    <tr>\n",
       "      <th>field</th>\n",
       "      <th></th>\n",
       "      <th></th>\n",
       "      <th></th>\n",
       "    </tr>\n",
       "  </thead>\n",
       "  <tbody>\n",
       "    <tr>\n",
       "      <th>245</th>\n",
       "      <td>55577</td>\n",
       "      <td>55572</td>\n",
       "      <td>100.0000</td>\n",
       "    </tr>\n",
       "    <tr>\n",
       "      <th>40</th>\n",
       "      <td>55572</td>\n",
       "      <td>55567</td>\n",
       "      <td>99.9910</td>\n",
       "    </tr>\n",
       "    <tr>\n",
       "      <th>264</th>\n",
       "      <td>58944</td>\n",
       "      <td>55561</td>\n",
       "      <td>99.9802</td>\n",
       "    </tr>\n",
       "    <tr>\n",
       "      <th>44</th>\n",
       "      <td>55420</td>\n",
       "      <td>55415</td>\n",
       "      <td>99.7175</td>\n",
       "    </tr>\n",
       "    <tr>\n",
       "      <th>300</th>\n",
       "      <td>55358</td>\n",
       "      <td>55204</td>\n",
       "      <td>99.3378</td>\n",
       "    </tr>\n",
       "    <tr>\n",
       "      <th>41</th>\n",
       "      <td>55310</td>\n",
       "      <td>55179</td>\n",
       "      <td>99.2928</td>\n",
       "    </tr>\n",
       "    <tr>\n",
       "      <th>940</th>\n",
       "      <td>55167</td>\n",
       "      <td>55167</td>\n",
       "      <td>99.2712</td>\n",
       "    </tr>\n",
       "    <tr>\n",
       "      <th>942</th>\n",
       "      <td>52630</td>\n",
       "      <td>52630</td>\n",
       "      <td>94.7060</td>\n",
       "    </tr>\n",
       "    <tr>\n",
       "      <th>941</th>\n",
       "      <td>52629</td>\n",
       "      <td>52629</td>\n",
       "      <td>94.7042</td>\n",
       "    </tr>\n",
       "    <tr>\n",
       "      <th>944</th>\n",
       "      <td>64508</td>\n",
       "      <td>52339</td>\n",
       "      <td>94.1823</td>\n",
       "    </tr>\n",
       "    <tr>\n",
       "      <th>945</th>\n",
       "      <td>64357</td>\n",
       "      <td>52237</td>\n",
       "      <td>93.9988</td>\n",
       "    </tr>\n",
       "    <tr>\n",
       "      <th>20</th>\n",
       "      <td>53551</td>\n",
       "      <td>47857</td>\n",
       "      <td>86.1171</td>\n",
       "    </tr>\n",
       "    <tr>\n",
       "      <th>700</th>\n",
       "      <td>112053</td>\n",
       "      <td>45084</td>\n",
       "      <td>81.1272</td>\n",
       "    </tr>\n",
       "  </tbody>\n",
       "</table>\n",
       "</div>"
      ],
      "text/plain": [
       "       number  unique  percentage\n",
       "field                            \n",
       "245     55577   55572    100.0000\n",
       "40      55572   55567     99.9910\n",
       "264     58944   55561     99.9802\n",
       "44      55420   55415     99.7175\n",
       "300     55358   55204     99.3378\n",
       "41      55310   55179     99.2928\n",
       "940     55167   55167     99.2712\n",
       "942     52630   52630     94.7060\n",
       "941     52629   52629     94.7042\n",
       "944     64508   52339     94.1823\n",
       "945     64357   52237     93.9988\n",
       "20      53551   47857     86.1171\n",
       "700    112053   45084     81.1272"
      ]
     },
     "execution_count": 17,
     "metadata": {},
     "output_type": "execute_result"
    }
   ],
   "source": [
    "bt1Stats[bt1Stats['percentage'] > 80].sort_values(by='percentage', ascending=False)"
   ]
  },
  {
   "cell_type": "code",
   "execution_count": 13,
   "id": "ba2fff6a",
   "metadata": {},
   "outputs": [],
   "source": [
    "bt2Stats = pd.read_csv('beltrans2-stats.csv', index_col='field')"
   ]
  },
  {
   "cell_type": "code",
   "execution_count": 14,
   "id": "621515a8",
   "metadata": {},
   "outputs": [
    {
     "data": {
      "text/plain": [
       "<AxesSubplot:xlabel='field'>"
      ]
     },
     "execution_count": 14,
     "metadata": {},
     "output_type": "execute_result"
    },
    {
     "data": {
      "image/png": "[encoded data removed]",
      "text/plain": [
       "<Figure size 432x288 with 1 Axes>"
      ]
     },
     "metadata": {
      "needs_background": "light"
     },
     "output_type": "display_data"
    }
   ],
   "source": [
    "filteredBt2Stats = bt2Stats[bt2Stats['percentage'] > 3]\n",
    "filteredBt2Stats['percentage'].sort_values(ascending=False).plot.bar()"
   ]
  },
  {
   "cell_type": "code",
   "execution_count": 18,
   "id": "69446208",
   "metadata": {},
   "outputs": [
    {
     "data": {
      "text/html": [
       "<div>\n",
       "<style scoped>\n",
       "    .dataframe tbody tr th:only-of-type {\n",
       "        vertical-align: middle;\n",
       "    }\n",
       "\n",
       "    .dataframe tbody tr th {\n",
       "        vertical-align: top;\n",
       "    }\n",
       "\n",
       "    .dataframe thead th {\n",
       "        text-align: right;\n",
       "    }\n",
       "</style>\n",
       "<table border=\"1\" class=\"dataframe\">\n",
       "  <thead>\n",
       "    <tr style=\"text-align: right;\">\n",
       "      <th></th>\n",
       "      <th>number</th>\n",
       "      <th>unique</th>\n",
       "      <th>percentage</th>\n",
       "    </tr>\n",
       "    <tr>\n",
       "      <th>field</th>\n",
       "      <th></th>\n",
       "      <th></th>\n",
       "      <th></th>\n",
       "    </tr>\n",
       "  </thead>\n",
       "  <tbody>\n",
       "    <tr>\n",
       "      <th>245</th>\n",
       "      <td>56877</td>\n",
       "      <td>56877</td>\n",
       "      <td>100.0000</td>\n",
       "    </tr>\n",
       "    <tr>\n",
       "      <th>40</th>\n",
       "      <td>56873</td>\n",
       "      <td>56873</td>\n",
       "      <td>99.9930</td>\n",
       "    </tr>\n",
       "    <tr>\n",
       "      <th>264</th>\n",
       "      <td>58328</td>\n",
       "      <td>56853</td>\n",
       "      <td>99.9578</td>\n",
       "    </tr>\n",
       "    <tr>\n",
       "      <th>41</th>\n",
       "      <td>56695</td>\n",
       "      <td>56569</td>\n",
       "      <td>99.4585</td>\n",
       "    </tr>\n",
       "    <tr>\n",
       "      <th>44</th>\n",
       "      <td>56507</td>\n",
       "      <td>56507</td>\n",
       "      <td>99.3495</td>\n",
       "    </tr>\n",
       "    <tr>\n",
       "      <th>940</th>\n",
       "      <td>56350</td>\n",
       "      <td>56350</td>\n",
       "      <td>99.0734</td>\n",
       "    </tr>\n",
       "    <tr>\n",
       "      <th>300</th>\n",
       "      <td>55225</td>\n",
       "      <td>55013</td>\n",
       "      <td>96.7228</td>\n",
       "    </tr>\n",
       "    <tr>\n",
       "      <th>941</th>\n",
       "      <td>54350</td>\n",
       "      <td>54350</td>\n",
       "      <td>95.5571</td>\n",
       "    </tr>\n",
       "    <tr>\n",
       "      <th>942</th>\n",
       "      <td>54348</td>\n",
       "      <td>54348</td>\n",
       "      <td>95.5536</td>\n",
       "    </tr>\n",
       "    <tr>\n",
       "      <th>944</th>\n",
       "      <td>64099</td>\n",
       "      <td>53633</td>\n",
       "      <td>94.2965</td>\n",
       "    </tr>\n",
       "    <tr>\n",
       "      <th>945</th>\n",
       "      <td>63751</td>\n",
       "      <td>53224</td>\n",
       "      <td>93.5774</td>\n",
       "    </tr>\n",
       "  </tbody>\n",
       "</table>\n",
       "</div>"
      ],
      "text/plain": [
       "       number  unique  percentage\n",
       "field                            \n",
       "245     56877   56877    100.0000\n",
       "40      56873   56873     99.9930\n",
       "264     58328   56853     99.9578\n",
       "41      56695   56569     99.4585\n",
       "44      56507   56507     99.3495\n",
       "940     56350   56350     99.0734\n",
       "300     55225   55013     96.7228\n",
       "941     54350   54350     95.5571\n",
       "942     54348   54348     95.5536\n",
       "944     64099   53633     94.2965\n",
       "945     63751   53224     93.5774"
      ]
     },
     "execution_count": 18,
     "metadata": {},
     "output_type": "execute_result"
    }
   ],
   "source": [
    "bt2Stats[bt2Stats['percentage'] > 80].sort_values(by='percentage', ascending=False)"
   ]
  }
 ],
 "metadata": {
  "kernelspec": {
   "display_name": "Python 3 (ipykernel)",
   "language": "python",
   "name": "python3"
  },
  "language_info": {
   "codemirror_mode": {
    "name": "ipython",
    "version": 3
   },
   "file_extension": ".py",
   "mimetype": "text/x-python",
   "name": "python",
   "nbconvert_exporter": "python",
   "pygments_lexer": "ipython3",
   "version": "3.8.10"
  }
 },
 "nbformat": 4,
 "nbformat_minor": 5
}
