{
 "cells": [
  {
   "cell_type": "markdown",
   "id": "266724f5",
   "metadata": {},
   "source": [
    "# BELTRANS Data Integration Analysis\n",
    "\n",
    "This notebook contains an analysis of data from the BELTRANS project.\n",
    "\n",
    "Before this analysis, each data source was loaded into different \"namespaces\" of our **Blazegraph** triple store. Data sources which are already in RDF were directly uploaded to the triple store, heterogeneous data were first mapped to RDF via [rml.io](https://rml.io).\n",
    "\n",
    "We use `SPARQL` queries to investigate for the different data sources how they overlap. The objective is to identify optimal integration strategies with increase the size and interoperability of KBR authority data.\n",
    "\n",
    "# Table of Contents\n",
    "\n",
    "1. [Goals](#Goals)\n",
    "2. [Approach](#Approach)\n",
    "3. [Integration Steps](#Integration-steps)<br>\n",
    "  3.1. [Enrich with identifiers](#Enrich-with-identifiers)<br>\n",
    "  3.2. [Enrich with nationalities](#Enrich-with-nationalities)<br>\n",
    "  3.3. [Enrich with new authorities](#Enrich-with-new-authorities)<br>"
   ]
  },
  {
   "cell_type": "code",
   "execution_count": 1,
   "id": "2e4fedce",
   "metadata": {},
   "outputs": [],
   "source": [
    "import sys\n",
    "import pandas as pd\n",
    "import matplotlib\n",
    "sys.path.insert(0, '../utils/')\n",
    "\n",
    "from SPARQLWrapper import SPARQLWrapper, TURTLE, JSON\n",
    "import sparql_utils\n",
    "\n",
    "# Establish connections to SPARQL endpoints\n",
    "endpointKBR = SPARQLWrapper('http://wikibase-test-srv01.kbr.be/sparql/namespace/kbr-belgians/sparql')\n",
    "endpointWikidataBelgians = SPARQLWrapper('http://wikibase-test-srv01.kbr.be/sparql/namespace/wikidata-belgians/sparql')\n",
    "endpointBnf = SPARQLWrapper('http://wikibase-test-srv01.kbr.be/sparql/namespace/bnf-authors-persons/sparql')\n",
    "endpointNTA = SPARQLWrapper('http://wikibase-test-srv01.kbr.be/sparql/namespace/kb-authors-nta/sparql')"
   ]
  },
  {
   "cell_type": "markdown",
   "id": "e5e05aab",
   "metadata": {},
   "source": [
    "## Goals\n",
    "We specify the goals of data integration so we can measure and validate the outcome of our integration activities.\n",
    "\n",
    "1. We need to get Belgian authors we do not have already in our KBR authors dataset \n",
    "  * *-> This increases the size of authority data at KBR*\n",
    "2. We need to enrich KBR authors without nationality with any found nationality \n",
    "  * *-> This marks authors in our dataset as non-Belgians and for the future we can prioritize them lower*\n",
    "3. We need to enrich KBR authors without nationality with Belgian nationality if they have it \n",
    "  * *-> This marks authors in our dataset as Belgians and for the future we can prioritize them*\n",
    "4. We need to enrich KBR authors with missing ISNI and VIAF numbers\n",
    "  * *-> This increaes interoperability (similar for the following two goals)*\n",
    "5. We need to enrich KBR authors with identifiers from other libraries\n",
    "6. We need to enrich KBR authors with common identifiers such as Wikidata or DBpedia\n"
   ]
  },
  {
   "cell_type": "markdown",
   "id": "e633c2b0",
   "metadata": {},
   "source": [
    "## Initial statistics\n",
    "Before integration we measure the following values related to the goals defined above.\n",
    "We measure the values based on two data sources, an export of Belgian authors from the KBR Syracuse system,\n",
    "and a Wikidata export of Belgians optionally including other identifeirs, manually enriched with KBR identifiers."
   ]
  },
  {
   "cell_type": "code",
   "execution_count": 2,
   "id": "6257b679",
   "metadata": {},
   "outputs": [
    {
     "data": {
      "text/plain": [
       "'In total we have 18009 Belgians in the KBR catalogue and 51930 Belgians found in Wikidata'"
      ]
     },
     "execution_count": 2,
     "metadata": {},
     "output_type": "execute_result"
    }
   ],
   "source": [
    "# getInitialGoalStats()\n",
    "\n",
    "# Todo: get the following data once we have access to a complete Syracuse dump\n",
    "# number authors: 800,000\n",
    "# number no nationality known authors\n",
    "# number of records with ISNI number\n",
    "# number of records with VIAF number\n",
    "# number of records with link to BnF\n",
    "# number of records with link to KB\n",
    "# number of records with link to DNB\n",
    "# number of records with link to Wikidata\n",
    "\n",
    "# number Belgian authors\n",
    "belgianKBRAuthors = sparql_utils.getNumberOfBelgiansLOCURI(endpointKBR)\n",
    "belgianKBRAuthorsWithISNI = sparql_utils.getNumberOfBelgiansWithISNI(endpointKBR)\n",
    "belgianKBRAuthorsWithVIAF = sparql_utils.getNumberOfBelgiansWithIdentifier(endpointKBR, 'VIAF')\n",
    "\n",
    "belgianWikidata = sparql_utils.getNumberOfBelgiansLOCURI(endpointWikidataBelgians)\n",
    "belgianWikidataWithISNI = sparql_utils.getNumberOfBelgiansWithISNI(endpointWikidataBelgians)\n",
    "belgianWikidataWithKBR = sparql_utils.getNumberOfBelgiansWithIdentifier(endpointWikidataBelgians, 'KBR')\n",
    "belgianWikidataWithBnF = sparql_utils.getNumberOfBelgiansWithIdentifier(endpointWikidataBelgians, \"BnF\")\n",
    "belgianWikidataWithKB = sparql_utils.getNumberOfBelgiansWithIdentifier(endpointWikidataBelgians, \"NTA\")\n",
    "belgianWikidataWithDNB = sparql_utils.getNumberOfBelgiansWithIdentifier(endpointWikidataBelgians, \"DNB\")\n",
    "\n",
    "# Todo create a data frame to store every value also with percentages to nicely display it\n",
    "kbrData = [\n",
    "    ['KBR Belgians', 'ISNI', belgianKBRAuthorsWithISNI, belgianKBRAuthors],\n",
    "    ['KBR Belgians', 'VIAF', belgianKBRAuthorsWithVIAF, belgianKBRAuthors],\n",
    "    ['KBR Belgians', 'KBR', belgianKBRAuthors, belgianKBRAuthors],\n",
    "    ['Wikidata Belgians', 'ISNI', belgianWikidataWithISNI, belgianWikidata],\n",
    "    ['Wikidata Belgians', 'KBR', belgianWikidataWithKBR, belgianWikidata],\n",
    "    ['Wikidata Belgians', 'BnF', belgianWikidataWithBnF, belgianWikidata],\n",
    "    ['Wikidata Belgians', 'NTA', belgianWikidataWithKB, belgianWikidata],\n",
    "    ['Wikidata Belgians', 'DNB', belgianWikidataWithDNB, belgianWikidata] \n",
    "]\n",
    "\n",
    "initialStats = pd.DataFrame(kbrData, columns=[\"Source\", \"Identifier\", \"Count\", \"Total\"])\n",
    "initialStats['Percentage'] = (initialStats['Count']/initialStats['Total'])*100\n",
    "\n",
    "f\"In total we have {belgianKBRAuthors} Belgians in the KBR catalogue and {belgianWikidata} Belgians found in Wikidata\""
   ]
  },
  {
   "cell_type": "markdown",
   "id": "4e86a157",
   "metadata": {},
   "source": [
    "From these data we get the following percentage of references to other identifiers"
   ]
  },
  {
   "cell_type": "code",
   "execution_count": 3,
   "id": "28f4c84d",
   "metadata": {},
   "outputs": [
    {
     "data": {
      "text/html": [
       "<div>\n",
       "<style scoped>\n",
       "    .dataframe tbody tr th:only-of-type {\n",
       "        vertical-align: middle;\n",
       "    }\n",
       "\n",
       "    .dataframe tbody tr th {\n",
       "        vertical-align: top;\n",
       "    }\n",
       "\n",
       "    .dataframe thead th {\n",
       "        text-align: right;\n",
       "    }\n",
       "</style>\n",
       "<table border=\"1\" class=\"dataframe\">\n",
       "  <thead>\n",
       "    <tr style=\"text-align: right;\">\n",
       "      <th>Identifier</th>\n",
       "      <th>BnF</th>\n",
       "      <th>DNB</th>\n",
       "      <th>ISNI</th>\n",
       "      <th>KBR</th>\n",
       "      <th>NTA</th>\n",
       "      <th>VIAF</th>\n",
       "    </tr>\n",
       "    <tr>\n",
       "      <th>Source</th>\n",
       "      <th></th>\n",
       "      <th></th>\n",
       "      <th></th>\n",
       "      <th></th>\n",
       "      <th></th>\n",
       "      <th></th>\n",
       "    </tr>\n",
       "  </thead>\n",
       "  <tbody>\n",
       "    <tr>\n",
       "      <th>KBR Belgians</th>\n",
       "      <td>0.00</td>\n",
       "      <td>0.00</td>\n",
       "      <td>36.14</td>\n",
       "      <td>100.00</td>\n",
       "      <td>0.0</td>\n",
       "      <td>1.22</td>\n",
       "    </tr>\n",
       "    <tr>\n",
       "      <th>Wikidata Belgians</th>\n",
       "      <td>11.71</td>\n",
       "      <td>10.29</td>\n",
       "      <td>19.37</td>\n",
       "      <td>4.58</td>\n",
       "      <td>14.6</td>\n",
       "      <td>0.00</td>\n",
       "    </tr>\n",
       "  </tbody>\n",
       "</table>\n",
       "</div>"
      ],
      "text/plain": [
       "Identifier           BnF    DNB   ISNI     KBR   NTA  VIAF\n",
       "Source                                                    \n",
       "KBR Belgians        0.00   0.00  36.14  100.00   0.0  1.22\n",
       "Wikidata Belgians  11.71  10.29  19.37    4.58  14.6  0.00"
      ]
     },
     "execution_count": 3,
     "metadata": {},
     "output_type": "execute_result"
    }
   ],
   "source": [
    "initialStatsPivot = initialStats.pivot(index=\"Source\", columns=\"Identifier\", values=\"Percentage\").fillna(0).round(2)\n",
    "initialStatsPivot"
   ]
  },
  {
   "cell_type": "code",
   "execution_count": 4,
   "id": "cc6f7d1a",
   "metadata": {},
   "outputs": [
    {
     "data": {
      "text/plain": [
       "<AxesSubplot:xlabel='Source'>"
      ]
     },
     "execution_count": 4,
     "metadata": {},
     "output_type": "execute_result"
    },
    {
     "data": {
      "image/png": "[encoded data removed]",
      "text/plain": [
       "<Figure size 432x288 with 1 Axes>"
      ]
     },
     "metadata": {
      "needs_background": "light"
     },
     "output_type": "display_data"
    }
   ],
   "source": [
    "initialStatsPivot.plot(kind='bar')"
   ]
  },
  {
   "cell_type": "markdown",
   "id": "ba61757f",
   "metadata": {},
   "source": [
    "\n",
    "## Approach\n",
    "We define how we want to achieve the goals using existing data sources.\n",
    "\n",
    "Each data source is represented as RDF and can be queried using SPARQL. If a data source is not yet represented in RDF we lift it to RDF using the framework [rml.io](https://rml.io).\n",
    "\n",
    "Generally, we have two phases. Firstly we identify missing information based on linking, and secondly we query information to enriche our KBR data. The second phase may involve manual tasks.\n",
    "\n",
    "Please note that ISNI and VIAF can be used in two ways: either as identifiers within KBR data and other data sources which enable linking, or as dedicated data source because ISNI (issued by OCLC) and VIAF provide data dumps themselves.\n",
    "\n",
    "### Complement KBR data with new Belgians\n",
    "To achieve goal *1.* we can ask the following question per data source to identify relevant data:\n",
    "\n",
    "* Which authors have Belgian nationality?\n",
    "\n",
    "Therefore we identify Belgians in the source. However, some of these identififed Belgians may already be in our KBR data. Using identifiers such as ISNI or VIAF which are present in the KBR data we can narrow the initial search result down to a smaller dataset. This smaller dataset can then be further analyzed automatically regarding overlap to KBR data based on entity linking techniques, manual checks or a combination of both.\n",
    "\n",
    "\n",
    "### Identify unknown nationalities in KBR data\n",
    "To achieve goal *2.* and *3.* we can ask the following questions per data source to identify relevant data.\n",
    "\n",
    "* Which KBR authors without nationality are actually Belgians?\n",
    "* Which KBR authors with other than a Belgian nationality are *also* Belgians?\n",
    "* Which KBR authors without nationality do have a known nationality other than Belgian?\n",
    "\n",
    "KBR authors with unknown nationality can be supplemented with nationality information based on linking KBR authors to data sources based on library-related identifiers such as ISNI and VIAF or common identifiers such as Wikidata or DBpedia. \n",
    "\n",
    "### Enrich KBR data with authority-related identifiers\n",
    "To achieve goal *4.* we can ask the following questions per data source to identify relevant data.\n",
    "\n",
    "* Which (Belgian) KBR authors are present in a data source and have a VIAF or ISNI number?\n",
    "\n",
    "Since obvously we only use KBR authors without such identifiers as starting point, we have to link to data sources via other identifiers such as library identifiers or Wikidata to find matches and extract possible VIAF and ISNI numbers.\n",
    "\n",
    "### Enrich KBR data with identifiers from other libraries\n",
    "This is similar to the previous section, but instead of using identifiers of other libraries to identify VIAF and ISNI numbers we want to find identifiers of other libraries. Therefore the following question can be asked per data source to achieve goal *5.* and identify relevant data.\n",
    "\n",
    "* Which (Belgian) KBR authors are present in a data source and have other library identifiers?\n",
    "\n",
    "### Enrich KBR data with common identifiers\n",
    "There is already a wikidata dump manually enriched with KBR identifiers. For other sources such as DBpedia we can ask the following question per data source to identify relevant data.\n",
    "\n",
    "* Which (Belgian) KBR authors are present in a data source and have a link to a common identifier?\n"
   ]
  },
  {
   "cell_type": "markdown",
   "id": "a4ab2574",
   "metadata": {},
   "source": [
    "## Integration steps\n",
    "We apply the aforementioned approach to our data sources. We start with steps to enrich data with identifiers and enrich nationality information before executing steps to add new data because the former steps help to determine what is \"new\".\n",
    "\n",
    "### Enrich with identifiers"
   ]
  },
  {
   "cell_type": "code",
   "execution_count": 5,
   "id": "3654d2df",
   "metadata": {},
   "outputs": [
    {
     "name": "stderr",
     "output_type": "stream",
     "text": [
      "/home/slieber/repos/beltrans-data/data-sources/../utils/sparql_utils.py:121: FutureWarning: pandas.io.json.json_normalize is deprecated, use pandas.json_normalize instead\n",
      "  return json_normalize(result['results']['bindings'])\n"
     ]
    },
    {
     "ename": "EndPointInternalError",
     "evalue": "EndPointInternalError: endpoint returned code 500 and response. \n\nResponse:\nb'SPARQL-QUERY: queryStr=prefix bf: <http://id.loc.gov/ontologies/bibframe/>\\nprefix schema: <http://schema.org/>\\n\\nSELECT DISTINCT ?kbKbID (strafter(str(?viaf), \"viaf.org/viaf/\") as ?kbViafID) (strafter(str(?isni), \"isni.org/isni/\") as ?kbIsniID)\\nWHERE {\\n  \\n  ?meta a schema:WebPage ;\\n          <http://data.bibliotheken.nl/def#ppn> ?kbKbID ;\\n          schema:mainEntity ?person .\\n  \\n  ?person a schema:Person .\\n  \\n  OPTIONAL {\\n    ?person schema:sameAs ?isni .\\n    FILTER(regex(str(?isni), \\'isni\\', \\'i\\'))\\n  }\\n  \\n  OPTIONAL {\\n    ?person schema:sameAs ?viaf .\\n    FILTER(regex(str(?viaf), \\'viaf\\', \\'i\\'))\\n  }\\n  \\n}\\n\\n\\njava.util.concurrent.ExecutionException: java.util.concurrent.ExecutionException: org.openrdf.query.QueryEvaluationException: java.lang.RuntimeException: java.util.concurrent.ExecutionException: java.lang.OutOfMemoryError: GC overhead limit exceeded\\n\\tat java.util.concurrent.FutureTask.report(FutureTask.java:122)\\n\\tat java.util.concurrent.FutureTask.get(FutureTask.java:192)\\n\\tat com.bigdata.rdf.sail.webapp.BigdataServlet.submitApiTask(BigdataServlet.java:294)\\n\\tat com.bigdata.rdf.sail.webapp.QueryServlet.doSparqlQuery(QueryServlet.java:678)\\n\\tat com.bigdata.rdf.sail.webapp.QueryServlet.doGet(QueryServlet.java:290)\\n\\tat com.bigdata.rdf.sail.webapp.RESTServlet.doGet(RESTServlet.java:240)\\n\\tat com.bigdata.rdf.sail.webapp.MultiTenancyServlet.doGet(MultiTenancyServlet.java:273)\\n\\tat javax.servlet.http.HttpServlet.service(HttpServlet.java:687)\\n\\tat javax.servlet.http.HttpServlet.service(HttpServlet.java:790)\\n\\tat org.eclipse.jetty.servlet.ServletHolder.handle(ServletHolder.java:873)\\n\\tat org.eclipse.jetty.servlet.ServletHandler$CachedChain.doFilter(ServletHandler.java:1623)\\n\\tat org.eclipse.jetty.websocket.server.WebSocketUpgradeFilter.doFilter(WebSocketUpgradeFilter.java:214)\\n\\tat org.eclipse.jetty.servlet.ServletHandler$CachedChain.doFilter(ServletHandler.java:1610)\\n\\tat org.eclipse.jetty.servlet.ServletHandler.doHandle(ServletHandler.java:540)\\n\\tat org.eclipse.jetty.server.handler.ScopedHandler.handle(ScopedHandler.java:146)\\n\\tat org.eclipse.jetty.security.SecurityHandler.handle(SecurityHandler.java:548)\\n\\tat org.eclipse.jetty.server.handler.HandlerWrapper.handle(HandlerWrapper.java:132)\\n\\tat org.eclipse.jetty.server.handler.ScopedHandler.nextHandle(ScopedHandler.java:257)\\n\\tat org.eclipse.jetty.server.session.SessionHandler.doHandle(SessionHandler.java:1700)\\n\\tat org.eclipse.jetty.server.handler.ScopedHandler.nextHandle(ScopedHandler.java:255)\\n\\tat org.eclipse.jetty.server.handler.ContextHandler.doHandle(ContextHandler.java:1345)\\n\\tat org.eclipse.jetty.server.handler.ScopedHandler.nextScope(ScopedHandler.java:203)\\n\\tat org.eclipse.jetty.servlet.ServletHandler.doScope(ServletHandler.java:480)\\n\\tat org.eclipse.jetty.server.session.SessionHandler.doScope(SessionHandler.java:1667)\\n\\tat org.eclipse.jetty.server.handler.ScopedHandler.nextScope(ScopedHandler.java:201)\\n\\tat org.eclipse.jetty.server.handler.ContextHandler.doScope(ContextHandler.java:1247)\\n\\tat org.eclipse.jetty.server.handler.ScopedHandler.handle(ScopedHandler.java:144)\\n\\tat org.eclipse.jetty.server.handler.ContextHandlerCollection.handle(ContextHandlerCollection.java:220)\\n\\tat org.eclipse.jetty.server.handler.HandlerCollection.handle(HandlerCollection.java:152)\\n\\tat org.eclipse.jetty.server.handler.HandlerWrapper.handle(HandlerWrapper.java:132)\\n\\tat org.eclipse.jetty.server.Server.handle(Server.java:505)\\n\\tat org.eclipse.jetty.server.HttpChannel.handle(HttpChannel.java:370)\\n\\tat org.eclipse.jetty.server.HttpConnection.onFillable(HttpConnection.java:267)\\n\\tat org.eclipse.jetty.io.AbstractConnection$ReadCallback.succeeded(AbstractConnection.java:305)\\n\\tat org.eclipse.jetty.io.FillInterest.fillable(FillInterest.java:103)\\n\\tat org.eclipse.jetty.io.ChannelEndPoint$2.run(ChannelEndPoint.java:117)\\n\\tat org.eclipse.jetty.util.thread.strategy.EatWhatYouKill.runTask(EatWhatYouKill.java:333)\\n\\tat org.eclipse.jetty.util.thread.strategy.EatWhatYouKill.doProduce(EatWhatYouKill.java:310)\\n\\tat org.eclipse.jetty.util.thread.strategy.EatWhatYouKill.tryProduce(EatWhatYouKill.java:168)\\n\\tat org.eclipse.jetty.util.thread.strategy.EatWhatYouKill.run(EatWhatYouKill.java:126)\\n\\tat org.eclipse.jetty.util.thread.ReservedThreadExecutor$ReservedThread.run(ReservedThreadExecutor.java:366)\\n\\tat org.eclipse.jetty.util.thread.QueuedThreadPool.runJob(QueuedThreadPool.java:698)\\n\\tat org.eclipse.jetty.util.thread.QueuedThreadPool$Runner.run(QueuedThreadPool.java:804)\\n\\tat java.lang.Thread.run(Thread.java:748)\\nCaused by: java.util.concurrent.ExecutionException: org.openrdf.query.QueryEvaluationException: java.lang.RuntimeException: java.util.concurrent.ExecutionException: java.lang.OutOfMemoryError: GC overhead limit exceeded\\n\\tat java.util.concurrent.FutureTask.report(FutureTask.java:122)\\n\\tat java.util.concurrent.FutureTask.get(FutureTask.java:192)\\n\\tat com.bigdata.rdf.sail.webapp.QueryServlet$SparqlQueryTask.call(QueryServlet.java:889)\\n\\tat com.bigdata.rdf.sail.webapp.QueryServlet$SparqlQueryTask.call(QueryServlet.java:695)\\n\\tat com.bigdata.rdf.task.ApiTaskForIndexManager.call(ApiTaskForIndexManager.java:68)\\n\\tat java.util.concurrent.FutureTask.run(FutureTask.java:266)\\n\\tat java.util.concurrent.ThreadPoolExecutor.runWorker(ThreadPoolExecutor.java:1149)\\n\\tat java.util.concurrent.ThreadPoolExecutor$Worker.run(ThreadPoolExecutor.java:624)\\n\\t... 1 more\\nCaused by: org.openrdf.query.QueryEvaluationException: java.lang.RuntimeException: java.util.concurrent.ExecutionException: java.lang.OutOfMemoryError: GC overhead limit exceeded\\n\\tat com.bigdata.rdf.sail.Bigdata2Sesame2BindingSetIterator.hasNext(Bigdata2Sesame2BindingSetIterator.java:188)\\n\\tat info.aduna.iteration.IterationWrapper.hasNext(IterationWrapper.java:68)\\n\\tat org.openrdf.query.QueryResults.report(QueryResults.java:155)\\n\\tat org.openrdf.repository.sail.SailTupleQuery.evaluate(SailTupleQuery.java:76)\\n\\tat com.bigdata.rdf.sail.webapp.BigdataRDFContext$TupleQueryTask.doQuery(BigdataRDFContext.java:1713)\\n\\tat com.bigdata.rdf.sail.webapp.BigdataRDFContext$AbstractQueryTask.innerCall(BigdataRDFContext.java:1569)\\n\\tat com.bigdata.rdf.sail.webapp.BigdataRDFContext$AbstractQueryTask.call(BigdataRDFContext.java:1534)\\n\\tat com.bigdata.rdf.sail.webapp.BigdataRDFContext$AbstractQueryTask.call(BigdataRDFContext.java:747)\\n\\t... 4 more\\nCaused by: java.lang.RuntimeException: java.util.concurrent.ExecutionException: java.lang.OutOfMemoryError: GC overhead limit exceeded\\n\\tat com.bigdata.rdf.sail.RunningQueryCloseableIterator.checkFuture(RunningQueryCloseableIterator.java:59)\\n\\tat com.bigdata.rdf.sail.RunningQueryCloseableIterator.close(RunningQueryCloseableIterator.java:73)\\n\\tat com.bigdata.rdf.sail.RunningQueryCloseableIterator.hasNext(RunningQueryCloseableIterator.java:82)\\n\\tat com.bigdata.striterator.ChunkedWrappedIterator.hasNext(ChunkedWrappedIterator.java:197)\\n\\tat com.bigdata.rdf.sail.Bigdata2Sesame2BindingSetIterator.hasNext(Bigdata2Sesame2BindingSetIterator.java:134)\\n\\t... 11 more\\nCaused by: java.util.concurrent.ExecutionException: java.lang.OutOfMemoryError: GC overhead limit exceeded\\n\\tat com.bigdata.util.concurrent.Haltable.get(Haltable.java:273)\\n\\tat com.bigdata.bop.engine.AbstractRunningQuery.get(AbstractRunningQuery.java:1516)\\n\\tat com.bigdata.bop.engine.AbstractRunningQuery.get(AbstractRunningQuery.java:104)\\n\\tat com.bigdata.rdf.sail.RunningQueryCloseableIterator.checkFuture(RunningQueryCloseableIterator.java:46)\\n\\t... 15 more\\nCaused by: java.lang.OutOfMemoryError: GC overhead limit exceeded\\n'",
     "output_type": "error",
     "traceback": [
      "\u001b[0;31m---------------------------------------------------------------------------\u001b[0m",
      "\u001b[0;31mHTTPError\u001b[0m                                 Traceback (most recent call last)",
      "\u001b[0;32m~/repos/beltrans-data/data-sources/py-linking-env/lib/python3.8/site-packages/SPARQLWrapper/Wrapper.py\u001b[0m in \u001b[0;36m_query\u001b[0;34m(self)\u001b[0m\n\u001b[1;32m   1072\u001b[0m             \u001b[0;32melse\u001b[0m\u001b[0;34m:\u001b[0m\u001b[0;34m\u001b[0m\u001b[0;34m\u001b[0m\u001b[0m\n\u001b[0;32m-> 1073\u001b[0;31m                 \u001b[0mresponse\u001b[0m \u001b[0;34m=\u001b[0m \u001b[0murlopener\u001b[0m\u001b[0;34m(\u001b[0m\u001b[0mrequest\u001b[0m\u001b[0;34m)\u001b[0m\u001b[0;34m\u001b[0m\u001b[0;34m\u001b[0m\u001b[0m\n\u001b[0m\u001b[1;32m   1074\u001b[0m             \u001b[0;32mreturn\u001b[0m \u001b[0mresponse\u001b[0m\u001b[0;34m,\u001b[0m \u001b[0mself\u001b[0m\u001b[0;34m.\u001b[0m\u001b[0mreturnFormat\u001b[0m\u001b[0;34m\u001b[0m\u001b[0;34m\u001b[0m\u001b[0m\n",
      "\u001b[0;32m/usr/lib/python3.8/urllib/request.py\u001b[0m in \u001b[0;36murlopen\u001b[0;34m(url, data, timeout, cafile, capath, cadefault, context)\u001b[0m\n\u001b[1;32m    221\u001b[0m         \u001b[0mopener\u001b[0m \u001b[0;34m=\u001b[0m \u001b[0m_opener\u001b[0m\u001b[0;34m\u001b[0m\u001b[0;34m\u001b[0m\u001b[0m\n\u001b[0;32m--> 222\u001b[0;31m     \u001b[0;32mreturn\u001b[0m \u001b[0mopener\u001b[0m\u001b[0;34m.\u001b[0m\u001b[0mopen\u001b[0m\u001b[0;34m(\u001b[0m\u001b[0murl\u001b[0m\u001b[0;34m,\u001b[0m \u001b[0mdata\u001b[0m\u001b[0;34m,\u001b[0m \u001b[0mtimeout\u001b[0m\u001b[0;34m)\u001b[0m\u001b[0;34m\u001b[0m\u001b[0;34m\u001b[0m\u001b[0m\n\u001b[0m\u001b[1;32m    223\u001b[0m \u001b[0;34m\u001b[0m\u001b[0m\n",
      "\u001b[0;32m/usr/lib/python3.8/urllib/request.py\u001b[0m in \u001b[0;36mopen\u001b[0;34m(self, fullurl, data, timeout)\u001b[0m\n\u001b[1;32m    530\u001b[0m             \u001b[0mmeth\u001b[0m \u001b[0;34m=\u001b[0m \u001b[0mgetattr\u001b[0m\u001b[0;34m(\u001b[0m\u001b[0mprocessor\u001b[0m\u001b[0;34m,\u001b[0m \u001b[0mmeth_name\u001b[0m\u001b[0;34m)\u001b[0m\u001b[0;34m\u001b[0m\u001b[0;34m\u001b[0m\u001b[0m\n\u001b[0;32m--> 531\u001b[0;31m             \u001b[0mresponse\u001b[0m \u001b[0;34m=\u001b[0m \u001b[0mmeth\u001b[0m\u001b[0;34m(\u001b[0m\u001b[0mreq\u001b[0m\u001b[0;34m,\u001b[0m \u001b[0mresponse\u001b[0m\u001b[0;34m)\u001b[0m\u001b[0;34m\u001b[0m\u001b[0;34m\u001b[0m\u001b[0m\n\u001b[0m\u001b[1;32m    532\u001b[0m \u001b[0;34m\u001b[0m\u001b[0m\n",
      "\u001b[0;32m/usr/lib/python3.8/urllib/request.py\u001b[0m in \u001b[0;36mhttp_response\u001b[0;34m(self, request, response)\u001b[0m\n\u001b[1;32m    639\u001b[0m         \u001b[0;32mif\u001b[0m \u001b[0;32mnot\u001b[0m \u001b[0;34m(\u001b[0m\u001b[0;36m200\u001b[0m \u001b[0;34m<=\u001b[0m \u001b[0mcode\u001b[0m \u001b[0;34m<\u001b[0m \u001b[0;36m300\u001b[0m\u001b[0;34m)\u001b[0m\u001b[0;34m:\u001b[0m\u001b[0;34m\u001b[0m\u001b[0;34m\u001b[0m\u001b[0m\n\u001b[0;32m--> 640\u001b[0;31m             response = self.parent.error(\n\u001b[0m\u001b[1;32m    641\u001b[0m                 'http', request, response, code, msg, hdrs)\n",
      "\u001b[0;32m/usr/lib/python3.8/urllib/request.py\u001b[0m in \u001b[0;36merror\u001b[0;34m(self, proto, *args)\u001b[0m\n\u001b[1;32m    568\u001b[0m             \u001b[0margs\u001b[0m \u001b[0;34m=\u001b[0m \u001b[0;34m(\u001b[0m\u001b[0mdict\u001b[0m\u001b[0;34m,\u001b[0m \u001b[0;34m'default'\u001b[0m\u001b[0;34m,\u001b[0m \u001b[0;34m'http_error_default'\u001b[0m\u001b[0;34m)\u001b[0m \u001b[0;34m+\u001b[0m \u001b[0morig_args\u001b[0m\u001b[0;34m\u001b[0m\u001b[0;34m\u001b[0m\u001b[0m\n\u001b[0;32m--> 569\u001b[0;31m             \u001b[0;32mreturn\u001b[0m \u001b[0mself\u001b[0m\u001b[0;34m.\u001b[0m\u001b[0m_call_chain\u001b[0m\u001b[0;34m(\u001b[0m\u001b[0;34m*\u001b[0m\u001b[0margs\u001b[0m\u001b[0;34m)\u001b[0m\u001b[0;34m\u001b[0m\u001b[0;34m\u001b[0m\u001b[0m\n\u001b[0m\u001b[1;32m    570\u001b[0m \u001b[0;34m\u001b[0m\u001b[0m\n",
      "\u001b[0;32m/usr/lib/python3.8/urllib/request.py\u001b[0m in \u001b[0;36m_call_chain\u001b[0;34m(self, chain, kind, meth_name, *args)\u001b[0m\n\u001b[1;32m    501\u001b[0m             \u001b[0mfunc\u001b[0m \u001b[0;34m=\u001b[0m \u001b[0mgetattr\u001b[0m\u001b[0;34m(\u001b[0m\u001b[0mhandler\u001b[0m\u001b[0;34m,\u001b[0m \u001b[0mmeth_name\u001b[0m\u001b[0;34m)\u001b[0m\u001b[0;34m\u001b[0m\u001b[0;34m\u001b[0m\u001b[0m\n\u001b[0;32m--> 502\u001b[0;31m             \u001b[0mresult\u001b[0m \u001b[0;34m=\u001b[0m \u001b[0mfunc\u001b[0m\u001b[0;34m(\u001b[0m\u001b[0;34m*\u001b[0m\u001b[0margs\u001b[0m\u001b[0;34m)\u001b[0m\u001b[0;34m\u001b[0m\u001b[0;34m\u001b[0m\u001b[0m\n\u001b[0m\u001b[1;32m    503\u001b[0m             \u001b[0;32mif\u001b[0m \u001b[0mresult\u001b[0m \u001b[0;32mis\u001b[0m \u001b[0;32mnot\u001b[0m \u001b[0;32mNone\u001b[0m\u001b[0;34m:\u001b[0m\u001b[0;34m\u001b[0m\u001b[0;34m\u001b[0m\u001b[0m\n",
      "\u001b[0;32m/usr/lib/python3.8/urllib/request.py\u001b[0m in \u001b[0;36mhttp_error_default\u001b[0;34m(self, req, fp, code, msg, hdrs)\u001b[0m\n\u001b[1;32m    648\u001b[0m     \u001b[0;32mdef\u001b[0m \u001b[0mhttp_error_default\u001b[0m\u001b[0;34m(\u001b[0m\u001b[0mself\u001b[0m\u001b[0;34m,\u001b[0m \u001b[0mreq\u001b[0m\u001b[0;34m,\u001b[0m \u001b[0mfp\u001b[0m\u001b[0;34m,\u001b[0m \u001b[0mcode\u001b[0m\u001b[0;34m,\u001b[0m \u001b[0mmsg\u001b[0m\u001b[0;34m,\u001b[0m \u001b[0mhdrs\u001b[0m\u001b[0;34m)\u001b[0m\u001b[0;34m:\u001b[0m\u001b[0;34m\u001b[0m\u001b[0;34m\u001b[0m\u001b[0m\n\u001b[0;32m--> 649\u001b[0;31m         \u001b[0;32mraise\u001b[0m \u001b[0mHTTPError\u001b[0m\u001b[0;34m(\u001b[0m\u001b[0mreq\u001b[0m\u001b[0;34m.\u001b[0m\u001b[0mfull_url\u001b[0m\u001b[0;34m,\u001b[0m \u001b[0mcode\u001b[0m\u001b[0;34m,\u001b[0m \u001b[0mmsg\u001b[0m\u001b[0;34m,\u001b[0m \u001b[0mhdrs\u001b[0m\u001b[0;34m,\u001b[0m \u001b[0mfp\u001b[0m\u001b[0;34m)\u001b[0m\u001b[0;34m\u001b[0m\u001b[0;34m\u001b[0m\u001b[0m\n\u001b[0m\u001b[1;32m    650\u001b[0m \u001b[0;34m\u001b[0m\u001b[0m\n",
      "\u001b[0;31mHTTPError\u001b[0m: HTTP Error 500: Server Error",
      "\nDuring handling of the above exception, another exception occurred:\n",
      "\u001b[0;31mEndPointInternalError\u001b[0m                     Traceback (most recent call last)",
      "\u001b[0;32m/tmp/ipykernel_16436/3391581762.py\u001b[0m in \u001b[0;36m<module>\u001b[0;34m\u001b[0m\n\u001b[1;32m      3\u001b[0m \u001b[0;34m\u001b[0m\u001b[0m\n\u001b[1;32m      4\u001b[0m \u001b[0mwikidataBelgiansIdentifiers\u001b[0m \u001b[0;34m=\u001b[0m \u001b[0msparql_utils\u001b[0m\u001b[0;34m.\u001b[0m\u001b[0mgetWikidataBelgiansIdentifiers\u001b[0m\u001b[0;34m(\u001b[0m\u001b[0mendpointWikidataBelgians\u001b[0m\u001b[0;34m)\u001b[0m\u001b[0;34m\u001b[0m\u001b[0;34m\u001b[0m\u001b[0m\n\u001b[0;32m----> 5\u001b[0;31m \u001b[0mkbIdentifiers\u001b[0m \u001b[0;34m=\u001b[0m \u001b[0msparql_utils\u001b[0m\u001b[0;34m.\u001b[0m\u001b[0mgetKBIdentifiers\u001b[0m\u001b[0;34m(\u001b[0m\u001b[0mendpointNTA\u001b[0m\u001b[0;34m)\u001b[0m\u001b[0;34m\u001b[0m\u001b[0;34m\u001b[0m\u001b[0m\n\u001b[0m",
      "\u001b[0;32m~/repos/beltrans-data/data-sources/../utils/sparql_utils.py\u001b[0m in \u001b[0;36mgetKBIdentifiers\u001b[0;34m(sparqlObject)\u001b[0m\n\u001b[1;32m    133\u001b[0m     \"\"\"Query the given SPARQL endpoint (SPARQLWrapper object)\n\u001b[1;32m    134\u001b[0m     for instances of schema:Person to obtain VIAF and ISNI identifiers and schema:WebPage to obtain KB identifiers.\"\"\"\n\u001b[0;32m--> 135\u001b[0;31m     \u001b[0mresults\u001b[0m \u001b[0;34m=\u001b[0m \u001b[0mgetQueryResultsAsDataframe\u001b[0m\u001b[0;34m(\u001b[0m\u001b[0msparqlObject\u001b[0m\u001b[0;34m,\u001b[0m \u001b[0mos\u001b[0m\u001b[0;34m.\u001b[0m\u001b[0mpath\u001b[0m\u001b[0;34m.\u001b[0m\u001b[0mjoin\u001b[0m\u001b[0;34m(\u001b[0m\u001b[0mdsDir\u001b[0m\u001b[0;34m,\u001b[0m \u001b[0;34m'get-kb-identifiers.sparql'\u001b[0m\u001b[0;34m)\u001b[0m\u001b[0;34m)\u001b[0m\u001b[0;34m\u001b[0m\u001b[0;34m\u001b[0m\u001b[0m\n\u001b[0m\u001b[1;32m    136\u001b[0m     \u001b[0mresults\u001b[0m \u001b[0;34m=\u001b[0m \u001b[0mresults\u001b[0m\u001b[0;34m[\u001b[0m\u001b[0;34m[\u001b[0m\u001b[0;34m'kbKbrID.value'\u001b[0m\u001b[0;34m,\u001b[0m \u001b[0;34m'kbViafID.value'\u001b[0m\u001b[0;34m,\u001b[0m \u001b[0;34m'kbIsniID.value'\u001b[0m\u001b[0;34m]\u001b[0m\u001b[0;34m]\u001b[0m\u001b[0;34m\u001b[0m\u001b[0;34m\u001b[0m\u001b[0m\n\u001b[1;32m    137\u001b[0m     \u001b[0;32mreturn\u001b[0m \u001b[0mresults\u001b[0m\u001b[0;34m.\u001b[0m\u001b[0mrename\u001b[0m\u001b[0;34m(\u001b[0m\u001b[0mcolumns\u001b[0m \u001b[0;34m=\u001b[0m \u001b[0;32mlambda\u001b[0m \u001b[0mcol\u001b[0m\u001b[0;34m:\u001b[0m \u001b[0mcol\u001b[0m\u001b[0;34m.\u001b[0m\u001b[0mreplace\u001b[0m\u001b[0;34m(\u001b[0m\u001b[0;34m\".value\"\u001b[0m\u001b[0;34m,\u001b[0m \u001b[0;34m\"\"\u001b[0m\u001b[0;34m)\u001b[0m\u001b[0;34m)\u001b[0m\u001b[0;34m\u001b[0m\u001b[0;34m\u001b[0m\u001b[0m\n",
      "\u001b[0;32m~/repos/beltrans-data/data-sources/../utils/sparql_utils.py\u001b[0m in \u001b[0;36mgetQueryResultsAsDataframe\u001b[0;34m(sparqlObject, queryFile)\u001b[0m\n\u001b[1;32m    118\u001b[0m     \"\"\"Query the given SPARQL endpoint (SPARQLWrapper object)\n\u001b[1;32m    119\u001b[0m     with the query in the given file and return the result as pandas dataframe.\"\"\"\n\u001b[0;32m--> 120\u001b[0;31m     \u001b[0mresult\u001b[0m \u001b[0;34m=\u001b[0m \u001b[0m_queryJSON\u001b[0m\u001b[0;34m(\u001b[0m\u001b[0msparqlObject\u001b[0m\u001b[0;34m,\u001b[0m \u001b[0mqueryFile\u001b[0m\u001b[0;34m)\u001b[0m\u001b[0;34m\u001b[0m\u001b[0;34m\u001b[0m\u001b[0m\n\u001b[0m\u001b[1;32m    121\u001b[0m     \u001b[0;32mreturn\u001b[0m \u001b[0mjson_normalize\u001b[0m\u001b[0;34m(\u001b[0m\u001b[0mresult\u001b[0m\u001b[0;34m[\u001b[0m\u001b[0;34m'results'\u001b[0m\u001b[0;34m]\u001b[0m\u001b[0;34m[\u001b[0m\u001b[0;34m'bindings'\u001b[0m\u001b[0;34m]\u001b[0m\u001b[0;34m)\u001b[0m\u001b[0;34m\u001b[0m\u001b[0;34m\u001b[0m\u001b[0m\n\u001b[1;32m    122\u001b[0m \u001b[0;34m\u001b[0m\u001b[0m\n",
      "\u001b[0;32m~/repos/beltrans-data/data-sources/../utils/sparql_utils.py\u001b[0m in \u001b[0;36m_queryJSON\u001b[0;34m(sparqlObject, sparqlQueryFile, variables)\u001b[0m\n\u001b[1;32m     31\u001b[0m     \u001b[0msparqlObject\u001b[0m\u001b[0;34m.\u001b[0m\u001b[0msetQuery\u001b[0m\u001b[0;34m(\u001b[0m\u001b[0mqueryString\u001b[0m\u001b[0;34m)\u001b[0m\u001b[0;34m\u001b[0m\u001b[0;34m\u001b[0m\u001b[0m\n\u001b[1;32m     32\u001b[0m     \u001b[0msparqlObject\u001b[0m\u001b[0;34m.\u001b[0m\u001b[0msetReturnFormat\u001b[0m\u001b[0;34m(\u001b[0m\u001b[0mJSON\u001b[0m\u001b[0;34m)\u001b[0m\u001b[0;34m\u001b[0m\u001b[0;34m\u001b[0m\u001b[0m\n\u001b[0;32m---> 33\u001b[0;31m     \u001b[0;32mreturn\u001b[0m \u001b[0msparqlObject\u001b[0m\u001b[0;34m.\u001b[0m\u001b[0mqueryAndConvert\u001b[0m\u001b[0;34m(\u001b[0m\u001b[0;34m)\u001b[0m\u001b[0;34m\u001b[0m\u001b[0;34m\u001b[0m\u001b[0m\n\u001b[0m\u001b[1;32m     34\u001b[0m \u001b[0;34m\u001b[0m\u001b[0m\n\u001b[1;32m     35\u001b[0m \u001b[0;31m# ------------------------------------------------------------\u001b[0m\u001b[0;34m\u001b[0m\u001b[0;34m\u001b[0m\u001b[0;34m\u001b[0m\u001b[0m\n",
      "\u001b[0;32m~/repos/beltrans-data/data-sources/py-linking-env/lib/python3.8/site-packages/SPARQLWrapper/Wrapper.py\u001b[0m in \u001b[0;36mqueryAndConvert\u001b[0;34m(self)\u001b[0m\n\u001b[1;32m   1112\u001b[0m         \u001b[0;34m:\u001b[0m\u001b[0;32mreturn\u001b[0m\u001b[0;34m:\u001b[0m \u001b[0mthe\u001b[0m \u001b[0mconverted\u001b[0m \u001b[0mquery\u001b[0m \u001b[0mresult\u001b[0m\u001b[0;34m.\u001b[0m \u001b[0mSee\u001b[0m \u001b[0mthe\u001b[0m \u001b[0mconversion\u001b[0m \u001b[0mmethods\u001b[0m \u001b[0;32mfor\u001b[0m \u001b[0mmore\u001b[0m \u001b[0mdetails\u001b[0m\u001b[0;34m.\u001b[0m\u001b[0;34m\u001b[0m\u001b[0;34m\u001b[0m\u001b[0m\n\u001b[1;32m   1113\u001b[0m         \"\"\"\n\u001b[0;32m-> 1114\u001b[0;31m         \u001b[0mres\u001b[0m \u001b[0;34m=\u001b[0m \u001b[0mself\u001b[0m\u001b[0;34m.\u001b[0m\u001b[0mquery\u001b[0m\u001b[0;34m(\u001b[0m\u001b[0;34m)\u001b[0m\u001b[0;34m\u001b[0m\u001b[0;34m\u001b[0m\u001b[0m\n\u001b[0m\u001b[1;32m   1115\u001b[0m         \u001b[0;32mreturn\u001b[0m \u001b[0mres\u001b[0m\u001b[0;34m.\u001b[0m\u001b[0mconvert\u001b[0m\u001b[0;34m(\u001b[0m\u001b[0;34m)\u001b[0m\u001b[0;34m\u001b[0m\u001b[0;34m\u001b[0m\u001b[0m\n\u001b[1;32m   1116\u001b[0m \u001b[0;34m\u001b[0m\u001b[0m\n",
      "\u001b[0;32m~/repos/beltrans-data/data-sources/py-linking-env/lib/python3.8/site-packages/SPARQLWrapper/Wrapper.py\u001b[0m in \u001b[0;36mquery\u001b[0;34m(self)\u001b[0m\n\u001b[1;32m   1105\u001b[0m             \u001b[0;34m:\u001b[0m\u001b[0mrtype\u001b[0m\u001b[0;34m:\u001b[0m \u001b[0;34m:\u001b[0m\u001b[0;32mclass\u001b[0m\u001b[0;34m:\u001b[0m\u001b[0;31m`\u001b[0m\u001b[0mQueryResult\u001b[0m\u001b[0;31m`\u001b[0m \u001b[0minstance\u001b[0m\u001b[0;34m\u001b[0m\u001b[0;34m\u001b[0m\u001b[0m\n\u001b[1;32m   1106\u001b[0m         \"\"\"\n\u001b[0;32m-> 1107\u001b[0;31m         \u001b[0;32mreturn\u001b[0m \u001b[0mQueryResult\u001b[0m\u001b[0;34m(\u001b[0m\u001b[0mself\u001b[0m\u001b[0;34m.\u001b[0m\u001b[0m_query\u001b[0m\u001b[0;34m(\u001b[0m\u001b[0;34m)\u001b[0m\u001b[0;34m)\u001b[0m\u001b[0;34m\u001b[0m\u001b[0;34m\u001b[0m\u001b[0m\n\u001b[0m\u001b[1;32m   1108\u001b[0m \u001b[0;34m\u001b[0m\u001b[0m\n\u001b[1;32m   1109\u001b[0m     \u001b[0;32mdef\u001b[0m \u001b[0mqueryAndConvert\u001b[0m\u001b[0;34m(\u001b[0m\u001b[0mself\u001b[0m\u001b[0;34m)\u001b[0m\u001b[0;34m:\u001b[0m\u001b[0;34m\u001b[0m\u001b[0;34m\u001b[0m\u001b[0m\n",
      "\u001b[0;32m~/repos/beltrans-data/data-sources/py-linking-env/lib/python3.8/site-packages/SPARQLWrapper/Wrapper.py\u001b[0m in \u001b[0;36m_query\u001b[0;34m(self)\u001b[0m\n\u001b[1;32m   1083\u001b[0m                 \u001b[0;32mraise\u001b[0m \u001b[0mURITooLong\u001b[0m\u001b[0;34m(\u001b[0m\u001b[0me\u001b[0m\u001b[0;34m.\u001b[0m\u001b[0mread\u001b[0m\u001b[0;34m(\u001b[0m\u001b[0;34m)\u001b[0m\u001b[0;34m)\u001b[0m\u001b[0;34m\u001b[0m\u001b[0;34m\u001b[0m\u001b[0m\n\u001b[1;32m   1084\u001b[0m             \u001b[0;32melif\u001b[0m \u001b[0me\u001b[0m\u001b[0;34m.\u001b[0m\u001b[0mcode\u001b[0m \u001b[0;34m==\u001b[0m \u001b[0;36m500\u001b[0m\u001b[0;34m:\u001b[0m\u001b[0;34m\u001b[0m\u001b[0;34m\u001b[0m\u001b[0m\n\u001b[0;32m-> 1085\u001b[0;31m                 \u001b[0;32mraise\u001b[0m \u001b[0mEndPointInternalError\u001b[0m\u001b[0;34m(\u001b[0m\u001b[0me\u001b[0m\u001b[0;34m.\u001b[0m\u001b[0mread\u001b[0m\u001b[0;34m(\u001b[0m\u001b[0;34m)\u001b[0m\u001b[0;34m)\u001b[0m\u001b[0;34m\u001b[0m\u001b[0;34m\u001b[0m\u001b[0m\n\u001b[0m\u001b[1;32m   1086\u001b[0m             \u001b[0;32melse\u001b[0m\u001b[0;34m:\u001b[0m\u001b[0;34m\u001b[0m\u001b[0;34m\u001b[0m\u001b[0m\n\u001b[1;32m   1087\u001b[0m                 \u001b[0;32mraise\u001b[0m \u001b[0me\u001b[0m\u001b[0;34m\u001b[0m\u001b[0;34m\u001b[0m\u001b[0m\n",
      "\u001b[0;31mEndPointInternalError\u001b[0m: EndPointInternalError: endpoint returned code 500 and response. \n\nResponse:\nb'SPARQL-QUERY: queryStr=prefix bf: <http://id.loc.gov/ontologies/bibframe/>\\nprefix schema: <http://schema.org/>\\n\\nSELECT DISTINCT ?kbKbID (strafter(str(?viaf), \"viaf.org/viaf/\") as ?kbViafID) (strafter(str(?isni), \"isni.org/isni/\") as ?kbIsniID)\\nWHERE {\\n  \\n  ?meta a schema:WebPage ;\\n          <http://data.bibliotheken.nl/def#ppn> ?kbKbID ;\\n          schema:mainEntity ?person .\\n  \\n  ?person a schema:Person .\\n  \\n  OPTIONAL {\\n    ?person schema:sameAs ?isni .\\n    FILTER(regex(str(?isni), \\'isni\\', \\'i\\'))\\n  }\\n  \\n  OPTIONAL {\\n    ?person schema:sameAs ?viaf .\\n    FILTER(regex(str(?viaf), \\'viaf\\', \\'i\\'))\\n  }\\n  \\n}\\n\\n\\njava.util.concurrent.ExecutionException: java.util.concurrent.ExecutionException: org.openrdf.query.QueryEvaluationException: java.lang.RuntimeException: java.util.concurrent.ExecutionException: java.lang.OutOfMemoryError: GC overhead limit exceeded\\n\\tat java.util.concurrent.FutureTask.report(FutureTask.java:122)\\n\\tat java.util.concurrent.FutureTask.get(FutureTask.java:192)\\n\\tat com.bigdata.rdf.sail.webapp.BigdataServlet.submitApiTask(BigdataServlet.java:294)\\n\\tat com.bigdata.rdf.sail.webapp.QueryServlet.doSparqlQuery(QueryServlet.java:678)\\n\\tat com.bigdata.rdf.sail.webapp.QueryServlet.doGet(QueryServlet.java:290)\\n\\tat com.bigdata.rdf.sail.webapp.RESTServlet.doGet(RESTServlet.java:240)\\n\\tat com.bigdata.rdf.sail.webapp.MultiTenancyServlet.doGet(MultiTenancyServlet.java:273)\\n\\tat javax.servlet.http.HttpServlet.service(HttpServlet.java:687)\\n\\tat javax.servlet.http.HttpServlet.service(HttpServlet.java:790)\\n\\tat org.eclipse.jetty.servlet.ServletHolder.handle(ServletHolder.java:873)\\n\\tat org.eclipse.jetty.servlet.ServletHandler$CachedChain.doFilter(ServletHandler.java:1623)\\n\\tat org.eclipse.jetty.websocket.server.WebSocketUpgradeFilter.doFilter(WebSocketUpgradeFilter.java:214)\\n\\tat org.eclipse.jetty.servlet.ServletHandler$CachedChain.doFilter(ServletHandler.java:1610)\\n\\tat org.eclipse.jetty.servlet.ServletHandler.doHandle(ServletHandler.java:540)\\n\\tat org.eclipse.jetty.server.handler.ScopedHandler.handle(ScopedHandler.java:146)\\n\\tat org.eclipse.jetty.security.SecurityHandler.handle(SecurityHandler.java:548)\\n\\tat org.eclipse.jetty.server.handler.HandlerWrapper.handle(HandlerWrapper.java:132)\\n\\tat org.eclipse.jetty.server.handler.ScopedHandler.nextHandle(ScopedHandler.java:257)\\n\\tat org.eclipse.jetty.server.session.SessionHandler.doHandle(SessionHandler.java:1700)\\n\\tat org.eclipse.jetty.server.handler.ScopedHandler.nextHandle(ScopedHandler.java:255)\\n\\tat org.eclipse.jetty.server.handler.ContextHandler.doHandle(ContextHandler.java:1345)\\n\\tat org.eclipse.jetty.server.handler.ScopedHandler.nextScope(ScopedHandler.java:203)\\n\\tat org.eclipse.jetty.servlet.ServletHandler.doScope(ServletHandler.java:480)\\n\\tat org.eclipse.jetty.server.session.SessionHandler.doScope(SessionHandler.java:1667)\\n\\tat org.eclipse.jetty.server.handler.ScopedHandler.nextScope(ScopedHandler.java:201)\\n\\tat org.eclipse.jetty.server.handler.ContextHandler.doScope(ContextHandler.java:1247)\\n\\tat org.eclipse.jetty.server.handler.ScopedHandler.handle(ScopedHandler.java:144)\\n\\tat org.eclipse.jetty.server.handler.ContextHandlerCollection.handle(ContextHandlerCollection.java:220)\\n\\tat org.eclipse.jetty.server.handler.HandlerCollection.handle(HandlerCollection.java:152)\\n\\tat org.eclipse.jetty.server.handler.HandlerWrapper.handle(HandlerWrapper.java:132)\\n\\tat org.eclipse.jetty.server.Server.handle(Server.java:505)\\n\\tat org.eclipse.jetty.server.HttpChannel.handle(HttpChannel.java:370)\\n\\tat org.eclipse.jetty.server.HttpConnection.onFillable(HttpConnection.java:267)\\n\\tat org.eclipse.jetty.io.AbstractConnection$ReadCallback.succeeded(AbstractConnection.java:305)\\n\\tat org.eclipse.jetty.io.FillInterest.fillable(FillInterest.java:103)\\n\\tat org.eclipse.jetty.io.ChannelEndPoint$2.run(ChannelEndPoint.java:117)\\n\\tat org.eclipse.jetty.util.thread.strategy.EatWhatYouKill.runTask(EatWhatYouKill.java:333)\\n\\tat org.eclipse.jetty.util.thread.strategy.EatWhatYouKill.doProduce(EatWhatYouKill.java:310)\\n\\tat org.eclipse.jetty.util.thread.strategy.EatWhatYouKill.tryProduce(EatWhatYouKill.java:168)\\n\\tat org.eclipse.jetty.util.thread.strategy.EatWhatYouKill.run(EatWhatYouKill.java:126)\\n\\tat org.eclipse.jetty.util.thread.ReservedThreadExecutor$ReservedThread.run(ReservedThreadExecutor.java:366)\\n\\tat org.eclipse.jetty.util.thread.QueuedThreadPool.runJob(QueuedThreadPool.java:698)\\n\\tat org.eclipse.jetty.util.thread.QueuedThreadPool$Runner.run(QueuedThreadPool.java:804)\\n\\tat java.lang.Thread.run(Thread.java:748)\\nCaused by: java.util.concurrent.ExecutionException: org.openrdf.query.QueryEvaluationException: java.lang.RuntimeException: java.util.concurrent.ExecutionException: java.lang.OutOfMemoryError: GC overhead limit exceeded\\n\\tat java.util.concurrent.FutureTask.report(FutureTask.java:122)\\n\\tat java.util.concurrent.FutureTask.get(FutureTask.java:192)\\n\\tat com.bigdata.rdf.sail.webapp.QueryServlet$SparqlQueryTask.call(QueryServlet.java:889)\\n\\tat com.bigdata.rdf.sail.webapp.QueryServlet$SparqlQueryTask.call(QueryServlet.java:695)\\n\\tat com.bigdata.rdf.task.ApiTaskForIndexManager.call(ApiTaskForIndexManager.java:68)\\n\\tat java.util.concurrent.FutureTask.run(FutureTask.java:266)\\n\\tat java.util.concurrent.ThreadPoolExecutor.runWorker(ThreadPoolExecutor.java:1149)\\n\\tat java.util.concurrent.ThreadPoolExecutor$Worker.run(ThreadPoolExecutor.java:624)\\n\\t... 1 more\\nCaused by: org.openrdf.query.QueryEvaluationException: java.lang.RuntimeException: java.util.concurrent.ExecutionException: java.lang.OutOfMemoryError: GC overhead limit exceeded\\n\\tat com.bigdata.rdf.sail.Bigdata2Sesame2BindingSetIterator.hasNext(Bigdata2Sesame2BindingSetIterator.java:188)\\n\\tat info.aduna.iteration.IterationWrapper.hasNext(IterationWrapper.java:68)\\n\\tat org.openrdf.query.QueryResults.report(QueryResults.java:155)\\n\\tat org.openrdf.repository.sail.SailTupleQuery.evaluate(SailTupleQuery.java:76)\\n\\tat com.bigdata.rdf.sail.webapp.BigdataRDFContext$TupleQueryTask.doQuery(BigdataRDFContext.java:1713)\\n\\tat com.bigdata.rdf.sail.webapp.BigdataRDFContext$AbstractQueryTask.innerCall(BigdataRDFContext.java:1569)\\n\\tat com.bigdata.rdf.sail.webapp.BigdataRDFContext$AbstractQueryTask.call(BigdataRDFContext.java:1534)\\n\\tat com.bigdata.rdf.sail.webapp.BigdataRDFContext$AbstractQueryTask.call(BigdataRDFContext.java:747)\\n\\t... 4 more\\nCaused by: java.lang.RuntimeException: java.util.concurrent.ExecutionException: java.lang.OutOfMemoryError: GC overhead limit exceeded\\n\\tat com.bigdata.rdf.sail.RunningQueryCloseableIterator.checkFuture(RunningQueryCloseableIterator.java:59)\\n\\tat com.bigdata.rdf.sail.RunningQueryCloseableIterator.close(RunningQueryCloseableIterator.java:73)\\n\\tat com.bigdata.rdf.sail.RunningQueryCloseableIterator.hasNext(RunningQueryCloseableIterator.java:82)\\n\\tat com.bigdata.striterator.ChunkedWrappedIterator.hasNext(ChunkedWrappedIterator.java:197)\\n\\tat com.bigdata.rdf.sail.Bigdata2Sesame2BindingSetIterator.hasNext(Bigdata2Sesame2BindingSetIterator.java:134)\\n\\t... 11 more\\nCaused by: java.util.concurrent.ExecutionException: java.lang.OutOfMemoryError: GC overhead limit exceeded\\n\\tat com.bigdata.util.concurrent.Haltable.get(Haltable.java:273)\\n\\tat com.bigdata.bop.engine.AbstractRunningQuery.get(AbstractRunningQuery.java:1516)\\n\\tat com.bigdata.bop.engine.AbstractRunningQuery.get(AbstractRunningQuery.java:104)\\n\\tat com.bigdata.rdf.sail.RunningQueryCloseableIterator.checkFuture(RunningQueryCloseableIterator.java:46)\\n\\t... 15 more\\nCaused by: java.lang.OutOfMemoryError: GC overhead limit exceeded\\n'"
     ]
    }
   ],
   "source": [
    "# Get the overlap of KBR to KB via identifier\n",
    "# find out how many have ISNI and how many will have ISNI after enriching with KB knowledge graph data\n",
    "\n",
    "wikidataBelgiansIdentifiers = sparql_utils.getWikidataBelgiansIdentifiers(endpointWikidataBelgians)\n",
    "kbIdentifiers = sparql_utils.getKBIdentifiers(endpointNTA)"
   ]
  },
  {
   "cell_type": "markdown",
   "id": "09b8630f",
   "metadata": {},
   "source": [
    "### Enrich with nationalities\n"
   ]
  },
  {
   "cell_type": "code",
   "execution_count": null,
   "id": "6047f6f0",
   "metadata": {},
   "outputs": [],
   "source": [
    "wikidataBelgiansIdentifiers"
   ]
  },
  {
   "cell_type": "markdown",
   "id": "7be008e0",
   "metadata": {},
   "source": [
    "### Enrich with new authorities"
   ]
  },
  {
   "cell_type": "code",
   "execution_count": null,
   "id": "aea6f639",
   "metadata": {},
   "outputs": [],
   "source": [
    "kbIdentifiers"
   ]
  }
 ],
 "metadata": {
  "kernelspec": {
   "display_name": "py-linking-env",
   "language": "python",
   "name": "py-linking-env"
  },
  "language_info": {
   "codemirror_mode": {
    "name": "ipython",
    "version": 3
   },
   "file_extension": ".py",
   "mimetype": "text/x-python",
   "name": "python",
   "nbconvert_exporter": "python",
   "pygments_lexer": "ipython3",
   "version": "3.8.10"
  }
 },
 "nbformat": 4,
 "nbformat_minor": 5
}
