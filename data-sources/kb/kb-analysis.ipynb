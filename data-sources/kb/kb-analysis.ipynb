{
 "cells": [
  {
   "cell_type": "markdown",
   "id": "4b51c30d",
   "metadata": {},
   "source": [
    "# KB Analysis\n",
    "\n",
    "This notebook contains an analysis of data from KB."
   ]
  },
  {
   "cell_type": "code",
   "execution_count": 4,
   "id": "25cf46ee",
   "metadata": {},
   "outputs": [],
   "source": [
    "import sys\n",
    "sys.path.insert(0, '../../utils/')\n",
    "\n",
    "from SPARQLWrapper import SPARQLWrapper, TURTLE, JSON\n",
    "import sparql_utils\n",
    "\n",
    "endpoint = SPARQLWrapper('http://wikibase-test-srv01.kbr.be/sparql/namespace/kb-authors-nta/sparql')"
   ]
  },
  {
   "cell_type": "markdown",
   "id": "ed633707",
   "metadata": {},
   "source": [
    "## Data Source Overview"
   ]
  },
  {
   "cell_type": "code",
   "execution_count": 5,
   "id": "c2a403ae",
   "metadata": {},
   "outputs": [
    {
     "data": {
      "text/plain": [
       "[['2751633', 'http://schema.org/Dataset'],\n",
       " ['2751633', 'http://schema.org/Person'],\n",
       " ['2751633', 'http://schema.org/WebPage']]"
      ]
     },
     "execution_count": 5,
     "metadata": {},
     "output_type": "execute_result"
    }
   ],
   "source": [
    "sparql_utils.getClassOverview(endpoint)"
   ]
  },
  {
   "cell_type": "code",
   "execution_count": 6,
   "id": "cf4626f9",
   "metadata": {
    "scrolled": true
   },
   "outputs": [
    {
     "data": {
      "text/plain": [
       "[['8254899', 'http://www.w3.org/1999/02/22-rdf-syntax-ns#type'],\n",
       " ['4446148', 'http://schema.org/sameAs'],\n",
       " ['2826041', 'http://www.w3.org/2000/01/rdf-schema#label'],\n",
       " ['2793771', 'http://schema.org/name'],\n",
       " ['2793768', 'http://schema.org/familyName'],\n",
       " ['2751633', 'http://data.bibliotheken.nl/def#ppn'],\n",
       " ['2751633', 'http://schema.org/dateModified'],\n",
       " ['2751633', 'http://schema.org/isBasedOn'],\n",
       " ['2751633', 'http://schema.org/isPartOf'],\n",
       " ['2751633', 'http://schema.org/license'],\n",
       " ['2751633', 'http://schema.org/mainEntity'],\n",
       " ['2751633', 'http://schema.org/mainEntityOfPage'],\n",
       " ['2751633', 'http://www.w3.org/2002/07/owl#sameAs'],\n",
       " ['2734833', 'http://schema.org/givenName'],\n",
       " ['942380', 'http://schema.org/alternateName'],\n",
       " ['751540', 'http://schema.org/description'],\n",
       " ['732968', 'http://schema.org/birthDate'],\n",
       " ['234985', 'http://schema.org/deathDate'],\n",
       " ['115470', 'http://schema.org/nationality']]"
      ]
     },
     "execution_count": 6,
     "metadata": {},
     "output_type": "execute_result"
    }
   ],
   "source": [
    "    sparql_utils.getPropertyOverview(endpoint)"
   ]
  },
  {
   "cell_type": "code",
   "execution_count": 7,
   "id": "23a507ae",
   "metadata": {},
   "outputs": [
    {
     "data": {
      "text/plain": [
       "[['nl', '51451', '1.86983511245867453981'],\n",
       " ['be', '11182', '0.40637686784538490416'],\n",
       " ['de', '8742', '0.31770225171743470150'],\n",
       " ['id', '6131', '0.22281314404936995595'],\n",
       " ['gb', '6011', '0.21845209735455273287'],\n",
       " ['us', '5650', '0.20533261521431092010'],\n",
       " ['fr', '5624', '0.20438772176376718843'],\n",
       " ['it', '2359', '0.08573090960894857708'],\n",
       " ['my', '1503', '0.05462210985258571910'],\n",
       " ['es', '951', '0.03456129505642649292']]"
      ]
     },
     "execution_count": 7,
     "metadata": {},
     "output_type": "execute_result"
    }
   ],
   "source": [
    "sparql_utils.getNationalityOverview(endpoint)"
   ]
  },
  {
   "cell_type": "markdown",
   "id": "5ce4393c",
   "metadata": {},
   "source": [
    "## Missing information\n",
    "\n",
    "There are not a lot of nationality information in the data source: only around `100k` persons from `2.7 mio` have a nationality attached.\n",
    "\n",
    "todo: check also other information such as ISNI links"
   ]
  },
  {
   "cell_type": "code",
   "execution_count": null,
   "id": "8a789150",
   "metadata": {},
   "outputs": [],
   "source": []
  }
 ],
 "metadata": {
  "kernelspec": {
   "display_name": "Python 3 (ipykernel)",
   "language": "python",
   "name": "python3"
  },
  "language_info": {
   "codemirror_mode": {
    "name": "ipython",
    "version": 3
   },
   "file_extension": ".py",
   "mimetype": "text/x-python",
   "name": "python",
   "nbconvert_exporter": "python",
   "pygments_lexer": "ipython3",
   "version": "3.8.10"
  }
 },
 "nbformat": 4,
 "nbformat_minor": 5
}
