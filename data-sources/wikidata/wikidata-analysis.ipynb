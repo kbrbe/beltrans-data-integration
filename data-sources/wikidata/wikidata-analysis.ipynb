{
 "cells": [
  {
   "cell_type": "markdown",
   "id": "ccd30599",
   "metadata": {},
   "source": [
    "# Wikidata Belgians Analysis\n",
    "\n",
    "This notebook contains an analysis of data about Belgian persons from Wikidata which was manually enriched with KBR identifiers. Most persons also will have links to BnF, NTA or DNB."
   ]
  },
  {
   "cell_type": "code",
   "execution_count": 13,
   "id": "b8a2a3ac",
   "metadata": {},
   "outputs": [],
   "source": [
    "import sys\n",
    "sys.path.insert(0, '../../utils/')\n",
    "\n",
    "from SPARQLWrapper import SPARQLWrapper, TURTLE, JSON\n",
    "import sparql_utils\n",
    "\n",
    "endpoint = SPARQLWrapper('http://wikibase-test-srv01.kbr.be/sparql/namespace/wikidata-belgians/sparql')"
   ]
  },
  {
   "cell_type": "markdown",
   "id": "92faf30e",
   "metadata": {},
   "source": [
    "## Data source overview\n",
    "\n",
    "The following queries provide an overview of the data source, for example which classes and properties are used or how many nationalities can already be identified."
   ]
  },
  {
   "cell_type": "code",
   "execution_count": 14,
   "id": "93304015",
   "metadata": {},
   "outputs": [
    {
     "data": {
      "text/plain": [
       "[['51930', 'http://schema.org/WebPage'],\n",
       " ['51930', 'http://schema.org/Person'],\n",
       " ['21389', 'http://id.loc.gov/ontologies/bibframe/Identifier'],\n",
       " ['10057', 'http://id.loc.gov/ontologies/bibframe/Isni']]"
      ]
     },
     "execution_count": 14,
     "metadata": {},
     "output_type": "execute_result"
    }
   ],
   "source": [
    "sparql_utils.getClassOverview(endpoint)"
   ]
  },
  {
   "cell_type": "code",
   "execution_count": 11,
   "id": "93c2efc6",
   "metadata": {},
   "outputs": [
    {
     "data": {
      "text/plain": [
       "[['135306', 'http://www.w3.org/1999/02/22-rdf-syntax-ns#type'],\n",
       " ['73319', 'http://www.w3.org/2000/01/rdf-schema#label'],\n",
       " ['51930', 'http://schema.org/nationality'],\n",
       " ['51930', 'http://schema.org/sameAs'],\n",
       " ['51930', 'http://xmlns.com/foaf/0.1/isPrimaryTopicOf'],\n",
       " ['51930', 'http://xmlns.com/foaf/0.1/primaryTopic'],\n",
       " ['38309', 'http://schema.org/birthDate'],\n",
       " ['31446', 'http://id.loc.gov/ontologies/bibframe/identifiedBy'],\n",
       " ['31446', 'http://www.w3.org/1999/02/22-rdf-syntax-ns#value'],\n",
       " ['17725', 'http://schema.org/deathDate']]"
      ]
     },
     "execution_count": 11,
     "metadata": {},
     "output_type": "execute_result"
    }
   ],
   "source": [
    "sparql_utils.getPropertyOverview(endpoint)"
   ]
  },
  {
   "cell_type": "code",
   "execution_count": 12,
   "id": "1bd5f944",
   "metadata": {},
   "outputs": [
    {
     "data": {
      "text/plain": [
       "[['http://id.loc.gov/vocabulary/countries/be', '51930', '100']]"
      ]
     },
     "execution_count": 12,
     "metadata": {},
     "output_type": "execute_result"
    }
   ],
   "source": [
    "    sparql_utils.getNationalityOverview(endpoint)"
   ]
  },
  {
   "cell_type": "markdown",
   "id": "220debc8",
   "metadata": {},
   "source": [
    "## Missing information"
   ]
  }
 ],
 "metadata": {
  "kernelspec": {
   "display_name": "Python 3 (ipykernel)",
   "language": "python",
   "name": "python3"
  },
  "language_info": {
   "codemirror_mode": {
    "name": "ipython",
    "version": 3
   },
   "file_extension": ".py",
   "mimetype": "text/x-python",
   "name": "python",
   "nbconvert_exporter": "python",
   "pygments_lexer": "ipython3",
   "version": "3.8.10"
  }
 },
 "nbformat": 4,
 "nbformat_minor": 5
}
