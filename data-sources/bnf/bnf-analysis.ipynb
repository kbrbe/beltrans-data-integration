{
 "cells": [
  {
   "cell_type": "markdown",
   "id": "5104d491",
   "metadata": {},
   "source": [
    "# BnF Analysis\n",
    "\n",
    "This notebook contains an analysis of data from BnF."
   ]
  },
  {
   "cell_type": "code",
   "execution_count": 1,
   "id": "6e13cc61",
   "metadata": {},
   "outputs": [],
   "source": [
    "import sys\n",
    "sys.path.insert(0, '../../utils/')\n",
    "\n",
    "from SPARQLWrapper import SPARQLWrapper, TURTLE, JSON\n",
    "import sparql_utils\n",
    "\n",
    "endpoint = SPARQLWrapper('http://wikibase-test-srv01.kbr.be/sparql/namespace/bnf-authors-persons/sparql')"
   ]
  },
  {
   "cell_type": "markdown",
   "id": "34e243ca",
   "metadata": {},
   "source": [
    "# Data Source Overview"
   ]
  },
  {
   "cell_type": "code",
   "execution_count": 2,
   "id": "f21a6752",
   "metadata": {},
   "outputs": [
    {
     "data": {
      "text/plain": [
       "[['1965432', 'http://xmlns.com/foaf/0.1/Person'],\n",
       " ['1965432', 'http://www.w3.org/2004/02/skos/core#Concept'],\n",
       " ['4654', 'http://xmlns.com/foaf/0.1/Document'],\n",
       " ['4359', 'http://data.bnf.fr/ontology/bnf-onto/ExpositionVirtuelle']]"
      ]
     },
     "execution_count": 2,
     "metadata": {},
     "output_type": "execute_result"
    }
   ],
   "source": [
    "sparql_utils.getClassOverview(endpoint)"
   ]
  },
  {
   "cell_type": "code",
   "execution_count": 3,
   "id": "04ad5806",
   "metadata": {},
   "outputs": [
    {
     "data": {
      "text/plain": [
       "[['4783927', 'http://www.w3.org/2002/07/owl#sameAs'],\n",
       " ['3939877', 'http://www.w3.org/1999/02/22-rdf-syntax-ns#type'],\n",
       " ['2162921', 'http://www.w3.org/2000/01/rdf-schema#seeAlso'],\n",
       " ['1965432', 'http://data.bnf.fr/ontology/bnf-onto/FRBNF'],\n",
       " ['1965432', 'http://purl.org/dc/terms/created'],\n",
       " ['1965432', 'http://rdaregistry.info/Elements/u/P61160'],\n",
       " ['1965432', 'http://xmlns.com/foaf/0.1/focus'],\n",
       " ['1965432', 'http://xmlns.com/foaf/0.1/page'],\n",
       " ['1965432', 'http://www.w3.org/2004/02/skos/core#prefLabel'],\n",
       " ['1965432', 'http://purl.org/dc/terms/modified'],\n",
       " ['1965431', 'http://xmlns.com/foaf/0.1/familyName'],\n",
       " ['1891029', 'http://xmlns.com/foaf/0.1/givenName'],\n",
       " ['1891029', 'http://xmlns.com/foaf/0.1/name'],\n",
       " ['1668932', 'http://purl.org/dc/terms/creator'],\n",
       " ['1663837', 'http://rdaregistry.info/Elements/a/P50097'],\n",
       " ['1663837', 'http://rdvocab.info/ElementsGr2/countryAssociatedWithThePerson'],\n",
       " ['1659347', 'http://rdaregistry.info/Elements/a/P50113'],\n",
       " ['1659347', 'http://rdvocab.info/ElementsGr2/biographicalInformation'],\n",
       " ['1659347', 'http://www.w3.org/2004/02/skos/core#note'],\n",
       " ['1655543', 'http://rdaregistry.info/Elements/a/P50102'],\n",
       " ['1655543', 'http://rdvocab.info/ElementsGr2/languageOfThePerson'],\n",
       " ['1576663', 'http://data.bnf.fr/ontology/bnf-onto/isniAttributionAgency'],\n",
       " ['1576663', 'http://isni.org/ontology#identifierValid'],\n",
       " ['1576648', 'http://data.bnf.fr/ontology/bnf-onto/isniAttributionDate'],\n",
       " ['1487513', 'http://xmlns.com/foaf/0.1/gender'],\n",
       " ['1399293', 'http://xmlns.com/foaf/0.1/depiction'],\n",
       " ['1112629', 'http://www.w3.org/2004/02/skos/core#editorialNote'],\n",
       " ['975555', 'http://data.bnf.fr/ontology/bnf-onto/firstYear'],\n",
       " ['812693', 'http://www.w3.org/2004/02/skos/core#altLabel'],\n",
       " ['431934', 'http://vocab.org/bio/0.1/death'],\n",
       " ['429792', 'http://vocab.org/bio/0.1/birth'],\n",
       " ['336308', 'http://rdaregistry.info/Elements/a/P50121'],\n",
       " ['336308', 'http://rdvocab.info/ElementsGr2/dateOfBirth'],\n",
       " ['336113', 'http://data.bnf.fr/ontology/bnf-onto/lastYear'],\n",
       " ['336113', 'http://rdaregistry.info/Elements/a/P50120'],\n",
       " ['336113', 'http://rdvocab.info/ElementsGr2/dateOfDeath'],\n",
       " ['243442', 'http://rdaregistry.info/Elements/a/P50119'],\n",
       " ['243442', 'http://rdvocab.info/ElementsGr2/placeOfBirth'],\n",
       " ['220913', 'http://xmlns.com/foaf/0.1/birthday'],\n",
       " ['199894', 'http://purl.org/dc/terms/subject'],\n",
       " ['189092', 'http://rdaregistry.info/Elements/a/P50100'],\n",
       " ['189092', 'http://rdvocab.info/ElementsGr2/fieldOfActivityOfThePerson'],\n",
       " ['154684', 'http://rdaregistry.info/Elements/a/P50118'],\n",
       " ['154684', 'http://rdvocab.info/ElementsGr2/placeOfDeath'],\n",
       " ['21046', 'http://xmlns.com/foaf/0.1/homepage'],\n",
       " ['12421', 'http://rdaregistry.info/Elements/a/P50098'],\n",
       " ['12421', 'http://rdvocab.info/ElementsGr2/periodOfActivityOfThePerson'],\n",
       " ['5114', 'http://purl.org/dc/terms/contributor'],\n",
       " ['4359', 'http://purl.org/dc/terms/title'],\n",
       " ['1377', 'http://data.bnf.fr/ontology/bnf-onto/mortPourLaFrance'],\n",
       " ['317', 'http://purl.org/dc/terms/description'],\n",
       " ['142', 'http://www.w3.org/2004/02/skos/core#exactMatch']]"
      ]
     },
     "execution_count": 3,
     "metadata": {},
     "output_type": "execute_result"
    }
   ],
   "source": [
    "sparql_utils.getPropertyOverview(endpoint)"
   ]
  },
  {
   "cell_type": "code",
   "execution_count": 5,
   "id": "93edb599",
   "metadata": {},
   "outputs": [],
   "source": [
    "#todo: adapt query for BnF data model\n",
    "#sparql_utils.getNationalityOverview(endpoint)\n"
   ]
  }
 ],
 "metadata": {
  "kernelspec": {
   "display_name": "Python 3 (ipykernel)",
   "language": "python",
   "name": "python3"
  },
  "language_info": {
   "codemirror_mode": {
    "name": "ipython",
    "version": 3
   },
   "file_extension": ".py",
   "mimetype": "text/x-python",
   "name": "python",
   "nbconvert_exporter": "python",
   "pygments_lexer": "ipython3",
   "version": "3.8.10"
  }
 },
 "nbformat": 4,
 "nbformat_minor": 5
}
