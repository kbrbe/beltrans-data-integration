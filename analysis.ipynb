{
 "cells": [
  {
   "cell_type": "markdown",
   "id": "7199f1e9",
   "metadata": {},
   "source": [
    "# BELTRANS Data Integration Analysis\n",
    "\n",
    "This notebook contains an analysis of data from the BELTRANS project.\n",
    "\n",
    "Before this analysis, each data source was loaded into different \"namespaces\" of our **Blazegraph** triple store. Data sources which are already in RDF were directly uploaded to the triple store, heterogeneous data were first mapped via rml.io.\n",
    "\n",
    "\n",
    "For each data source we investigate how complete they are with respect to different properties. \n",
    "The different analysis steps are performed based on `SPARQL` queries. "
   ]
  },
  {
   "cell_type": "code",
   "execution_count": 14,
   "id": "e1b64215",
   "metadata": {},
   "outputs": [],
   "source": [
    "from SPARQLWrapper import SPARQLWrapper, JSON\n",
    "import os\n",
    "\n",
    "bnfDir = \"/home/slieber/repos/beltrans-data/data-sources/bnf/\"\n",
    "kbDir = \"/home/slieber/repos/beltrans-data/data-sources/kb/\""
   ]
  },
  {
   "cell_type": "code",
   "execution_count": 8,
   "id": "555c01bf",
   "metadata": {},
   "outputs": [],
   "source": [
    "def readSPARQLQuery(filename):\n",
    "    content = \"\"\n",
    "    with open(filename, 'r') as reader:\n",
    "        content = reader.read()\n",
    "    return content"
   ]
  },
  {
   "cell_type": "markdown",
   "id": "b494cb48",
   "metadata": {},
   "source": [
    "## Koninlijke Bibliotheek van Nederland (KB)\n"
   ]
  },
  {
   "cell_type": "code",
   "execution_count": 7,
   "id": "b9cab0ba",
   "metadata": {},
   "outputs": [],
   "source": [
    "kbAuthorsNTA = SPARQLWrapper('http://localhost:8090/bigdata/namespace/kb-authors-nta')\n",
    "kbAuthorsDBNLA = SPARQLWrapper('http://localhost:8090/bigdata/namespace/kb-authors-dbnla')"
   ]
  },
  {
   "cell_type": "code",
   "execution_count": 18,
   "id": "09e3d309",
   "metadata": {},
   "outputs": [],
   "source": [
    "kbAuthorsNTA.setQuery(readSPARQLQuery(os.path.join(kbDir, 'get-kb-person-authors-stats.sparql')))"
   ]
  },
  {
   "cell_type": "markdown",
   "id": "32db5f88",
   "metadata": {},
   "source": [
    "## Bibliothèque Nationale de France"
   ]
  },
  {
   "cell_type": "code",
   "execution_count": null,
   "id": "8095b33a",
   "metadata": {},
   "outputs": [],
   "source": []
  },
  {
   "cell_type": "markdown",
   "id": "eee319be",
   "metadata": {},
   "source": [
    "## Integrated data quality\n"
   ]
  }
 ],
 "metadata": {
  "kernelspec": {
   "display_name": "Python 3 (ipykernel)",
   "language": "python",
   "name": "python3"
  },
  "language_info": {
   "codemirror_mode": {
    "name": "ipython",
    "version": 3
   },
   "file_extension": ".py",
   "mimetype": "text/x-python",
   "name": "python",
   "nbconvert_exporter": "python",
   "pygments_lexer": "ipython3",
   "version": "3.8.10"
  }
 },
 "nbformat": 4,
 "nbformat_minor": 5
}
