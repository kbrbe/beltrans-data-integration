{
 "cells": [
  {
   "cell_type": "markdown",
   "id": "266724f5",
   "metadata": {},
   "source": [
    "# BELTRANS Data Integration Analysis\n",
    "\n",
    "This notebook contains an analysis of data from the BELTRANS project.\n",
    "\n",
    "Before this analysis, each data source was loaded into different \"namespaces\" of our **Blazegraph** triple store. Data sources which are already in RDF were directly uploaded to the triple store, heterogeneous data were first mapped via rml.io.\n",
    "\n",
    "\n",
    "For each data source we investigate how complete they are with respect to different properties. \n",
    "The different analysis steps are performed based on `SPARQL` queries. "
   ]
  },
  {
   "cell_type": "code",
   "execution_count": 43,
   "id": "2e4fedce",
   "metadata": {},
   "outputs": [],
   "source": [
    "from SPARQLWrapper import SPARQLWrapper, TURTLE, JSON\n",
    "import os\n",
    "\n",
    "bnfDir = \"/home/slieber/repos/beltrans-data/data-sources/bnf/\"\n",
    "kbDir = \"/home/slieber/repos/beltrans-data/data-sources/kb/\""
   ]
  },
  {
   "cell_type": "markdown",
   "id": "27090a19",
   "metadata": {},
   "source": [
    "## Functions\n",
    "The following blocks define helper functions which are used throughout this analysis. We follow the *don't repeat yourself* (DRY) principle: functionality is broken down into small reusable functions. Therefore the analysis also becomes more readable as the reading flow is not interrupted by large chunks of code, only functions with self explanatory name are called."
   ]
  },
  {
   "cell_type": "code",
   "execution_count": 69,
   "id": "7889e0db",
   "metadata": {},
   "outputs": [],
   "source": [
    "# ------------------------------------------------------------\n",
    "def readSPARQLQuery(filename):\n",
    "    \"\"\"Read a SPARQL query from file and return the content as a string.\"\"\"\n",
    "    content = \"\"\n",
    "    with open(filename, 'r') as reader:\n",
    "        content = reader.read()\n",
    "    return content\n",
    "\n",
    "# ------------------------------------------------------------\n",
    "def _convertValueCount(result):\n",
    "    \"\"\"Converts SPARQL result bindings of a '?value ?count' query to a common format.\"\"\"\n",
    "    values = list()\n",
    "    for r in result['results']['bindings']:\n",
    "        values.append([r['count']['value'], r['value']['value']])\n",
    "    return values\n",
    "\n",
    "# ------------------------------------------------------------\n",
    "def getPropertyOverview(sparqlObject):\n",
    "    \"\"\"Query the given SPARQL endpoint (SPARQLWrapper object) for all properties and their number.\"\"\"\n",
    "    sparqlObject.setQuery(readSPARQLQuery('/home/slieber/repos/beltrans-data/data-sources/get-property-overview.sparql'))\n",
    "    sparqlObject.setReturnFormat(JSON)\n",
    "    result = sparqlObject.queryAndConvert()\n",
    "    return _convertValueCount(result)\n",
    "\n",
    "# ------------------------------------------------------------\n",
    "def getClassOverview(sparqlObject):\n",
    "    \"\"\"Query the given SPARQL endpoint (SPARQLWrapper object) for all classes and number of their instances.\"\"\"\n",
    "    sparqlObject.setQuery(readSPARQLQuery('/home/slieber/repos/beltrans-data/data-sources/get-class-overview.sparql'))\n",
    "    sparqlObject.setReturnFormat(JSON)\n",
    "    result = sparqlObject.queryAndConvert()\n",
    "    return _convertValueCount(result)\n",
    "    "
   ]
  },
  {
   "cell_type": "markdown",
   "id": "c5079534",
   "metadata": {},
   "source": [
    "## Koninlijke Bibliotheek van Nederland (KB)\n",
    "\n",
    "This data source contains information about (i) authors, and (ii) publications.\n",
    "\n",
    "Regarding **authors**, three different datasets are provided, the thesaurus of Dutch authors (NTA), the digital library of Dutch letters (DBNLA), and organizations from the corporation thesaurus.\n",
    "\n",
    "Regarding **publications** ..."
   ]
  },
  {
   "cell_type": "markdown",
   "id": "0208bf73",
   "metadata": {},
   "source": [
    "### Properties from the KB author thesaurus\n",
    "The following is a list of properties and how often they occur. This has the aim to get a broad overview of the data source."
   ]
  },
  {
   "cell_type": "code",
   "execution_count": 7,
   "id": "91d98858",
   "metadata": {},
   "outputs": [],
   "source": [
    "kbAuthorsNTA = SPARQLWrapper('http://localhost:8090/bigdata/namespace/kb-authors-nta')"
   ]
  },
  {
   "cell_type": "code",
   "execution_count": 75,
   "id": "4d113c42",
   "metadata": {},
   "outputs": [
    {
     "data": {
      "text/plain": [
       "[['2751633', 'http://schema.org/Dataset'],\n",
       " ['2751633', 'http://schema.org/Person'],\n",
       " ['2751633', 'http://schema.org/WebPage'],\n",
       " ['41', 'http://www.w3.org/2000/01/rdf-schema#Resource'],\n",
       " ['22', 'http://www.w3.org/1999/02/22-rdf-syntax-ns#Property'],\n",
       " ['18', 'http://www.w3.org/2000/01/rdf-schema#Class'],\n",
       " ['1', 'http://www.w3.org/1999/02/22-rdf-syntax-ns#List'],\n",
       " ['1', 'http://www.w3.org/2000/01/rdf-schema#Datatype']]"
      ]
     },
     "execution_count": 75,
     "metadata": {},
     "output_type": "execute_result"
    }
   ],
   "source": [
    "getClassOverview(kbAuthorsNTA)"
   ]
  },
  {
   "cell_type": "code",
   "execution_count": 70,
   "id": "df9ba002",
   "metadata": {
    "scrolled": true
   },
   "outputs": [
    {
     "data": {
      "text/plain": [
       "[['8254982', 'http://www.w3.org/1999/02/22-rdf-syntax-ns#type'],\n",
       " ['4446148', 'http://schema.org/sameAs'],\n",
       " ['2826041', 'http://www.w3.org/2000/01/rdf-schema#label'],\n",
       " ['2793771', 'http://schema.org/name'],\n",
       " ['2793768', 'http://schema.org/familyName'],\n",
       " ['2751633', 'http://data.bibliotheken.nl/def#ppn'],\n",
       " ['2751633', 'http://schema.org/dateModified'],\n",
       " ['2751633', 'http://schema.org/isBasedOn'],\n",
       " ['2751633', 'http://schema.org/isPartOf'],\n",
       " ['2751633', 'http://schema.org/license'],\n",
       " ['2751633', 'http://schema.org/mainEntity'],\n",
       " ['2751633', 'http://schema.org/mainEntityOfPage'],\n",
       " ['2751633', 'http://www.w3.org/2002/07/owl#sameAs'],\n",
       " ['2734833', 'http://schema.org/givenName'],\n",
       " ['942380', 'http://schema.org/alternateName'],\n",
       " ['751540', 'http://schema.org/description'],\n",
       " ['732968', 'http://schema.org/birthDate'],\n",
       " ['234985', 'http://schema.org/deathDate'],\n",
       " ['115470', 'http://schema.org/nationality'],\n",
       " ['47', 'http://www.w3.org/2000/01/rdf-schema#subClassOf'],\n",
       " ['25', 'http://www.w3.org/2000/01/rdf-schema#subPropertyOf'],\n",
       " ['16', 'http://www.w3.org/2000/01/rdf-schema#domain'],\n",
       " ['16', 'http://www.w3.org/2000/01/rdf-schema#range']]"
      ]
     },
     "execution_count": 70,
     "metadata": {},
     "output_type": "execute_result"
    }
   ],
   "source": [
    "getPropertyOverview(kbAuthorsNTA)"
   ]
  },
  {
   "cell_type": "markdown",
   "id": "7e20929f",
   "metadata": {},
   "source": [
    "### Properties from the KB DBNLA dataset\n",
    "The following lists the properties from the **digital bibliotheek voor de Nederlandse letteren (DBNL)**."
   ]
  },
  {
   "cell_type": "code",
   "execution_count": null,
   "id": "072cf03f",
   "metadata": {},
   "outputs": [],
   "source": [
    "kbAuthorsDBNLA = SPARQLWrapper('http://localhost:8090/bigdata/namespace/kb-authors-dbnla')"
   ]
  },
  {
   "cell_type": "code",
   "execution_count": 74,
   "id": "7616afb9",
   "metadata": {},
   "outputs": [
    {
     "data": {
      "text/plain": [
       "[['109739', 'http://schema.org/Dataset'],\n",
       " ['109739', 'http://schema.org/WebPage'],\n",
       " ['109739', 'http://schema.org/Person'],\n",
       " ['41', 'http://www.w3.org/2000/01/rdf-schema#Resource'],\n",
       " ['22', 'http://www.w3.org/1999/02/22-rdf-syntax-ns#Property'],\n",
       " ['18', 'http://www.w3.org/2000/01/rdf-schema#Class'],\n",
       " ['1', 'http://www.w3.org/1999/02/22-rdf-syntax-ns#List'],\n",
       " ['1', 'http://www.w3.org/2000/01/rdf-schema#Datatype']]"
      ]
     },
     "execution_count": 74,
     "metadata": {},
     "output_type": "execute_result"
    }
   ],
   "source": [
    "getClassOverview(kbAuthorsDBNLA)"
   ]
  },
  {
   "cell_type": "code",
   "execution_count": 71,
   "id": "06b07124",
   "metadata": {},
   "outputs": [
    {
     "data": {
      "text/plain": [
       "[['329300', 'http://www.w3.org/1999/02/22-rdf-syntax-ns#type'],\n",
       " ['124285', 'http://schema.org/alternateName'],\n",
       " ['109739', 'http://schema.org/license'],\n",
       " ['109739', 'http://schema.org/mainEntity'],\n",
       " ['109739', 'http://schema.org/mainEntityOfPage'],\n",
       " ['109739', 'http://schema.org/familyName'],\n",
       " ['109739', 'http://schema.org/name'],\n",
       " ['109739', 'http://schema.org/isPartOf'],\n",
       " ['109739', 'http://schema.org/dateModified'],\n",
       " ['109739', 'http://schema.org/identifier'],\n",
       " ['109739', 'http://schema.org/gender'],\n",
       " ['109739', 'http://schema.org/url'],\n",
       " ['109739', 'http://www.w3.org/2000/01/rdf-schema#label'],\n",
       " ['109739', 'http://www.w3.org/2002/07/owl#sameAs'],\n",
       " ['107021', 'http://schema.org/givenName'],\n",
       " ['102230', 'http://schema.org/birthDate'],\n",
       " ['59213', 'http://schema.org/hasOccupation'],\n",
       " ['53343', 'http://schema.org/deathDate'],\n",
       " ['32029', 'http://schema.org/birthPlace'],\n",
       " ['23998', 'http://schema.org/deathPlace'],\n",
       " ['47', 'http://www.w3.org/2000/01/rdf-schema#subClassOf'],\n",
       " ['25', 'http://www.w3.org/2000/01/rdf-schema#subPropertyOf'],\n",
       " ['16', 'http://www.w3.org/2000/01/rdf-schema#domain'],\n",
       " ['16', 'http://www.w3.org/2000/01/rdf-schema#range']]"
      ]
     },
     "execution_count": 71,
     "metadata": {},
     "output_type": "execute_result"
    }
   ],
   "source": [
    "getPropertyOverview(kbAuthorsDBNLA)"
   ]
  },
  {
   "cell_type": "markdown",
   "id": "3706f408",
   "metadata": {},
   "source": [
    "## Bibliothèque Nationale de France"
   ]
  },
  {
   "cell_type": "code",
   "execution_count": 65,
   "id": "4b083524",
   "metadata": {},
   "outputs": [],
   "source": [
    "bnfAuthorsPersons = SPARQLWrapper('http://localhost:8090/bigdata/namespace/kb')"
   ]
  },
  {
   "cell_type": "code",
   "execution_count": 73,
   "id": "4e781a2e",
   "metadata": {},
   "outputs": [
    {
     "data": {
      "text/plain": [
       "[['1965432', 'http://xmlns.com/foaf/0.1/Person'],\n",
       " ['1965432', 'http://www.w3.org/2004/02/skos/core#Concept'],\n",
       " ['4654', 'http://xmlns.com/foaf/0.1/Document'],\n",
       " ['4359', 'http://data.bnf.fr/ontology/bnf-onto/ExpositionVirtuelle']]"
      ]
     },
     "execution_count": 73,
     "metadata": {},
     "output_type": "execute_result"
    }
   ],
   "source": [
    "getClassOverview(bnfAuthorsPersons)"
   ]
  },
  {
   "cell_type": "code",
   "execution_count": 72,
   "id": "e54c58f0",
   "metadata": {},
   "outputs": [
    {
     "data": {
      "text/plain": [
       "[['4783927', 'http://www.w3.org/2002/07/owl#sameAs'],\n",
       " ['3939877', 'http://www.w3.org/1999/02/22-rdf-syntax-ns#type'],\n",
       " ['2162921', 'http://www.w3.org/2000/01/rdf-schema#seeAlso'],\n",
       " ['1965432', 'http://data.bnf.fr/ontology/bnf-onto/FRBNF'],\n",
       " ['1965432', 'http://purl.org/dc/terms/created'],\n",
       " ['1965432', 'http://rdaregistry.info/Elements/u/P61160'],\n",
       " ['1965432', 'http://xmlns.com/foaf/0.1/focus'],\n",
       " ['1965432', 'http://xmlns.com/foaf/0.1/page'],\n",
       " ['1965432', 'http://www.w3.org/2004/02/skos/core#prefLabel'],\n",
       " ['1965432', 'http://purl.org/dc/terms/modified'],\n",
       " ['1965431', 'http://xmlns.com/foaf/0.1/familyName'],\n",
       " ['1891029', 'http://xmlns.com/foaf/0.1/givenName'],\n",
       " ['1891029', 'http://xmlns.com/foaf/0.1/name'],\n",
       " ['1668932', 'http://purl.org/dc/terms/creator'],\n",
       " ['1663837', 'http://rdaregistry.info/Elements/a/P50097'],\n",
       " ['1663837', 'http://rdvocab.info/ElementsGr2/countryAssociatedWithThePerson'],\n",
       " ['1659347', 'http://rdaregistry.info/Elements/a/P50113'],\n",
       " ['1659347', 'http://rdvocab.info/ElementsGr2/biographicalInformation'],\n",
       " ['1659347', 'http://www.w3.org/2004/02/skos/core#note'],\n",
       " ['1655543', 'http://rdaregistry.info/Elements/a/P50102'],\n",
       " ['1655543', 'http://rdvocab.info/ElementsGr2/languageOfThePerson'],\n",
       " ['1576663', 'http://data.bnf.fr/ontology/bnf-onto/isniAttributionAgency'],\n",
       " ['1576663', 'http://isni.org/ontology#identifierValid'],\n",
       " ['1576648', 'http://data.bnf.fr/ontology/bnf-onto/isniAttributionDate'],\n",
       " ['1487513', 'http://xmlns.com/foaf/0.1/gender'],\n",
       " ['1399293', 'http://xmlns.com/foaf/0.1/depiction'],\n",
       " ['1112629', 'http://www.w3.org/2004/02/skos/core#editorialNote'],\n",
       " ['975555', 'http://data.bnf.fr/ontology/bnf-onto/firstYear'],\n",
       " ['812693', 'http://www.w3.org/2004/02/skos/core#altLabel'],\n",
       " ['431934', 'http://vocab.org/bio/0.1/death'],\n",
       " ['429792', 'http://vocab.org/bio/0.1/birth'],\n",
       " ['336308', 'http://rdaregistry.info/Elements/a/P50121'],\n",
       " ['336308', 'http://rdvocab.info/ElementsGr2/dateOfBirth'],\n",
       " ['336113', 'http://data.bnf.fr/ontology/bnf-onto/lastYear'],\n",
       " ['336113', 'http://rdaregistry.info/Elements/a/P50120'],\n",
       " ['336113', 'http://rdvocab.info/ElementsGr2/dateOfDeath'],\n",
       " ['243442', 'http://rdaregistry.info/Elements/a/P50119'],\n",
       " ['243442', 'http://rdvocab.info/ElementsGr2/placeOfBirth'],\n",
       " ['220913', 'http://xmlns.com/foaf/0.1/birthday'],\n",
       " ['199894', 'http://purl.org/dc/terms/subject'],\n",
       " ['189092', 'http://rdaregistry.info/Elements/a/P50100'],\n",
       " ['189092', 'http://rdvocab.info/ElementsGr2/fieldOfActivityOfThePerson'],\n",
       " ['154684', 'http://rdaregistry.info/Elements/a/P50118'],\n",
       " ['154684', 'http://rdvocab.info/ElementsGr2/placeOfDeath'],\n",
       " ['21046', 'http://xmlns.com/foaf/0.1/homepage'],\n",
       " ['12421', 'http://rdaregistry.info/Elements/a/P50098'],\n",
       " ['12421', 'http://rdvocab.info/ElementsGr2/periodOfActivityOfThePerson'],\n",
       " ['5114', 'http://purl.org/dc/terms/contributor'],\n",
       " ['4359', 'http://purl.org/dc/terms/title'],\n",
       " ['1377', 'http://data.bnf.fr/ontology/bnf-onto/mortPourLaFrance'],\n",
       " ['317', 'http://purl.org/dc/terms/description'],\n",
       " ['142', 'http://www.w3.org/2004/02/skos/core#exactMatch']]"
      ]
     },
     "execution_count": 72,
     "metadata": {},
     "output_type": "execute_result"
    }
   ],
   "source": [
    "getPropertyOverview(bnfAuthorsPersons)"
   ]
  },
  {
   "cell_type": "markdown",
   "id": "06c0bc5e",
   "metadata": {},
   "source": [
    "## Integrated data quality\n"
   ]
  }
 ],
 "metadata": {
  "kernelspec": {
   "display_name": "Python 3 (ipykernel)",
   "language": "python",
   "name": "python3"
  },
  "language_info": {
   "codemirror_mode": {
    "name": "ipython",
    "version": 3
   },
   "file_extension": ".py",
   "mimetype": "text/x-python",
   "name": "python",
   "nbconvert_exporter": "python",
   "pygments_lexer": "ipython3",
   "version": "3.8.10"
  }
 },
 "nbformat": 4,
 "nbformat_minor": 5
}
