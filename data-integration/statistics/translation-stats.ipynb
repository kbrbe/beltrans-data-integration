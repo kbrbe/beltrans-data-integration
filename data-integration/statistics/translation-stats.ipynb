{
 "cells": [
  {
   "cell_type": "markdown",
   "id": "e511415d",
   "metadata": {},
   "source": [
    "# BELTRANS translation statistics\n",
    "\n",
    "This notebook displays statistics about the book translations in the BELTRANS corpus. It aims to measure the improvement performed by different data integration or enrichment techniques.\n"
   ]
  },
  {
   "cell_type": "code",
   "execution_count": 1,
   "id": "369a7da1",
   "metadata": {},
   "outputs": [],
   "source": [
    "import pandas as pd\n",
    "import sys, os\n",
    "\n",
    "sys.path.insert(1, os.pardir)\n",
    "import utils\n",
    "import utils_stats\n",
    "import utils_plot"
   ]
  },
  {
   "cell_type": "markdown",
   "id": "0bd339d6",
   "metadata": {},
   "source": [
    "## Existing measurements\n",
    "\n",
    "The measured statistics currently evolve like this:\n",
    "\n"
   ]
  },
  {
   "cell_type": "code",
   "execution_count": 2,
   "id": "66d534b9",
   "metadata": {},
   "outputs": [],
   "source": [
    "translationMeasurementFiles = [\n",
    "    '2022-05-03_translation-stats.csv', '2022-05-09_translation-stats.csv', \n",
    "    '2022-05-23_translation-stats.csv', '2022-06-07_translation-stats.csv',\n",
    "    '2022-06-16_translation-stats.csv', '2022-06-20_translation-stats.csv',\n",
    "    '2022-06-23_translation-stats.csv', '2022-06-24_translation-stats.csv',\n",
    "    '2022-07-18_translation-stats.csv', '2022-07-20_translation-stats.csv',\n",
    "    '2022-07-21_translation-stats.csv', '2022-07-25_translation-stats.csv',\n",
    "    '2022-07-26_translation-stats.csv', '2022-07-27_translation-stats.csv',\n",
    "    '2022-08-08_translation-stats.csv', '2022-08-11_translation-stats.csv',\n",
    "    '2022-08-18_translation-stats.csv', '2022-09-05_translation-stats.csv',\n",
    "    '2022-09-07_translation-stats.csv', '2022-09-08_translation-stats.csv'\n",
    "]"
   ]
  },
  {
   "cell_type": "code",
   "execution_count": 3,
   "id": "8e90ea34",
   "metadata": {},
   "outputs": [],
   "source": [
    "translationStats = utils_stats.mergeMeasurementsToDataFrame('./measurements', translationMeasurementFiles)\n",
    "statsFRNL = translationStats[translationStats['corpus'] == 'FR-NL'].copy()\n",
    "statsNLFR = translationStats[translationStats['corpus'] == 'NL-FR'].copy()\n",
    "statsOther = translationStats[translationStats['corpus'] == 'OTHER'].copy()"
   ]
  },
  {
   "cell_type": "code",
   "execution_count": 4,
   "id": "fb6f7911",
   "metadata": {
    "scrolled": true
   },
   "outputs": [
    {
     "data": {
      "image/png": "[encoded data removed]",
      "text/plain": [
       "<Figure size 432x288 with 1 Axes>"
      ]
     },
     "metadata": {
      "needs_background": "light"
     },
     "output_type": "display_data"
    }
   ],
   "source": [
    "utils_plot.plotNumberTimeline(statsFRNL,\n",
    "                                  ['numberTranslations'],\n",
    "                                  'Translations FR-NL - total')"
   ]
  },
  {
   "cell_type": "code",
   "execution_count": 5,
   "id": "a3293d76",
   "metadata": {},
   "outputs": [
    {
     "data": {
      "text/html": [
       "<div>\n",
       "<style scoped>\n",
       "    .dataframe tbody tr th:only-of-type {\n",
       "        vertical-align: middle;\n",
       "    }\n",
       "\n",
       "    .dataframe tbody tr th {\n",
       "        vertical-align: top;\n",
       "    }\n",
       "\n",
       "    .dataframe thead th {\n",
       "        text-align: right;\n",
       "    }\n",
       "</style>\n",
       "<table border=\"1\" class=\"dataframe\">\n",
       "  <thead>\n",
       "    <tr style=\"text-align: right;\">\n",
       "      <th></th>\n",
       "      <th>numberTranslations</th>\n",
       "      <th>comment</th>\n",
       "    </tr>\n",
       "    <tr>\n",
       "      <th>date</th>\n",
       "      <th></th>\n",
       "      <th></th>\n",
       "    </tr>\n",
       "  </thead>\n",
       "  <tbody>\n",
       "    <tr>\n",
       "      <th>2022-05-03</th>\n",
       "      <td>6891</td>\n",
       "      <td>Data integrated from KBR, BnF and KB based on ...</td>\n",
       "    </tr>\n",
       "    <tr>\n",
       "      <th>2022-05-09</th>\n",
       "      <td>6891</td>\n",
       "      <td>Data integrated from KBR, BnF and KB based on ...</td>\n",
       "    </tr>\n",
       "    <tr>\n",
       "      <th>2022-05-23</th>\n",
       "      <td>6891</td>\n",
       "      <td>No changes to previous version.</td>\n",
       "    </tr>\n",
       "    <tr>\n",
       "      <th>2022-06-07</th>\n",
       "      <td>7091</td>\n",
       "      <td>Added publishing directors and included a coll...</td>\n",
       "    </tr>\n",
       "    <tr>\n",
       "      <th>2022-06-16</th>\n",
       "      <td>6715</td>\n",
       "      <td>Removed duplicate manifestations with the same...</td>\n",
       "    </tr>\n",
       "    <tr>\n",
       "      <th>2022-06-20</th>\n",
       "      <td>7350</td>\n",
       "      <td>New KBR data dump with plenty of additions and...</td>\n",
       "    </tr>\n",
       "    <tr>\n",
       "      <th>2022-06-23</th>\n",
       "      <td>7752</td>\n",
       "      <td>No ISBN duplicate removal anymore to prevent d...</td>\n",
       "    </tr>\n",
       "    <tr>\n",
       "      <th>2022-06-24</th>\n",
       "      <td>8149</td>\n",
       "      <td>New KBR dump with old Dutch, old French and mi...</td>\n",
       "    </tr>\n",
       "    <tr>\n",
       "      <th>2022-07-18</th>\n",
       "      <td>8254</td>\n",
       "      <td>Dataprofile query filtering also for Belgian o...</td>\n",
       "    </tr>\n",
       "    <tr>\n",
       "      <th>2022-07-20</th>\n",
       "      <td>8254</td>\n",
       "      <td>Fixed error in ISNI-SRU integration SPARQL query.</td>\n",
       "    </tr>\n",
       "    <tr>\n",
       "      <th>2022-07-21</th>\n",
       "      <td>8436</td>\n",
       "      <td>Manually curated Wikidata overlap used as brid...</td>\n",
       "    </tr>\n",
       "    <tr>\n",
       "      <th>2022-07-25</th>\n",
       "      <td>8436</td>\n",
       "      <td>Contributors integrated using also ISNI identi...</td>\n",
       "    </tr>\n",
       "    <tr>\n",
       "      <th>2022-07-26</th>\n",
       "      <td>8437</td>\n",
       "      <td>Added roughly 5,000 more contributors from BnF...</td>\n",
       "    </tr>\n",
       "    <tr>\n",
       "      <th>2022-07-27</th>\n",
       "      <td>8457</td>\n",
       "      <td>Added missing nationalities from Wikidata</td>\n",
       "    </tr>\n",
       "    <tr>\n",
       "      <th>2022-08-08</th>\n",
       "      <td>8458</td>\n",
       "      <td>Added source links KBR identified via exact ti...</td>\n",
       "    </tr>\n",
       "    <tr>\n",
       "      <th>2022-08-11</th>\n",
       "      <td>8502</td>\n",
       "      <td>New export from the KBR catalogue</td>\n",
       "    </tr>\n",
       "    <tr>\n",
       "      <th>2022-08-18</th>\n",
       "      <td>8501</td>\n",
       "      <td>Strictly split translations and originals into...</td>\n",
       "    </tr>\n",
       "    <tr>\n",
       "      <th>2022-09-05</th>\n",
       "      <td>8501</td>\n",
       "      <td>Integration changes: dynamic SPARQL instead of...</td>\n",
       "    </tr>\n",
       "    <tr>\n",
       "      <th>2022-09-07</th>\n",
       "      <td>8553</td>\n",
       "      <td>Added a KBR export of Belgian person authorities</td>\n",
       "    </tr>\n",
       "    <tr>\n",
       "      <th>2022-09-08</th>\n",
       "      <td>8565</td>\n",
       "      <td>fetched more KBR ISNIs because of fixed parsin...</td>\n",
       "    </tr>\n",
       "  </tbody>\n",
       "</table>\n",
       "</div>"
      ],
      "text/plain": [
       "            numberTranslations  \\\n",
       "date                             \n",
       "2022-05-03                6891   \n",
       "2022-05-09                6891   \n",
       "2022-05-23                6891   \n",
       "2022-06-07                7091   \n",
       "2022-06-16                6715   \n",
       "2022-06-20                7350   \n",
       "2022-06-23                7752   \n",
       "2022-06-24                8149   \n",
       "2022-07-18                8254   \n",
       "2022-07-20                8254   \n",
       "2022-07-21                8436   \n",
       "2022-07-25                8436   \n",
       "2022-07-26                8437   \n",
       "2022-07-27                8457   \n",
       "2022-08-08                8458   \n",
       "2022-08-11                8502   \n",
       "2022-08-18                8501   \n",
       "2022-09-05                8501   \n",
       "2022-09-07                8553   \n",
       "2022-09-08                8565   \n",
       "\n",
       "                                                      comment  \n",
       "date                                                           \n",
       "2022-05-03  Data integrated from KBR, BnF and KB based on ...  \n",
       "2022-05-09  Data integrated from KBR, BnF and KB based on ...  \n",
       "2022-05-23                    No changes to previous version.  \n",
       "2022-06-07  Added publishing directors and included a coll...  \n",
       "2022-06-16  Removed duplicate manifestations with the same...  \n",
       "2022-06-20  New KBR data dump with plenty of additions and...  \n",
       "2022-06-23  No ISBN duplicate removal anymore to prevent d...  \n",
       "2022-06-24  New KBR dump with old Dutch, old French and mi...  \n",
       "2022-07-18  Dataprofile query filtering also for Belgian o...  \n",
       "2022-07-20  Fixed error in ISNI-SRU integration SPARQL query.  \n",
       "2022-07-21  Manually curated Wikidata overlap used as brid...  \n",
       "2022-07-25  Contributors integrated using also ISNI identi...  \n",
       "2022-07-26  Added roughly 5,000 more contributors from BnF...  \n",
       "2022-07-27          Added missing nationalities from Wikidata  \n",
       "2022-08-08  Added source links KBR identified via exact ti...  \n",
       "2022-08-11                  New export from the KBR catalogue  \n",
       "2022-08-18  Strictly split translations and originals into...  \n",
       "2022-09-05  Integration changes: dynamic SPARQL instead of...  \n",
       "2022-09-07   Added a KBR export of Belgian person authorities  \n",
       "2022-09-08  fetched more KBR ISNIs because of fixed parsin...  "
      ]
     },
     "execution_count": 5,
     "metadata": {},
     "output_type": "execute_result"
    }
   ],
   "source": [
    "statsFRNL[['numberTranslations', 'comment']].sort_index()"
   ]
  },
  {
   "cell_type": "code",
   "execution_count": 6,
   "id": "1e1802e2",
   "metadata": {
    "scrolled": true
   },
   "outputs": [
    {
     "data": {
      "image/png": "[encoded data removed]",
      "text/plain": [
       "<Figure size 432x288 with 1 Axes>"
      ]
     },
     "metadata": {
      "needs_background": "light"
     },
     "output_type": "display_data"
    }
   ],
   "source": [
    "utils_plot.plotNumberTimeline(statsNLFR,\n",
    "                                  ['numberTranslations'],\n",
    "                                  'Translations NL-FR - total')"
   ]
  },
  {
   "cell_type": "code",
   "execution_count": 7,
   "id": "ea252a72",
   "metadata": {},
   "outputs": [
    {
     "data": {
      "text/html": [
       "<div>\n",
       "<style scoped>\n",
       "    .dataframe tbody tr th:only-of-type {\n",
       "        vertical-align: middle;\n",
       "    }\n",
       "\n",
       "    .dataframe tbody tr th {\n",
       "        vertical-align: top;\n",
       "    }\n",
       "\n",
       "    .dataframe thead th {\n",
       "        text-align: right;\n",
       "    }\n",
       "</style>\n",
       "<table border=\"1\" class=\"dataframe\">\n",
       "  <thead>\n",
       "    <tr style=\"text-align: right;\">\n",
       "      <th></th>\n",
       "      <th>numberTranslations</th>\n",
       "    </tr>\n",
       "    <tr>\n",
       "      <th>date</th>\n",
       "      <th></th>\n",
       "    </tr>\n",
       "  </thead>\n",
       "  <tbody>\n",
       "    <tr>\n",
       "      <th>2022-05-03</th>\n",
       "      <td>3731</td>\n",
       "    </tr>\n",
       "    <tr>\n",
       "      <th>2022-05-09</th>\n",
       "      <td>3731</td>\n",
       "    </tr>\n",
       "    <tr>\n",
       "      <th>2022-05-23</th>\n",
       "      <td>3731</td>\n",
       "    </tr>\n",
       "    <tr>\n",
       "      <th>2022-06-07</th>\n",
       "      <td>3772</td>\n",
       "    </tr>\n",
       "    <tr>\n",
       "      <th>2022-06-16</th>\n",
       "      <td>3597</td>\n",
       "    </tr>\n",
       "    <tr>\n",
       "      <th>2022-06-20</th>\n",
       "      <td>3724</td>\n",
       "    </tr>\n",
       "    <tr>\n",
       "      <th>2022-06-23</th>\n",
       "      <td>3897</td>\n",
       "    </tr>\n",
       "    <tr>\n",
       "      <th>2022-06-24</th>\n",
       "      <td>3997</td>\n",
       "    </tr>\n",
       "    <tr>\n",
       "      <th>2022-07-18</th>\n",
       "      <td>4009</td>\n",
       "    </tr>\n",
       "    <tr>\n",
       "      <th>2022-07-20</th>\n",
       "      <td>4009</td>\n",
       "    </tr>\n",
       "    <tr>\n",
       "      <th>2022-07-21</th>\n",
       "      <td>4019</td>\n",
       "    </tr>\n",
       "    <tr>\n",
       "      <th>2022-07-25</th>\n",
       "      <td>4019</td>\n",
       "    </tr>\n",
       "    <tr>\n",
       "      <th>2022-07-26</th>\n",
       "      <td>4019</td>\n",
       "    </tr>\n",
       "    <tr>\n",
       "      <th>2022-07-27</th>\n",
       "      <td>4019</td>\n",
       "    </tr>\n",
       "    <tr>\n",
       "      <th>2022-08-08</th>\n",
       "      <td>4019</td>\n",
       "    </tr>\n",
       "    <tr>\n",
       "      <th>2022-08-11</th>\n",
       "      <td>4031</td>\n",
       "    </tr>\n",
       "    <tr>\n",
       "      <th>2022-08-18</th>\n",
       "      <td>4030</td>\n",
       "    </tr>\n",
       "    <tr>\n",
       "      <th>2022-09-05</th>\n",
       "      <td>4030</td>\n",
       "    </tr>\n",
       "    <tr>\n",
       "      <th>2022-09-07</th>\n",
       "      <td>4065</td>\n",
       "    </tr>\n",
       "    <tr>\n",
       "      <th>2022-09-08</th>\n",
       "      <td>4067</td>\n",
       "    </tr>\n",
       "  </tbody>\n",
       "</table>\n",
       "</div>"
      ],
      "text/plain": [
       "            numberTranslations\n",
       "date                          \n",
       "2022-05-03                3731\n",
       "2022-05-09                3731\n",
       "2022-05-23                3731\n",
       "2022-06-07                3772\n",
       "2022-06-16                3597\n",
       "2022-06-20                3724\n",
       "2022-06-23                3897\n",
       "2022-06-24                3997\n",
       "2022-07-18                4009\n",
       "2022-07-20                4009\n",
       "2022-07-21                4019\n",
       "2022-07-25                4019\n",
       "2022-07-26                4019\n",
       "2022-07-27                4019\n",
       "2022-08-08                4019\n",
       "2022-08-11                4031\n",
       "2022-08-18                4030\n",
       "2022-09-05                4030\n",
       "2022-09-07                4065\n",
       "2022-09-08                4067"
      ]
     },
     "execution_count": 7,
     "metadata": {},
     "output_type": "execute_result"
    }
   ],
   "source": [
    "statsNLFR[['numberTranslations']].sort_index()"
   ]
  },
  {
   "cell_type": "markdown",
   "id": "8521395e",
   "metadata": {},
   "source": [
    "## Identifiers\n",
    "The total number of translations and how much have which third party identifier."
   ]
  },
  {
   "cell_type": "code",
   "execution_count": 8,
   "id": "e597fb69",
   "metadata": {
    "scrolled": false
   },
   "outputs": [
    {
     "data": {
      "image/png": "[encoded data removed]",
      "text/plain": [
       "<Figure size 432x288 with 1 Axes>"
      ]
     },
     "metadata": {
      "needs_background": "light"
     },
     "output_type": "display_data"
    }
   ],
   "source": [
    "utils_plot.plotPercentageTimeline(statsFRNL,\n",
    "                                  ['withKBRIdentifier', 'withBnFIdentifier', 'withKBIdentifier'],\n",
    "                                  'Translations FR-NL - identifiers',\n",
    "                                 'numberTranslations')"
   ]
  },
  {
   "cell_type": "code",
   "execution_count": 9,
   "id": "62bec882",
   "metadata": {},
   "outputs": [
    {
     "data": {
      "text/html": [
       "<div>\n",
       "<style scoped>\n",
       "    .dataframe tbody tr th:only-of-type {\n",
       "        vertical-align: middle;\n",
       "    }\n",
       "\n",
       "    .dataframe tbody tr th {\n",
       "        vertical-align: top;\n",
       "    }\n",
       "\n",
       "    .dataframe thead th {\n",
       "        text-align: right;\n",
       "    }\n",
       "</style>\n",
       "<table border=\"1\" class=\"dataframe\">\n",
       "  <thead>\n",
       "    <tr style=\"text-align: right;\">\n",
       "      <th></th>\n",
       "      <th>numberTranslations</th>\n",
       "      <th>withKBRIdentifier</th>\n",
       "      <th>withBnFIdentifier</th>\n",
       "      <th>withKBIdentifier</th>\n",
       "    </tr>\n",
       "    <tr>\n",
       "      <th>date</th>\n",
       "      <th></th>\n",
       "      <th></th>\n",
       "      <th></th>\n",
       "      <th></th>\n",
       "    </tr>\n",
       "  </thead>\n",
       "  <tbody>\n",
       "    <tr>\n",
       "      <th>2022-05-03</th>\n",
       "      <td>6891</td>\n",
       "      <td>6125</td>\n",
       "      <td>58</td>\n",
       "      <td>1817</td>\n",
       "    </tr>\n",
       "    <tr>\n",
       "      <th>2022-05-09</th>\n",
       "      <td>6891</td>\n",
       "      <td>6125</td>\n",
       "      <td>58</td>\n",
       "      <td>1817</td>\n",
       "    </tr>\n",
       "    <tr>\n",
       "      <th>2022-05-23</th>\n",
       "      <td>6891</td>\n",
       "      <td>6125</td>\n",
       "      <td>58</td>\n",
       "      <td>1817</td>\n",
       "    </tr>\n",
       "    <tr>\n",
       "      <th>2022-06-07</th>\n",
       "      <td>7091</td>\n",
       "      <td>6325</td>\n",
       "      <td>58</td>\n",
       "      <td>1961</td>\n",
       "    </tr>\n",
       "    <tr>\n",
       "      <th>2022-06-16</th>\n",
       "      <td>6715</td>\n",
       "      <td>5980</td>\n",
       "      <td>57</td>\n",
       "      <td>1873</td>\n",
       "    </tr>\n",
       "    <tr>\n",
       "      <th>2022-06-20</th>\n",
       "      <td>7350</td>\n",
       "      <td>6669</td>\n",
       "      <td>51</td>\n",
       "      <td>1890</td>\n",
       "    </tr>\n",
       "    <tr>\n",
       "      <th>2022-06-23</th>\n",
       "      <td>7752</td>\n",
       "      <td>7040</td>\n",
       "      <td>52</td>\n",
       "      <td>1983</td>\n",
       "    </tr>\n",
       "    <tr>\n",
       "      <th>2022-06-24</th>\n",
       "      <td>8149</td>\n",
       "      <td>7439</td>\n",
       "      <td>51</td>\n",
       "      <td>1990</td>\n",
       "    </tr>\n",
       "    <tr>\n",
       "      <th>2022-07-18</th>\n",
       "      <td>8254</td>\n",
       "      <td>7524</td>\n",
       "      <td>51</td>\n",
       "      <td>2082</td>\n",
       "    </tr>\n",
       "    <tr>\n",
       "      <th>2022-07-20</th>\n",
       "      <td>8254</td>\n",
       "      <td>7524</td>\n",
       "      <td>51</td>\n",
       "      <td>2082</td>\n",
       "    </tr>\n",
       "    <tr>\n",
       "      <th>2022-07-21</th>\n",
       "      <td>8436</td>\n",
       "      <td>7539</td>\n",
       "      <td>51</td>\n",
       "      <td>2256</td>\n",
       "    </tr>\n",
       "    <tr>\n",
       "      <th>2022-07-25</th>\n",
       "      <td>8436</td>\n",
       "      <td>7539</td>\n",
       "      <td>51</td>\n",
       "      <td>2256</td>\n",
       "    </tr>\n",
       "    <tr>\n",
       "      <th>2022-07-26</th>\n",
       "      <td>8437</td>\n",
       "      <td>7540</td>\n",
       "      <td>51</td>\n",
       "      <td>2257</td>\n",
       "    </tr>\n",
       "    <tr>\n",
       "      <th>2022-07-27</th>\n",
       "      <td>8457</td>\n",
       "      <td>7553</td>\n",
       "      <td>51</td>\n",
       "      <td>2277</td>\n",
       "    </tr>\n",
       "    <tr>\n",
       "      <th>2022-08-08</th>\n",
       "      <td>8458</td>\n",
       "      <td>7553</td>\n",
       "      <td>51</td>\n",
       "      <td>2278</td>\n",
       "    </tr>\n",
       "    <tr>\n",
       "      <th>2022-08-11</th>\n",
       "      <td>8502</td>\n",
       "      <td>7594</td>\n",
       "      <td>51</td>\n",
       "      <td>2281</td>\n",
       "    </tr>\n",
       "    <tr>\n",
       "      <th>2022-08-18</th>\n",
       "      <td>8501</td>\n",
       "      <td>7593</td>\n",
       "      <td>51</td>\n",
       "      <td>2281</td>\n",
       "    </tr>\n",
       "    <tr>\n",
       "      <th>2022-09-05</th>\n",
       "      <td>8501</td>\n",
       "      <td>7593</td>\n",
       "      <td>51</td>\n",
       "      <td>2281</td>\n",
       "    </tr>\n",
       "    <tr>\n",
       "      <th>2022-09-07</th>\n",
       "      <td>8553</td>\n",
       "      <td>7597</td>\n",
       "      <td>51</td>\n",
       "      <td>2330</td>\n",
       "    </tr>\n",
       "    <tr>\n",
       "      <th>2022-09-08</th>\n",
       "      <td>8565</td>\n",
       "      <td>7600</td>\n",
       "      <td>51</td>\n",
       "      <td>2339</td>\n",
       "    </tr>\n",
       "  </tbody>\n",
       "</table>\n",
       "</div>"
      ],
      "text/plain": [
       "            numberTranslations  withKBRIdentifier  withBnFIdentifier  \\\n",
       "date                                                                   \n",
       "2022-05-03                6891               6125                 58   \n",
       "2022-05-09                6891               6125                 58   \n",
       "2022-05-23                6891               6125                 58   \n",
       "2022-06-07                7091               6325                 58   \n",
       "2022-06-16                6715               5980                 57   \n",
       "2022-06-20                7350               6669                 51   \n",
       "2022-06-23                7752               7040                 52   \n",
       "2022-06-24                8149               7439                 51   \n",
       "2022-07-18                8254               7524                 51   \n",
       "2022-07-20                8254               7524                 51   \n",
       "2022-07-21                8436               7539                 51   \n",
       "2022-07-25                8436               7539                 51   \n",
       "2022-07-26                8437               7540                 51   \n",
       "2022-07-27                8457               7553                 51   \n",
       "2022-08-08                8458               7553                 51   \n",
       "2022-08-11                8502               7594                 51   \n",
       "2022-08-18                8501               7593                 51   \n",
       "2022-09-05                8501               7593                 51   \n",
       "2022-09-07                8553               7597                 51   \n",
       "2022-09-08                8565               7600                 51   \n",
       "\n",
       "            withKBIdentifier  \n",
       "date                          \n",
       "2022-05-03              1817  \n",
       "2022-05-09              1817  \n",
       "2022-05-23              1817  \n",
       "2022-06-07              1961  \n",
       "2022-06-16              1873  \n",
       "2022-06-20              1890  \n",
       "2022-06-23              1983  \n",
       "2022-06-24              1990  \n",
       "2022-07-18              2082  \n",
       "2022-07-20              2082  \n",
       "2022-07-21              2256  \n",
       "2022-07-25              2256  \n",
       "2022-07-26              2257  \n",
       "2022-07-27              2277  \n",
       "2022-08-08              2278  \n",
       "2022-08-11              2281  \n",
       "2022-08-18              2281  \n",
       "2022-09-05              2281  \n",
       "2022-09-07              2330  \n",
       "2022-09-08              2339  "
      ]
     },
     "execution_count": 9,
     "metadata": {},
     "output_type": "execute_result"
    }
   ],
   "source": [
    "statsFRNL[['numberTranslations', 'withKBRIdentifier', 'withBnFIdentifier', 'withKBIdentifier']]"
   ]
  },
  {
   "cell_type": "code",
   "execution_count": 10,
   "id": "b12234b0",
   "metadata": {
    "scrolled": true
   },
   "outputs": [
    {
     "data": {
      "image/png": "[encoded data removed]",
      "text/plain": [
       "<Figure size 432x288 with 1 Axes>"
      ]
     },
     "metadata": {
      "needs_background": "light"
     },
     "output_type": "display_data"
    }
   ],
   "source": [
    "utils_plot.plotPercentageTimeline(statsNLFR,\n",
    "                                  ['withKBRIdentifier', 'withBnFIdentifier', 'withKBIdentifier'],\n",
    "                                  'Translations NL-FR - identifiers',\n",
    "                                 'numberTranslations')"
   ]
  },
  {
   "cell_type": "code",
   "execution_count": 11,
   "id": "91ce5697",
   "metadata": {},
   "outputs": [
    {
     "data": {
      "text/html": [
       "<div>\n",
       "<style scoped>\n",
       "    .dataframe tbody tr th:only-of-type {\n",
       "        vertical-align: middle;\n",
       "    }\n",
       "\n",
       "    .dataframe tbody tr th {\n",
       "        vertical-align: top;\n",
       "    }\n",
       "\n",
       "    .dataframe thead th {\n",
       "        text-align: right;\n",
       "    }\n",
       "</style>\n",
       "<table border=\"1\" class=\"dataframe\">\n",
       "  <thead>\n",
       "    <tr style=\"text-align: right;\">\n",
       "      <th></th>\n",
       "      <th>numberTranslations</th>\n",
       "      <th>withKBRIdentifier</th>\n",
       "      <th>withBnFIdentifier</th>\n",
       "      <th>withKBIdentifier</th>\n",
       "    </tr>\n",
       "    <tr>\n",
       "      <th>date</th>\n",
       "      <th></th>\n",
       "      <th></th>\n",
       "      <th></th>\n",
       "      <th></th>\n",
       "    </tr>\n",
       "  </thead>\n",
       "  <tbody>\n",
       "    <tr>\n",
       "      <th>2022-05-03</th>\n",
       "      <td>3731</td>\n",
       "      <td>3249</td>\n",
       "      <td>1211</td>\n",
       "      <td>724</td>\n",
       "    </tr>\n",
       "    <tr>\n",
       "      <th>2022-05-09</th>\n",
       "      <td>3731</td>\n",
       "      <td>3249</td>\n",
       "      <td>1211</td>\n",
       "      <td>724</td>\n",
       "    </tr>\n",
       "    <tr>\n",
       "      <th>2022-05-23</th>\n",
       "      <td>3731</td>\n",
       "      <td>3249</td>\n",
       "      <td>1211</td>\n",
       "      <td>724</td>\n",
       "    </tr>\n",
       "    <tr>\n",
       "      <th>2022-06-07</th>\n",
       "      <td>3772</td>\n",
       "      <td>3290</td>\n",
       "      <td>1211</td>\n",
       "      <td>725</td>\n",
       "    </tr>\n",
       "    <tr>\n",
       "      <th>2022-06-16</th>\n",
       "      <td>3597</td>\n",
       "      <td>3115</td>\n",
       "      <td>1141</td>\n",
       "      <td>631</td>\n",
       "    </tr>\n",
       "    <tr>\n",
       "      <th>2022-06-20</th>\n",
       "      <td>3724</td>\n",
       "      <td>3247</td>\n",
       "      <td>1136</td>\n",
       "      <td>632</td>\n",
       "    </tr>\n",
       "    <tr>\n",
       "      <th>2022-06-23</th>\n",
       "      <td>3897</td>\n",
       "      <td>3420</td>\n",
       "      <td>1207</td>\n",
       "      <td>728</td>\n",
       "    </tr>\n",
       "    <tr>\n",
       "      <th>2022-06-24</th>\n",
       "      <td>3997</td>\n",
       "      <td>3525</td>\n",
       "      <td>1209</td>\n",
       "      <td>727</td>\n",
       "    </tr>\n",
       "    <tr>\n",
       "      <th>2022-07-18</th>\n",
       "      <td>4009</td>\n",
       "      <td>3532</td>\n",
       "      <td>1209</td>\n",
       "      <td>735</td>\n",
       "    </tr>\n",
       "    <tr>\n",
       "      <th>2022-07-20</th>\n",
       "      <td>4009</td>\n",
       "      <td>3532</td>\n",
       "      <td>1209</td>\n",
       "      <td>735</td>\n",
       "    </tr>\n",
       "    <tr>\n",
       "      <th>2022-07-21</th>\n",
       "      <td>4019</td>\n",
       "      <td>3535</td>\n",
       "      <td>1209</td>\n",
       "      <td>742</td>\n",
       "    </tr>\n",
       "    <tr>\n",
       "      <th>2022-07-25</th>\n",
       "      <td>4019</td>\n",
       "      <td>3535</td>\n",
       "      <td>1209</td>\n",
       "      <td>742</td>\n",
       "    </tr>\n",
       "    <tr>\n",
       "      <th>2022-07-26</th>\n",
       "      <td>4019</td>\n",
       "      <td>3535</td>\n",
       "      <td>1209</td>\n",
       "      <td>742</td>\n",
       "    </tr>\n",
       "    <tr>\n",
       "      <th>2022-07-27</th>\n",
       "      <td>4019</td>\n",
       "      <td>3535</td>\n",
       "      <td>1209</td>\n",
       "      <td>742</td>\n",
       "    </tr>\n",
       "    <tr>\n",
       "      <th>2022-08-08</th>\n",
       "      <td>4019</td>\n",
       "      <td>3535</td>\n",
       "      <td>1209</td>\n",
       "      <td>742</td>\n",
       "    </tr>\n",
       "    <tr>\n",
       "      <th>2022-08-11</th>\n",
       "      <td>4031</td>\n",
       "      <td>3547</td>\n",
       "      <td>1209</td>\n",
       "      <td>742</td>\n",
       "    </tr>\n",
       "    <tr>\n",
       "      <th>2022-08-18</th>\n",
       "      <td>4030</td>\n",
       "      <td>3546</td>\n",
       "      <td>1209</td>\n",
       "      <td>742</td>\n",
       "    </tr>\n",
       "    <tr>\n",
       "      <th>2022-09-05</th>\n",
       "      <td>4030</td>\n",
       "      <td>3546</td>\n",
       "      <td>1209</td>\n",
       "      <td>742</td>\n",
       "    </tr>\n",
       "    <tr>\n",
       "      <th>2022-09-07</th>\n",
       "      <td>4065</td>\n",
       "      <td>3554</td>\n",
       "      <td>1209</td>\n",
       "      <td>775</td>\n",
       "    </tr>\n",
       "    <tr>\n",
       "      <th>2022-09-08</th>\n",
       "      <td>4067</td>\n",
       "      <td>3556</td>\n",
       "      <td>1209</td>\n",
       "      <td>777</td>\n",
       "    </tr>\n",
       "  </tbody>\n",
       "</table>\n",
       "</div>"
      ],
      "text/plain": [
       "            numberTranslations  withKBRIdentifier  withBnFIdentifier  \\\n",
       "date                                                                   \n",
       "2022-05-03                3731               3249               1211   \n",
       "2022-05-09                3731               3249               1211   \n",
       "2022-05-23                3731               3249               1211   \n",
       "2022-06-07                3772               3290               1211   \n",
       "2022-06-16                3597               3115               1141   \n",
       "2022-06-20                3724               3247               1136   \n",
       "2022-06-23                3897               3420               1207   \n",
       "2022-06-24                3997               3525               1209   \n",
       "2022-07-18                4009               3532               1209   \n",
       "2022-07-20                4009               3532               1209   \n",
       "2022-07-21                4019               3535               1209   \n",
       "2022-07-25                4019               3535               1209   \n",
       "2022-07-26                4019               3535               1209   \n",
       "2022-07-27                4019               3535               1209   \n",
       "2022-08-08                4019               3535               1209   \n",
       "2022-08-11                4031               3547               1209   \n",
       "2022-08-18                4030               3546               1209   \n",
       "2022-09-05                4030               3546               1209   \n",
       "2022-09-07                4065               3554               1209   \n",
       "2022-09-08                4067               3556               1209   \n",
       "\n",
       "            withKBIdentifier  \n",
       "date                          \n",
       "2022-05-03               724  \n",
       "2022-05-09               724  \n",
       "2022-05-23               724  \n",
       "2022-06-07               725  \n",
       "2022-06-16               631  \n",
       "2022-06-20               632  \n",
       "2022-06-23               728  \n",
       "2022-06-24               727  \n",
       "2022-07-18               735  \n",
       "2022-07-20               735  \n",
       "2022-07-21               742  \n",
       "2022-07-25               742  \n",
       "2022-07-26               742  \n",
       "2022-07-27               742  \n",
       "2022-08-08               742  \n",
       "2022-08-11               742  \n",
       "2022-08-18               742  \n",
       "2022-09-05               742  \n",
       "2022-09-07               775  \n",
       "2022-09-08               777  "
      ]
     },
     "execution_count": 11,
     "metadata": {},
     "output_type": "execute_result"
    }
   ],
   "source": [
    "statsNLFR[['numberTranslations', 'withKBRIdentifier', 'withBnFIdentifier', 'withKBIdentifier']]"
   ]
  },
  {
   "cell_type": "code",
   "execution_count": null,
   "id": "c6c005fa",
   "metadata": {
    "scrolled": false
   },
   "outputs": [],
   "source": [
    "utils_plot.plotPercentageTimeline(statsFRNL,\n",
    "                                  ['withKBRBnFAndKBIdentifier', 'withKBRAndBnFIdentifier',\n",
    "                                  'withKBRAndKBIdentifier', 'withBnFAndKBIdentifier'],\n",
    "                                  'Translations FR-NL - identifier overlap',\n",
    "                                 'numberTranslations')"
   ]
  },
  {
   "cell_type": "code",
   "execution_count": null,
   "id": "bf390cd9",
   "metadata": {},
   "outputs": [],
   "source": [
    "statsFRNL[['numberTranslations', 'withKBRBnFAndKBIdentifier', 'withKBRAndBnFIdentifier', 'withKBRAndKBIdentifier', 'withBnFAndKBIdentifier']]"
   ]
  },
  {
   "cell_type": "markdown",
   "id": "c52336da",
   "metadata": {},
   "source": [
    "Because of the outlier KBR&KB below a graph without that line"
   ]
  },
  {
   "cell_type": "code",
   "execution_count": null,
   "id": "138e3b88",
   "metadata": {},
   "outputs": [],
   "source": [
    "utils_plot.plotPercentageTimeline(statsFRNL,\n",
    "                                  ['withKBRBnFAndKBIdentifier', 'withKBRAndBnFIdentifier', 'withBnFAndKBIdentifier'],\n",
    "                                  'Translations FR-NL - identifier overlap (without KBR&KB)',\n",
    "                                 'numberTranslations')"
   ]
  },
  {
   "cell_type": "code",
   "execution_count": null,
   "id": "24723c43",
   "metadata": {},
   "outputs": [],
   "source": []
  },
  {
   "cell_type": "code",
   "execution_count": null,
   "id": "bc905249",
   "metadata": {},
   "outputs": [],
   "source": [
    "from IPython.display import display, Markdown\n",
    "display(Markdown(statsFRNL['comment'].to_markdown()))"
   ]
  },
  {
   "cell_type": "code",
   "execution_count": null,
   "id": "0703e5b4",
   "metadata": {
    "scrolled": false
   },
   "outputs": [],
   "source": []
  },
  {
   "cell_type": "code",
   "execution_count": null,
   "id": "8516becf",
   "metadata": {
    "scrolled": false
   },
   "outputs": [],
   "source": [
    "utils_plot.plotPercentageTimeline(statsNLFR,\n",
    "                                  ['withKBRBnFAndKBIdentifier', 'withKBRAndBnFIdentifier',\n",
    "                                  'withKBRAndKBIdentifier', 'withBnFAndKBIdentifier'],\n",
    "                                  'Translations NL-FR - identifier overlap',\n",
    "                                 'numberTranslations')"
   ]
  },
  {
   "cell_type": "code",
   "execution_count": null,
   "id": "cb7e8d65",
   "metadata": {},
   "outputs": [],
   "source": [
    "statsNLFR[['numberTranslations', 'withKBRBnFAndKBIdentifier', 'withKBRAndBnFIdentifier', 'withKBRAndKBIdentifier', 'withBnFAndKBIdentifier']]"
   ]
  },
  {
   "cell_type": "markdown",
   "id": "032c498d",
   "metadata": {},
   "source": [
    "## ISBN identifiers\n",
    "The total number of translations and how many have ISBN10/ISBN13."
   ]
  },
  {
   "cell_type": "code",
   "execution_count": null,
   "id": "eb9660dd",
   "metadata": {
    "scrolled": true
   },
   "outputs": [],
   "source": [
    "utils_plot.plotPercentageTimeline(statsFRNL,\n",
    "                                  ['withTargetISBN10', 'withTargetISBN13'],\n",
    "                                  'Translations FR-NL - ISBN',\n",
    "                                 'numberTranslations')"
   ]
  },
  {
   "cell_type": "code",
   "execution_count": null,
   "id": "25659470",
   "metadata": {},
   "outputs": [],
   "source": [
    "statsFRNL[['numberTranslations', 'withTargetISBN10', 'withTargetISBN13']]"
   ]
  },
  {
   "cell_type": "code",
   "execution_count": null,
   "id": "7fef9f4c",
   "metadata": {
    "scrolled": false
   },
   "outputs": [],
   "source": [
    "utils_plot.plotPercentageTimeline(statsNLFR,\n",
    "                                  ['withTargetISBN10', 'withTargetISBN13'],\n",
    "                                  'Translations NL-FR - ISBN',\n",
    "                                 'numberTranslations')"
   ]
  },
  {
   "cell_type": "code",
   "execution_count": null,
   "id": "78733d35",
   "metadata": {},
   "outputs": [],
   "source": [
    "statsNLFR[['numberTranslations', 'withTargetISBN10', 'withTargetISBN13']]"
   ]
  },
  {
   "cell_type": "markdown",
   "id": "3afa2879",
   "metadata": {},
   "source": [
    "## Information about original of translation (source)\n",
    "The total number of translation and for how many we have which kind of information for the original."
   ]
  },
  {
   "cell_type": "code",
   "execution_count": null,
   "id": "c4dfb450",
   "metadata": {
    "scrolled": false
   },
   "outputs": [],
   "source": [
    "utils_plot.plotPercentageTimeline(statsFRNL,\n",
    "                                  ['withKBRSourceTitle', 'withKBSourceTitle', 'withSourceKBRIdentifier', 'withSourceISBN10', 'withSourceISBN13'],\n",
    "                                  'Translations FR-NL - source info',\n",
    "                                 'numberTranslations')"
   ]
  },
  {
   "cell_type": "code",
   "execution_count": null,
   "id": "f5bafbd2",
   "metadata": {},
   "outputs": [],
   "source": [
    "statsFRNL[['numberTranslations', 'withKBRIdentifier', 'withKBRSourceTitle', 'withKBSourceTitle', 'withSourceKBRIdentifier', 'withSourceISBN10', 'withSourceISBN13']]"
   ]
  },
  {
   "cell_type": "code",
   "execution_count": null,
   "id": "13bd1b56",
   "metadata": {},
   "outputs": [],
   "source": [
    "from IPython.display import display, Markdown\n",
    "display(Markdown(statsFRNL['comment'].to_markdown()))"
   ]
  },
  {
   "cell_type": "code",
   "execution_count": null,
   "id": "e9a021cd",
   "metadata": {
    "scrolled": true
   },
   "outputs": [],
   "source": [
    "utils_plot.plotPercentageTimeline(statsNLFR,\n",
    "                                  ['withKBRSourceTitle', 'withKBSourceTitle', 'withSourceKBRIdentifier', 'withSourceISBN10', 'withSourceISBN13'],\n",
    "                                  'Translations NL-FR - source info',\n",
    "                                 'numberTranslations')"
   ]
  },
  {
   "cell_type": "code",
   "execution_count": null,
   "id": "a86f7bb0",
   "metadata": {},
   "outputs": [],
   "source": [
    "statsNLFR[['numberTranslations', 'withKBRIdentifier', 'withKBRSourceTitle', 'withKBSourceTitle', 'withSourceKBRIdentifier', 'withSourceISBN10', 'withSourceISBN13']]"
   ]
  },
  {
   "cell_type": "code",
   "execution_count": null,
   "id": "84514551",
   "metadata": {},
   "outputs": [],
   "source": [
    "statsNLFR"
   ]
  },
  {
   "cell_type": "code",
   "execution_count": null,
   "id": "24dc235d",
   "metadata": {
    "scrolled": true
   },
   "outputs": [],
   "source": [
    "statsFRNL"
   ]
  },
  {
   "cell_type": "markdown",
   "id": "a4779a25",
   "metadata": {},
   "source": [
    "## All statistics for the 'other' corpus\n",
    "Compared to above things are only in one graph"
   ]
  },
  {
   "cell_type": "code",
   "execution_count": null,
   "id": "65ef9313",
   "metadata": {
    "scrolled": true
   },
   "outputs": [],
   "source": [
    "utils_plot.plotTranslationStats(statsOther, 'Translations Other')"
   ]
  },
  {
   "cell_type": "code",
   "execution_count": null,
   "id": "4d702c09",
   "metadata": {
    "scrolled": true
   },
   "outputs": [],
   "source": [
    "statsOther"
   ]
  }
 ],
 "metadata": {
  "kernelspec": {
   "display_name": "py-integration-env",
   "language": "python",
   "name": "py-integration-env"
  },
  "language_info": {
   "codemirror_mode": {
    "name": "ipython",
    "version": 3
   },
   "file_extension": ".py",
   "mimetype": "text/x-python",
   "name": "python",
   "nbconvert_exporter": "python",
   "pygments_lexer": "ipython3",
   "version": "3.8.10"
  },
  "toc": {
   "base_numbering": 1,
   "nav_menu": {},
   "number_sections": true,
   "sideBar": true,
   "skip_h1_title": false,
   "title_cell": "Table of Contents",
   "title_sidebar": "Contents",
   "toc_cell": false,
   "toc_position": {},
   "toc_section_display": true,
   "toc_window_display": false
  }
 },
 "nbformat": 4,
 "nbformat_minor": 5
}
