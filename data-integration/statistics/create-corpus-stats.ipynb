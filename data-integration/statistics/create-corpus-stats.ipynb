{
 "cells": [
  {
   "cell_type": "markdown",
   "id": "3db81d56",
   "metadata": {},
   "source": [
    "## Create new manifestation measurements\n",
    "\n",
    "The following code is used to create new statistics. They can be saved to a CSV file and be taken into account in the section above about existing measurements."
   ]
  },
  {
   "cell_type": "code",
   "execution_count": 1,
   "id": "31c4c402",
   "metadata": {},
   "outputs": [],
   "source": [
    "import pandas as pd\n",
    "import sys, os\n",
    "\n",
    "sys.path.insert(1, os.pardir)\n",
    "import utils\n",
    "import utils_stats"
   ]
  },
  {
   "cell_type": "markdown",
   "id": "b311ce00",
   "metadata": {},
   "source": [
    "## Redo manifestation measurements"
   ]
  },
  {
   "cell_type": "code",
   "execution_count": 2,
   "id": "58f567b8",
   "metadata": {},
   "outputs": [],
   "source": [
    "manifestationFilesConfig = {\n",
    "    '2022-05-03': ['2022-05-03', 'Data integrated from KBR, BnF and KB based on ISBN10 and ISBN13 identifiers.'],\n",
    "    '2022-05-09': ['2022-05-09', 'Data integrated from KBR, BnF and KB based on ISBN10 and ISBN13 identifiers. Additionally KBR original title from field 246.'],\n",
    "    '2022-05-23': ['2022-05-23', 'No changes to previous version.'],\n",
    "    '2022-06-07': ['2022-06-07', 'Added publishing directors and included a collumn for source titles from KB'],\n",
    "    '2022-06-16': ['2022-06-16', 'Removed duplicate manifestations with the same ISBN10/ISBN13'],\n",
    "    '2022-06-20': ['2022-06-20', 'New KBR data dump with plenty of additions and refinements and ISBN fix for FR-NL'],\n",
    "    '2022-06-23': ['2022-06-23', 'No ISBN duplicate removal anymore to prevent data loss'],\n",
    "    '2022-06-24': ['2022-06-24', 'New KBR dump with old Dutch, old French and middle French as well as new data in general'],\n",
    "    '2022-07-18': ['2022-07-18', 'Dataprofile query filtering also for Belgian organizations, not just Belgian persons (KB data was also updated from SPARQL endpoint, but did not cause more translations)'],\n",
    "    '2022-07-20': ['2022-07-20', 'Fixed error in ISNI-SRU integration SPARQL query.'],\n",
    "    '2022-07-21': ['2022-07-21', 'Manually curated Wikidata overlap used as bridge identifeir with adapted integration SPARQL queries.'],\n",
    "    '2022-07-25': ['2022-07-25', 'Contributors integrated using also ISNI identifiers retrieved from Wikidata via QID'],\n",
    "    '2022-07-26': ['2022-07-26', 'Added roughly 5,000 more contributors from BnF, providing additional nationality information'],\n",
    "    '2022-07-27': ['2022-07-27', 'Added missing nationalities from Wikidata'],\n",
    "    '2022-08-08': ['2022-08-08', \"Added source links KBR identified via exact title match or 0.9 similarity\"],\n",
    "    '2022-08-11': ['2022-08-11', \"New export from the KBR catalogue\"],\n",
    "    '2022-08-18': ['2022-08-18', \"Strictly split translations and originals into different named graphs\"],\n",
    "    '2022-09-05': ['2022-09-05', \"Integration changes: dynamic SPARQL instead of files\"],\n",
    "    '2022-09-07': ['2022-09-07', \"Added a KBR export of Belgian person authorities\"],\n",
    "    '2022-09-08': ['2022-09-08', \"fetched more KBR ISNIs because of fixed parsing and fixed Wikidata contributor update via ISNI\"],\n",
    "    '2022-09-12': ['2022-09-12', \"New export from KBR\"],\n",
    "    '2022-09-27': ['2022-09-27', \"Fixed contributor overlapping to reduce duplicates\"],\n",
    "    '2022-11-30': ['2022-11-30', \"New export from KBR and removed Wikidata correlation list as source\"],\n",
    "    '2022-12-09': ['2022-12-09', \"display integrted publisher information\"],\n",
    "    '2022-12-15': ['2022-12-15', \"added available BnF source titles\"]\n",
    "}"
   ]
  },
  {
   "cell_type": "code",
   "execution_count": 3,
   "id": "0f3f7b59",
   "metadata": {},
   "outputs": [],
   "source": [
    "utils_stats.redoManifestationsCorpusMeasurements(manifestationFilesConfig, '../corpus-versions', 'integrated-data-enriched.csv', 'translation-stats') "
   ]
  },
  {
   "cell_type": "markdown",
   "id": "63aa646a",
   "metadata": {},
   "source": [
    "## Redo contributor measurements"
   ]
  },
  {
   "cell_type": "code",
   "execution_count": 4,
   "id": "41976787",
   "metadata": {},
   "outputs": [],
   "source": [
    "contributorFilesConfig = {\n",
    "    '2022-05-03': ['2022-05-03', 'Contributors integrated from ISNI SRU dump, KBR, BnF and NTA based on ISNI, VIAF and Wikidata identifiers.'],\n",
    "    '2022-05-09': ['2022-05-09', 'Contributors integrated from ISNI SRU dump, KBR, BnF and NTA based on ISNI, VIAF and Wikidata identifiers.'],\n",
    "    '2022-05-23': ['2022-05-23', 'Only count persons who are actually contributing to manifestations of the corpus (author, translator, illustrator, scenarist, publishing director)'],\n",
    "    '2022-06-07': ['2022-06-07', 'Added columns with statistics about how many books a contributor authored, translated etc.'],\n",
    "    '2022-06-16': ['2022-06-16', 'Added columns with statistics about how many books a contributor authored, translated etc.'],\n",
    "    '2022-06-20': ['2022-06-20', 'New KBR data dump with plenty of additions and refinements and ISBN fix for FR-NL.'],\n",
    "    '2022-06-23': ['2022-06-23', 'No ISBN duplicate removal anymore to prevent data loss'],\n",
    "    '2022-06-24': ['2022-06-24', 'New KBR dump with old Dutch, old French and middle French as well as new data in general'],\n",
    "    '2022-07-18': ['2022-07-18', 'Dataprofile query filtering also for Belgian organizations, not just Belgian persons (KB data was also updated from SPARQL endpoint, but did not cause more translations)'],\n",
    "    '2022-07-20': ['2022-07-20', 'Fixed error in ISNI-SRU integration SPARQL query.'],\n",
    "    '2022-07-21': ['2022-07-21', 'Manually curated Wikidata overlap used as bridge identifeir with adapted integration SPARQL queries.'],\n",
    "    '2022-07-25': ['2022-07-25', 'Integrated using also ISNI identifiers retrieved from Wikidata via QID'],\n",
    "    '2022-07-26': ['2022-07-26', 'Added roughly 5,000 more contributors from BnF, providing additional nationality information'],\n",
    "    '2022-07-27': ['2022-07-27', 'Added missing nationalities from Wikidata'],\n",
    "    '2022-08-08': ['2022-08-08', \"Added source links KBR identified via exact title match or 0.9 similarity\"],\n",
    "    '2022-08-11': ['2022-08-11', \"New export from the KBR catalogue\"],\n",
    "    '2022-08-18': ['2022-08-18', \"Strictly split translations and originals into different named graphs\"],\n",
    "    '2022-09-05': ['2022-09-05', \"Integration changes: dynamic SPARQL instead of files\"],\n",
    "    '2022-09-07': ['2022-09-07', \"Added a KBR export of Belgian person authorities\"],\n",
    "    '2022-09-08': ['2022-09-08', \"fetched more KBR ISNIs because of fixed parsing and fixed Wikidata contributor update via ISNI\"],\n",
    "    '2022-09-12': ['2022-09-12', \"New export from KBR\"],\n",
    "    '2022-09-27': ['2022-09-27', \"Fixed contributor overlapping to reduce duplicates\"],\n",
    "    '2022-11-30': ['2022-11-30', \"New export from KBR and removed Wikidata correlation list as source\"],\n",
    "    '2022-12-09': ['2022-12-09', \"display integrted publisher information\"],\n",
    "    '2022-12-15': ['2022-12-15', \"added available BnF source titles\"]\n",
    "}"
   ]
  },
  {
   "cell_type": "code",
   "execution_count": 5,
   "id": "12c461e7",
   "metadata": {},
   "outputs": [],
   "source": [
    "utils_stats.redoContributorCorpusMeasurements(contributorFilesConfig, '../corpus-versions', 'contributors-persons.csv', 'person-contributor-stats') "
   ]
  },
  {
   "cell_type": "code",
   "execution_count": null,
   "id": "2278847d",
   "metadata": {},
   "outputs": [],
   "source": []
  }
 ],
 "metadata": {
  "kernelspec": {
   "display_name": "py-integration-env",
   "language": "python",
   "name": "py-integration-env"
  },
  "language_info": {
   "codemirror_mode": {
    "name": "ipython",
    "version": 3
   },
   "file_extension": ".py",
   "mimetype": "text/x-python",
   "name": "python",
   "nbconvert_exporter": "python",
   "pygments_lexer": "ipython3",
   "version": "3.8.10"
  },
  "toc": {
   "base_numbering": 1,
   "nav_menu": {},
   "number_sections": true,
   "sideBar": true,
   "skip_h1_title": false,
   "title_cell": "Table of Contents",
   "title_sidebar": "Contents",
   "toc_cell": false,
   "toc_position": {},
   "toc_section_display": true,
   "toc_window_display": false
  }
 },
 "nbformat": 4,
 "nbformat_minor": 5
}
