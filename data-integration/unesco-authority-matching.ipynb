{
 "cells": [
  {
   "cell_type": "markdown",
   "id": "649959b2",
   "metadata": {},
   "source": [
    "# Unesco authority matching\n",
    "\n",
    "We have a lot of person authorities from the Unesco Index Translationum dump. By manually refining our person-contributors list we could already link a Unesco authority to KBR: if we sure two authorities are the same, adding the Unesco identifier in the unesco column of the corresponding BELTRANS authority and if necessary remove the line with the authority that only has the Unesco identifier.\n",
    "\n",
    "However as this is a very manual task we are interested in a more automatic approach. Names are not unique thus we cannot simply merge on the name value alone. However, **additionally we can look into related books**. If one or more books of the BELTRANS authority have a similar title to one or more books of a Unesco authority they are probably the same person. In this case we do not have to care much if the books have different publication years, as our main focus is the merging of the authorities. "
   ]
  },
  {
   "cell_type": "code",
   "execution_count": 1,
   "id": "fcdb4227",
   "metadata": {},
   "outputs": [],
   "source": [
    "import sys\n",
    "import os\n",
    "sys.path.insert(1, os.pardir)\n",
    "from tools.sparql import utils_sparql\n",
    "import pandas as pd\n",
    "import matching_utils\n",
    "import json\n",
    "import statistics\n",
    "from dotenv import load_dotenv\n",
    "from lookup import MatchingLookup\n",
    "load_dotenv()\n",
    "endpoint = os.environ.get('ENV_SPARQL_ENDPOINT_INTEGRATION')\n",
    "from tqdm import tqdm\n",
    "\n"
   ]
  },
  {
   "cell_type": "markdown",
   "id": "bb5354c8",
   "metadata": {},
   "source": [
    "The following lists all variables for the computation such as values and input / output files"
   ]
  },
  {
   "cell_type": "code",
   "execution_count": 8,
   "id": "add6dd79",
   "metadata": {},
   "outputs": [],
   "source": [
    "downloadAgain = True\n",
    "\n",
    "# output directory for matching results and stats\n",
    "# commented line is the initial output directory with results of different configurations for comparison (took a while to create)\n",
    "#outputDirectory = 'unesco-matching-scores'\n",
    "outputDirectory = '2023-08-07_matching-scores'\n",
    "if not os.path.exists(outputDirectory):\n",
    "    os.makedirs(outputDirectory) \n",
    "statsFilename = os.path.join(outputDirectory, 'matching-stats.csv')\n",
    "\n",
    "# already cached authority data for matching (will be overwritten when downloadAgain is True)\n",
    "beltransAuthorityDataCSVFile = os.path.join(outputDirectory, 'beltrans-authority-data.csv')\n",
    "unescoAuthorityDataCSVFile = os.path.join(outputDirectory, 'unesco-authority-data.csv')\n",
    "\n",
    "# in case downloadAgain is True, the following query is used to get BELTRANS authority data\n",
    "beltransSPARQLQueryFile = \"sparql-queries/get-contributor-merging-info-without-unesco.sparql\"\n",
    "# alternatively only BELTRANS contributors without Unesco (around 3k)\n",
    "#beltransSPARQLQueryFile = \"sparql-queries/get-contributor-merging-info-without-unesco-beltrans.sparql\"\n",
    "\n",
    "# in case downloadAgain is True, the following query i sused to get Unesco authority data\n",
    "unescoSPARQLQueryFile = \"sparql-queries/get-contributor-merging-info-only-unesco.sparql\"\n",
    "\n",
    "# Used algorithms and similarity thresholds (the more the longer it takes)\n",
    "# initially the following values were used for comparison (plots of result stats were used to determine the best)\n",
    "#algorithms = ['partial_ratio', 'token_sort_ratio', 'token_set_ratio']\n",
    "#similarityThresholds = [95, 90, 80]\n",
    "\n",
    "# after testing we found token_sor_ratio the best, a similarity of 90 was sufficient\n",
    "algorithms = ['token_sort_ratio']\n",
    "similarityThresholds = [90]\n",
    "minTitleMatches = 1"
   ]
  },
  {
   "cell_type": "markdown",
   "id": "5f4d5e44",
   "metadata": {},
   "source": [
    "## Get BELTRANS authority data + related books\n",
    "We query the BELTRANS SPARQL endpoint to retrieve contributors and related book titles.\n",
    "When querying only contributors that are part of the BELTRANS corpus we get `3,615` contributors, when querying all contributors of integrated data we have about translations NL-FR/FR-NL 1970-2020 we get `13,943` contributors.\n",
    "Especially the latter query takes a bit, thus we store the query result and only download it again when necessary. This can be indicated by setting the `downloadAgain` variable from the code block above to True."
   ]
  },
  {
   "cell_type": "code",
   "execution_count": 9,
   "id": "aeb55910",
   "metadata": {},
   "outputs": [
    {
     "name": "stdout",
     "output_type": "stream",
     "text": [
      "\tProcessing query sparql-queries/get-contributor-merging-info-without-unesco.sparql\n",
      "Successfully retrieved 13943 persons\n"
     ]
    }
   ],
   "source": [
    "if downloadAgain:\n",
    "    # perform SPARQL query and store the result either directly in a dataframe and save as csv file\n",
    "    beltransAuthorityData = utils_sparql.queryToDataframe(endpoint, beltransSPARQLQueryFile, indexCol=\"contributorID\")\n",
    "    beltransAuthorityData.to_csv(beltransAuthorityDataCSVFile)\n",
    "else:\n",
    "    # read the already cached data (from a previous run)\n",
    "    beltransAuthorityData = pd.read_csv(beltransAuthorityDataCSVFile, index_col='contributorID')\n",
    "print(f'Successfully retrieved {beltransAuthorityData.shape[0]} persons')"
   ]
  },
  {
   "cell_type": "code",
   "execution_count": 10,
   "id": "646e1cf4",
   "metadata": {},
   "outputs": [
    {
     "data": {
      "text/html": [
       "<div>\n",
       "<style scoped>\n",
       "    .dataframe tbody tr th:only-of-type {\n",
       "        vertical-align: middle;\n",
       "    }\n",
       "\n",
       "    .dataframe tbody tr th {\n",
       "        vertical-align: top;\n",
       "    }\n",
       "\n",
       "    .dataframe thead th {\n",
       "        text-align: right;\n",
       "    }\n",
       "</style>\n",
       "<table border=\"1\" class=\"dataframe\">\n",
       "  <thead>\n",
       "    <tr style=\"text-align: right;\">\n",
       "      <th></th>\n",
       "      <th>contributorName</th>\n",
       "      <th>alternateNames</th>\n",
       "      <th>titles</th>\n",
       "    </tr>\n",
       "    <tr>\n",
       "      <th>contributorID</th>\n",
       "      <th></th>\n",
       "      <th></th>\n",
       "      <th></th>\n",
       "    </tr>\n",
       "  </thead>\n",
       "  <tbody>\n",
       "    <tr>\n",
       "      <th>e83c5eb7-c841-4f0f-a120-e1b8b826328b</th>\n",
       "      <td>Molière</td>\n",
       "      <td>Molière, Jean Baptiste Poquelin de;Molière, Je...</td>\n",
       "      <td>De Misantroop;De heer van Pourceaugnac : blijs...</td>\n",
       "    </tr>\n",
       "    <tr>\n",
       "      <th>1204</th>\n",
       "      <td>Corbeyran</td>\n",
       "      <td>Corberand, Éric</td>\n",
       "      <td>Het oog van Zaya;Zero tolerantie;De grot;Godsg...</td>\n",
       "    </tr>\n",
       "    <tr>\n",
       "      <th>2150</th>\n",
       "      <td>Derib</td>\n",
       "      <td>Ribaupierre, Claude de</td>\n",
       "      <td>Yakari en de valstrik;Yakari en de gevorkte ho...</td>\n",
       "    </tr>\n",
       "    <tr>\n",
       "      <th>3548</th>\n",
       "      <td>Jacobs, Edgar P.</td>\n",
       "      <td>Jacob, Edgard Félix Pierre</td>\n",
       "      <td>De 3 formules van professor Sato : Mortimer co...</td>\n",
       "    </tr>\n",
       "    <tr>\n",
       "      <th>5119</th>\n",
       "      <td>Peyo,</td>\n",
       "      <td>Culliford, Pierre</td>\n",
       "      <td>De nacht van de magiërs;Doktersmurf;Le Schtrou...</td>\n",
       "    </tr>\n",
       "    <tr>\n",
       "      <th>...</th>\n",
       "      <td>...</td>\n",
       "      <td>...</td>\n",
       "      <td>...</td>\n",
       "    </tr>\n",
       "    <tr>\n",
       "      <th>bde259f9-24db-42cd-94d5-75856dd81a27</th>\n",
       "      <td>Fresco, Louise Odilia</td>\n",
       "      <td>NaN</td>\n",
       "      <td>Hamburgers au Paradis</td>\n",
       "    </tr>\n",
       "    <tr>\n",
       "      <th>cfa030f6-14ed-4083-bf73-7ea5f1f5498c</th>\n",
       "      <td>Streeter, Lissa</td>\n",
       "      <td>NaN</td>\n",
       "      <td>Mini-stoofpotjes</td>\n",
       "    </tr>\n",
       "    <tr>\n",
       "      <th>56ce0b1c-9f5e-489c-8b85-8a213b6959b3</th>\n",
       "      <td>Vladimir Boukovski</td>\n",
       "      <td>NaN</td>\n",
       "      <td>De vrijheid van het westen : kostbaar en kwets...</td>\n",
       "    </tr>\n",
       "    <tr>\n",
       "      <th>78e5cf7d-473f-464d-93c7-0829f234a57d</th>\n",
       "      <td>Pierre Mac Orlan</td>\n",
       "      <td>NaN</td>\n",
       "      <td>U-713, of De heren van de rampspoed</td>\n",
       "    </tr>\n",
       "    <tr>\n",
       "      <th>c6160180-42c9-4434-b9be-a87517a47576</th>\n",
       "      <td>Roger Bastide</td>\n",
       "      <td>NaN</td>\n",
       "      <td>Op de grens van sociologie en psychiatrie</td>\n",
       "    </tr>\n",
       "  </tbody>\n",
       "</table>\n",
       "<p>13943 rows × 3 columns</p>\n",
       "</div>"
      ],
      "text/plain": [
       "                                            contributorName  \\\n",
       "contributorID                                                 \n",
       "e83c5eb7-c841-4f0f-a120-e1b8b826328b                Molière   \n",
       "1204                                              Corbeyran   \n",
       "2150                                                  Derib   \n",
       "3548                                       Jacobs, Edgar P.   \n",
       "5119                                                 Peyo,    \n",
       "...                                                     ...   \n",
       "bde259f9-24db-42cd-94d5-75856dd81a27  Fresco, Louise Odilia   \n",
       "cfa030f6-14ed-4083-bf73-7ea5f1f5498c        Streeter, Lissa   \n",
       "56ce0b1c-9f5e-489c-8b85-8a213b6959b3     Vladimir Boukovski   \n",
       "78e5cf7d-473f-464d-93c7-0829f234a57d       Pierre Mac Orlan   \n",
       "c6160180-42c9-4434-b9be-a87517a47576          Roger Bastide   \n",
       "\n",
       "                                                                         alternateNames  \\\n",
       "contributorID                                                                             \n",
       "e83c5eb7-c841-4f0f-a120-e1b8b826328b  Molière, Jean Baptiste Poquelin de;Molière, Je...   \n",
       "1204                                                                    Corberand, Éric   \n",
       "2150                                                             Ribaupierre, Claude de   \n",
       "3548                                                         Jacob, Edgard Félix Pierre   \n",
       "5119                                                                  Culliford, Pierre   \n",
       "...                                                                                 ...   \n",
       "bde259f9-24db-42cd-94d5-75856dd81a27                                                NaN   \n",
       "cfa030f6-14ed-4083-bf73-7ea5f1f5498c                                                NaN   \n",
       "56ce0b1c-9f5e-489c-8b85-8a213b6959b3                                                NaN   \n",
       "78e5cf7d-473f-464d-93c7-0829f234a57d                                                NaN   \n",
       "c6160180-42c9-4434-b9be-a87517a47576                                                NaN   \n",
       "\n",
       "                                                                                 titles  \n",
       "contributorID                                                                            \n",
       "e83c5eb7-c841-4f0f-a120-e1b8b826328b  De Misantroop;De heer van Pourceaugnac : blijs...  \n",
       "1204                                  Het oog van Zaya;Zero tolerantie;De grot;Godsg...  \n",
       "2150                                  Yakari en de valstrik;Yakari en de gevorkte ho...  \n",
       "3548                                  De 3 formules van professor Sato : Mortimer co...  \n",
       "5119                                  De nacht van de magiërs;Doktersmurf;Le Schtrou...  \n",
       "...                                                                                 ...  \n",
       "bde259f9-24db-42cd-94d5-75856dd81a27                              Hamburgers au Paradis  \n",
       "cfa030f6-14ed-4083-bf73-7ea5f1f5498c                                   Mini-stoofpotjes  \n",
       "56ce0b1c-9f5e-489c-8b85-8a213b6959b3  De vrijheid van het westen : kostbaar en kwets...  \n",
       "78e5cf7d-473f-464d-93c7-0829f234a57d                U-713, of De heren van de rampspoed  \n",
       "c6160180-42c9-4434-b9be-a87517a47576          Op de grens van sociologie en psychiatrie  \n",
       "\n",
       "[13943 rows x 3 columns]"
      ]
     },
     "execution_count": 10,
     "metadata": {},
     "output_type": "execute_result"
    }
   ],
   "source": [
    "beltransAuthorityData"
   ]
  },
  {
   "cell_type": "markdown",
   "id": "0b9f4539",
   "metadata": {},
   "source": [
    "## Get Unesco authority data + related books"
   ]
  },
  {
   "cell_type": "code",
   "execution_count": 18,
   "id": "cab186c8",
   "metadata": {},
   "outputs": [
    {
     "name": "stdout",
     "output_type": "stream",
     "text": [
      "\tProcessing query sparql-queries/get-contributor-merging-info-only-unesco.sparql\n",
      "Successfully retrieved 8327 persons\n"
     ]
    }
   ],
   "source": [
    "if downloadAgain:\n",
    "    unescoAuthorityData = utils_sparql.queryToDataframe(endpoint, unescoSPARQLQueryFile, indexCol=\"contributorUnescoID\")\n",
    "    unescoAuthorityData.to_csv(unescoAuthorityDataCSVFile)\n",
    "else:\n",
    "    unescoAuthorityData = pd.read_csv(unescoAuthorityDataCSVFile, index_col=\"contributorUnescoID\")\n",
    "    \n",
    "print(f'Successfully retrieved {unescoAuthorityData.shape[0]} persons')"
   ]
  },
  {
   "cell_type": "code",
   "execution_count": 19,
   "id": "7e696e5f",
   "metadata": {},
   "outputs": [
    {
     "data": {
      "text/html": [
       "<div>\n",
       "<style scoped>\n",
       "    .dataframe tbody tr th:only-of-type {\n",
       "        vertical-align: middle;\n",
       "    }\n",
       "\n",
       "    .dataframe tbody tr th {\n",
       "        vertical-align: top;\n",
       "    }\n",
       "\n",
       "    .dataframe thead th {\n",
       "        text-align: right;\n",
       "    }\n",
       "</style>\n",
       "<table border=\"1\" class=\"dataframe\">\n",
       "  <thead>\n",
       "    <tr style=\"text-align: right;\">\n",
       "      <th></th>\n",
       "      <th>contributorUnescoIDLong</th>\n",
       "      <th>contributorBELTRANSID</th>\n",
       "      <th>contributorName</th>\n",
       "      <th>titles</th>\n",
       "    </tr>\n",
       "    <tr>\n",
       "      <th>contributorUnescoID</th>\n",
       "      <th></th>\n",
       "      <th></th>\n",
       "      <th></th>\n",
       "      <th></th>\n",
       "    </tr>\n",
       "  </thead>\n",
       "  <tbody>\n",
       "    <tr>\n",
       "      <th>u3539</th>\n",
       "      <td>uc70395217fdb5862fc537c7b44918ee1</td>\n",
       "      <td>1257</td>\n",
       "      <td>Counhaye, Guy</td>\n",
       "      <td>Clovis heeft kougevat</td>\n",
       "    </tr>\n",
       "    <tr>\n",
       "      <th>u11400</th>\n",
       "      <td>ua6373c7926922d234ec45b930afc402e</td>\n",
       "      <td>1690</td>\n",
       "      <td>De Nayer, Brigitte</td>\n",
       "      <td>Autisme: la forteresse éclatée</td>\n",
       "    </tr>\n",
       "    <tr>\n",
       "      <th>u2852</th>\n",
       "      <td>u0a4060eb910734d2d53b8674a3596f96</td>\n",
       "      <td>1749</td>\n",
       "      <td>Rycke, Ria de</td>\n",
       "      <td>Hoe neem je een monster te grazen ? : kindersp...</td>\n",
       "    </tr>\n",
       "    <tr>\n",
       "      <th>u2239</th>\n",
       "      <td>ud3034a989574320ff6359419fa56fd85</td>\n",
       "      <td>1762</td>\n",
       "      <td>Selys, Gérard de</td>\n",
       "      <td>Zwart bord : tegen de privatisering van het on...</td>\n",
       "    </tr>\n",
       "    <tr>\n",
       "      <th>u2250</th>\n",
       "      <td>u2d8ca09200ae3c6ecd5bcf99803a2678</td>\n",
       "      <td>1881</td>\n",
       "      <td>Debains, Paul</td>\n",
       "      <td>Een andere kijk op de mens</td>\n",
       "    </tr>\n",
       "    <tr>\n",
       "      <th>...</th>\n",
       "      <td>...</td>\n",
       "      <td>...</td>\n",
       "      <td>...</td>\n",
       "      <td>...</td>\n",
       "    </tr>\n",
       "    <tr>\n",
       "      <th>u8379</th>\n",
       "      <td>u434ff5fbdb8485fe764d2c8480508c21</td>\n",
       "      <td>e2269e91-5d12-487e-a557-ba98d9ecff87</td>\n",
       "      <td>Willems, Liva</td>\n",
       "      <td>Julie, het meisje met de schaduw van een jongen</td>\n",
       "    </tr>\n",
       "    <tr>\n",
       "      <th>u8392</th>\n",
       "      <td>u94bc086d8a1b0ff51b6dde15c53ff64c</td>\n",
       "      <td>e22969d5-744d-4a44-a81c-7d3fff547560</td>\n",
       "      <td>Content, Bea</td>\n",
       "      <td>Vrouwen : verhalen van vrouwen uit de literatu...</td>\n",
       "    </tr>\n",
       "    <tr>\n",
       "      <th>u8393</th>\n",
       "      <td>u1272c62823a42e4f948f603625cf3855</td>\n",
       "      <td>f4359f18-9fae-4745-9a78-f7a829fc6a1a</td>\n",
       "      <td>Dalmijn, Lydia</td>\n",
       "      <td>Vrouwen : verhalen van vrouwen uit de literatu...</td>\n",
       "    </tr>\n",
       "    <tr>\n",
       "      <th>u8396</th>\n",
       "      <td>ub5b7cb113623bf235651e51dfe9d99be</td>\n",
       "      <td>f5d50606-0b5c-4c27-9025-e59ea1c952ff</td>\n",
       "      <td>Wielek-Berg, W.</td>\n",
       "      <td>Vrouwen : verhalen van vrouwen uit de literatu...</td>\n",
       "    </tr>\n",
       "    <tr>\n",
       "      <th>u7212</th>\n",
       "      <td>u88c393787a94c661da8c543a768c22e5</td>\n",
       "      <td>f5e74970-b1d2-407f-a3a3-4e38232fd8c5</td>\n",
       "      <td>Ridder, Rob de</td>\n",
       "      <td>Dikke vriendjes : het behandelen en voorkomen ...</td>\n",
       "    </tr>\n",
       "  </tbody>\n",
       "</table>\n",
       "<p>8327 rows × 4 columns</p>\n",
       "</div>"
      ],
      "text/plain": [
       "                               contributorUnescoIDLong  \\\n",
       "contributorUnescoID                                      \n",
       "u3539                uc70395217fdb5862fc537c7b44918ee1   \n",
       "u11400               ua6373c7926922d234ec45b930afc402e   \n",
       "u2852                u0a4060eb910734d2d53b8674a3596f96   \n",
       "u2239                ud3034a989574320ff6359419fa56fd85   \n",
       "u2250                u2d8ca09200ae3c6ecd5bcf99803a2678   \n",
       "...                                                ...   \n",
       "u8379                u434ff5fbdb8485fe764d2c8480508c21   \n",
       "u8392                u94bc086d8a1b0ff51b6dde15c53ff64c   \n",
       "u8393                u1272c62823a42e4f948f603625cf3855   \n",
       "u8396                ub5b7cb113623bf235651e51dfe9d99be   \n",
       "u7212                u88c393787a94c661da8c543a768c22e5   \n",
       "\n",
       "                                    contributorBELTRANSID     contributorName  \\\n",
       "contributorUnescoID                                                             \n",
       "u3539                                                1257       Counhaye, Guy   \n",
       "u11400                                               1690  De Nayer, Brigitte   \n",
       "u2852                                                1749       Rycke, Ria de   \n",
       "u2239                                                1762    Selys, Gérard de   \n",
       "u2250                                                1881       Debains, Paul   \n",
       "...                                                   ...                 ...   \n",
       "u8379                e2269e91-5d12-487e-a557-ba98d9ecff87       Willems, Liva   \n",
       "u8392                e22969d5-744d-4a44-a81c-7d3fff547560        Content, Bea   \n",
       "u8393                f4359f18-9fae-4745-9a78-f7a829fc6a1a      Dalmijn, Lydia   \n",
       "u8396                f5d50606-0b5c-4c27-9025-e59ea1c952ff     Wielek-Berg, W.   \n",
       "u7212                f5e74970-b1d2-407f-a3a3-4e38232fd8c5      Ridder, Rob de   \n",
       "\n",
       "                                                                titles  \n",
       "contributorUnescoID                                                     \n",
       "u3539                                            Clovis heeft kougevat  \n",
       "u11400                                  Autisme: la forteresse éclatée  \n",
       "u2852                Hoe neem je een monster te grazen ? : kindersp...  \n",
       "u2239                Zwart bord : tegen de privatisering van het on...  \n",
       "u2250                                       Een andere kijk op de mens  \n",
       "...                                                                ...  \n",
       "u8379                  Julie, het meisje met de schaduw van een jongen  \n",
       "u8392                Vrouwen : verhalen van vrouwen uit de literatu...  \n",
       "u8393                Vrouwen : verhalen van vrouwen uit de literatu...  \n",
       "u8396                Vrouwen : verhalen van vrouwen uit de literatu...  \n",
       "u7212                Dikke vriendjes : het behandelen en voorkomen ...  \n",
       "\n",
       "[8327 rows x 4 columns]"
      ]
     },
     "execution_count": 19,
     "metadata": {},
     "output_type": "execute_result"
    }
   ],
   "source": [
    "unescoAuthorityData = unescoAuthorityData.applymap(str)\n",
    "unescoAuthorityData"
   ]
  },
  {
   "cell_type": "markdown",
   "id": "ed75d92f",
   "metadata": {},
   "source": [
    "## Perform the matching\n",
    "\n",
    "This matching is performed by (additionally) comparing the similarity of book titles linked to an authority)."
   ]
  },
  {
   "cell_type": "code",
   "execution_count": 20,
   "id": "50fbfd6c",
   "metadata": {},
   "outputs": [
    {
     "data": {
      "text/html": [
       "<div>\n",
       "<style scoped>\n",
       "    .dataframe tbody tr th:only-of-type {\n",
       "        vertical-align: middle;\n",
       "    }\n",
       "\n",
       "    .dataframe tbody tr th {\n",
       "        vertical-align: top;\n",
       "    }\n",
       "\n",
       "    .dataframe thead th {\n",
       "        text-align: right;\n",
       "    }\n",
       "</style>\n",
       "<table border=\"1\" class=\"dataframe\">\n",
       "  <thead>\n",
       "    <tr style=\"text-align: right;\">\n",
       "      <th></th>\n",
       "      <th>contributorName</th>\n",
       "      <th>alternateNames</th>\n",
       "      <th>titles</th>\n",
       "      <th>index</th>\n",
       "    </tr>\n",
       "    <tr>\n",
       "      <th>contributorID</th>\n",
       "      <th></th>\n",
       "      <th></th>\n",
       "      <th></th>\n",
       "      <th></th>\n",
       "    </tr>\n",
       "  </thead>\n",
       "  <tbody>\n",
       "    <tr>\n",
       "      <th>e83c5eb7-c841-4f0f-a120-e1b8b826328b</th>\n",
       "      <td>Molière</td>\n",
       "      <td>Molière, Jean Baptiste Poquelin de;Molière, Je...</td>\n",
       "      <td>De Misantroop;De heer van Pourceaugnac : blijs...</td>\n",
       "      <td>e83c5eb7-c841-4f0f-a120-e1b8b826328b</td>\n",
       "    </tr>\n",
       "    <tr>\n",
       "      <th>1204</th>\n",
       "      <td>Corbeyran</td>\n",
       "      <td>Corberand, Éric</td>\n",
       "      <td>Het oog van Zaya;Zero tolerantie;De grot;Godsg...</td>\n",
       "      <td>1204</td>\n",
       "    </tr>\n",
       "    <tr>\n",
       "      <th>2150</th>\n",
       "      <td>Derib</td>\n",
       "      <td>Ribaupierre, Claude de</td>\n",
       "      <td>Yakari en de valstrik;Yakari en de gevorkte ho...</td>\n",
       "      <td>2150</td>\n",
       "    </tr>\n",
       "    <tr>\n",
       "      <th>3548</th>\n",
       "      <td>Jacobs, Edgar P.</td>\n",
       "      <td>Jacob, Edgard Félix Pierre</td>\n",
       "      <td>De 3 formules van professor Sato : Mortimer co...</td>\n",
       "      <td>3548</td>\n",
       "    </tr>\n",
       "    <tr>\n",
       "      <th>5119</th>\n",
       "      <td>Peyo,</td>\n",
       "      <td>Culliford, Pierre</td>\n",
       "      <td>De nacht van de magiërs;Doktersmurf;Le Schtrou...</td>\n",
       "      <td>5119</td>\n",
       "    </tr>\n",
       "    <tr>\n",
       "      <th>...</th>\n",
       "      <td>...</td>\n",
       "      <td>...</td>\n",
       "      <td>...</td>\n",
       "      <td>...</td>\n",
       "    </tr>\n",
       "    <tr>\n",
       "      <th>bde259f9-24db-42cd-94d5-75856dd81a27</th>\n",
       "      <td>Fresco, Louise Odilia</td>\n",
       "      <td>nan</td>\n",
       "      <td>Hamburgers au Paradis</td>\n",
       "      <td>bde259f9-24db-42cd-94d5-75856dd81a27</td>\n",
       "    </tr>\n",
       "    <tr>\n",
       "      <th>cfa030f6-14ed-4083-bf73-7ea5f1f5498c</th>\n",
       "      <td>Streeter, Lissa</td>\n",
       "      <td>nan</td>\n",
       "      <td>Mini-stoofpotjes</td>\n",
       "      <td>cfa030f6-14ed-4083-bf73-7ea5f1f5498c</td>\n",
       "    </tr>\n",
       "    <tr>\n",
       "      <th>56ce0b1c-9f5e-489c-8b85-8a213b6959b3</th>\n",
       "      <td>Vladimir Boukovski</td>\n",
       "      <td>nan</td>\n",
       "      <td>De vrijheid van het westen : kostbaar en kwets...</td>\n",
       "      <td>56ce0b1c-9f5e-489c-8b85-8a213b6959b3</td>\n",
       "    </tr>\n",
       "    <tr>\n",
       "      <th>78e5cf7d-473f-464d-93c7-0829f234a57d</th>\n",
       "      <td>Pierre Mac Orlan</td>\n",
       "      <td>nan</td>\n",
       "      <td>U-713, of De heren van de rampspoed</td>\n",
       "      <td>78e5cf7d-473f-464d-93c7-0829f234a57d</td>\n",
       "    </tr>\n",
       "    <tr>\n",
       "      <th>c6160180-42c9-4434-b9be-a87517a47576</th>\n",
       "      <td>Roger Bastide</td>\n",
       "      <td>nan</td>\n",
       "      <td>Op de grens van sociologie en psychiatrie</td>\n",
       "      <td>c6160180-42c9-4434-b9be-a87517a47576</td>\n",
       "    </tr>\n",
       "  </tbody>\n",
       "</table>\n",
       "<p>13943 rows × 4 columns</p>\n",
       "</div>"
      ],
      "text/plain": [
       "                                            contributorName  \\\n",
       "contributorID                                                 \n",
       "e83c5eb7-c841-4f0f-a120-e1b8b826328b                Molière   \n",
       "1204                                              Corbeyran   \n",
       "2150                                                  Derib   \n",
       "3548                                       Jacobs, Edgar P.   \n",
       "5119                                                 Peyo,    \n",
       "...                                                     ...   \n",
       "bde259f9-24db-42cd-94d5-75856dd81a27  Fresco, Louise Odilia   \n",
       "cfa030f6-14ed-4083-bf73-7ea5f1f5498c        Streeter, Lissa   \n",
       "56ce0b1c-9f5e-489c-8b85-8a213b6959b3     Vladimir Boukovski   \n",
       "78e5cf7d-473f-464d-93c7-0829f234a57d       Pierre Mac Orlan   \n",
       "c6160180-42c9-4434-b9be-a87517a47576          Roger Bastide   \n",
       "\n",
       "                                                                         alternateNames  \\\n",
       "contributorID                                                                             \n",
       "e83c5eb7-c841-4f0f-a120-e1b8b826328b  Molière, Jean Baptiste Poquelin de;Molière, Je...   \n",
       "1204                                                                    Corberand, Éric   \n",
       "2150                                                             Ribaupierre, Claude de   \n",
       "3548                                                         Jacob, Edgard Félix Pierre   \n",
       "5119                                                                  Culliford, Pierre   \n",
       "...                                                                                 ...   \n",
       "bde259f9-24db-42cd-94d5-75856dd81a27                                                nan   \n",
       "cfa030f6-14ed-4083-bf73-7ea5f1f5498c                                                nan   \n",
       "56ce0b1c-9f5e-489c-8b85-8a213b6959b3                                                nan   \n",
       "78e5cf7d-473f-464d-93c7-0829f234a57d                                                nan   \n",
       "c6160180-42c9-4434-b9be-a87517a47576                                                nan   \n",
       "\n",
       "                                                                                 titles  \\\n",
       "contributorID                                                                             \n",
       "e83c5eb7-c841-4f0f-a120-e1b8b826328b  De Misantroop;De heer van Pourceaugnac : blijs...   \n",
       "1204                                  Het oog van Zaya;Zero tolerantie;De grot;Godsg...   \n",
       "2150                                  Yakari en de valstrik;Yakari en de gevorkte ho...   \n",
       "3548                                  De 3 formules van professor Sato : Mortimer co...   \n",
       "5119                                  De nacht van de magiërs;Doktersmurf;Le Schtrou...   \n",
       "...                                                                                 ...   \n",
       "bde259f9-24db-42cd-94d5-75856dd81a27                              Hamburgers au Paradis   \n",
       "cfa030f6-14ed-4083-bf73-7ea5f1f5498c                                   Mini-stoofpotjes   \n",
       "56ce0b1c-9f5e-489c-8b85-8a213b6959b3  De vrijheid van het westen : kostbaar en kwets...   \n",
       "78e5cf7d-473f-464d-93c7-0829f234a57d                U-713, of De heren van de rampspoed   \n",
       "c6160180-42c9-4434-b9be-a87517a47576          Op de grens van sociologie en psychiatrie   \n",
       "\n",
       "                                                                     index  \n",
       "contributorID                                                               \n",
       "e83c5eb7-c841-4f0f-a120-e1b8b826328b  e83c5eb7-c841-4f0f-a120-e1b8b826328b  \n",
       "1204                                                                  1204  \n",
       "2150                                                                  2150  \n",
       "3548                                                                  3548  \n",
       "5119                                                                  5119  \n",
       "...                                                                    ...  \n",
       "bde259f9-24db-42cd-94d5-75856dd81a27  bde259f9-24db-42cd-94d5-75856dd81a27  \n",
       "cfa030f6-14ed-4083-bf73-7ea5f1f5498c  cfa030f6-14ed-4083-bf73-7ea5f1f5498c  \n",
       "56ce0b1c-9f5e-489c-8b85-8a213b6959b3  56ce0b1c-9f5e-489c-8b85-8a213b6959b3  \n",
       "78e5cf7d-473f-464d-93c7-0829f234a57d  78e5cf7d-473f-464d-93c7-0829f234a57d  \n",
       "c6160180-42c9-4434-b9be-a87517a47576  c6160180-42c9-4434-b9be-a87517a47576  \n",
       "\n",
       "[13943 rows x 4 columns]"
      ]
     },
     "execution_count": 20,
     "metadata": {},
     "output_type": "execute_result"
    }
   ],
   "source": [
    "beltransAuthorityData = beltransAuthorityData.applymap(str)\n",
    "beltransAuthorityData['index'] = beltransAuthorityData.index\n",
    "beltransAuthorityData"
   ]
  },
  {
   "cell_type": "code",
   "execution_count": 21,
   "id": "02a8746c",
   "metadata": {},
   "outputs": [
    {
     "name": "stdout",
     "output_type": "stream",
     "text": [
      "Lookup object created!\n"
     ]
    }
   ],
   "source": [
    "lookupObject = MatchingLookup()\n",
    "beltransAuthorityData.apply(\n",
    "    lambda row: lookupObject.addLookupRecord(row['index'], \n",
    "                                             row['contributorName'].split(';') + row['alternateNames'].split(';'), \n",
    "                                             row['titles'].split(';')), \n",
    "    axis=1)\n",
    "print('Lookup object created!')"
   ]
  },
  {
   "cell_type": "code",
   "execution_count": 22,
   "id": "2d8dd832",
   "metadata": {},
   "outputs": [],
   "source": [
    "allStats = {}\n",
    "stats = {'no-name-candidates': 0, \n",
    "         'more-than-one-name-candidate': 0, \n",
    "         'one-name-candidate': 0,\n",
    "         'one-authority-match-via-title': 0,\n",
    "         'more-than-one-authority-match-via-title': 0,\n",
    "         'number-name-candidates': []}"
   ]
  },
  {
   "cell_type": "code",
   "execution_count": 23,
   "id": "cbab1cc2",
   "metadata": {
    "scrolled": true
   },
   "outputs": [
    {
     "name": "stderr",
     "output_type": "stream",
     "text": [
      "Matching via token_sort_ratio and threshold 90: 100%|█| 8327/8327 [13:19<00:00,\n"
     ]
    }
   ],
   "source": [
    "if not os.path.exists(outputDirectory):\n",
    "    os.makedirs(outputDirectory)\n",
    "for alg in algorithms:\n",
    "    for threshold in similarityThresholds:\n",
    "        outputFilename = os.path.join(outputDirectory, f'candidates-{alg}-{threshold}.csv')\n",
    "        outputFilenameClearMatches = os.path.join(outputDirectory, f'clear-matches-{alg}-{threshold}.csv')\n",
    "        outputFilenameMultipleMatches = os.path.join(outputDirectory, f'multiple-matches-{alg}-{threshold}.csv')\n",
    "        outputFilenameOneMatchOneDiscarded = os.path.join(outputDirectory, f'one-match-one-discarded-{alg}-{threshold}.csv')\n",
    "        outputStatsFilename = os.path.join(outputDirectory, f'stats-{alg}-{threshold}.json')\n",
    "        df = unescoAuthorityData.copy()\n",
    "        statsKey = f'{alg}-{threshold}'\n",
    "        allStats[statsKey] = stats.copy()\n",
    "        tqdm.pandas(desc=f'Matching via {alg} and threshold {threshold}')\n",
    "        df[['candidatesID', 'candidatesName', 'discardedCandidateIDs', 'discardedCandidateNames']] = \\\n",
    "  df.progress_apply(\n",
    "    lambda row: matching_utils.findMatches(row, \n",
    "                                           lookupObject, \n",
    "                                           allStats[statsKey],\n",
    "                                           simAlgorithmNames=alg,\n",
    "                                           simThresholdNames=threshold,\n",
    "                                           simAlgorithmTitles=alg,\n",
    "                                           simThresholdTitles=threshold, \n",
    "                                           minTitleMatches=minTitleMatches), \n",
    "    axis=1)\n",
    "        \n",
    "        dfData = df.applymap(str)\n",
    "        dfData = dfData.fillna('')\n",
    "        dfData['index'] = dfData.index\n",
    "        clearMatches = dfData.loc[(dfData['discardedCandidateIDs'] == '') \n",
    "                          & (~dfData['candidatesID'].str.contains(';')) \n",
    "                          & (dfData['candidatesID'] != '')]\n",
    "        clearMatches.to_csv(outputFilenameClearMatches)\n",
    "        \n",
    "        oneMatchOneDiscarded = dfData.loc[(dfData['discardedCandidateIDs'] != '') \n",
    "                          & (~dfData['candidatesID'].str.contains(';')) \n",
    "                          & (dfData['candidatesID'] != '')]\n",
    "        oneMatchOneDiscarded.to_csv(outputFilenameOneMatchOneDiscarded)\n",
    "        \n",
    "        multipleMatches = dfData.loc[(dfData['candidatesID'].str.contains(';')) \n",
    "                          & (dfData['candidatesID'] != '')]\n",
    "        multipleMatches.to_csv(outputFilenameMultipleMatches)\n",
    "        \n",
    "        dfData.to_csv(outputFilename)\n",
    "        \n",
    "        # write stats of current run to a separate file (writing the stats of all runs comes later)\n",
    "        with open(outputStatsFilename, 'w') as statsOut:\n",
    "            statsOut.write(json.dumps(allStats[statsKey], indent=2))\n"
   ]
  },
  {
   "cell_type": "code",
   "execution_count": 116,
   "id": "f2fad2ac",
   "metadata": {},
   "outputs": [],
   "source": [
    "clearMatches = dfData.loc[(dfData['discardedCandidateIDs'] == '') \n",
    "                          & (~dfData['candidatesID'].str.contains(';')) \n",
    "                          & (dfData['candidatesID'] != '')]\n",
    "clearMatches.shape[0]\n",
    "clearMatches.to_csv(os.path.join(outputDirectory, f'clear-matches-token_sort_ratio-90.csv'))"
   ]
  },
  {
   "cell_type": "code",
   "execution_count": 117,
   "id": "3fe162c7",
   "metadata": {},
   "outputs": [],
   "source": [
    "oneMatchOneDiscarded = dfData.loc[(dfData['discardedCandidateIDs'] != '') \n",
    "                          & (~dfData['candidatesID'].str.contains(';')) \n",
    "                          & (dfData['candidatesID'] != '')]\n",
    "oneMatchOneDiscarded.shape[0]\n",
    "oneMatchOneDiscarded.to_csv(os.path.join(outputDirectory, f'one-match-one-discarded-token_sort_ratio-90.csv'))"
   ]
  },
  {
   "cell_type": "code",
   "execution_count": 118,
   "id": "3c19a405",
   "metadata": {},
   "outputs": [
    {
     "data": {
      "text/plain": [
       "76"
      ]
     },
     "execution_count": 118,
     "metadata": {},
     "output_type": "execute_result"
    }
   ],
   "source": [
    "multipleMatches = dfData.loc[(dfData['candidatesID'].str.contains(';')) \n",
    "                          & (dfData['candidatesID'] != '')]\n",
    "multipleMatches.to_csv(os.path.join(outputDirectory, f'multiple-matches-token_sort_ratio-90.csv'))\n",
    "multipleMatches.shape[0]"
   ]
  },
  {
   "cell_type": "code",
   "execution_count": 24,
   "id": "a04f3083",
   "metadata": {
    "scrolled": true
   },
   "outputs": [
    {
     "name": "stdout",
     "output_type": "stream",
     "text": [
      "token_sort_ratio-90\n",
      "\tno-name-candidates: 3482\n",
      "\tmore-than-one-name-candidate: 341\n",
      "\tone-name-candidate: 4504\n",
      "\tone-authority-match-via-title: 3129\n",
      "\tmore-than-one-authority-match-via-title: 76\n",
      "\tnumber-name-candidates: 1\n"
     ]
    }
   ],
   "source": [
    "processedStats = {}\n",
    "for key,stats in allStats.items():\n",
    "    print(key)\n",
    "    processedStats[key] = {}\n",
    "    for var in stats:\n",
    "        if var == 'number-name-candidates':\n",
    "            print(f'\\t{var}: {statistics.median(stats[var])}')\n",
    "            processedStats[key]['number-name-candidates-median'] = statistics.median(stats[var])\n",
    "            processedStats[key]['number-name-candidates-max'] = max(stats[var])\n",
    "        else:\n",
    "            print(f'\\t{var}: {stats[var]}')\n",
    "            processedStats[key][var] = stats[var]"
   ]
  },
  {
   "cell_type": "code",
   "execution_count": 25,
   "id": "315da633",
   "metadata": {},
   "outputs": [],
   "source": [
    "statsDf = df.from_dict(processedStats)"
   ]
  },
  {
   "cell_type": "code",
   "execution_count": 27,
   "id": "c9029f31",
   "metadata": {},
   "outputs": [
    {
     "data": {
      "text/html": [
       "<div>\n",
       "<style scoped>\n",
       "    .dataframe tbody tr th:only-of-type {\n",
       "        vertical-align: middle;\n",
       "    }\n",
       "\n",
       "    .dataframe tbody tr th {\n",
       "        vertical-align: top;\n",
       "    }\n",
       "\n",
       "    .dataframe thead th {\n",
       "        text-align: right;\n",
       "    }\n",
       "</style>\n",
       "<table border=\"1\" class=\"dataframe\">\n",
       "  <thead>\n",
       "    <tr style=\"text-align: right;\">\n",
       "      <th></th>\n",
       "      <th>token_sort_ratio-90</th>\n",
       "    </tr>\n",
       "  </thead>\n",
       "  <tbody>\n",
       "    <tr>\n",
       "      <th>more-than-one-authority-match-via-title</th>\n",
       "      <td>76</td>\n",
       "    </tr>\n",
       "    <tr>\n",
       "      <th>more-than-one-name-candidate</th>\n",
       "      <td>341</td>\n",
       "    </tr>\n",
       "    <tr>\n",
       "      <th>no-name-candidates</th>\n",
       "      <td>3482</td>\n",
       "    </tr>\n",
       "    <tr>\n",
       "      <th>number-name-candidates-max</th>\n",
       "      <td>4</td>\n",
       "    </tr>\n",
       "    <tr>\n",
       "      <th>number-name-candidates-median</th>\n",
       "      <td>1</td>\n",
       "    </tr>\n",
       "    <tr>\n",
       "      <th>one-authority-match-via-title</th>\n",
       "      <td>3129</td>\n",
       "    </tr>\n",
       "    <tr>\n",
       "      <th>one-name-candidate</th>\n",
       "      <td>4504</td>\n",
       "    </tr>\n",
       "  </tbody>\n",
       "</table>\n",
       "</div>"
      ],
      "text/plain": [
       "                                         token_sort_ratio-90\n",
       "more-than-one-authority-match-via-title                   76\n",
       "more-than-one-name-candidate                             341\n",
       "no-name-candidates                                      3482\n",
       "number-name-candidates-max                                 4\n",
       "number-name-candidates-median                              1\n",
       "one-authority-match-via-title                           3129\n",
       "one-name-candidate                                      4504"
      ]
     },
     "execution_count": 27,
     "metadata": {},
     "output_type": "execute_result"
    }
   ],
   "source": [
    "statsDf"
   ]
  },
  {
   "cell_type": "code",
   "execution_count": 28,
   "id": "33cfbb81",
   "metadata": {},
   "outputs": [],
   "source": [
    "statsDf.to_csv(statsFilename)"
   ]
  },
  {
   "cell_type": "code",
   "execution_count": 29,
   "id": "23a7840f",
   "metadata": {},
   "outputs": [],
   "source": [
    "#statsDfRaw = pd.read_csv('unesco-matching-scores/bak-stats.csv')\n",
    "statsDfRaw = pd.read_csv(statsFilename)"
   ]
  },
  {
   "cell_type": "code",
   "execution_count": 30,
   "id": "b7777349",
   "metadata": {},
   "outputs": [],
   "source": [
    "statsDfJSON = json.loads(statsDfRaw.to_json(orient='records'))"
   ]
  },
  {
   "cell_type": "code",
   "execution_count": 31,
   "id": "224f8e5c",
   "metadata": {},
   "outputs": [],
   "source": [
    "formattedJSON = []\n",
    "for varDict in statsDfJSON:\n",
    "    measurement = varDict['Unnamed: 0']\n",
    "    for varName,varValue in varDict.items():\n",
    "        newRow = {}\n",
    "        if not varName.startswith('Unnamed'):\n",
    "            nameParts = varName.split('-')\n",
    "            newRow['alg'] = nameParts[0]\n",
    "            newRow['threshold'] = nameParts[1]\n",
    "            newRow['value'] = varValue\n",
    "            newRow['var'] = measurement\n",
    "            formattedJSON.append(newRow)"
   ]
  },
  {
   "cell_type": "code",
   "execution_count": 32,
   "id": "036c3a2f",
   "metadata": {},
   "outputs": [],
   "source": [
    "statsDf = pd.DataFrame(formattedJSON)"
   ]
  },
  {
   "cell_type": "code",
   "execution_count": 33,
   "id": "51462783",
   "metadata": {
    "scrolled": false
   },
   "outputs": [
    {
     "data": {
      "text/html": [
       "<div>\n",
       "<style scoped>\n",
       "    .dataframe tbody tr th:only-of-type {\n",
       "        vertical-align: middle;\n",
       "    }\n",
       "\n",
       "    .dataframe tbody tr th {\n",
       "        vertical-align: top;\n",
       "    }\n",
       "\n",
       "    .dataframe thead th {\n",
       "        text-align: right;\n",
       "    }\n",
       "</style>\n",
       "<table border=\"1\" class=\"dataframe\">\n",
       "  <thead>\n",
       "    <tr style=\"text-align: right;\">\n",
       "      <th></th>\n",
       "      <th>alg</th>\n",
       "      <th>threshold</th>\n",
       "      <th>value</th>\n",
       "      <th>var</th>\n",
       "    </tr>\n",
       "  </thead>\n",
       "  <tbody>\n",
       "    <tr>\n",
       "      <th>0</th>\n",
       "      <td>token_sort_ratio</td>\n",
       "      <td>90</td>\n",
       "      <td>76</td>\n",
       "      <td>more-than-one-authority-match-via-title</td>\n",
       "    </tr>\n",
       "    <tr>\n",
       "      <th>1</th>\n",
       "      <td>token_sort_ratio</td>\n",
       "      <td>90</td>\n",
       "      <td>341</td>\n",
       "      <td>more-than-one-name-candidate</td>\n",
       "    </tr>\n",
       "    <tr>\n",
       "      <th>2</th>\n",
       "      <td>token_sort_ratio</td>\n",
       "      <td>90</td>\n",
       "      <td>3482</td>\n",
       "      <td>no-name-candidates</td>\n",
       "    </tr>\n",
       "    <tr>\n",
       "      <th>3</th>\n",
       "      <td>token_sort_ratio</td>\n",
       "      <td>90</td>\n",
       "      <td>4</td>\n",
       "      <td>number-name-candidates-max</td>\n",
       "    </tr>\n",
       "    <tr>\n",
       "      <th>4</th>\n",
       "      <td>token_sort_ratio</td>\n",
       "      <td>90</td>\n",
       "      <td>1</td>\n",
       "      <td>number-name-candidates-median</td>\n",
       "    </tr>\n",
       "    <tr>\n",
       "      <th>5</th>\n",
       "      <td>token_sort_ratio</td>\n",
       "      <td>90</td>\n",
       "      <td>3129</td>\n",
       "      <td>one-authority-match-via-title</td>\n",
       "    </tr>\n",
       "    <tr>\n",
       "      <th>6</th>\n",
       "      <td>token_sort_ratio</td>\n",
       "      <td>90</td>\n",
       "      <td>4504</td>\n",
       "      <td>one-name-candidate</td>\n",
       "    </tr>\n",
       "  </tbody>\n",
       "</table>\n",
       "</div>"
      ],
      "text/plain": [
       "                alg threshold  value                                      var\n",
       "0  token_sort_ratio        90     76  more-than-one-authority-match-via-title\n",
       "1  token_sort_ratio        90    341             more-than-one-name-candidate\n",
       "2  token_sort_ratio        90   3482                       no-name-candidates\n",
       "3  token_sort_ratio        90      4               number-name-candidates-max\n",
       "4  token_sort_ratio        90      1            number-name-candidates-median\n",
       "5  token_sort_ratio        90   3129            one-authority-match-via-title\n",
       "6  token_sort_ratio        90   4504                       one-name-candidate"
      ]
     },
     "execution_count": 33,
     "metadata": {},
     "output_type": "execute_result"
    }
   ],
   "source": [
    "statsDf"
   ]
  },
  {
   "cell_type": "code",
   "execution_count": 34,
   "id": "601c75df",
   "metadata": {
    "scrolled": true
   },
   "outputs": [
    {
     "data": {
      "text/plain": [
       "<AxesSubplot:xlabel='alg'>"
      ]
     },
     "execution_count": 34,
     "metadata": {},
     "output_type": "execute_result"
    },
    {
     "data": {
      "image/png": "[encoded data removed]",
      "text/plain": [
       "<Figure size 432x288 with 1 Axes>"
      ]
     },
     "metadata": {
      "needs_background": "light"
     },
     "output_type": "display_data"
    }
   ],
   "source": [
    "statsDfOneCandidate = statsDf[statsDf['var']=='one-name-candidate']\n",
    "statsDfOneCandidate.pivot(index='alg', columns='threshold', values='value').plot(kind='bar')"
   ]
  },
  {
   "cell_type": "code",
   "execution_count": 35,
   "id": "027eca1d",
   "metadata": {},
   "outputs": [
    {
     "data": {
      "text/plain": [
       "<AxesSubplot:xlabel='alg'>"
      ]
     },
     "execution_count": 35,
     "metadata": {},
     "output_type": "execute_result"
    },
    {
     "data": {
      "image/png": "[encoded data removed]",
      "text/plain": [
       "<Figure size 432x288 with 1 Axes>"
      ]
     },
     "metadata": {
      "needs_background": "light"
     },
     "output_type": "display_data"
    }
   ],
   "source": [
    "statsDfMultipleCandidates = statsDf[statsDf['var']=='more-than-one-name-candidate']\n",
    "statsDfMultipleCandidates.pivot(index='alg', columns='threshold', values='value').plot(kind='bar')"
   ]
  },
  {
   "cell_type": "code",
   "execution_count": 36,
   "id": "a432612d",
   "metadata": {},
   "outputs": [
    {
     "data": {
      "text/plain": [
       "<AxesSubplot:xlabel='alg'>"
      ]
     },
     "execution_count": 36,
     "metadata": {},
     "output_type": "execute_result"
    },
    {
     "data": {
      "image/png": "[encoded data removed]",
      "text/plain": [
       "<Figure size 432x288 with 1 Axes>"
      ]
     },
     "metadata": {
      "needs_background": "light"
     },
     "output_type": "display_data"
    }
   ],
   "source": [
    "statsDfOneTitle = statsDf[statsDf['var']=='one-authority-match-via-title']\n",
    "statsDfOneTitle.pivot(index='alg', columns='threshold', values='value').plot(kind='bar')"
   ]
  },
  {
   "cell_type": "code",
   "execution_count": 37,
   "id": "e7125005",
   "metadata": {},
   "outputs": [
    {
     "data": {
      "text/plain": [
       "<AxesSubplot:xlabel='alg'>"
      ]
     },
     "execution_count": 37,
     "metadata": {},
     "output_type": "execute_result"
    },
    {
     "data": {
      "image/png": "[encoded data removed]",
      "text/plain": [
       "<Figure size 432x288 with 1 Axes>"
      ]
     },
     "metadata": {
      "needs_background": "light"
     },
     "output_type": "display_data"
    }
   ],
   "source": [
    "statsDfMultipleTitles = statsDf[statsDf['var']=='more-than-one-authority-match-via-title']\n",
    "statsDfMultipleTitles.pivot(index='alg', columns='threshold', values='value').plot(kind='bar')"
   ]
  },
  {
   "cell_type": "markdown",
   "id": "3e23ae3d",
   "metadata": {},
   "source": [
    "## Stats from initial run to compare different values\n",
    "We compared the algorithms `['partial_ratio', 'token_sort_ratio', 'token_set_ratio']` and the similarity values `[95, 90, 80]`.\n",
    "\n",
    "### token_sort_ratio, similarity 90\n",
    "\n",
    "There are `3,204` from `8,327` rows with *at least one* candidate. From those, `3,128` are single matches (filtered in a spreadsheet with does not contain a semicolon).\n",
    "There are also matches with switched first name and last name. We already anticipated that the token_sort algorithm will be a good choice for person authority names.\n",
    "Examples are:\n",
    "* `Kors, Magriet`  and `Magriet Kors`\n",
    "* `Abeele, Andries van den`  and `Van den Abeele, Andries` (it was not confused with `Abeele, Erik van den`), but we also had an additional check based on common book titles\n",
    "\n",
    "There are `142` that additionally have at least one discarded identifier. \n",
    "For example in one case, `Rie van Antwerpen`  was matched with `Van Antwerpen Rie` and the match with `Van Antwerpen Piet` was discarded. This seems legist.\n",
    "But there are also cases such as `Anouilh, Jean` that was matched with `Jean anouilh` and the discarded match with `anouilh jean`, the latter two seem to be duplicates in our authority data.\n",
    "\n",
    "### partial_ratio, similarity 90\n",
    "There are `2,312` from `8,327` rows with *at least one* candidate. From those, `2,264` are single matches (filtered in a spreadsheet with \"does not contain\" semicolon).\n",
    "Matches such as `Abeele, Andries van den` described above are not in the result.\n",
    "Also not `Aaron Soazig` and `Soazig Aaron`."
   ]
  },
  {
   "cell_type": "code",
   "execution_count": null,
   "id": "3aaee0f0",
   "metadata": {},
   "outputs": [],
   "source": []
  },
  {
   "cell_type": "code",
   "execution_count": null,
   "id": "37d6bb3c",
   "metadata": {},
   "outputs": [],
   "source": []
  }
 ],
 "metadata": {
  "kernelspec": {
   "display_name": "py-integration-env",
   "language": "python",
   "name": "py-integration-env"
  },
  "language_info": {
   "codemirror_mode": {
    "name": "ipython",
    "version": 3
   },
   "file_extension": ".py",
   "mimetype": "text/x-python",
   "name": "python",
   "nbconvert_exporter": "python",
   "pygments_lexer": "ipython3",
   "version": "3.8.10"
  },
  "toc": {
   "base_numbering": 1,
   "nav_menu": {},
   "number_sections": true,
   "sideBar": true,
   "skip_h1_title": false,
   "title_cell": "Table of Contents",
   "title_sidebar": "Contents",
   "toc_cell": false,
   "toc_position": {},
   "toc_section_display": true,
   "toc_window_display": false
  }
 },
 "nbformat": 4,
 "nbformat_minor": 5
}
