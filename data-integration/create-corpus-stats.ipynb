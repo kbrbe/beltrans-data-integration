{
 "cells": [
  {
   "cell_type": "markdown",
   "id": "3db81d56",
   "metadata": {},
   "source": [
    "## Create new manifestation measurements\n",
    "\n",
    "The following code is used to create new statistics. They can be saved to a CSV file and be taken into account in the section above about existing measurements."
   ]
  },
  {
   "cell_type": "code",
   "execution_count": 1,
   "id": "31c4c402",
   "metadata": {},
   "outputs": [],
   "source": [
    "import pandas as pd\n",
    "import utils\n",
    "from datetime import datetime"
   ]
  },
  {
   "cell_type": "code",
   "execution_count": null,
   "id": "2a12853a",
   "metadata": {},
   "outputs": [],
   "source": []
  },
  {
   "cell_type": "code",
   "execution_count": 2,
   "id": "82f5f616",
   "metadata": {},
   "outputs": [],
   "source": [
    "corpus = pd.read_csv('./2022-06-23_kbr/csv/integrated-data-enriched.csv', index_col='targetIdentifier')\n",
    "corpusNLFR = corpus[(corpus['sourceLanguage'] == 'Dutch') & (corpus['targetLanguage'] == 'French') ]\n",
    "corpusFRNL = corpus[(corpus['sourceLanguage'] == 'French') & (corpus['targetLanguage'] == 'Dutch') ]\n",
    "corpusOther = corpus[ ((corpus['sourceLanguage'] != 'Dutch') & (corpus['sourceLanguage'] != 'French')) | ((corpus['targetLanguage'] != 'Dutch') & (corpus['targetLanguage'] != 'French'))]"
   ]
  },
  {
   "cell_type": "code",
   "execution_count": 3,
   "id": "a529afc7",
   "metadata": {},
   "outputs": [],
   "source": [
    "comment = \"No ISBN duplicate removal anymore to prevent data loss\"\n",
    "measurements = pd.DataFrame([\n",
    "  utils.createCorpusMeasurements(corpusFRNL, 'FR-NL', comment),\n",
    "  utils.createCorpusMeasurements(corpusNLFR, 'NL-FR', comment),\n",
    "  utils.createCorpusMeasurements(corpusOther, 'OTHER', comment)\n",
    "])"
   ]
  },
  {
   "cell_type": "code",
   "execution_count": 4,
   "id": "783e64be",
   "metadata": {},
   "outputs": [],
   "source": [
    "convertedFRNL = corpusFRNL.fillna('')"
   ]
  },
  {
   "cell_type": "code",
   "execution_count": 5,
   "id": "a6acba1d",
   "metadata": {},
   "outputs": [
    {
     "data": {
      "text/plain": [
       "7065"
      ]
     },
     "execution_count": 5,
     "metadata": {},
     "output_type": "execute_result"
    }
   ],
   "source": [
    "(convertedFRNL['targetISBN13'].values != '').sum()"
   ]
  },
  {
   "cell_type": "code",
   "execution_count": 6,
   "id": "89fa37e6",
   "metadata": {},
   "outputs": [
    {
     "data": {
      "text/html": [
       "<div>\n",
       "<style scoped>\n",
       "    .dataframe tbody tr th:only-of-type {\n",
       "        vertical-align: middle;\n",
       "    }\n",
       "\n",
       "    .dataframe tbody tr th {\n",
       "        vertical-align: top;\n",
       "    }\n",
       "\n",
       "    .dataframe thead th {\n",
       "        text-align: right;\n",
       "    }\n",
       "</style>\n",
       "<table border=\"1\" class=\"dataframe\">\n",
       "  <thead>\n",
       "    <tr style=\"text-align: right;\">\n",
       "      <th></th>\n",
       "      <th>date</th>\n",
       "      <th>corpus</th>\n",
       "      <th>numberTranslations</th>\n",
       "      <th>withTargetISBN10</th>\n",
       "      <th>withTargetISBN13</th>\n",
       "      <th>withKBRIdentifier</th>\n",
       "      <th>withBnFIdentifier</th>\n",
       "      <th>withKBIdentifier</th>\n",
       "      <th>withKBRBnFAndKBIdentifier</th>\n",
       "      <th>withKBRAndBnFIdentifier</th>\n",
       "      <th>withKBRAndKBIdentifier</th>\n",
       "      <th>withBnFAndKBIdentifier</th>\n",
       "      <th>withBBThesaurusID</th>\n",
       "      <th>withSourceKBRIdentifier</th>\n",
       "      <th>withKBRSourceTitle</th>\n",
       "      <th>withKBSourceTitle</th>\n",
       "      <th>withSourceISBN10</th>\n",
       "      <th>withSourceISBN13</th>\n",
       "      <th>comment</th>\n",
       "    </tr>\n",
       "  </thead>\n",
       "  <tbody>\n",
       "    <tr>\n",
       "      <th>0</th>\n",
       "      <td>2022-06-24 14:30:52.262214</td>\n",
       "      <td>FR-NL</td>\n",
       "      <td>7752</td>\n",
       "      <td>7061</td>\n",
       "      <td>7065</td>\n",
       "      <td>7040</td>\n",
       "      <td>52</td>\n",
       "      <td>1983</td>\n",
       "      <td>4</td>\n",
       "      <td>13</td>\n",
       "      <td>1310</td>\n",
       "      <td>4</td>\n",
       "      <td>6881</td>\n",
       "      <td>131</td>\n",
       "      <td>2489</td>\n",
       "      <td>1983</td>\n",
       "      <td>96</td>\n",
       "      <td>114</td>\n",
       "      <td>No ISBN duplicate removal anymore to prevent d...</td>\n",
       "    </tr>\n",
       "    <tr>\n",
       "      <th>1</th>\n",
       "      <td>2022-06-24 14:30:52.534531</td>\n",
       "      <td>NL-FR</td>\n",
       "      <td>3897</td>\n",
       "      <td>3343</td>\n",
       "      <td>3367</td>\n",
       "      <td>3420</td>\n",
       "      <td>1207</td>\n",
       "      <td>728</td>\n",
       "      <td>208</td>\n",
       "      <td>928</td>\n",
       "      <td>491</td>\n",
       "      <td>247</td>\n",
       "      <td>2847</td>\n",
       "      <td>190</td>\n",
       "      <td>1185</td>\n",
       "      <td>728</td>\n",
       "      <td>169</td>\n",
       "      <td>171</td>\n",
       "      <td>No ISBN duplicate removal anymore to prevent d...</td>\n",
       "    </tr>\n",
       "    <tr>\n",
       "      <th>2</th>\n",
       "      <td>2022-06-24 14:30:52.791451</td>\n",
       "      <td>OTHER</td>\n",
       "      <td>284</td>\n",
       "      <td>230</td>\n",
       "      <td>230</td>\n",
       "      <td>278</td>\n",
       "      <td>77</td>\n",
       "      <td>11</td>\n",
       "      <td>2</td>\n",
       "      <td>71</td>\n",
       "      <td>10</td>\n",
       "      <td>3</td>\n",
       "      <td>243</td>\n",
       "      <td>3</td>\n",
       "      <td>11</td>\n",
       "      <td>11</td>\n",
       "      <td>2</td>\n",
       "      <td>2</td>\n",
       "      <td>No ISBN duplicate removal anymore to prevent d...</td>\n",
       "    </tr>\n",
       "  </tbody>\n",
       "</table>\n",
       "</div>"
      ],
      "text/plain": [
       "                        date corpus  numberTranslations  withTargetISBN10  \\\n",
       "0 2022-06-24 14:30:52.262214  FR-NL                7752              7061   \n",
       "1 2022-06-24 14:30:52.534531  NL-FR                3897              3343   \n",
       "2 2022-06-24 14:30:52.791451  OTHER                 284               230   \n",
       "\n",
       "   withTargetISBN13  withKBRIdentifier  withBnFIdentifier  withKBIdentifier  \\\n",
       "0              7065               7040                 52              1983   \n",
       "1              3367               3420               1207               728   \n",
       "2               230                278                 77                11   \n",
       "\n",
       "   withKBRBnFAndKBIdentifier  withKBRAndBnFIdentifier  withKBRAndKBIdentifier  \\\n",
       "0                          4                       13                    1310   \n",
       "1                        208                      928                     491   \n",
       "2                          2                       71                      10   \n",
       "\n",
       "   withBnFAndKBIdentifier  withBBThesaurusID  withSourceKBRIdentifier  \\\n",
       "0                       4               6881                      131   \n",
       "1                     247               2847                      190   \n",
       "2                       3                243                        3   \n",
       "\n",
       "   withKBRSourceTitle  withKBSourceTitle  withSourceISBN10  withSourceISBN13  \\\n",
       "0                2489               1983                96               114   \n",
       "1                1185                728               169               171   \n",
       "2                  11                 11                 2                 2   \n",
       "\n",
       "                                             comment  \n",
       "0  No ISBN duplicate removal anymore to prevent d...  \n",
       "1  No ISBN duplicate removal anymore to prevent d...  \n",
       "2  No ISBN duplicate removal anymore to prevent d...  "
      ]
     },
     "execution_count": 6,
     "metadata": {},
     "output_type": "execute_result"
    }
   ],
   "source": [
    "measurements"
   ]
  },
  {
   "cell_type": "code",
   "execution_count": 7,
   "id": "8d491536",
   "metadata": {},
   "outputs": [],
   "source": [
    "measurements.to_csv('2022-06-23-translation-stats.csv', index=False)"
   ]
  },
  {
   "cell_type": "markdown",
   "id": "82f9e0da",
   "metadata": {},
   "source": [
    "## Create new contributor measurements"
   ]
  },
  {
   "cell_type": "code",
   "execution_count": 8,
   "id": "5a21df4c",
   "metadata": {},
   "outputs": [],
   "source": [
    "personContributors = pd.read_csv('./2022-06-23_kbr/csv/contributors-persons.csv', index_col='contributorID')"
   ]
  },
  {
   "cell_type": "code",
   "execution_count": 9,
   "id": "ef85aae6",
   "metadata": {},
   "outputs": [],
   "source": [
    "personComment = \"No ISBN duplicate removal anymore to prevent data loss\"\n",
    "personContributorsMeasurements = pd.DataFrame([\n",
    "    utils.createContributorCorpusMeasurements(personContributors, personComment)\n",
    "])"
   ]
  },
  {
   "cell_type": "code",
   "execution_count": 10,
   "id": "e6878c69",
   "metadata": {},
   "outputs": [
    {
     "data": {
      "text/html": [
       "<div>\n",
       "<style scoped>\n",
       "    .dataframe tbody tr th:only-of-type {\n",
       "        vertical-align: middle;\n",
       "    }\n",
       "\n",
       "    .dataframe tbody tr th {\n",
       "        vertical-align: top;\n",
       "    }\n",
       "\n",
       "    .dataframe thead th {\n",
       "        text-align: right;\n",
       "    }\n",
       "</style>\n",
       "<table border=\"1\" class=\"dataframe\">\n",
       "  <thead>\n",
       "    <tr style=\"text-align: right;\">\n",
       "      <th></th>\n",
       "      <th>date</th>\n",
       "      <th>numberContributors</th>\n",
       "      <th>withKBRIdentifier</th>\n",
       "      <th>withBnFIdentifier</th>\n",
       "      <th>withKBIdentifier</th>\n",
       "      <th>withKBRBnFAndKBIdentifier</th>\n",
       "      <th>withKBRAndBnFIdentifier</th>\n",
       "      <th>withKBRAndKBIdentifier</th>\n",
       "      <th>withBnFAndKBIdentifier</th>\n",
       "      <th>withISNIIdentifier</th>\n",
       "      <th>...</th>\n",
       "      <th>withMultipleKBRIdentifiers</th>\n",
       "      <th>withMultipleBnFIdentifiers</th>\n",
       "      <th>withMultipleNTAIdentifiers</th>\n",
       "      <th>withMultipleISNIIdentifiers</th>\n",
       "      <th>withMultipleVIAFIdentifiers</th>\n",
       "      <th>withMultipleWikidataIdentifiers</th>\n",
       "      <th>withMultipleBirthDates</th>\n",
       "      <th>withMultipleDeathDates</th>\n",
       "      <th>withMultipleNationalities</th>\n",
       "      <th>comment</th>\n",
       "    </tr>\n",
       "  </thead>\n",
       "  <tbody>\n",
       "    <tr>\n",
       "      <th>0</th>\n",
       "      <td>2022-06-24 14:30:53.051889</td>\n",
       "      <td>5901</td>\n",
       "      <td>5272</td>\n",
       "      <td>1232</td>\n",
       "      <td>1067</td>\n",
       "      <td>233</td>\n",
       "      <td>854</td>\n",
       "      <td>778</td>\n",
       "      <td>271</td>\n",
       "      <td>4527</td>\n",
       "      <td>...</td>\n",
       "      <td>27</td>\n",
       "      <td>8</td>\n",
       "      <td>4</td>\n",
       "      <td>9</td>\n",
       "      <td>23</td>\n",
       "      <td>0</td>\n",
       "      <td>44</td>\n",
       "      <td>10</td>\n",
       "      <td>105</td>\n",
       "      <td>No ISBN duplicate removal anymore to prevent d...</td>\n",
       "    </tr>\n",
       "  </tbody>\n",
       "</table>\n",
       "<p>1 rows × 25 columns</p>\n",
       "</div>"
      ],
      "text/plain": [
       "                        date  numberContributors  withKBRIdentifier  \\\n",
       "0 2022-06-24 14:30:53.051889                5901               5272   \n",
       "\n",
       "   withBnFIdentifier  withKBIdentifier  withKBRBnFAndKBIdentifier  \\\n",
       "0               1232              1067                        233   \n",
       "\n",
       "   withKBRAndBnFIdentifier  withKBRAndKBIdentifier  withBnFAndKBIdentifier  \\\n",
       "0                      854                     778                     271   \n",
       "\n",
       "   withISNIIdentifier  ...  withMultipleKBRIdentifiers  \\\n",
       "0                4527  ...                          27   \n",
       "\n",
       "   withMultipleBnFIdentifiers  withMultipleNTAIdentifiers  \\\n",
       "0                           8                           4   \n",
       "\n",
       "   withMultipleISNIIdentifiers  withMultipleVIAFIdentifiers  \\\n",
       "0                            9                           23   \n",
       "\n",
       "   withMultipleWikidataIdentifiers  withMultipleBirthDates  \\\n",
       "0                                0                      44   \n",
       "\n",
       "   withMultipleDeathDates  withMultipleNationalities  \\\n",
       "0                      10                        105   \n",
       "\n",
       "                                             comment  \n",
       "0  No ISBN duplicate removal anymore to prevent d...  \n",
       "\n",
       "[1 rows x 25 columns]"
      ]
     },
     "execution_count": 10,
     "metadata": {},
     "output_type": "execute_result"
    }
   ],
   "source": [
    "personContributorsMeasurements"
   ]
  },
  {
   "cell_type": "code",
   "execution_count": 11,
   "id": "82ad9d5a",
   "metadata": {},
   "outputs": [],
   "source": [
    "personContributorsMeasurements.to_csv('2022-06-23-person-contributor-stats.csv', index=False)"
   ]
  }
 ],
 "metadata": {
  "kernelspec": {
   "display_name": "py-integration-env",
   "language": "python",
   "name": "py-integration-env"
  },
  "language_info": {
   "codemirror_mode": {
    "name": "ipython",
    "version": 3
   },
   "file_extension": ".py",
   "mimetype": "text/x-python",
   "name": "python",
   "nbconvert_exporter": "python",
   "pygments_lexer": "ipython3",
   "version": "3.8.10"
  },
  "toc": {
   "base_numbering": 1,
   "nav_menu": {},
   "number_sections": true,
   "sideBar": true,
   "skip_h1_title": false,
   "title_cell": "Table of Contents",
   "title_sidebar": "Contents",
   "toc_cell": false,
   "toc_position": {},
   "toc_section_display": true,
   "toc_window_display": false
  }
 },
 "nbformat": 4,
 "nbformat_minor": 5
}
