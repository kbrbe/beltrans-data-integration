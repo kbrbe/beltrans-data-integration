{
 "cells": [
  {
   "cell_type": "markdown",
   "id": "3db81d56",
   "metadata": {},
   "source": [
    "## Create new manifestation measurements\n",
    "\n",
    "The following code is used to create new statistics. They can be saved to a CSV file and be taken into account in the section above about existing measurements."
   ]
  },
  {
   "cell_type": "code",
   "execution_count": 1,
   "id": "31c4c402",
   "metadata": {},
   "outputs": [],
   "source": [
    "import pandas as pd\n",
    "import utils\n",
    "from datetime import datetime"
   ]
  },
  {
   "cell_type": "code",
   "execution_count": null,
   "id": "2a12853a",
   "metadata": {},
   "outputs": [],
   "source": []
  },
  {
   "cell_type": "code",
   "execution_count": 2,
   "id": "82f5f616",
   "metadata": {},
   "outputs": [],
   "source": [
    "corpus = pd.read_csv('./2022-06-20_with-duplicate-removing/csv/integrated-data-enriched.csv', index_col='targetIdentifier')\n",
    "corpusNLFR = corpus[(corpus['sourceLanguage'] == 'Dutch') & (corpus['targetLanguage'] == 'French') ]\n",
    "corpusFRNL = corpus[(corpus['sourceLanguage'] == 'French') & (corpus['targetLanguage'] == 'Dutch') ]\n",
    "corpusOther = corpus[ ((corpus['sourceLanguage'] != 'Dutch') & (corpus['sourceLanguage'] != 'French')) | ((corpus['targetLanguage'] != 'Dutch') & (corpus['targetLanguage'] != 'French'))]"
   ]
  },
  {
   "cell_type": "code",
   "execution_count": 3,
   "id": "a529afc7",
   "metadata": {},
   "outputs": [],
   "source": [
    "comment = \"New KBR data dump with plenty of additions and refinements and ISBN fix for FR-NL.\"\n",
    "measurements = pd.DataFrame([\n",
    "  utils.createCorpusMeasurements(corpusFRNL, 'FR-NL', comment),\n",
    "  utils.createCorpusMeasurements(corpusNLFR, 'NL-FR', comment),\n",
    "  utils.createCorpusMeasurements(corpusOther, 'OTHER', comment)\n",
    "])"
   ]
  },
  {
   "cell_type": "code",
   "execution_count": 4,
   "id": "783e64be",
   "metadata": {},
   "outputs": [],
   "source": [
    "convertedFRNL = corpusFRNL.fillna('')"
   ]
  },
  {
   "cell_type": "code",
   "execution_count": 5,
   "id": "a6acba1d",
   "metadata": {},
   "outputs": [
    {
     "data": {
      "text/plain": [
       "6663"
      ]
     },
     "execution_count": 5,
     "metadata": {},
     "output_type": "execute_result"
    }
   ],
   "source": [
    "(convertedFRNL['targetISBN13'].values != '').sum()"
   ]
  },
  {
   "cell_type": "code",
   "execution_count": 6,
   "id": "89fa37e6",
   "metadata": {},
   "outputs": [
    {
     "data": {
      "text/html": [
       "<div>\n",
       "<style scoped>\n",
       "    .dataframe tbody tr th:only-of-type {\n",
       "        vertical-align: middle;\n",
       "    }\n",
       "\n",
       "    .dataframe tbody tr th {\n",
       "        vertical-align: top;\n",
       "    }\n",
       "\n",
       "    .dataframe thead th {\n",
       "        text-align: right;\n",
       "    }\n",
       "</style>\n",
       "<table border=\"1\" class=\"dataframe\">\n",
       "  <thead>\n",
       "    <tr style=\"text-align: right;\">\n",
       "      <th></th>\n",
       "      <th>date</th>\n",
       "      <th>corpus</th>\n",
       "      <th>numberTranslations</th>\n",
       "      <th>withTargetISBN10</th>\n",
       "      <th>withTargetISBN13</th>\n",
       "      <th>withKBRIdentifier</th>\n",
       "      <th>withBnFIdentifier</th>\n",
       "      <th>withKBIdentifier</th>\n",
       "      <th>withBBThesaurusID</th>\n",
       "      <th>withSourceKBRIdentifier</th>\n",
       "      <th>withKBRSourceTitle</th>\n",
       "      <th>withKBSourceTitle</th>\n",
       "      <th>withSourceISBN10</th>\n",
       "      <th>withSourceISBN13</th>\n",
       "      <th>comment</th>\n",
       "    </tr>\n",
       "  </thead>\n",
       "  <tbody>\n",
       "    <tr>\n",
       "      <th>0</th>\n",
       "      <td>2022-06-21 12:55:37.541880</td>\n",
       "      <td>FR-NL</td>\n",
       "      <td>7350</td>\n",
       "      <td>6659</td>\n",
       "      <td>6663</td>\n",
       "      <td>6669</td>\n",
       "      <td>51</td>\n",
       "      <td>1890</td>\n",
       "      <td>6524</td>\n",
       "      <td>127</td>\n",
       "      <td>2399</td>\n",
       "      <td>1890</td>\n",
       "      <td>93</td>\n",
       "      <td>111</td>\n",
       "      <td>New KBR data dump with plenty of additions and...</td>\n",
       "    </tr>\n",
       "    <tr>\n",
       "      <th>1</th>\n",
       "      <td>2022-06-21 12:55:37.657670</td>\n",
       "      <td>NL-FR</td>\n",
       "      <td>3724</td>\n",
       "      <td>3170</td>\n",
       "      <td>3194</td>\n",
       "      <td>3247</td>\n",
       "      <td>1136</td>\n",
       "      <td>632</td>\n",
       "      <td>2717</td>\n",
       "      <td>182</td>\n",
       "      <td>1106</td>\n",
       "      <td>632</td>\n",
       "      <td>161</td>\n",
       "      <td>163</td>\n",
       "      <td>New KBR data dump with plenty of additions and...</td>\n",
       "    </tr>\n",
       "    <tr>\n",
       "      <th>2</th>\n",
       "      <td>2022-06-21 12:55:37.717150</td>\n",
       "      <td>OTHER</td>\n",
       "      <td>268</td>\n",
       "      <td>214</td>\n",
       "      <td>214</td>\n",
       "      <td>262</td>\n",
       "      <td>69</td>\n",
       "      <td>11</td>\n",
       "      <td>231</td>\n",
       "      <td>3</td>\n",
       "      <td>10</td>\n",
       "      <td>11</td>\n",
       "      <td>2</td>\n",
       "      <td>2</td>\n",
       "      <td>New KBR data dump with plenty of additions and...</td>\n",
       "    </tr>\n",
       "  </tbody>\n",
       "</table>\n",
       "</div>"
      ],
      "text/plain": [
       "                        date corpus  numberTranslations  withTargetISBN10  \\\n",
       "0 2022-06-21 12:55:37.541880  FR-NL                7350              6659   \n",
       "1 2022-06-21 12:55:37.657670  NL-FR                3724              3170   \n",
       "2 2022-06-21 12:55:37.717150  OTHER                 268               214   \n",
       "\n",
       "   withTargetISBN13  withKBRIdentifier  withBnFIdentifier  withKBIdentifier  \\\n",
       "0              6663               6669                 51              1890   \n",
       "1              3194               3247               1136               632   \n",
       "2               214                262                 69                11   \n",
       "\n",
       "   withBBThesaurusID  withSourceKBRIdentifier  withKBRSourceTitle  \\\n",
       "0               6524                      127                2399   \n",
       "1               2717                      182                1106   \n",
       "2                231                        3                  10   \n",
       "\n",
       "   withKBSourceTitle  withSourceISBN10  withSourceISBN13  \\\n",
       "0               1890                93               111   \n",
       "1                632               161               163   \n",
       "2                 11                 2                 2   \n",
       "\n",
       "                                             comment  \n",
       "0  New KBR data dump with plenty of additions and...  \n",
       "1  New KBR data dump with plenty of additions and...  \n",
       "2  New KBR data dump with plenty of additions and...  "
      ]
     },
     "execution_count": 6,
     "metadata": {},
     "output_type": "execute_result"
    }
   ],
   "source": [
    "measurements"
   ]
  },
  {
   "cell_type": "code",
   "execution_count": 7,
   "id": "8d491536",
   "metadata": {},
   "outputs": [],
   "source": [
    "measurements.to_csv('2022-06-20-translation-stats.csv', index=False)"
   ]
  },
  {
   "cell_type": "markdown",
   "id": "82f9e0da",
   "metadata": {},
   "source": [
    "## Create new contributor measurements"
   ]
  },
  {
   "cell_type": "code",
   "execution_count": 8,
   "id": "5a21df4c",
   "metadata": {},
   "outputs": [],
   "source": [
    "personContributors = pd.read_csv('./2022-06-20_with-duplicate-removing/csv/contributors-persons.csv', index_col='contributorID')"
   ]
  },
  {
   "cell_type": "code",
   "execution_count": 9,
   "id": "ef85aae6",
   "metadata": {},
   "outputs": [],
   "source": [
    "personComment = \"New KBR data dump with plenty of additions and refinements.\"\n",
    "personContributorsMeasurements = pd.DataFrame([\n",
    "    utils.createContributorCorpusMeasurements(personContributors, personComment)\n",
    "])"
   ]
  },
  {
   "cell_type": "code",
   "execution_count": 10,
   "id": "e6878c69",
   "metadata": {},
   "outputs": [
    {
     "data": {
      "text/html": [
       "<div>\n",
       "<style scoped>\n",
       "    .dataframe tbody tr th:only-of-type {\n",
       "        vertical-align: middle;\n",
       "    }\n",
       "\n",
       "    .dataframe tbody tr th {\n",
       "        vertical-align: top;\n",
       "    }\n",
       "\n",
       "    .dataframe thead th {\n",
       "        text-align: right;\n",
       "    }\n",
       "</style>\n",
       "<table border=\"1\" class=\"dataframe\">\n",
       "  <thead>\n",
       "    <tr style=\"text-align: right;\">\n",
       "      <th></th>\n",
       "      <th>date</th>\n",
       "      <th>numberContributors</th>\n",
       "      <th>withKBRIdentifier</th>\n",
       "      <th>withBnFIdentifier</th>\n",
       "      <th>withKBIdentifier</th>\n",
       "      <th>withISNIIdentifier</th>\n",
       "      <th>withVIAFIdentifier</th>\n",
       "      <th>withWikidataIdentifier</th>\n",
       "      <th>withBirthDate</th>\n",
       "      <th>withDeathDate</th>\n",
       "      <th>...</th>\n",
       "      <th>withMultipleKBRIdentifiers</th>\n",
       "      <th>withMultipleBnFIdentifiers</th>\n",
       "      <th>withMultipleNTAIdentifiers</th>\n",
       "      <th>withMultipleISNIIdentifiers</th>\n",
       "      <th>withMultipleVIAFIdentifiers</th>\n",
       "      <th>withMultipleWikidataIdentifiers</th>\n",
       "      <th>withMultipleBirthDates</th>\n",
       "      <th>withMultipleDeathDates</th>\n",
       "      <th>withMultipleNationalities</th>\n",
       "      <th>comment</th>\n",
       "    </tr>\n",
       "  </thead>\n",
       "  <tbody>\n",
       "    <tr>\n",
       "      <th>0</th>\n",
       "      <td>2022-06-21 12:55:37.962589</td>\n",
       "      <td>5843</td>\n",
       "      <td>5214</td>\n",
       "      <td>1231</td>\n",
       "      <td>1063</td>\n",
       "      <td>4486</td>\n",
       "      <td>2216</td>\n",
       "      <td>956</td>\n",
       "      <td>2441</td>\n",
       "      <td>603</td>\n",
       "      <td>...</td>\n",
       "      <td>27</td>\n",
       "      <td>8</td>\n",
       "      <td>4</td>\n",
       "      <td>9</td>\n",
       "      <td>23</td>\n",
       "      <td>0</td>\n",
       "      <td>44</td>\n",
       "      <td>10</td>\n",
       "      <td>105</td>\n",
       "      <td>New KBR data dump with plenty of additions and...</td>\n",
       "    </tr>\n",
       "  </tbody>\n",
       "</table>\n",
       "<p>1 rows × 21 columns</p>\n",
       "</div>"
      ],
      "text/plain": [
       "                        date  numberContributors  withKBRIdentifier  \\\n",
       "0 2022-06-21 12:55:37.962589                5843               5214   \n",
       "\n",
       "   withBnFIdentifier  withKBIdentifier  withISNIIdentifier  \\\n",
       "0               1231              1063                4486   \n",
       "\n",
       "   withVIAFIdentifier  withWikidataIdentifier  withBirthDate  withDeathDate  \\\n",
       "0                2216                     956           2441            603   \n",
       "\n",
       "   ...  withMultipleKBRIdentifiers  withMultipleBnFIdentifiers  \\\n",
       "0  ...                          27                           8   \n",
       "\n",
       "   withMultipleNTAIdentifiers  withMultipleISNIIdentifiers  \\\n",
       "0                           4                            9   \n",
       "\n",
       "   withMultipleVIAFIdentifiers  withMultipleWikidataIdentifiers  \\\n",
       "0                           23                                0   \n",
       "\n",
       "   withMultipleBirthDates  withMultipleDeathDates  withMultipleNationalities  \\\n",
       "0                      44                      10                        105   \n",
       "\n",
       "                                             comment  \n",
       "0  New KBR data dump with plenty of additions and...  \n",
       "\n",
       "[1 rows x 21 columns]"
      ]
     },
     "execution_count": 10,
     "metadata": {},
     "output_type": "execute_result"
    }
   ],
   "source": [
    "personContributorsMeasurements"
   ]
  },
  {
   "cell_type": "code",
   "execution_count": 11,
   "id": "82ad9d5a",
   "metadata": {},
   "outputs": [],
   "source": [
    "personContributorsMeasurements.to_csv('2022-06-20-person-contributor-stats.csv', index=False)"
   ]
  }
 ],
 "metadata": {
  "kernelspec": {
   "display_name": "py-integration-env",
   "language": "python",
   "name": "py-integration-env"
  },
  "language_info": {
   "codemirror_mode": {
    "name": "ipython",
    "version": 3
   },
   "file_extension": ".py",
   "mimetype": "text/x-python",
   "name": "python",
   "nbconvert_exporter": "python",
   "pygments_lexer": "ipython3",
   "version": "3.8.10"
  },
  "toc": {
   "base_numbering": 1,
   "nav_menu": {},
   "number_sections": true,
   "sideBar": true,
   "skip_h1_title": false,
   "title_cell": "Table of Contents",
   "title_sidebar": "Contents",
   "toc_cell": false,
   "toc_position": {},
   "toc_section_display": true,
   "toc_window_display": false
  }
 },
 "nbformat": 4,
 "nbformat_minor": 5
}
