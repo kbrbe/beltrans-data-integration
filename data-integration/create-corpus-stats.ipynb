{
 "cells": [
  {
   "cell_type": "markdown",
   "id": "3db81d56",
   "metadata": {},
   "source": [
    "## Create new manifestation measurements\n",
    "\n",
    "The following code is used to create new statistics. They can be saved to a CSV file and be taken into account in the section above about existing measurements."
   ]
  },
  {
   "cell_type": "code",
   "execution_count": 6,
   "id": "31c4c402",
   "metadata": {},
   "outputs": [],
   "source": [
    "import pandas as pd\n",
    "import utils\n",
    "import utils_stats\n",
    "from datetime import datetime"
   ]
  },
  {
   "cell_type": "code",
   "execution_count": 2,
   "id": "82f5f616",
   "metadata": {},
   "outputs": [],
   "source": [
    "corpus = pd.read_csv('./2022-06-24_kbr/csv/integrated-data-enriched.csv', index_col='targetIdentifier')\n",
    "corpusNLFR = corpus[(corpus['sourceLanguage'] == 'Dutch') & (corpus['targetLanguage'] == 'French') ]\n",
    "corpusFRNL = corpus[(corpus['sourceLanguage'] == 'French') & (corpus['targetLanguage'] == 'Dutch') ]\n",
    "corpusOther = corpus[ ((corpus['sourceLanguage'] != 'Dutch') & (corpus['sourceLanguage'] != 'French')) | ((corpus['targetLanguage'] != 'Dutch') & (corpus['targetLanguage'] != 'French'))]"
   ]
  },
  {
   "cell_type": "code",
   "execution_count": 3,
   "id": "a529afc7",
   "metadata": {},
   "outputs": [],
   "source": [
    "comment = \"New KBR dump with old Dutch, old French and middle French as well as new data in general\"\n",
    "measurements = pd.DataFrame([\n",
    "  utils.createCorpusMeasurements(corpusFRNL, 'FR-NL', comment),\n",
    "  utils.createCorpusMeasurements(corpusNLFR, 'NL-FR', comment),\n",
    "  utils.createCorpusMeasurements(corpusOther, 'OTHER', comment)\n",
    "])"
   ]
  },
  {
   "cell_type": "code",
   "execution_count": 4,
   "id": "783e64be",
   "metadata": {},
   "outputs": [],
   "source": [
    "convertedFRNL = corpusFRNL.fillna('')"
   ]
  },
  {
   "cell_type": "code",
   "execution_count": 5,
   "id": "a6acba1d",
   "metadata": {},
   "outputs": [
    {
     "data": {
      "text/plain": [
       "7321"
      ]
     },
     "execution_count": 5,
     "metadata": {},
     "output_type": "execute_result"
    }
   ],
   "source": [
    "(convertedFRNL['targetISBN13'].values != '').sum()"
   ]
  },
  {
   "cell_type": "code",
   "execution_count": 6,
   "id": "89fa37e6",
   "metadata": {},
   "outputs": [
    {
     "data": {
      "text/html": [
       "<div>\n",
       "<style scoped>\n",
       "    .dataframe tbody tr th:only-of-type {\n",
       "        vertical-align: middle;\n",
       "    }\n",
       "\n",
       "    .dataframe tbody tr th {\n",
       "        vertical-align: top;\n",
       "    }\n",
       "\n",
       "    .dataframe thead th {\n",
       "        text-align: right;\n",
       "    }\n",
       "</style>\n",
       "<table border=\"1\" class=\"dataframe\">\n",
       "  <thead>\n",
       "    <tr style=\"text-align: right;\">\n",
       "      <th></th>\n",
       "      <th>date</th>\n",
       "      <th>corpus</th>\n",
       "      <th>numberTranslations</th>\n",
       "      <th>withTargetISBN10</th>\n",
       "      <th>withTargetISBN13</th>\n",
       "      <th>withKBRIdentifier</th>\n",
       "      <th>withBnFIdentifier</th>\n",
       "      <th>withKBIdentifier</th>\n",
       "      <th>withKBRBnFAndKBIdentifier</th>\n",
       "      <th>withKBRAndBnFIdentifier</th>\n",
       "      <th>withKBRAndKBIdentifier</th>\n",
       "      <th>withBnFAndKBIdentifier</th>\n",
       "      <th>withBBThesaurusID</th>\n",
       "      <th>withSourceKBRIdentifier</th>\n",
       "      <th>withKBRSourceTitle</th>\n",
       "      <th>withKBSourceTitle</th>\n",
       "      <th>withSourceISBN10</th>\n",
       "      <th>withSourceISBN13</th>\n",
       "      <th>comment</th>\n",
       "    </tr>\n",
       "  </thead>\n",
       "  <tbody>\n",
       "    <tr>\n",
       "      <th>0</th>\n",
       "      <td>2022-06-24 17:01:04.889684</td>\n",
       "      <td>FR-NL</td>\n",
       "      <td>8149</td>\n",
       "      <td>7316</td>\n",
       "      <td>7321</td>\n",
       "      <td>7439</td>\n",
       "      <td>51</td>\n",
       "      <td>1990</td>\n",
       "      <td>4</td>\n",
       "      <td>13</td>\n",
       "      <td>1318</td>\n",
       "      <td>4</td>\n",
       "      <td>7250</td>\n",
       "      <td>137</td>\n",
       "      <td>2504</td>\n",
       "      <td>1990</td>\n",
       "      <td>99</td>\n",
       "      <td>117</td>\n",
       "      <td>New KBR dump with old Dutch, old French and mi...</td>\n",
       "    </tr>\n",
       "    <tr>\n",
       "      <th>1</th>\n",
       "      <td>2022-06-24 17:01:05.402486</td>\n",
       "      <td>NL-FR</td>\n",
       "      <td>3997</td>\n",
       "      <td>3412</td>\n",
       "      <td>3436</td>\n",
       "      <td>3525</td>\n",
       "      <td>1209</td>\n",
       "      <td>727</td>\n",
       "      <td>210</td>\n",
       "      <td>933</td>\n",
       "      <td>494</td>\n",
       "      <td>247</td>\n",
       "      <td>2929</td>\n",
       "      <td>192</td>\n",
       "      <td>1194</td>\n",
       "      <td>727</td>\n",
       "      <td>170</td>\n",
       "      <td>172</td>\n",
       "      <td>New KBR dump with old Dutch, old French and mi...</td>\n",
       "    </tr>\n",
       "    <tr>\n",
       "      <th>2</th>\n",
       "      <td>2022-06-24 17:01:05.679665</td>\n",
       "      <td>OTHER</td>\n",
       "      <td>315</td>\n",
       "      <td>234</td>\n",
       "      <td>234</td>\n",
       "      <td>309</td>\n",
       "      <td>77</td>\n",
       "      <td>11</td>\n",
       "      <td>2</td>\n",
       "      <td>71</td>\n",
       "      <td>10</td>\n",
       "      <td>3</td>\n",
       "      <td>273</td>\n",
       "      <td>4</td>\n",
       "      <td>12</td>\n",
       "      <td>11</td>\n",
       "      <td>2</td>\n",
       "      <td>2</td>\n",
       "      <td>New KBR dump with old Dutch, old French and mi...</td>\n",
       "    </tr>\n",
       "  </tbody>\n",
       "</table>\n",
       "</div>"
      ],
      "text/plain": [
       "                        date corpus  numberTranslations  withTargetISBN10  \\\n",
       "0 2022-06-24 17:01:04.889684  FR-NL                8149              7316   \n",
       "1 2022-06-24 17:01:05.402486  NL-FR                3997              3412   \n",
       "2 2022-06-24 17:01:05.679665  OTHER                 315               234   \n",
       "\n",
       "   withTargetISBN13  withKBRIdentifier  withBnFIdentifier  withKBIdentifier  \\\n",
       "0              7321               7439                 51              1990   \n",
       "1              3436               3525               1209               727   \n",
       "2               234                309                 77                11   \n",
       "\n",
       "   withKBRBnFAndKBIdentifier  withKBRAndBnFIdentifier  withKBRAndKBIdentifier  \\\n",
       "0                          4                       13                    1318   \n",
       "1                        210                      933                     494   \n",
       "2                          2                       71                      10   \n",
       "\n",
       "   withBnFAndKBIdentifier  withBBThesaurusID  withSourceKBRIdentifier  \\\n",
       "0                       4               7250                      137   \n",
       "1                     247               2929                      192   \n",
       "2                       3                273                        4   \n",
       "\n",
       "   withKBRSourceTitle  withKBSourceTitle  withSourceISBN10  withSourceISBN13  \\\n",
       "0                2504               1990                99               117   \n",
       "1                1194                727               170               172   \n",
       "2                  12                 11                 2                 2   \n",
       "\n",
       "                                             comment  \n",
       "0  New KBR dump with old Dutch, old French and mi...  \n",
       "1  New KBR dump with old Dutch, old French and mi...  \n",
       "2  New KBR dump with old Dutch, old French and mi...  "
      ]
     },
     "execution_count": 6,
     "metadata": {},
     "output_type": "execute_result"
    }
   ],
   "source": [
    "measurements"
   ]
  },
  {
   "cell_type": "code",
   "execution_count": 7,
   "id": "8d491536",
   "metadata": {},
   "outputs": [],
   "source": [
    "#measurements.to_csv('./measurements/2022-06-24-translation-stats.csv', index=False)"
   ]
  },
  {
   "cell_type": "markdown",
   "id": "82f9e0da",
   "metadata": {},
   "source": [
    "## Create new contributor measurements"
   ]
  },
  {
   "cell_type": "code",
   "execution_count": 43,
   "id": "5a21df4c",
   "metadata": {},
   "outputs": [],
   "source": [
    "personContributors = pd.read_csv('./2022-06-24_kbr/csv/contributors-persons.csv', index_col='contributorID')"
   ]
  },
  {
   "cell_type": "code",
   "execution_count": 44,
   "id": "ef85aae6",
   "metadata": {},
   "outputs": [],
   "source": [
    "personComment = \"New KBR dump with old Dutch, old French and middle French as well as new data in general\"\n",
    "personContributorsMeasurements = pd.DataFrame([\n",
    "    utils_stats.createContributorCorpusMeasurements(personContributors, personComment)\n",
    "])"
   ]
  },
  {
   "cell_type": "code",
   "execution_count": 45,
   "id": "e6878c69",
   "metadata": {},
   "outputs": [
    {
     "data": {
      "text/html": [
       "<div>\n",
       "<style scoped>\n",
       "    .dataframe tbody tr th:only-of-type {\n",
       "        vertical-align: middle;\n",
       "    }\n",
       "\n",
       "    .dataframe tbody tr th {\n",
       "        vertical-align: top;\n",
       "    }\n",
       "\n",
       "    .dataframe thead th {\n",
       "        text-align: right;\n",
       "    }\n",
       "</style>\n",
       "<table border=\"1\" class=\"dataframe\">\n",
       "  <thead>\n",
       "    <tr style=\"text-align: right;\">\n",
       "      <th></th>\n",
       "      <th>date</th>\n",
       "      <th>numberContributors</th>\n",
       "      <th>withKBRIdentifier</th>\n",
       "      <th>withBnFIdentifier</th>\n",
       "      <th>withKBIdentifier</th>\n",
       "      <th>withKBRBnFAndKBIdentifier</th>\n",
       "      <th>withKBRAndBnFIdentifier</th>\n",
       "      <th>withKBRAndKBIdentifier</th>\n",
       "      <th>withBnFAndKBIdentifier</th>\n",
       "      <th>withISNIIdentifier</th>\n",
       "      <th>...</th>\n",
       "      <th>withMultipleKBRIdentifiers</th>\n",
       "      <th>withMultipleBnFIdentifiers</th>\n",
       "      <th>withMultipleNTAIdentifiers</th>\n",
       "      <th>withMultipleISNIIdentifiers</th>\n",
       "      <th>withMultipleVIAFIdentifiers</th>\n",
       "      <th>withMultipleWikidataIdentifiers</th>\n",
       "      <th>withMultipleBirthDates</th>\n",
       "      <th>withMultipleDeathDates</th>\n",
       "      <th>withMultipleNationalities</th>\n",
       "      <th>comment</th>\n",
       "    </tr>\n",
       "  </thead>\n",
       "  <tbody>\n",
       "    <tr>\n",
       "      <th>0</th>\n",
       "      <td>2022-07-18 11:25:35.393105</td>\n",
       "      <td>6243</td>\n",
       "      <td>5621</td>\n",
       "      <td>1237</td>\n",
       "      <td>1079</td>\n",
       "      <td>235</td>\n",
       "      <td>864</td>\n",
       "      <td>792</td>\n",
       "      <td>273</td>\n",
       "      <td>4742</td>\n",
       "      <td>...</td>\n",
       "      <td>26</td>\n",
       "      <td>8</td>\n",
       "      <td>4</td>\n",
       "      <td>9</td>\n",
       "      <td>23</td>\n",
       "      <td>0</td>\n",
       "      <td>47</td>\n",
       "      <td>10</td>\n",
       "      <td>106</td>\n",
       "      <td>New KBR dump with old Dutch, old French and mi...</td>\n",
       "    </tr>\n",
       "  </tbody>\n",
       "</table>\n",
       "<p>1 rows × 28 columns</p>\n",
       "</div>"
      ],
      "text/plain": [
       "                        date  numberContributors  withKBRIdentifier  \\\n",
       "0 2022-07-18 11:25:35.393105                6243               5621   \n",
       "\n",
       "   withBnFIdentifier  withKBIdentifier  withKBRBnFAndKBIdentifier  \\\n",
       "0               1237              1079                        235   \n",
       "\n",
       "   withKBRAndBnFIdentifier  withKBRAndKBIdentifier  withBnFAndKBIdentifier  \\\n",
       "0                      864                     792                     273   \n",
       "\n",
       "   withISNIIdentifier  ...  withMultipleKBRIdentifiers  \\\n",
       "0                4742  ...                          26   \n",
       "\n",
       "   withMultipleBnFIdentifiers  withMultipleNTAIdentifiers  \\\n",
       "0                           8                           4   \n",
       "\n",
       "   withMultipleISNIIdentifiers  withMultipleVIAFIdentifiers  \\\n",
       "0                            9                           23   \n",
       "\n",
       "   withMultipleWikidataIdentifiers  withMultipleBirthDates  \\\n",
       "0                                0                      47   \n",
       "\n",
       "   withMultipleDeathDates  withMultipleNationalities  \\\n",
       "0                      10                        106   \n",
       "\n",
       "                                             comment  \n",
       "0  New KBR dump with old Dutch, old French and mi...  \n",
       "\n",
       "[1 rows x 28 columns]"
      ]
     },
     "execution_count": 45,
     "metadata": {},
     "output_type": "execute_result"
    }
   ],
   "source": [
    "personContributorsMeasurements"
   ]
  },
  {
   "cell_type": "code",
   "execution_count": 46,
   "id": "82ad9d5a",
   "metadata": {},
   "outputs": [],
   "source": [
    "#personContributorsMeasurements.to_csv('./measurements/2022-06-24-person-contributor-stats1.csv', index=False)"
   ]
  }
 ],
 "metadata": {
  "kernelspec": {
   "display_name": "py-integration-env",
   "language": "python",
   "name": "py-integration-env"
  },
  "language_info": {
   "codemirror_mode": {
    "name": "ipython",
    "version": 3
   },
   "file_extension": ".py",
   "mimetype": "text/x-python",
   "name": "python",
   "nbconvert_exporter": "python",
   "pygments_lexer": "ipython3",
   "version": "3.8.10"
  },
  "toc": {
   "base_numbering": 1,
   "nav_menu": {},
   "number_sections": true,
   "sideBar": true,
   "skip_h1_title": false,
   "title_cell": "Table of Contents",
   "title_sidebar": "Contents",
   "toc_cell": false,
   "toc_position": {},
   "toc_section_display": true,
   "toc_window_display": false
  }
 },
 "nbformat": 4,
 "nbformat_minor": 5
}
