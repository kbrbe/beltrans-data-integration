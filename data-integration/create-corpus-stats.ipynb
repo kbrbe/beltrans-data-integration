{
 "cells": [
  {
   "cell_type": "markdown",
   "id": "3db81d56",
   "metadata": {},
   "source": [
    "## Create new manifestation measurements\n",
    "\n",
    "The following code is used to create new statistics. They can be saved to a CSV file and be taken into account in the section above about existing measurements."
   ]
  },
  {
   "cell_type": "code",
   "execution_count": 1,
   "id": "31c4c402",
   "metadata": {},
   "outputs": [],
   "source": [
    "import pandas as pd\n",
    "import utils\n",
    "import utils_stats\n",
    "from datetime import datetime"
   ]
  },
  {
   "cell_type": "code",
   "execution_count": 41,
   "id": "82f5f616",
   "metadata": {},
   "outputs": [],
   "source": [
    "corpus = pd.read_csv('./2022-07-20_kbr/csv/integrated-data-enriched.csv', index_col='targetIdentifier')\n",
    "corpusNLFR = corpus[(corpus['sourceLanguage'] == 'Dutch') & (corpus['targetLanguage'] == 'French') ]\n",
    "corpusFRNL = corpus[(corpus['sourceLanguage'] == 'French') & (corpus['targetLanguage'] == 'Dutch') ]\n",
    "corpusOther = corpus[ ((corpus['sourceLanguage'] != 'Dutch') & (corpus['sourceLanguage'] != 'French')) | ((corpus['targetLanguage'] != 'Dutch') & (corpus['targetLanguage'] != 'French'))]"
   ]
  },
  {
   "cell_type": "code",
   "execution_count": 42,
   "id": "a529afc7",
   "metadata": {},
   "outputs": [],
   "source": [
    "comment = \"Adaptations to contributor integration SPARQL queries\"\n",
    "measurements = pd.DataFrame([\n",
    "  utils_stats.createCorpusMeasurements(corpusFRNL, 'FR-NL', comment),\n",
    "  utils_stats.createCorpusMeasurements(corpusNLFR, 'NL-FR', comment),\n",
    "  utils_stats.createCorpusMeasurements(corpusOther, 'OTHER', comment)\n",
    "])"
   ]
  },
  {
   "cell_type": "code",
   "execution_count": 43,
   "id": "783e64be",
   "metadata": {},
   "outputs": [],
   "source": [
    "convertedFRNL = corpusFRNL.fillna('')"
   ]
  },
  {
   "cell_type": "code",
   "execution_count": 44,
   "id": "a6acba1d",
   "metadata": {},
   "outputs": [
    {
     "data": {
      "text/plain": [
       "7405"
      ]
     },
     "execution_count": 44,
     "metadata": {},
     "output_type": "execute_result"
    }
   ],
   "source": [
    "(convertedFRNL['targetISBN13'].values != '').sum()"
   ]
  },
  {
   "cell_type": "code",
   "execution_count": 45,
   "id": "89fa37e6",
   "metadata": {},
   "outputs": [
    {
     "data": {
      "text/html": [
       "<div>\n",
       "<style scoped>\n",
       "    .dataframe tbody tr th:only-of-type {\n",
       "        vertical-align: middle;\n",
       "    }\n",
       "\n",
       "    .dataframe tbody tr th {\n",
       "        vertical-align: top;\n",
       "    }\n",
       "\n",
       "    .dataframe thead th {\n",
       "        text-align: right;\n",
       "    }\n",
       "</style>\n",
       "<table border=\"1\" class=\"dataframe\">\n",
       "  <thead>\n",
       "    <tr style=\"text-align: right;\">\n",
       "      <th></th>\n",
       "      <th>date</th>\n",
       "      <th>corpus</th>\n",
       "      <th>numberTranslations</th>\n",
       "      <th>withTargetISBN10</th>\n",
       "      <th>withTargetISBN13</th>\n",
       "      <th>withKBRIdentifier</th>\n",
       "      <th>withBnFIdentifier</th>\n",
       "      <th>withKBIdentifier</th>\n",
       "      <th>withKBRBnFAndKBIdentifier</th>\n",
       "      <th>withKBRAndBnFIdentifier</th>\n",
       "      <th>withKBRAndKBIdentifier</th>\n",
       "      <th>withBnFAndKBIdentifier</th>\n",
       "      <th>withBBThesaurusID</th>\n",
       "      <th>withSourceKBRIdentifier</th>\n",
       "      <th>withKBRSourceTitle</th>\n",
       "      <th>withKBSourceTitle</th>\n",
       "      <th>withSourceISBN10</th>\n",
       "      <th>withSourceISBN13</th>\n",
       "      <th>comment</th>\n",
       "    </tr>\n",
       "  </thead>\n",
       "  <tbody>\n",
       "    <tr>\n",
       "      <th>0</th>\n",
       "      <td>2022-07-20 18:27:09.050199</td>\n",
       "      <td>FR-NL</td>\n",
       "      <td>8254</td>\n",
       "      <td>7400</td>\n",
       "      <td>7405</td>\n",
       "      <td>7524</td>\n",
       "      <td>51</td>\n",
       "      <td>2082</td>\n",
       "      <td>4</td>\n",
       "      <td>13</td>\n",
       "      <td>1390</td>\n",
       "      <td>4</td>\n",
       "      <td>7332</td>\n",
       "      <td>149</td>\n",
       "      <td>2575</td>\n",
       "      <td>2082</td>\n",
       "      <td>99</td>\n",
       "      <td>117</td>\n",
       "      <td>Adaptations to contributor integration SPARQL ...</td>\n",
       "    </tr>\n",
       "    <tr>\n",
       "      <th>1</th>\n",
       "      <td>2022-07-20 18:27:09.393980</td>\n",
       "      <td>NL-FR</td>\n",
       "      <td>4009</td>\n",
       "      <td>3421</td>\n",
       "      <td>3445</td>\n",
       "      <td>3532</td>\n",
       "      <td>1209</td>\n",
       "      <td>735</td>\n",
       "      <td>210</td>\n",
       "      <td>933</td>\n",
       "      <td>497</td>\n",
       "      <td>247</td>\n",
       "      <td>2936</td>\n",
       "      <td>193</td>\n",
       "      <td>1197</td>\n",
       "      <td>735</td>\n",
       "      <td>171</td>\n",
       "      <td>173</td>\n",
       "      <td>Adaptations to contributor integration SPARQL ...</td>\n",
       "    </tr>\n",
       "    <tr>\n",
       "      <th>2</th>\n",
       "      <td>2022-07-20 18:27:09.499835</td>\n",
       "      <td>OTHER</td>\n",
       "      <td>315</td>\n",
       "      <td>234</td>\n",
       "      <td>234</td>\n",
       "      <td>309</td>\n",
       "      <td>77</td>\n",
       "      <td>11</td>\n",
       "      <td>2</td>\n",
       "      <td>71</td>\n",
       "      <td>10</td>\n",
       "      <td>3</td>\n",
       "      <td>273</td>\n",
       "      <td>4</td>\n",
       "      <td>12</td>\n",
       "      <td>11</td>\n",
       "      <td>2</td>\n",
       "      <td>2</td>\n",
       "      <td>Adaptations to contributor integration SPARQL ...</td>\n",
       "    </tr>\n",
       "  </tbody>\n",
       "</table>\n",
       "</div>"
      ],
      "text/plain": [
       "                        date corpus  numberTranslations  withTargetISBN10  \\\n",
       "0 2022-07-20 18:27:09.050199  FR-NL                8254              7400   \n",
       "1 2022-07-20 18:27:09.393980  NL-FR                4009              3421   \n",
       "2 2022-07-20 18:27:09.499835  OTHER                 315               234   \n",
       "\n",
       "   withTargetISBN13  withKBRIdentifier  withBnFIdentifier  withKBIdentifier  \\\n",
       "0              7405               7524                 51              2082   \n",
       "1              3445               3532               1209               735   \n",
       "2               234                309                 77                11   \n",
       "\n",
       "   withKBRBnFAndKBIdentifier  withKBRAndBnFIdentifier  withKBRAndKBIdentifier  \\\n",
       "0                          4                       13                    1390   \n",
       "1                        210                      933                     497   \n",
       "2                          2                       71                      10   \n",
       "\n",
       "   withBnFAndKBIdentifier  withBBThesaurusID  withSourceKBRIdentifier  \\\n",
       "0                       4               7332                      149   \n",
       "1                     247               2936                      193   \n",
       "2                       3                273                        4   \n",
       "\n",
       "   withKBRSourceTitle  withKBSourceTitle  withSourceISBN10  withSourceISBN13  \\\n",
       "0                2575               2082                99               117   \n",
       "1                1197                735               171               173   \n",
       "2                  12                 11                 2                 2   \n",
       "\n",
       "                                             comment  \n",
       "0  Adaptations to contributor integration SPARQL ...  \n",
       "1  Adaptations to contributor integration SPARQL ...  \n",
       "2  Adaptations to contributor integration SPARQL ...  "
      ]
     },
     "execution_count": 45,
     "metadata": {},
     "output_type": "execute_result"
    }
   ],
   "source": [
    "measurements"
   ]
  },
  {
   "cell_type": "code",
   "execution_count": 46,
   "id": "8d491536",
   "metadata": {},
   "outputs": [],
   "source": [
    "measurements.to_csv('./measurements/2022-07-20-translation-stats.csv', index=False)"
   ]
  },
  {
   "cell_type": "markdown",
   "id": "82f9e0da",
   "metadata": {},
   "source": [
    "## Create new contributor measurements"
   ]
  },
  {
   "cell_type": "code",
   "execution_count": 18,
   "id": "5a21df4c",
   "metadata": {},
   "outputs": [],
   "source": [
    "personContributors = pd.read_csv('./2022-07-20_3_kbr/csv/contributors-persons.csv', index_col='contributorID')"
   ]
  },
  {
   "cell_type": "code",
   "execution_count": 19,
   "id": "ef85aae6",
   "metadata": {},
   "outputs": [],
   "source": [
    "personComment = \"Interlink manually enriched Wikidata dump\"\n",
    "\n",
    "personContributorsMeasurements = pd.DataFrame([\n",
    "    utils_stats.createContributorCorpusMeasurements(personContributors, '2022-07-20 12:00', personComment)\n",
    "])"
   ]
  },
  {
   "cell_type": "code",
   "execution_count": 21,
   "id": "e6878c69",
   "metadata": {},
   "outputs": [
    {
     "data": {
      "text/html": [
       "<div>\n",
       "<style scoped>\n",
       "    .dataframe tbody tr th:only-of-type {\n",
       "        vertical-align: middle;\n",
       "    }\n",
       "\n",
       "    .dataframe tbody tr th {\n",
       "        vertical-align: top;\n",
       "    }\n",
       "\n",
       "    .dataframe thead th {\n",
       "        text-align: right;\n",
       "    }\n",
       "</style>\n",
       "<table border=\"1\" class=\"dataframe\">\n",
       "  <thead>\n",
       "    <tr style=\"text-align: right;\">\n",
       "      <th></th>\n",
       "      <th>date</th>\n",
       "      <th>measurementTime</th>\n",
       "      <th>numberContributors</th>\n",
       "      <th>withKBRIdentifier</th>\n",
       "      <th>withBnFIdentifier</th>\n",
       "      <th>withKBIdentifier</th>\n",
       "      <th>withKBRBnFAndKBIdentifier</th>\n",
       "      <th>withKBRAndBnFIdentifier</th>\n",
       "      <th>withKBRAndKBIdentifier</th>\n",
       "      <th>withBnFAndKBIdentifier</th>\n",
       "      <th>...</th>\n",
       "      <th>withMultipleKBRIdentifiers</th>\n",
       "      <th>withMultipleBnFIdentifiers</th>\n",
       "      <th>withMultipleNTAIdentifiers</th>\n",
       "      <th>withMultipleISNIIdentifiers</th>\n",
       "      <th>withMultipleVIAFIdentifiers</th>\n",
       "      <th>withMultipleWikidataIdentifiers</th>\n",
       "      <th>withMultipleBirthDates</th>\n",
       "      <th>withMultipleDeathDates</th>\n",
       "      <th>withMultipleNationalities</th>\n",
       "      <th>comment</th>\n",
       "    </tr>\n",
       "  </thead>\n",
       "  <tbody>\n",
       "    <tr>\n",
       "      <th>0</th>\n",
       "      <td>2022-07-20 12:00</td>\n",
       "      <td>2022-07-20 18:09:30.167726</td>\n",
       "      <td>6310</td>\n",
       "      <td>5734</td>\n",
       "      <td>1247</td>\n",
       "      <td>1124</td>\n",
       "      <td>251</td>\n",
       "      <td>900</td>\n",
       "      <td>863</td>\n",
       "      <td>283</td>\n",
       "      <td>...</td>\n",
       "      <td>36</td>\n",
       "      <td>10</td>\n",
       "      <td>4</td>\n",
       "      <td>90</td>\n",
       "      <td>195</td>\n",
       "      <td>2</td>\n",
       "      <td>50</td>\n",
       "      <td>11</td>\n",
       "      <td>126</td>\n",
       "      <td>Interlink manually enriched Wikidata dump</td>\n",
       "    </tr>\n",
       "  </tbody>\n",
       "</table>\n",
       "<p>1 rows × 41 columns</p>\n",
       "</div>"
      ],
      "text/plain": [
       "               date            measurementTime  numberContributors  \\\n",
       "0  2022-07-20 12:00 2022-07-20 18:09:30.167726                6310   \n",
       "\n",
       "   withKBRIdentifier  withBnFIdentifier  withKBIdentifier  \\\n",
       "0               5734               1247              1124   \n",
       "\n",
       "   withKBRBnFAndKBIdentifier  withKBRAndBnFIdentifier  withKBRAndKBIdentifier  \\\n",
       "0                        251                      900                     863   \n",
       "\n",
       "   withBnFAndKBIdentifier  ...  withMultipleKBRIdentifiers  \\\n",
       "0                     283  ...                          36   \n",
       "\n",
       "   withMultipleBnFIdentifiers  withMultipleNTAIdentifiers  \\\n",
       "0                          10                           4   \n",
       "\n",
       "   withMultipleISNIIdentifiers  withMultipleVIAFIdentifiers  \\\n",
       "0                           90                          195   \n",
       "\n",
       "   withMultipleWikidataIdentifiers  withMultipleBirthDates  \\\n",
       "0                                2                      50   \n",
       "\n",
       "   withMultipleDeathDates  withMultipleNationalities  \\\n",
       "0                      11                        126   \n",
       "\n",
       "                                     comment  \n",
       "0  Interlink manually enriched Wikidata dump  \n",
       "\n",
       "[1 rows x 41 columns]"
      ]
     },
     "execution_count": 21,
     "metadata": {},
     "output_type": "execute_result"
    }
   ],
   "source": [
    "personContributorsMeasurements"
   ]
  },
  {
   "cell_type": "code",
   "execution_count": 22,
   "id": "82ad9d5a",
   "metadata": {},
   "outputs": [],
   "source": [
    "personContributorsMeasurements.to_csv('./measurements/2022-07-20_3_person-contributor-stats.csv', index=False)"
   ]
  },
  {
   "cell_type": "markdown",
   "id": "0bcb1d45",
   "metadata": {},
   "source": [
    "## Redo manifestation measurements"
   ]
  },
  {
   "cell_type": "code",
   "execution_count": 9,
   "id": "d090563c",
   "metadata": {},
   "outputs": [],
   "source": [
    "manifestationFilesConfig = {\n",
    "    '2022-05-03': ['2022-05-03', 'Data integrated from KBR, BnF and KB based on ISBN10 and ISBN13 identifiers.'],\n",
    "    '2022-05-09': ['2022-05-09', 'Data integrated from KBR, BnF and KB based on ISBN10 and ISBN13 identifiers. Additionally KBR original title from field 246.'],\n",
    "    '2022-05-23': ['2022-05-23', 'No changes to previous version.'],\n",
    "    '2022-06-07': ['2022-06-07', 'Added publishing directors and included a collumn for source titles from KB'],\n",
    "    '2022-06-16': ['2022-06-16', 'Removed duplicate manifestations with the same ISBN10/ISBN13'],\n",
    "    '2022-06-20': ['2022-06-20', 'New KBR data dump with plenty of additions and refinements and ISBN fix for FR-NL'],\n",
    "    '2022-06-23': ['2022-06-23', 'No ISBN duplicate removal anymore to prevent data loss'],\n",
    "    '2022-06-24': ['2022-06-24', 'New KBR dump with old Dutch, old French and middle French as well as new data in general'],\n",
    "    '2022-07-18': ['2022-07-18', 'Dataprofile query filtering also for Belgian organizations, not just Belgian persons (KB data was also updated from SPARQL endpoint, but did not cause more translations)'],\n",
    "    '2022-07-20': ['2022-07-20', 'Fixed error in ISNI-SRU integration SPARQL query.'],\n",
    "    '2022-07-21': ['2022-07-21', 'Manually curated Wikidata overlap used as bridge identifeir with adapted integration SPARQL queries.']\n",
    "}"
   ]
  },
  {
   "cell_type": "code",
   "execution_count": 10,
   "id": "d6314a08",
   "metadata": {},
   "outputs": [],
   "source": [
    "utils_stats.redoManifestationsCorpusMeasurements(manifestationFilesConfig, 'integrated-data-enriched.csv', 'translation-stats') "
   ]
  },
  {
   "cell_type": "markdown",
   "id": "63aa646a",
   "metadata": {},
   "source": [
    "## Redo contributor measurements"
   ]
  },
  {
   "cell_type": "code",
   "execution_count": 11,
   "id": "41976787",
   "metadata": {},
   "outputs": [],
   "source": [
    "contributorFilesConfig = {\n",
    "    '2022-05-03': ['2022-05-03', 'Contributors integrated from ISNI SRU dump, KBR, BnF and NTA based on ISNI, VIAF and Wikidata identifiers.'],\n",
    "    '2022-05-09': ['2022-05-09', 'Contributors integrated from ISNI SRU dump, KBR, BnF and NTA based on ISNI, VIAF and Wikidata identifiers.'],\n",
    "    '2022-05-23': ['2022-05-23', 'Only count persons who are actually contributing to manifestations of the corpus (author, translator, illustrator, scenarist, publishing director)'],\n",
    "    '2022-06-07': ['2022-06-07', 'Added columns with statistics about how many books a contributor authored, translated etc.'],\n",
    "    '2022-06-16': ['2022-06-16', 'Added columns with statistics about how many books a contributor authored, translated etc.'],\n",
    "    '2022-06-20': ['2022-06-20', 'New KBR data dump with plenty of additions and refinements and ISBN fix for FR-NL.'],\n",
    "    '2022-06-23': ['2022-06-23', 'No ISBN duplicate removal anymore to prevent data loss'],\n",
    "    '2022-06-24': ['2022-06-24', 'New KBR dump with old Dutch, old French and middle French as well as new data in general'],\n",
    "    '2022-07-18': ['2022-07-18', 'Dataprofile query filtering also for Belgian organizations, not just Belgian persons (KB data was also updated from SPARQL endpoint, but did not cause more translations)'],\n",
    "    '2022-07-20': ['2022-07-20', 'Fixed error in ISNI-SRU integration SPARQL query.'],\n",
    "    '2022-07-21': ['2022-07-21', 'Manually curated Wikidata overlap used as bridge identifeir with adapted integration SPARQL queries.']\n",
    "}"
   ]
  },
  {
   "cell_type": "code",
   "execution_count": 12,
   "id": "12c461e7",
   "metadata": {},
   "outputs": [],
   "source": [
    "utils_stats.redoContributorCorpusMeasurements(contributorFilesConfig, 'contributors-persons.csv', 'person-contributor-stats') "
   ]
  },
  {
   "cell_type": "code",
   "execution_count": null,
   "id": "8b77446f",
   "metadata": {},
   "outputs": [],
   "source": []
  }
 ],
 "metadata": {
  "kernelspec": {
   "display_name": "py-integration-env",
   "language": "python",
   "name": "py-integration-env"
  },
  "language_info": {
   "codemirror_mode": {
    "name": "ipython",
    "version": 3
   },
   "file_extension": ".py",
   "mimetype": "text/x-python",
   "name": "python",
   "nbconvert_exporter": "python",
   "pygments_lexer": "ipython3",
   "version": "3.8.10"
  },
  "toc": {
   "base_numbering": 1,
   "nav_menu": {},
   "number_sections": true,
   "sideBar": true,
   "skip_h1_title": false,
   "title_cell": "Table of Contents",
   "title_sidebar": "Contents",
   "toc_cell": false,
   "toc_position": {},
   "toc_section_display": true,
   "toc_window_display": false
  }
 },
 "nbformat": 4,
 "nbformat_minor": 5
}
