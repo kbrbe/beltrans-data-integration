{
 "cells": [
  {
   "cell_type": "markdown",
   "id": "3db81d56",
   "metadata": {},
   "source": [
    "## Create new manifestation measurements\n",
    "\n",
    "The following code is used to create new statistics. They can be saved to a CSV file and be taken into account in the section above about existing measurements."
   ]
  },
  {
   "cell_type": "code",
   "execution_count": 3,
   "id": "31c4c402",
   "metadata": {},
   "outputs": [],
   "source": [
    "import pandas as pd\n",
    "import utils\n",
    "import utils_stats\n",
    "from datetime import datetime"
   ]
  },
  {
   "cell_type": "code",
   "execution_count": 2,
   "id": "82f5f616",
   "metadata": {},
   "outputs": [],
   "source": [
    "corpus = pd.read_csv('./2022-07-18_kbr/csv/integrated-data-enriched.csv', index_col='targetIdentifier')\n",
    "corpusNLFR = corpus[(corpus['sourceLanguage'] == 'Dutch') & (corpus['targetLanguage'] == 'French') ]\n",
    "corpusFRNL = corpus[(corpus['sourceLanguage'] == 'French') & (corpus['targetLanguage'] == 'Dutch') ]\n",
    "corpusOther = corpus[ ((corpus['sourceLanguage'] != 'Dutch') & (corpus['sourceLanguage'] != 'French')) | ((corpus['targetLanguage'] != 'Dutch') & (corpus['targetLanguage'] != 'French'))]"
   ]
  },
  {
   "cell_type": "code",
   "execution_count": 3,
   "id": "a529afc7",
   "metadata": {},
   "outputs": [],
   "source": [
    "comment = \"Dataprofile query filtering also for Belgian organizations, not just Belgian persons (KB data was also updated from SPARQL endpoint, but did not cause more translations)\"\n",
    "measurements = pd.DataFrame([\n",
    "  utils_stats.createCorpusMeasurements(corpusFRNL, 'FR-NL', comment),\n",
    "  utils_stats.createCorpusMeasurements(corpusNLFR, 'NL-FR', comment),\n",
    "  utils_stats.createCorpusMeasurements(corpusOther, 'OTHER', comment)\n",
    "])"
   ]
  },
  {
   "cell_type": "code",
   "execution_count": 4,
   "id": "783e64be",
   "metadata": {},
   "outputs": [],
   "source": [
    "convertedFRNL = corpusFRNL.fillna('')"
   ]
  },
  {
   "cell_type": "code",
   "execution_count": 5,
   "id": "a6acba1d",
   "metadata": {},
   "outputs": [
    {
     "data": {
      "text/plain": [
       "7405"
      ]
     },
     "execution_count": 5,
     "metadata": {},
     "output_type": "execute_result"
    }
   ],
   "source": [
    "(convertedFRNL['targetISBN13'].values != '').sum()"
   ]
  },
  {
   "cell_type": "code",
   "execution_count": 6,
   "id": "89fa37e6",
   "metadata": {},
   "outputs": [
    {
     "data": {
      "text/html": [
       "<div>\n",
       "<style scoped>\n",
       "    .dataframe tbody tr th:only-of-type {\n",
       "        vertical-align: middle;\n",
       "    }\n",
       "\n",
       "    .dataframe tbody tr th {\n",
       "        vertical-align: top;\n",
       "    }\n",
       "\n",
       "    .dataframe thead th {\n",
       "        text-align: right;\n",
       "    }\n",
       "</style>\n",
       "<table border=\"1\" class=\"dataframe\">\n",
       "  <thead>\n",
       "    <tr style=\"text-align: right;\">\n",
       "      <th></th>\n",
       "      <th>date</th>\n",
       "      <th>corpus</th>\n",
       "      <th>numberTranslations</th>\n",
       "      <th>withTargetISBN10</th>\n",
       "      <th>withTargetISBN13</th>\n",
       "      <th>withKBRIdentifier</th>\n",
       "      <th>withBnFIdentifier</th>\n",
       "      <th>withKBIdentifier</th>\n",
       "      <th>withKBRBnFAndKBIdentifier</th>\n",
       "      <th>withKBRAndBnFIdentifier</th>\n",
       "      <th>withKBRAndKBIdentifier</th>\n",
       "      <th>withBnFAndKBIdentifier</th>\n",
       "      <th>withBBThesaurusID</th>\n",
       "      <th>withSourceKBRIdentifier</th>\n",
       "      <th>withKBRSourceTitle</th>\n",
       "      <th>withKBSourceTitle</th>\n",
       "      <th>withSourceISBN10</th>\n",
       "      <th>withSourceISBN13</th>\n",
       "      <th>comment</th>\n",
       "    </tr>\n",
       "  </thead>\n",
       "  <tbody>\n",
       "    <tr>\n",
       "      <th>0</th>\n",
       "      <td>2022-07-18 18:11:53.272871</td>\n",
       "      <td>FR-NL</td>\n",
       "      <td>8254</td>\n",
       "      <td>7400</td>\n",
       "      <td>7405</td>\n",
       "      <td>7524</td>\n",
       "      <td>51</td>\n",
       "      <td>2082</td>\n",
       "      <td>4</td>\n",
       "      <td>13</td>\n",
       "      <td>1390</td>\n",
       "      <td>4</td>\n",
       "      <td>7332</td>\n",
       "      <td>149</td>\n",
       "      <td>2575</td>\n",
       "      <td>2082</td>\n",
       "      <td>99</td>\n",
       "      <td>117</td>\n",
       "      <td>Dataprofile query filtering also for Belgian o...</td>\n",
       "    </tr>\n",
       "    <tr>\n",
       "      <th>1</th>\n",
       "      <td>2022-07-18 18:11:53.610983</td>\n",
       "      <td>NL-FR</td>\n",
       "      <td>4009</td>\n",
       "      <td>3421</td>\n",
       "      <td>3445</td>\n",
       "      <td>3532</td>\n",
       "      <td>1209</td>\n",
       "      <td>735</td>\n",
       "      <td>210</td>\n",
       "      <td>933</td>\n",
       "      <td>497</td>\n",
       "      <td>247</td>\n",
       "      <td>2936</td>\n",
       "      <td>193</td>\n",
       "      <td>1197</td>\n",
       "      <td>735</td>\n",
       "      <td>171</td>\n",
       "      <td>173</td>\n",
       "      <td>Dataprofile query filtering also for Belgian o...</td>\n",
       "    </tr>\n",
       "    <tr>\n",
       "      <th>2</th>\n",
       "      <td>2022-07-18 18:11:53.681965</td>\n",
       "      <td>OTHER</td>\n",
       "      <td>315</td>\n",
       "      <td>234</td>\n",
       "      <td>234</td>\n",
       "      <td>309</td>\n",
       "      <td>77</td>\n",
       "      <td>11</td>\n",
       "      <td>2</td>\n",
       "      <td>71</td>\n",
       "      <td>10</td>\n",
       "      <td>3</td>\n",
       "      <td>273</td>\n",
       "      <td>4</td>\n",
       "      <td>12</td>\n",
       "      <td>11</td>\n",
       "      <td>2</td>\n",
       "      <td>2</td>\n",
       "      <td>Dataprofile query filtering also for Belgian o...</td>\n",
       "    </tr>\n",
       "  </tbody>\n",
       "</table>\n",
       "</div>"
      ],
      "text/plain": [
       "                        date corpus  numberTranslations  withTargetISBN10  \\\n",
       "0 2022-07-18 18:11:53.272871  FR-NL                8254              7400   \n",
       "1 2022-07-18 18:11:53.610983  NL-FR                4009              3421   \n",
       "2 2022-07-18 18:11:53.681965  OTHER                 315               234   \n",
       "\n",
       "   withTargetISBN13  withKBRIdentifier  withBnFIdentifier  withKBIdentifier  \\\n",
       "0              7405               7524                 51              2082   \n",
       "1              3445               3532               1209               735   \n",
       "2               234                309                 77                11   \n",
       "\n",
       "   withKBRBnFAndKBIdentifier  withKBRAndBnFIdentifier  withKBRAndKBIdentifier  \\\n",
       "0                          4                       13                    1390   \n",
       "1                        210                      933                     497   \n",
       "2                          2                       71                      10   \n",
       "\n",
       "   withBnFAndKBIdentifier  withBBThesaurusID  withSourceKBRIdentifier  \\\n",
       "0                       4               7332                      149   \n",
       "1                     247               2936                      193   \n",
       "2                       3                273                        4   \n",
       "\n",
       "   withKBRSourceTitle  withKBSourceTitle  withSourceISBN10  withSourceISBN13  \\\n",
       "0                2575               2082                99               117   \n",
       "1                1197                735               171               173   \n",
       "2                  12                 11                 2                 2   \n",
       "\n",
       "                                             comment  \n",
       "0  Dataprofile query filtering also for Belgian o...  \n",
       "1  Dataprofile query filtering also for Belgian o...  \n",
       "2  Dataprofile query filtering also for Belgian o...  "
      ]
     },
     "execution_count": 6,
     "metadata": {},
     "output_type": "execute_result"
    }
   ],
   "source": [
    "measurements"
   ]
  },
  {
   "cell_type": "code",
   "execution_count": 7,
   "id": "8d491536",
   "metadata": {},
   "outputs": [],
   "source": [
    "measurements.to_csv('./measurements/2022-07-18-translation-stats.csv', index=False)"
   ]
  },
  {
   "cell_type": "markdown",
   "id": "82f9e0da",
   "metadata": {},
   "source": [
    "## Create new contributor measurements"
   ]
  },
  {
   "cell_type": "code",
   "execution_count": 26,
   "id": "5a21df4c",
   "metadata": {},
   "outputs": [],
   "source": [
    "personContributors = pd.read_csv('./2022-06-20_with-duplicate-removing/csv/contributors-persons.csv', index_col='contributorID')"
   ]
  },
  {
   "cell_type": "code",
   "execution_count": 27,
   "id": "ef85aae6",
   "metadata": {},
   "outputs": [],
   "source": [
    "personComment = \"New KBR data dump with plenty of additions and refinements and ISBN fix for FR-NL.\"\n",
    "\n",
    "personContributorsMeasurements = pd.DataFrame([\n",
    "    utils_stats.createContributorCorpusMeasurements(personContributors, personComment)\n",
    "])"
   ]
  },
  {
   "cell_type": "code",
   "execution_count": 28,
   "id": "e6878c69",
   "metadata": {},
   "outputs": [
    {
     "data": {
      "text/html": [
       "<div>\n",
       "<style scoped>\n",
       "    .dataframe tbody tr th:only-of-type {\n",
       "        vertical-align: middle;\n",
       "    }\n",
       "\n",
       "    .dataframe tbody tr th {\n",
       "        vertical-align: top;\n",
       "    }\n",
       "\n",
       "    .dataframe thead th {\n",
       "        text-align: right;\n",
       "    }\n",
       "</style>\n",
       "<table border=\"1\" class=\"dataframe\">\n",
       "  <thead>\n",
       "    <tr style=\"text-align: right;\">\n",
       "      <th></th>\n",
       "      <th>date</th>\n",
       "      <th>numberContributors</th>\n",
       "      <th>withKBRIdentifier</th>\n",
       "      <th>withBnFIdentifier</th>\n",
       "      <th>withKBIdentifier</th>\n",
       "      <th>withKBRBnFAndKBIdentifier</th>\n",
       "      <th>withKBRAndBnFIdentifier</th>\n",
       "      <th>withKBRAndKBIdentifier</th>\n",
       "      <th>withBnFAndKBIdentifier</th>\n",
       "      <th>withKBRAndISNIIdentifier</th>\n",
       "      <th>...</th>\n",
       "      <th>withMultipleKBRIdentifiers</th>\n",
       "      <th>withMultipleBnFIdentifiers</th>\n",
       "      <th>withMultipleNTAIdentifiers</th>\n",
       "      <th>withMultipleISNIIdentifiers</th>\n",
       "      <th>withMultipleVIAFIdentifiers</th>\n",
       "      <th>withMultipleWikidataIdentifiers</th>\n",
       "      <th>withMultipleBirthDates</th>\n",
       "      <th>withMultipleDeathDates</th>\n",
       "      <th>withMultipleNationalities</th>\n",
       "      <th>comment</th>\n",
       "    </tr>\n",
       "  </thead>\n",
       "  <tbody>\n",
       "    <tr>\n",
       "      <th>0</th>\n",
       "      <td>2022-07-19 10:55:01.789360</td>\n",
       "      <td>5843</td>\n",
       "      <td>5214</td>\n",
       "      <td>1231</td>\n",
       "      <td>1063</td>\n",
       "      <td>232</td>\n",
       "      <td>853</td>\n",
       "      <td>774</td>\n",
       "      <td>270</td>\n",
       "      <td>3987</td>\n",
       "      <td>...</td>\n",
       "      <td>27</td>\n",
       "      <td>8</td>\n",
       "      <td>4</td>\n",
       "      <td>9</td>\n",
       "      <td>23</td>\n",
       "      <td>0</td>\n",
       "      <td>44</td>\n",
       "      <td>10</td>\n",
       "      <td>105</td>\n",
       "      <td>New KBR data dump with plenty of additions and...</td>\n",
       "    </tr>\n",
       "  </tbody>\n",
       "</table>\n",
       "<p>1 rows × 40 columns</p>\n",
       "</div>"
      ],
      "text/plain": [
       "                        date  numberContributors  withKBRIdentifier  \\\n",
       "0 2022-07-19 10:55:01.789360                5843               5214   \n",
       "\n",
       "   withBnFIdentifier  withKBIdentifier  withKBRBnFAndKBIdentifier  \\\n",
       "0               1231              1063                        232   \n",
       "\n",
       "   withKBRAndBnFIdentifier  withKBRAndKBIdentifier  withBnFAndKBIdentifier  \\\n",
       "0                      853                     774                     270   \n",
       "\n",
       "   withKBRAndISNIIdentifier  ...  withMultipleKBRIdentifiers  \\\n",
       "0                      3987  ...                          27   \n",
       "\n",
       "   withMultipleBnFIdentifiers  withMultipleNTAIdentifiers  \\\n",
       "0                           8                           4   \n",
       "\n",
       "   withMultipleISNIIdentifiers  withMultipleVIAFIdentifiers  \\\n",
       "0                            9                           23   \n",
       "\n",
       "   withMultipleWikidataIdentifiers  withMultipleBirthDates  \\\n",
       "0                                0                      44   \n",
       "\n",
       "   withMultipleDeathDates  withMultipleNationalities  \\\n",
       "0                      10                        105   \n",
       "\n",
       "                                             comment  \n",
       "0  New KBR data dump with plenty of additions and...  \n",
       "\n",
       "[1 rows x 40 columns]"
      ]
     },
     "execution_count": 28,
     "metadata": {},
     "output_type": "execute_result"
    }
   ],
   "source": [
    "personContributorsMeasurements"
   ]
  },
  {
   "cell_type": "code",
   "execution_count": 29,
   "id": "82ad9d5a",
   "metadata": {},
   "outputs": [],
   "source": [
    "personContributorsMeasurements.to_csv('./measurements/2022-06-20-person-contributor-stats1.csv', index=False)"
   ]
  },
  {
   "cell_type": "markdown",
   "id": "63aa646a",
   "metadata": {},
   "source": [
    "## Redo contributor measurements"
   ]
  },
  {
   "cell_type": "code",
   "execution_count": 1,
   "id": "41976787",
   "metadata": {},
   "outputs": [],
   "source": [
    "files = {\n",
    "    '2022-05-03_kbr': ['2022-05-03', 'Contributors integrated from ISNI SRU dump, KBR, BnF and NTA based on ISNI, VIAF and Wikidata identifiers.'],\n",
    "    '2022-05-09_kbr': ['2022-05-09', 'Contributors integrated from ISNI SRU dump, KBR, BnF and NTA based on ISNI, VIAF and Wikidata identifiers.'],\n",
    "    '2022-05-23_kbr': ['2022-05-23', 'Only count persons who are actually contributing to manifestations of the corpus (author, translator, illustrator, scenarist, publishing director)'],\n",
    "    '2022-06-07_kbr': ['2022-06-07', 'Added columns with statistics about how many books a contributor authored, translated etc.'],\n",
    "    '2022-06-16_after-duplicate-removing': ['2022-06-16', 'Added columns with statistics about how many books a contributor authored, translated etc.'],\n",
    "    '2022-06-20_with-duplicate-removing': ['2022-06-20', 'New KBR data dump with plenty of additions and refinements and ISBN fix for FR-NL.'],\n",
    "    '2022-06-23_kbr': ['2022-06-23', 'No ISBN duplicate removal anymore to prevent data loss'],\n",
    "    '2022-06-24_kbr': ['2022-06-24', 'New KBR dump with old Dutch, old French and middle French as well as new data in general'],\n",
    "    '2022-07-18_kbr': ['2022-07-18', 'Dataprofile query filtering also for Belgian organizations, not just Belgian persons (KB data was also updated from SPARQL endpoint, but did not cause more translations)']\n",
    "}"
   ]
  },
  {
   "cell_type": "code",
   "execution_count": 4,
   "id": "12c461e7",
   "metadata": {},
   "outputs": [],
   "source": [
    "for corpusVersion in files:\n",
    "    contributorFile = f'./{corpusVersion}/csv/contributors-persons.csv'\n",
    "    corpusVersionDate = files[corpusVersion][0]\n",
    "    corpusVersionComment = files[corpusVersion][1]\n",
    "    outputFile = f'./measurements/{corpusVersionDate}_person-contributor-stats.csv'\n",
    "    contributors = pd.read_csv(contributorFile, index_col='contributorID')\n",
    "    measurements = pd.DataFrame([\n",
    "        utils_stats.createContributorCorpusMeasurements(contributors, corpusVersionDate, corpusVersionComment)\n",
    "    ])\n",
    "    measurements.to_csv(outputFile, index=False)"
   ]
  }
 ],
 "metadata": {
  "kernelspec": {
   "display_name": "py-integration-env",
   "language": "python",
   "name": "py-integration-env"
  },
  "language_info": {
   "codemirror_mode": {
    "name": "ipython",
    "version": 3
   },
   "file_extension": ".py",
   "mimetype": "text/x-python",
   "name": "python",
   "nbconvert_exporter": "python",
   "pygments_lexer": "ipython3",
   "version": "3.8.10"
  },
  "toc": {
   "base_numbering": 1,
   "nav_menu": {},
   "number_sections": true,
   "sideBar": true,
   "skip_h1_title": false,
   "title_cell": "Table of Contents",
   "title_sidebar": "Contents",
   "toc_cell": false,
   "toc_position": {},
   "toc_section_display": true,
   "toc_window_display": false
  }
 },
 "nbformat": 4,
 "nbformat_minor": 5
}
