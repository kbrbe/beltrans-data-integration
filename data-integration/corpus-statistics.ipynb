{
 "cells": [
  {
   "cell_type": "markdown",
   "id": "e511415d",
   "metadata": {},
   "source": [
    "# BELTRANS statistics\n",
    "\n",
    "This notebook creates and displays statistics about the BELTRANS corpus. It aims to measure the improvement performed by different data integration or enrichment techniques.\n"
   ]
  },
  {
   "cell_type": "code",
   "execution_count": 1,
   "id": "369a7da1",
   "metadata": {},
   "outputs": [],
   "source": [
    "import pandas as pd\n",
    "import utils\n",
    "from datetime import datetime"
   ]
  },
  {
   "cell_type": "markdown",
   "id": "0bd339d6",
   "metadata": {},
   "source": [
    "## Existing measurements\n",
    "\n",
    "The measured statistics currently evolve like this:\n",
    "\n",
    "todo"
   ]
  },
  {
   "cell_type": "markdown",
   "id": "be03bc06",
   "metadata": {},
   "source": [
    "## Create new manifestation measurements\n",
    "\n",
    "The following code is used to create new statistics. They can be saved to a CSV file and be taken into account in the section above about existing measurements."
   ]
  },
  {
   "cell_type": "code",
   "execution_count": 2,
   "id": "4154474c",
   "metadata": {},
   "outputs": [],
   "source": [
    "corpus = pd.read_csv('./2022-06-07_kbr/csv/integrated-data-enriched.csv', index_col='targetIdentifier')\n",
    "corpusNLFR = corpus[(corpus['sourceLanguage'] == 'Dutch') & (corpus['targetLanguage'] == 'French') ]\n",
    "corpusFRNL = corpus[(corpus['sourceLanguage'] == 'French') & (corpus['targetLanguage'] == 'Dutch') ]\n",
    "corpusOther = corpus[ ((corpus['sourceLanguage'] != 'Dutch') & (corpus['sourceLanguage'] != 'French')) | ((corpus['targetLanguage'] != 'Dutch') & (corpus['targetLanguage'] != 'French'))]"
   ]
  },
  {
   "cell_type": "code",
   "execution_count": 3,
   "id": "b7c595f8",
   "metadata": {},
   "outputs": [],
   "source": [
    "comment = \"Added publishing directors and included a column for source titles from KB.\"\n",
    "measurements = pd.DataFrame([\n",
    "  utils.createCorpusMeasurements(corpusFRNL, 'FR-NL', comment),\n",
    "  utils.createCorpusMeasurements(corpusNLFR, 'NL-FR', comment),\n",
    "  utils.createCorpusMeasurements(corpusOther, 'OTHER', comment)\n",
    "])"
   ]
  },
  {
   "cell_type": "code",
   "execution_count": 4,
   "id": "a731d8b8",
   "metadata": {
    "scrolled": true
   },
   "outputs": [
    {
     "data": {
      "text/html": [
       "<div>\n",
       "<style scoped>\n",
       "    .dataframe tbody tr th:only-of-type {\n",
       "        vertical-align: middle;\n",
       "    }\n",
       "\n",
       "    .dataframe tbody tr th {\n",
       "        vertical-align: top;\n",
       "    }\n",
       "\n",
       "    .dataframe thead th {\n",
       "        text-align: right;\n",
       "    }\n",
       "</style>\n",
       "<table border=\"1\" class=\"dataframe\">\n",
       "  <thead>\n",
       "    <tr style=\"text-align: right;\">\n",
       "      <th></th>\n",
       "      <th>date</th>\n",
       "      <th>corpus</th>\n",
       "      <th>numberTranslations</th>\n",
       "      <th>withTargetISBN10</th>\n",
       "      <th>withTargetISBN13</th>\n",
       "      <th>withKBRIdentifier</th>\n",
       "      <th>withBnFIdentifier</th>\n",
       "      <th>withKBIdentifier</th>\n",
       "      <th>withBBThesaurusID</th>\n",
       "      <th>withSourceKBRIdentifier</th>\n",
       "      <th>withKBRSourceTitle</th>\n",
       "      <th>withKBSourceTitle</th>\n",
       "      <th>withSourceISBN10</th>\n",
       "      <th>withSourceISBN13</th>\n",
       "      <th>comment</th>\n",
       "    </tr>\n",
       "  </thead>\n",
       "  <tbody>\n",
       "    <tr>\n",
       "      <th>0</th>\n",
       "      <td>2022-06-08 15:36:08.638846</td>\n",
       "      <td>FR-NL</td>\n",
       "      <td>7091</td>\n",
       "      <td>6445</td>\n",
       "      <td>6447</td>\n",
       "      <td>6325</td>\n",
       "      <td>58</td>\n",
       "      <td>1961</td>\n",
       "      <td>6168</td>\n",
       "      <td>116</td>\n",
       "      <td>2467</td>\n",
       "      <td>1961</td>\n",
       "      <td>84</td>\n",
       "      <td>101</td>\n",
       "      <td>Added publishing directors and included a colu...</td>\n",
       "    </tr>\n",
       "    <tr>\n",
       "      <th>1</th>\n",
       "      <td>2022-06-08 15:36:08.786324</td>\n",
       "      <td>NL-FR</td>\n",
       "      <td>3772</td>\n",
       "      <td>3240</td>\n",
       "      <td>3264</td>\n",
       "      <td>3290</td>\n",
       "      <td>1211</td>\n",
       "      <td>725</td>\n",
       "      <td>2727</td>\n",
       "      <td>150</td>\n",
       "      <td>1134</td>\n",
       "      <td>725</td>\n",
       "      <td>134</td>\n",
       "      <td>135</td>\n",
       "      <td>Added publishing directors and included a colu...</td>\n",
       "    </tr>\n",
       "    <tr>\n",
       "      <th>2</th>\n",
       "      <td>2022-06-08 15:36:08.876427</td>\n",
       "      <td>OTHER</td>\n",
       "      <td>246</td>\n",
       "      <td>200</td>\n",
       "      <td>200</td>\n",
       "      <td>240</td>\n",
       "      <td>65</td>\n",
       "      <td>11</td>\n",
       "      <td>211</td>\n",
       "      <td>1</td>\n",
       "      <td>9</td>\n",
       "      <td>11</td>\n",
       "      <td>1</td>\n",
       "      <td>1</td>\n",
       "      <td>Added publishing directors and included a colu...</td>\n",
       "    </tr>\n",
       "  </tbody>\n",
       "</table>\n",
       "</div>"
      ],
      "text/plain": [
       "                        date corpus  numberTranslations  withTargetISBN10  \\\n",
       "0 2022-06-08 15:36:08.638846  FR-NL                7091              6445   \n",
       "1 2022-06-08 15:36:08.786324  NL-FR                3772              3240   \n",
       "2 2022-06-08 15:36:08.876427  OTHER                 246               200   \n",
       "\n",
       "   withTargetISBN13  withKBRIdentifier  withBnFIdentifier  withKBIdentifier  \\\n",
       "0              6447               6325                 58              1961   \n",
       "1              3264               3290               1211               725   \n",
       "2               200                240                 65                11   \n",
       "\n",
       "   withBBThesaurusID  withSourceKBRIdentifier  withKBRSourceTitle  \\\n",
       "0               6168                      116                2467   \n",
       "1               2727                      150                1134   \n",
       "2                211                        1                   9   \n",
       "\n",
       "   withKBSourceTitle  withSourceISBN10  withSourceISBN13  \\\n",
       "0               1961                84               101   \n",
       "1                725               134               135   \n",
       "2                 11                 1                 1   \n",
       "\n",
       "                                             comment  \n",
       "0  Added publishing directors and included a colu...  \n",
       "1  Added publishing directors and included a colu...  \n",
       "2  Added publishing directors and included a colu...  "
      ]
     },
     "execution_count": 4,
     "metadata": {},
     "output_type": "execute_result"
    }
   ],
   "source": [
    "measurements"
   ]
  },
  {
   "cell_type": "code",
   "execution_count": 5,
   "id": "e7db3749",
   "metadata": {},
   "outputs": [],
   "source": [
    "measurements.to_csv('2022-06-07-translation-stats.csv', index=False)"
   ]
  },
  {
   "cell_type": "markdown",
   "id": "d09fb012",
   "metadata": {},
   "source": [
    "## Create new contributor measurements"
   ]
  },
  {
   "cell_type": "code",
   "execution_count": 6,
   "id": "0d30f616",
   "metadata": {},
   "outputs": [],
   "source": [
    "personContributors = pd.read_csv('./2022-06-07_kbr/csv/contributors-persons.csv', index_col='contributorID')"
   ]
  },
  {
   "cell_type": "code",
   "execution_count": 7,
   "id": "3e17bfe1",
   "metadata": {},
   "outputs": [],
   "source": [
    "personComment = \"Added columns with statistics about how many books a contributor authored, translated etc.\"\n",
    "personContributorsMeasurements = pd.DataFrame([\n",
    "    utils.createContributorCorpusMeasurements(personContributors, personComment)\n",
    "])"
   ]
  },
  {
   "cell_type": "code",
   "execution_count": 8,
   "id": "e0cc6842",
   "metadata": {
    "scrolled": true
   },
   "outputs": [
    {
     "data": {
      "text/html": [
       "<div>\n",
       "<style scoped>\n",
       "    .dataframe tbody tr th:only-of-type {\n",
       "        vertical-align: middle;\n",
       "    }\n",
       "\n",
       "    .dataframe tbody tr th {\n",
       "        vertical-align: top;\n",
       "    }\n",
       "\n",
       "    .dataframe thead th {\n",
       "        text-align: right;\n",
       "    }\n",
       "</style>\n",
       "<table border=\"1\" class=\"dataframe\">\n",
       "  <thead>\n",
       "    <tr style=\"text-align: right;\">\n",
       "      <th></th>\n",
       "      <th>date</th>\n",
       "      <th>numberContributors</th>\n",
       "      <th>withKBRIdentifier</th>\n",
       "      <th>withBnFIdentifier</th>\n",
       "      <th>withKBIdentifier</th>\n",
       "      <th>withISNIIdentifier</th>\n",
       "      <th>withVIAFIdentifier</th>\n",
       "      <th>withWikidataIdentifier</th>\n",
       "      <th>withBirthDate</th>\n",
       "      <th>withDeathDate</th>\n",
       "      <th>...</th>\n",
       "      <th>withMultipleKBRIdentifiers</th>\n",
       "      <th>withMultipleBnFIdentifiers</th>\n",
       "      <th>withMultipleNTAIdentifiers</th>\n",
       "      <th>withMultipleISNIIdentifiers</th>\n",
       "      <th>withMultipleVIAFIdentifiers</th>\n",
       "      <th>withMultipleWikidataIdentifiers</th>\n",
       "      <th>withMultipleBirthDates</th>\n",
       "      <th>withMultipleDeathDates</th>\n",
       "      <th>withMultipleNationalities</th>\n",
       "      <th>comment</th>\n",
       "    </tr>\n",
       "  </thead>\n",
       "  <tbody>\n",
       "    <tr>\n",
       "      <th>0</th>\n",
       "      <td>2022-06-08 15:36:09.115154</td>\n",
       "      <td>16100</td>\n",
       "      <td>11342</td>\n",
       "      <td>1780</td>\n",
       "      <td>6499</td>\n",
       "      <td>12013</td>\n",
       "      <td>7757</td>\n",
       "      <td>3881</td>\n",
       "      <td>3045</td>\n",
       "      <td>923</td>\n",
       "      <td>...</td>\n",
       "      <td>25</td>\n",
       "      <td>11</td>\n",
       "      <td>8</td>\n",
       "      <td>12</td>\n",
       "      <td>38</td>\n",
       "      <td>1</td>\n",
       "      <td>45</td>\n",
       "      <td>10</td>\n",
       "      <td>120</td>\n",
       "      <td>Added columns with statistics about how many b...</td>\n",
       "    </tr>\n",
       "  </tbody>\n",
       "</table>\n",
       "<p>1 rows × 21 columns</p>\n",
       "</div>"
      ],
      "text/plain": [
       "                        date  numberContributors  withKBRIdentifier  \\\n",
       "0 2022-06-08 15:36:09.115154               16100              11342   \n",
       "\n",
       "   withBnFIdentifier  withKBIdentifier  withISNIIdentifier  \\\n",
       "0               1780              6499               12013   \n",
       "\n",
       "   withVIAFIdentifier  withWikidataIdentifier  withBirthDate  withDeathDate  \\\n",
       "0                7757                    3881           3045            923   \n",
       "\n",
       "   ...  withMultipleKBRIdentifiers  withMultipleBnFIdentifiers  \\\n",
       "0  ...                          25                          11   \n",
       "\n",
       "   withMultipleNTAIdentifiers  withMultipleISNIIdentifiers  \\\n",
       "0                           8                           12   \n",
       "\n",
       "   withMultipleVIAFIdentifiers  withMultipleWikidataIdentifiers  \\\n",
       "0                           38                                1   \n",
       "\n",
       "   withMultipleBirthDates  withMultipleDeathDates  withMultipleNationalities  \\\n",
       "0                      45                      10                        120   \n",
       "\n",
       "                                             comment  \n",
       "0  Added columns with statistics about how many b...  \n",
       "\n",
       "[1 rows x 21 columns]"
      ]
     },
     "execution_count": 8,
     "metadata": {},
     "output_type": "execute_result"
    }
   ],
   "source": [
    "personContributorsMeasurements"
   ]
  },
  {
   "cell_type": "code",
   "execution_count": 9,
   "id": "5f2f8bfa",
   "metadata": {},
   "outputs": [],
   "source": [
    "personContributorsMeasurements.to_csv('2022-06-07-person-contributor-stats.csv', index=False)"
   ]
  }
 ],
 "metadata": {
  "kernelspec": {
   "display_name": "py-integration-env",
   "language": "python",
   "name": "py-integration-env"
  },
  "language_info": {
   "codemirror_mode": {
    "name": "ipython",
    "version": 3
   },
   "file_extension": ".py",
   "mimetype": "text/x-python",
   "name": "python",
   "nbconvert_exporter": "python",
   "pygments_lexer": "ipython3",
   "version": "3.8.10"
  },
  "toc": {
   "base_numbering": 1,
   "nav_menu": {},
   "number_sections": true,
   "sideBar": true,
   "skip_h1_title": false,
   "title_cell": "Table of Contents",
   "title_sidebar": "Contents",
   "toc_cell": false,
   "toc_position": {},
   "toc_section_display": true,
   "toc_window_display": false
  }
 },
 "nbformat": 4,
 "nbformat_minor": 5
}
