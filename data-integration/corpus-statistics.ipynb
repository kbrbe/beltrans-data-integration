{
 "cells": [
  {
   "cell_type": "markdown",
   "id": "49d3e063",
   "metadata": {},
   "source": [
    "# BELTRANS statistics\n",
    "\n",
    "This notebook creates and displays statistics about the BELTRANS corpus. It aims to measure the improvement performed by different data integration or enrichment techniques.\n"
   ]
  },
  {
   "cell_type": "code",
   "execution_count": 1,
   "id": "87bd1ba3",
   "metadata": {},
   "outputs": [],
   "source": [
    "import pandas as pd\n",
    "import utils\n",
    "from datetime import datetime"
   ]
  },
  {
   "cell_type": "markdown",
   "id": "a74b759f",
   "metadata": {},
   "source": [
    "## Existing measurements\n",
    "\n",
    "The measured statistics currently evolve like this:\n",
    "\n",
    "todo"
   ]
  },
  {
   "cell_type": "markdown",
   "id": "23728ec6",
   "metadata": {},
   "source": [
    "## Create new manifestation measurements\n",
    "\n",
    "The following code is used to create new statistics. They can be saved to a CSV file and be taken into account in the section above about existing measurements."
   ]
  },
  {
   "cell_type": "code",
   "execution_count": 2,
   "id": "cf19925e",
   "metadata": {},
   "outputs": [],
   "source": [
    "corpus = pd.read_csv('./2022-05-03_kbr/csv/integrated-data-enriched.csv', index_col='targetIdentifier')\n",
    "corpusNLFR = corpus[(corpus['sourceLanguage'] == 'Dutch') & (corpus['targetLanguage'] == 'French') ]\n",
    "corpusFRNL = corpus[(corpus['sourceLanguage'] == 'French') & (corpus['targetLanguage'] == 'Dutch') ]\n",
    "corpusOther = corpus[ ((corpus['sourceLanguage'] != 'Dutch') & (corpus['sourceLanguage'] != 'French')) | ((corpus['targetLanguage'] != 'Dutch') & (corpus['targetLanguage'] != 'French'))]"
   ]
  },
  {
   "cell_type": "code",
   "execution_count": 3,
   "id": "e6350799",
   "metadata": {},
   "outputs": [],
   "source": [
    "comment = \"Data integrated from KBR, BnF and KB based on ISBN10 and ISBN13 identifiers.\"\n",
    "measurements = pd.DataFrame([\n",
    "  utils.createCorpusMeasurements(corpusFRNL, 'FR-NL', comment),\n",
    "  utils.createCorpusMeasurements(corpusNLFR, 'NL-FR', comment),\n",
    "  utils.createCorpusMeasurements(corpusOther, 'OTHER', comment)\n",
    "])"
   ]
  },
  {
   "cell_type": "code",
   "execution_count": 4,
   "id": "9d634cfd",
   "metadata": {
    "scrolled": true
   },
   "outputs": [
    {
     "data": {
      "text/html": [
       "<div>\n",
       "<style scoped>\n",
       "    .dataframe tbody tr th:only-of-type {\n",
       "        vertical-align: middle;\n",
       "    }\n",
       "\n",
       "    .dataframe tbody tr th {\n",
       "        vertical-align: top;\n",
       "    }\n",
       "\n",
       "    .dataframe thead th {\n",
       "        text-align: right;\n",
       "    }\n",
       "</style>\n",
       "<table border=\"1\" class=\"dataframe\">\n",
       "  <thead>\n",
       "    <tr style=\"text-align: right;\">\n",
       "      <th></th>\n",
       "      <th>date</th>\n",
       "      <th>corpus</th>\n",
       "      <th>numberTranslations</th>\n",
       "      <th>withTargetISBN10</th>\n",
       "      <th>withTargetISBN13</th>\n",
       "      <th>withKBRIdentifier</th>\n",
       "      <th>withBnFIdentifier</th>\n",
       "      <th>withKBIdentifier</th>\n",
       "      <th>withBBThesaurusID</th>\n",
       "      <th>withSourceKBRIdentifier</th>\n",
       "      <th>withSourceTitle</th>\n",
       "      <th>withSourceISBN10</th>\n",
       "      <th>withSourceISBN13</th>\n",
       "      <th>comment</th>\n",
       "    </tr>\n",
       "  </thead>\n",
       "  <tbody>\n",
       "    <tr>\n",
       "      <th>0</th>\n",
       "      <td>2022-05-09 15:08:17.692880</td>\n",
       "      <td>FR-NL</td>\n",
       "      <td>6891</td>\n",
       "      <td>6250</td>\n",
       "      <td>6252</td>\n",
       "      <td>6125</td>\n",
       "      <td>58</td>\n",
       "      <td>1817</td>\n",
       "      <td>5970</td>\n",
       "      <td>111</td>\n",
       "      <td>111</td>\n",
       "      <td>80</td>\n",
       "      <td>97</td>\n",
       "      <td>Data integrated from KBR, BnF and KB based on ...</td>\n",
       "    </tr>\n",
       "    <tr>\n",
       "      <th>1</th>\n",
       "      <td>2022-05-09 15:08:17.908694</td>\n",
       "      <td>NL-FR</td>\n",
       "      <td>3731</td>\n",
       "      <td>3204</td>\n",
       "      <td>3228</td>\n",
       "      <td>3249</td>\n",
       "      <td>1211</td>\n",
       "      <td>724</td>\n",
       "      <td>2687</td>\n",
       "      <td>149</td>\n",
       "      <td>149</td>\n",
       "      <td>133</td>\n",
       "      <td>134</td>\n",
       "      <td>Data integrated from KBR, BnF and KB based on ...</td>\n",
       "    </tr>\n",
       "    <tr>\n",
       "      <th>2</th>\n",
       "      <td>2022-05-09 15:08:17.996023</td>\n",
       "      <td>OTHER</td>\n",
       "      <td>236</td>\n",
       "      <td>190</td>\n",
       "      <td>190</td>\n",
       "      <td>230</td>\n",
       "      <td>65</td>\n",
       "      <td>11</td>\n",
       "      <td>201</td>\n",
       "      <td>1</td>\n",
       "      <td>1</td>\n",
       "      <td>1</td>\n",
       "      <td>1</td>\n",
       "      <td>Data integrated from KBR, BnF and KB based on ...</td>\n",
       "    </tr>\n",
       "  </tbody>\n",
       "</table>\n",
       "</div>"
      ],
      "text/plain": [
       "                        date corpus  numberTranslations  withTargetISBN10  \\\n",
       "0 2022-05-09 15:08:17.692880  FR-NL                6891              6250   \n",
       "1 2022-05-09 15:08:17.908694  NL-FR                3731              3204   \n",
       "2 2022-05-09 15:08:17.996023  OTHER                 236               190   \n",
       "\n",
       "   withTargetISBN13  withKBRIdentifier  withBnFIdentifier  withKBIdentifier  \\\n",
       "0              6252               6125                 58              1817   \n",
       "1              3228               3249               1211               724   \n",
       "2               190                230                 65                11   \n",
       "\n",
       "   withBBThesaurusID  withSourceKBRIdentifier  withSourceTitle  \\\n",
       "0               5970                      111              111   \n",
       "1               2687                      149              149   \n",
       "2                201                        1                1   \n",
       "\n",
       "   withSourceISBN10  withSourceISBN13  \\\n",
       "0                80                97   \n",
       "1               133               134   \n",
       "2                 1                 1   \n",
       "\n",
       "                                             comment  \n",
       "0  Data integrated from KBR, BnF and KB based on ...  \n",
       "1  Data integrated from KBR, BnF and KB based on ...  \n",
       "2  Data integrated from KBR, BnF and KB based on ...  "
      ]
     },
     "execution_count": 4,
     "metadata": {},
     "output_type": "execute_result"
    }
   ],
   "source": [
    "measurements"
   ]
  },
  {
   "cell_type": "code",
   "execution_count": 5,
   "id": "b5cbc31e",
   "metadata": {},
   "outputs": [],
   "source": [
    "#measurements.to_csv('2022-05-09-translation-stats.csv', index=False)"
   ]
  },
  {
   "cell_type": "markdown",
   "id": "e9f094a8",
   "metadata": {},
   "source": [
    "## Create new contributor measurements"
   ]
  },
  {
   "cell_type": "code",
   "execution_count": 6,
   "id": "b217db88",
   "metadata": {},
   "outputs": [],
   "source": [
    "personContributors = pd.read_csv('./2022-05-03_kbr/csv/contributors-persons.csv', index_col='contributorID')"
   ]
  },
  {
   "cell_type": "code",
   "execution_count": 7,
   "id": "212844b9",
   "metadata": {},
   "outputs": [],
   "source": [
    "personComment = \"Contributors integrated from ISNI SRU dump, KBR, BnF and NTA based on ISNI, VIAF and Wikidata identifiers.\"\n",
    "personContributorsMeasurements = pd.DataFrame([\n",
    "    utils.createContributorCorpusMeasurements(personContributors, personComment)\n",
    "])"
   ]
  },
  {
   "cell_type": "code",
   "execution_count": 8,
   "id": "a5e88aba",
   "metadata": {
    "scrolled": true
   },
   "outputs": [
    {
     "data": {
      "text/html": [
       "<div>\n",
       "<style scoped>\n",
       "    .dataframe tbody tr th:only-of-type {\n",
       "        vertical-align: middle;\n",
       "    }\n",
       "\n",
       "    .dataframe tbody tr th {\n",
       "        vertical-align: top;\n",
       "    }\n",
       "\n",
       "    .dataframe thead th {\n",
       "        text-align: right;\n",
       "    }\n",
       "</style>\n",
       "<table border=\"1\" class=\"dataframe\">\n",
       "  <thead>\n",
       "    <tr style=\"text-align: right;\">\n",
       "      <th></th>\n",
       "      <th>date</th>\n",
       "      <th>numberContributors</th>\n",
       "      <th>withKBRIdentifier</th>\n",
       "      <th>withBnFIdentifier</th>\n",
       "      <th>withKBIdentifier</th>\n",
       "      <th>withISNIIdentifier</th>\n",
       "      <th>withVIAFIdentifier</th>\n",
       "      <th>withWikidataIdentifier</th>\n",
       "      <th>withBirthDate</th>\n",
       "      <th>withDeathDate</th>\n",
       "      <th>withNationality</th>\n",
       "      <th>withMultipleKBRIdentifiers</th>\n",
       "      <th>withMultipleBnFIdentifiers</th>\n",
       "      <th>withMultipleNTAIdentifiers</th>\n",
       "      <th>withMultipleISNIIdentifiers</th>\n",
       "      <th>withMultipleVIAFIdentifiers</th>\n",
       "      <th>withMultipleWikidataIdentifiers</th>\n",
       "      <th>withMultipleBirthDates</th>\n",
       "      <th>withMultipleDeathDates</th>\n",
       "      <th>withMultipleNationalities</th>\n",
       "    </tr>\n",
       "  </thead>\n",
       "  <tbody>\n",
       "    <tr>\n",
       "      <th>0</th>\n",
       "      <td>2022-05-09 15:08:18.335386</td>\n",
       "      <td>48835</td>\n",
       "      <td>12850</td>\n",
       "      <td>3357</td>\n",
       "      <td>6499</td>\n",
       "      <td>44084</td>\n",
       "      <td>9249</td>\n",
       "      <td>4292</td>\n",
       "      <td>25046</td>\n",
       "      <td>10263</td>\n",
       "      <td>35872</td>\n",
       "      <td>27</td>\n",
       "      <td>11</td>\n",
       "      <td>8</td>\n",
       "      <td>13</td>\n",
       "      <td>38</td>\n",
       "      <td>1</td>\n",
       "      <td>47</td>\n",
       "      <td>10</td>\n",
       "      <td>134</td>\n",
       "    </tr>\n",
       "  </tbody>\n",
       "</table>\n",
       "</div>"
      ],
      "text/plain": [
       "                        date  numberContributors  withKBRIdentifier  \\\n",
       "0 2022-05-09 15:08:18.335386               48835              12850   \n",
       "\n",
       "   withBnFIdentifier  withKBIdentifier  withISNIIdentifier  \\\n",
       "0               3357              6499               44084   \n",
       "\n",
       "   withVIAFIdentifier  withWikidataIdentifier  withBirthDate  withDeathDate  \\\n",
       "0                9249                    4292          25046          10263   \n",
       "\n",
       "   withNationality  withMultipleKBRIdentifiers  withMultipleBnFIdentifiers  \\\n",
       "0            35872                          27                          11   \n",
       "\n",
       "   withMultipleNTAIdentifiers  withMultipleISNIIdentifiers  \\\n",
       "0                           8                           13   \n",
       "\n",
       "   withMultipleVIAFIdentifiers  withMultipleWikidataIdentifiers  \\\n",
       "0                           38                                1   \n",
       "\n",
       "   withMultipleBirthDates  withMultipleDeathDates  withMultipleNationalities  \n",
       "0                      47                      10                        134  "
      ]
     },
     "execution_count": 8,
     "metadata": {},
     "output_type": "execute_result"
    }
   ],
   "source": [
    "personContributorsMeasurements"
   ]
  },
  {
   "cell_type": "code",
   "execution_count": 9,
   "id": "61f91818",
   "metadata": {},
   "outputs": [],
   "source": [
    "#personContributorsMeasurements.to_csv('2022-05-09-person-contributor-stats.csv', index=False)"
   ]
  }
 ],
 "metadata": {
  "kernelspec": {
   "display_name": "py-integration-env",
   "language": "python",
   "name": "py-integration-env"
  },
  "language_info": {
   "codemirror_mode": {
    "name": "ipython",
    "version": 3
   },
   "file_extension": ".py",
   "mimetype": "text/x-python",
   "name": "python",
   "nbconvert_exporter": "python",
   "pygments_lexer": "ipython3",
   "version": "3.8.10"
  }
 },
 "nbformat": 4,
 "nbformat_minor": 5
}
