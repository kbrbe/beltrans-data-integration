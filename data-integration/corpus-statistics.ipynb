{
 "cells": [
  {
   "cell_type": "markdown",
   "id": "bf7cf9a3",
   "metadata": {},
   "source": [
    "# BELTRANS statistics\n",
    "\n",
    "\n",
    "## Existing measurements\n",
    "\n",
    "todo\n"
   ]
  },
  {
   "cell_type": "code",
   "execution_count": 1,
   "id": "5b0ebc13",
   "metadata": {},
   "outputs": [],
   "source": [
    "import pandas as pd"
   ]
  },
  {
   "cell_type": "markdown",
   "id": "0613b7e8",
   "metadata": {},
   "source": [
    "## Create new manifestation measurements"
   ]
  },
  {
   "cell_type": "code",
   "execution_count": 35,
   "id": "6ee3d13d",
   "metadata": {},
   "outputs": [],
   "source": [
    "corpus = pd.read_csv('./2022-05-03_kbr/csv/integrated-data-enriched.csv', index_col='targetIdentifier')\n",
    "corpusNLFR = corpus[(corpus['sourceLanguage'] == 'Dutch') & (corpus['targetLanguage'] == 'French') ]\n",
    "corpusFRNL = corpus[(corpus['sourceLanguage'] == 'French') & (corpus['targetLanguage'] == 'Dutch') ]"
   ]
  },
  {
   "cell_type": "code",
   "execution_count": 36,
   "id": "0ada3c97",
   "metadata": {},
   "outputs": [],
   "source": [
    "# number of translations\n",
    "\n",
    "numberTranslationsAll = len(corpus.index)\n",
    "numberTranslationsNLFR = len(corpusNLFR.index)\n",
    "numberTranslationsFRNL = len(corpusFRNL.index)\n",
    "numberTranslationsOther = numberTranslationsAll - (numberTranslationsNLFR + numberTranslationsFRNL)\n",
    "numberTranslationsWithout\n"
   ]
  },
  {
   "cell_type": "code",
   "execution_count": 37,
   "id": "ed6d5cdc",
   "metadata": {},
   "outputs": [
    {
     "name": "stdout",
     "output_type": "stream",
     "text": [
      "In total there are 10858 translations,\n",
      "\t* NL-FR: 3731\n",
      "\t* FR-NL: 6891\n",
      "\t* Other: 236 (with combinations of multiple source/target languages)\n"
     ]
    }
   ],
   "source": [
    "print(f'In total there are {numberTranslationsAll} translations,\\n\\t* NL-FR: {numberTranslationsNLFR}\\n\\t* FR-NL: {numberTranslationsFRNL}\\n\\t* Other: {numberTranslationsOther} (with combinations of multiple source/target languages)')"
   ]
  },
  {
   "cell_type": "markdown",
   "id": "3e15ef4a",
   "metadata": {},
   "source": [
    "## Create new contributor measurements"
   ]
  },
  {
   "cell_type": "code",
   "execution_count": 30,
   "id": "07f87a5b",
   "metadata": {},
   "outputs": [],
   "source": [
    "personContributors = pd.read_csv('./2022-05-03_kbr/csv/contributors-persons.csv', index_col='contributorID')"
   ]
  },
  {
   "cell_type": "code",
   "execution_count": null,
   "id": "386b1ef4",
   "metadata": {},
   "outputs": [],
   "source": []
  }
 ],
 "metadata": {
  "kernelspec": {
   "display_name": "py-integration-env",
   "language": "python",
   "name": "py-integration-env"
  },
  "language_info": {
   "codemirror_mode": {
    "name": "ipython",
    "version": 3
   },
   "file_extension": ".py",
   "mimetype": "text/x-python",
   "name": "python",
   "nbconvert_exporter": "python",
   "pygments_lexer": "ipython3",
   "version": "3.8.10"
  }
 },
 "nbformat": 4,
 "nbformat_minor": 5
}
