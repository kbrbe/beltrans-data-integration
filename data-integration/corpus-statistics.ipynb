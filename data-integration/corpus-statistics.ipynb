{
 "cells": [
  {
   "cell_type": "markdown",
   "id": "e511415d",
   "metadata": {},
   "source": [
    "# BELTRANS statistics\n",
    "\n",
    "This notebook creates and displays statistics about the BELTRANS corpus. It aims to measure the improvement performed by different data integration or enrichment techniques.\n"
   ]
  },
  {
   "cell_type": "code",
   "execution_count": 1,
   "id": "369a7da1",
   "metadata": {},
   "outputs": [],
   "source": [
    "import pandas as pd\n",
    "import utils\n",
    "from datetime import datetime"
   ]
  },
  {
   "cell_type": "markdown",
   "id": "0bd339d6",
   "metadata": {},
   "source": [
    "## Existing measurements\n",
    "\n",
    "The measured statistics currently evolve like this:\n",
    "\n",
    "todo"
   ]
  },
  {
   "cell_type": "markdown",
   "id": "be03bc06",
   "metadata": {},
   "source": [
    "## Create new manifestation measurements\n",
    "\n",
    "The following code is used to create new statistics. They can be saved to a CSV file and be taken into account in the section above about existing measurements."
   ]
  },
  {
   "cell_type": "code",
   "execution_count": 2,
   "id": "4154474c",
   "metadata": {},
   "outputs": [],
   "source": [
    "corpus = pd.read_csv('./2022-05-23_kbr/csv/integrated-data-enriched.csv', index_col='targetIdentifier')\n",
    "corpusNLFR = corpus[(corpus['sourceLanguage'] == 'Dutch') & (corpus['targetLanguage'] == 'French') ]\n",
    "corpusFRNL = corpus[(corpus['sourceLanguage'] == 'French') & (corpus['targetLanguage'] == 'Dutch') ]\n",
    "corpusOther = corpus[ ((corpus['sourceLanguage'] != 'Dutch') & (corpus['sourceLanguage'] != 'French')) | ((corpus['targetLanguage'] != 'Dutch') & (corpus['targetLanguage'] != 'French'))]"
   ]
  },
  {
   "cell_type": "code",
   "execution_count": 3,
   "id": "b7c595f8",
   "metadata": {},
   "outputs": [],
   "source": [
    "comment = \"No changes to previous version.\"\n",
    "measurements = pd.DataFrame([\n",
    "  utils.createCorpusMeasurements(corpusFRNL, 'FR-NL', comment),\n",
    "  utils.createCorpusMeasurements(corpusNLFR, 'NL-FR', comment),\n",
    "  utils.createCorpusMeasurements(corpusOther, 'OTHER', comment)\n",
    "])"
   ]
  },
  {
   "cell_type": "code",
   "execution_count": 4,
   "id": "a731d8b8",
   "metadata": {
    "scrolled": true
   },
   "outputs": [
    {
     "data": {
      "text/html": [
       "<div>\n",
       "<style scoped>\n",
       "    .dataframe tbody tr th:only-of-type {\n",
       "        vertical-align: middle;\n",
       "    }\n",
       "\n",
       "    .dataframe tbody tr th {\n",
       "        vertical-align: top;\n",
       "    }\n",
       "\n",
       "    .dataframe thead th {\n",
       "        text-align: right;\n",
       "    }\n",
       "</style>\n",
       "<table border=\"1\" class=\"dataframe\">\n",
       "  <thead>\n",
       "    <tr style=\"text-align: right;\">\n",
       "      <th></th>\n",
       "      <th>date</th>\n",
       "      <th>corpus</th>\n",
       "      <th>numberTranslations</th>\n",
       "      <th>withTargetISBN10</th>\n",
       "      <th>withTargetISBN13</th>\n",
       "      <th>withKBRIdentifier</th>\n",
       "      <th>withBnFIdentifier</th>\n",
       "      <th>withKBIdentifier</th>\n",
       "      <th>withBBThesaurusID</th>\n",
       "      <th>withSourceKBRIdentifier</th>\n",
       "      <th>withSourceTitle</th>\n",
       "      <th>withSourceISBN10</th>\n",
       "      <th>withSourceISBN13</th>\n",
       "      <th>comment</th>\n",
       "    </tr>\n",
       "  </thead>\n",
       "  <tbody>\n",
       "    <tr>\n",
       "      <th>0</th>\n",
       "      <td>2022-05-23 11:24:43.870962</td>\n",
       "      <td>FR-NL</td>\n",
       "      <td>6891</td>\n",
       "      <td>6250</td>\n",
       "      <td>6252</td>\n",
       "      <td>6125</td>\n",
       "      <td>58</td>\n",
       "      <td>1817</td>\n",
       "      <td>5970</td>\n",
       "      <td>111</td>\n",
       "      <td>2291</td>\n",
       "      <td>80</td>\n",
       "      <td>97</td>\n",
       "      <td>No changes to previous version.</td>\n",
       "    </tr>\n",
       "    <tr>\n",
       "      <th>1</th>\n",
       "      <td>2022-05-23 11:24:44.123541</td>\n",
       "      <td>NL-FR</td>\n",
       "      <td>3731</td>\n",
       "      <td>3204</td>\n",
       "      <td>3228</td>\n",
       "      <td>3249</td>\n",
       "      <td>1211</td>\n",
       "      <td>724</td>\n",
       "      <td>2687</td>\n",
       "      <td>149</td>\n",
       "      <td>1119</td>\n",
       "      <td>133</td>\n",
       "      <td>134</td>\n",
       "      <td>No changes to previous version.</td>\n",
       "    </tr>\n",
       "    <tr>\n",
       "      <th>2</th>\n",
       "      <td>2022-05-23 11:24:44.220779</td>\n",
       "      <td>OTHER</td>\n",
       "      <td>236</td>\n",
       "      <td>190</td>\n",
       "      <td>190</td>\n",
       "      <td>230</td>\n",
       "      <td>65</td>\n",
       "      <td>11</td>\n",
       "      <td>201</td>\n",
       "      <td>1</td>\n",
       "      <td>9</td>\n",
       "      <td>1</td>\n",
       "      <td>1</td>\n",
       "      <td>No changes to previous version.</td>\n",
       "    </tr>\n",
       "  </tbody>\n",
       "</table>\n",
       "</div>"
      ],
      "text/plain": [
       "                        date corpus  numberTranslations  withTargetISBN10  \\\n",
       "0 2022-05-23 11:24:43.870962  FR-NL                6891              6250   \n",
       "1 2022-05-23 11:24:44.123541  NL-FR                3731              3204   \n",
       "2 2022-05-23 11:24:44.220779  OTHER                 236               190   \n",
       "\n",
       "   withTargetISBN13  withKBRIdentifier  withBnFIdentifier  withKBIdentifier  \\\n",
       "0              6252               6125                 58              1817   \n",
       "1              3228               3249               1211               724   \n",
       "2               190                230                 65                11   \n",
       "\n",
       "   withBBThesaurusID  withSourceKBRIdentifier  withSourceTitle  \\\n",
       "0               5970                      111             2291   \n",
       "1               2687                      149             1119   \n",
       "2                201                        1                9   \n",
       "\n",
       "   withSourceISBN10  withSourceISBN13                          comment  \n",
       "0                80                97  No changes to previous version.  \n",
       "1               133               134  No changes to previous version.  \n",
       "2                 1                 1  No changes to previous version.  "
      ]
     },
     "execution_count": 4,
     "metadata": {},
     "output_type": "execute_result"
    }
   ],
   "source": [
    "measurements"
   ]
  },
  {
   "cell_type": "code",
   "execution_count": 5,
   "id": "e7db3749",
   "metadata": {},
   "outputs": [],
   "source": [
    "measurements.to_csv('2022-05-23-translation-stats.csv', index=False)"
   ]
  },
  {
   "cell_type": "markdown",
   "id": "d09fb012",
   "metadata": {},
   "source": [
    "## Create new contributor measurements"
   ]
  },
  {
   "cell_type": "code",
   "execution_count": 6,
   "id": "0d30f616",
   "metadata": {},
   "outputs": [],
   "source": [
    "personContributors = pd.read_csv('./2022-05-23_kbr/csv/contributors-persons.csv', index_col='contributorID')"
   ]
  },
  {
   "cell_type": "code",
   "execution_count": 7,
   "id": "3e17bfe1",
   "metadata": {},
   "outputs": [],
   "source": [
    "personComment = \"Only count persons who are actually contributing to manifestations of the corpus (author, translator, illustrator, scenarist, publishing director).\"\n",
    "personContributorsMeasurements = pd.DataFrame([\n",
    "    utils.createContributorCorpusMeasurements(personContributors, personComment)\n",
    "])"
   ]
  },
  {
   "cell_type": "code",
   "execution_count": 8,
   "id": "e0cc6842",
   "metadata": {
    "scrolled": true
   },
   "outputs": [
    {
     "data": {
      "text/html": [
       "<div>\n",
       "<style scoped>\n",
       "    .dataframe tbody tr th:only-of-type {\n",
       "        vertical-align: middle;\n",
       "    }\n",
       "\n",
       "    .dataframe tbody tr th {\n",
       "        vertical-align: top;\n",
       "    }\n",
       "\n",
       "    .dataframe thead th {\n",
       "        text-align: right;\n",
       "    }\n",
       "</style>\n",
       "<table border=\"1\" class=\"dataframe\">\n",
       "  <thead>\n",
       "    <tr style=\"text-align: right;\">\n",
       "      <th></th>\n",
       "      <th>date</th>\n",
       "      <th>numberContributors</th>\n",
       "      <th>withKBRIdentifier</th>\n",
       "      <th>withBnFIdentifier</th>\n",
       "      <th>withKBIdentifier</th>\n",
       "      <th>withISNIIdentifier</th>\n",
       "      <th>withVIAFIdentifier</th>\n",
       "      <th>withWikidataIdentifier</th>\n",
       "      <th>withBirthDate</th>\n",
       "      <th>withDeathDate</th>\n",
       "      <th>...</th>\n",
       "      <th>withMultipleKBRIdentifiers</th>\n",
       "      <th>withMultipleBnFIdentifiers</th>\n",
       "      <th>withMultipleNTAIdentifiers</th>\n",
       "      <th>withMultipleISNIIdentifiers</th>\n",
       "      <th>withMultipleVIAFIdentifiers</th>\n",
       "      <th>withMultipleWikidataIdentifiers</th>\n",
       "      <th>withMultipleBirthDates</th>\n",
       "      <th>withMultipleDeathDates</th>\n",
       "      <th>withMultipleNationalities</th>\n",
       "      <th>comment</th>\n",
       "    </tr>\n",
       "  </thead>\n",
       "  <tbody>\n",
       "    <tr>\n",
       "      <th>0</th>\n",
       "      <td>2022-05-23 11:24:44.368198</td>\n",
       "      <td>15681</td>\n",
       "      <td>10923</td>\n",
       "      <td>1764</td>\n",
       "      <td>6499</td>\n",
       "      <td>11803</td>\n",
       "      <td>7734</td>\n",
       "      <td>3879</td>\n",
       "      <td>3001</td>\n",
       "      <td>920</td>\n",
       "      <td>...</td>\n",
       "      <td>25</td>\n",
       "      <td>11</td>\n",
       "      <td>8</td>\n",
       "      <td>12</td>\n",
       "      <td>38</td>\n",
       "      <td>1</td>\n",
       "      <td>44</td>\n",
       "      <td>10</td>\n",
       "      <td>119</td>\n",
       "      <td>Only count persons who are actually contributi...</td>\n",
       "    </tr>\n",
       "  </tbody>\n",
       "</table>\n",
       "<p>1 rows × 21 columns</p>\n",
       "</div>"
      ],
      "text/plain": [
       "                        date  numberContributors  withKBRIdentifier  \\\n",
       "0 2022-05-23 11:24:44.368198               15681              10923   \n",
       "\n",
       "   withBnFIdentifier  withKBIdentifier  withISNIIdentifier  \\\n",
       "0               1764              6499               11803   \n",
       "\n",
       "   withVIAFIdentifier  withWikidataIdentifier  withBirthDate  withDeathDate  \\\n",
       "0                7734                    3879           3001            920   \n",
       "\n",
       "   ...  withMultipleKBRIdentifiers  withMultipleBnFIdentifiers  \\\n",
       "0  ...                          25                          11   \n",
       "\n",
       "   withMultipleNTAIdentifiers  withMultipleISNIIdentifiers  \\\n",
       "0                           8                           12   \n",
       "\n",
       "   withMultipleVIAFIdentifiers  withMultipleWikidataIdentifiers  \\\n",
       "0                           38                                1   \n",
       "\n",
       "   withMultipleBirthDates  withMultipleDeathDates  withMultipleNationalities  \\\n",
       "0                      44                      10                        119   \n",
       "\n",
       "                                             comment  \n",
       "0  Only count persons who are actually contributi...  \n",
       "\n",
       "[1 rows x 21 columns]"
      ]
     },
     "execution_count": 8,
     "metadata": {},
     "output_type": "execute_result"
    }
   ],
   "source": [
    "personContributorsMeasurements"
   ]
  },
  {
   "cell_type": "code",
   "execution_count": 9,
   "id": "5f2f8bfa",
   "metadata": {},
   "outputs": [],
   "source": [
    "personContributorsMeasurements.to_csv('2022-05-23-person-contributor-stats.csv', index=False)"
   ]
  }
 ],
 "metadata": {
  "kernelspec": {
   "display_name": "py-integration-env",
   "language": "python",
   "name": "py-integration-env"
  },
  "language_info": {
   "codemirror_mode": {
    "name": "ipython",
    "version": 3
   },
   "file_extension": ".py",
   "mimetype": "text/x-python",
   "name": "python",
   "nbconvert_exporter": "python",
   "pygments_lexer": "ipython3",
   "version": "3.8.10"
  }
 },
 "nbformat": 4,
 "nbformat_minor": 5
}
