{
 "cells": [
  {
   "cell_type": "markdown",
   "id": "c32e1226",
   "metadata": {},
   "source": [
    "# Integration Analysis\n",
    "\n",
    "This notebook contains statistics about the integration for the BELTRANS project\n",
    "\n",
    "# Table of Contents\n",
    "\n",
    "1. [Goals](#Goals)\n",
    "2. [Approach](#Approach)\n",
    "3. [Integration Steps](#Integration-steps)<br>\n",
    "  3.1. [Enrich with identifiers](#Enrich-with-identifiers)<br>\n",
    "  3.2. [Enrich with nationalities](#Enrich-with-nationalities)<br>\n",
    "  3.3. [Enrich with new authorities](#Enrich-with-new-authorities)<br>"
   ]
  },
  {
   "cell_type": "code",
   "execution_count": 1,
   "id": "51942a43",
   "metadata": {},
   "outputs": [],
   "source": [
    "import sys\n",
    "import pandas as pd\n",
    "import matplotlib\n",
    "sys.path.insert(0, '../utils/')\n",
    "\n",
    "from SPARQLWrapper import SPARQLWrapper, TURTLE, JSON\n",
    "import sparql_utils\n",
    "\n",
    "# Establish a connection to our database\n",
    "sparqlEndpoint = SPARQLWrapper('http://wikibase-test-srv01.kbr.be/sparql/namespace/integration/sparql')"
   ]
  },
  {
   "cell_type": "markdown",
   "id": "943586e0",
   "metadata": {},
   "source": [
    "# Integration steps\n",
    "\n",
    "On the one hand we can start from already identified translations, measure their quality and the quality of related contributors.\n",
    "\n",
    "With respect to the integration it is important to measure the following\n",
    "\n",
    "## Current number of translations - KBR\n",
    "\n",
    "The following statistics provide an intitial overview:\n",
    "\n",
    "* how many translations do have an ISBN identifier?\n",
    "* how many translations do have a source specified?\n",
    "* how many translations specify an author?\n",
    "* how many translations specify a translator?\n",
    "* how many translations specify an illustrator?\n",
    "* how many translations specify a scenarist?\n",
    "* how many translations do not specify a role for contributors?\n",
    "  \n",
    "Missing attributes and contributors can be identified by identifying these translations in other data sources."
   ]
  },
  {
   "cell_type": "code",
   "execution_count": 3,
   "id": "05c07ab8",
   "metadata": {
    "scrolled": true
   },
   "outputs": [
    {
     "data": {
      "text/html": [
       "<div>\n",
       "<style scoped>\n",
       "    .dataframe tbody tr th:only-of-type {\n",
       "        vertical-align: middle;\n",
       "    }\n",
       "\n",
       "    .dataframe tbody tr th {\n",
       "        vertical-align: top;\n",
       "    }\n",
       "\n",
       "    .dataframe thead th {\n",
       "        text-align: right;\n",
       "    }\n",
       "</style>\n",
       "<table border=\"1\" class=\"dataframe\">\n",
       "  <thead>\n",
       "    <tr style=\"text-align: right;\">\n",
       "      <th></th>\n",
       "      <th>%</th>\n",
       "      <th>found</th>\n",
       "      <th>total</th>\n",
       "      <th>missing</th>\n",
       "    </tr>\n",
       "  </thead>\n",
       "  <tbody>\n",
       "    <tr>\n",
       "      <th>Translations with ISBN identifiers</th>\n",
       "      <td>90</td>\n",
       "      <td>11830</td>\n",
       "      <td>13146</td>\n",
       "      <td>1316</td>\n",
       "    </tr>\n",
       "    <tr>\n",
       "      <th>Translations with specified author</th>\n",
       "      <td>65</td>\n",
       "      <td>8566</td>\n",
       "      <td>13146</td>\n",
       "      <td>4580</td>\n",
       "    </tr>\n",
       "    <tr>\n",
       "      <th>Translations with specified translator</th>\n",
       "      <td>62</td>\n",
       "      <td>8139</td>\n",
       "      <td>13146</td>\n",
       "      <td>5007</td>\n",
       "    </tr>\n",
       "    <tr>\n",
       "      <th>Translations with specified publisher</th>\n",
       "      <td>90</td>\n",
       "      <td>11855</td>\n",
       "      <td>13146</td>\n",
       "      <td>1291</td>\n",
       "    </tr>\n",
       "    <tr>\n",
       "      <th>Specified illustrator</th>\n",
       "      <td>18</td>\n",
       "      <td>2362</td>\n",
       "      <td>13146</td>\n",
       "      <td>10784</td>\n",
       "    </tr>\n",
       "    <tr>\n",
       "      <th>Specified scenarist</th>\n",
       "      <td>5</td>\n",
       "      <td>617</td>\n",
       "      <td>13146</td>\n",
       "      <td>12529</td>\n",
       "    </tr>\n",
       "  </tbody>\n",
       "</table>\n",
       "</div>"
      ],
      "text/plain": [
       "                                         %  found  total missing\n",
       "Translations with ISBN identifiers      90  11830  13146    1316\n",
       "Translations with specified author      65   8566  13146    4580\n",
       "Translations with specified translator  62   8139  13146    5007\n",
       "Translations with specified publisher   90  11855  13146    1291\n",
       "Specified illustrator                   18   2362  13146   10784\n",
       "Specified scenarist                      5    617  13146   12529"
      ]
     },
     "execution_count": 3,
     "metadata": {},
     "output_type": "execute_result"
    }
   ],
   "source": [
    "sparql_utils.getPublicationStatsOverview(sparqlEndpoint)"
   ]
  },
  {
   "cell_type": "markdown",
   "id": "18696a2c",
   "metadata": {},
   "source": [
    "## Current number of related contributors\n",
    "\n",
    "The following statistics provide an initial overview of linked authorities:\n",
    "\n",
    "* how many contributors have an ISNI identifier?\n",
    "* how many contributors have a VIAF identifier?\n",
    "* how many authors have a Belgian nationality?\n",
    "* how many authors have no nationality?\n",
    "* how many illustrators have a Belgian nationality?\n",
    "* how many scenarists have a Belgian nationality?\n",
    "\n",
    "On the one hand missing attributes can be identified by lookup up the contributors in the authorative datasets of the respective identifiers.\n",
    "And on the other hand, other third-party identifier can be obtained for which also missing attributes can be identified.\n",
    "\n",
    "## New translations via contributor lookup or catalog searches\n",
    "\n",
    "Based on our initial KBR dataset we already have contributors, furthermore, we have third-party identifier of those contributors. This enables us to look those contributors up in other data sources to identify translations. We may find translations we do not yet have or translations we have but without knowing it because for example we do not have an ISBN identifier. Similarly we may find translations using the search function of other catalogs.\n",
    "\n",
    "For translations found in other catalogs/datasets via search by known contributors or direct search for translations:\n",
    "\n",
    "* how many translations do we already have?\n",
    "* how many translations are similar to translation without ISBN identifier we already have? (e.g. title and publication year)\n"
   ]
  }
 ],
 "metadata": {
  "kernelspec": {
   "display_name": "py-integration-env",
   "language": "python",
   "name": "py-integration-env"
  },
  "language_info": {
   "codemirror_mode": {
    "name": "ipython",
    "version": 3
   },
   "file_extension": ".py",
   "mimetype": "text/x-python",
   "name": "python",
   "nbconvert_exporter": "python",
   "pygments_lexer": "ipython3",
   "version": "3.8.10"
  }
 },
 "nbformat": 4,
 "nbformat_minor": 5
}
