{
 "cells": [
  {
   "cell_type": "markdown",
   "id": "649959b2",
   "metadata": {},
   "source": [
    "# Unesco authority matching\n",
    "\n",
    "We have a lot of person authorities from the Unesco Index Translationum dump. By manually refining our person-contributors list we could already link a Unesco authority to KBR: if we sure two authorities are the same, adding the Unesco identifier in the unesco column of the corresponding BELTRANS authority and if necessary remove the line with the authority that only has the Unesco identifier.\n",
    "\n",
    "However as this is a very manual task we are interested in a more automatic approach. Names are not unique thus we cannot simply merge on the name value alone. However, **additionally we can look into related books**. If one or more books of the BELTRANS authority have a similar title to one or more books of a Unesco authority they are probably the same person. In this case we do not have to care much if the books have different publication years, as our main focus is the merging of the authorities. "
   ]
  },
  {
   "cell_type": "code",
   "execution_count": 1,
   "id": "fcdb4227",
   "metadata": {},
   "outputs": [],
   "source": [
    "import sys\n",
    "import os\n",
    "sys.path.insert(1, os.pardir)\n",
    "from tools.sparql import utils_sparql\n",
    "import pandas as pd\n",
    "import matching_utils\n",
    "import json\n",
    "import statistics\n",
    "from dotenv import load_dotenv\n",
    "from lookup import MatchingLookup\n",
    "load_dotenv()\n",
    "endpoint = os.environ.get('ENV_SPARQL_ENDPOINT_INTEGRATION')\n",
    "from tqdm import tqdm\n",
    "\n"
   ]
  },
  {
   "cell_type": "markdown",
   "id": "bb5354c8",
   "metadata": {},
   "source": [
    "The following lists all variables for the computation such as values and input / output files"
   ]
  },
  {
   "cell_type": "code",
   "execution_count": 2,
   "id": "add6dd79",
   "metadata": {},
   "outputs": [],
   "source": [
    "downloadAgain = True\n",
    "\n",
    "# output directory for matching results and stats\n",
    "# commented line is the initial output directory with results of different configurations for comparison (took a while to create)\n",
    "#outputDirectory = 'unesco-matching-scores'\n",
    "outputDirectory = '2023-08-09_matching-scores'\n",
    "if not os.path.exists(outputDirectory):\n",
    "    os.makedirs(outputDirectory) \n",
    "statsFilename = os.path.join(outputDirectory, 'matching-stats.csv')\n",
    "\n",
    "# already cached authority data for matching (will be overwritten when downloadAgain is True)\n",
    "beltransAuthorityDataCSVFile = os.path.join(outputDirectory, 'beltrans-authority-data.csv')\n",
    "unescoAuthorityDataCSVFile = os.path.join(outputDirectory, 'unesco-authority-data.csv')\n",
    "\n",
    "# in case downloadAgain is True, the following query is used to get BELTRANS authority data\n",
    "beltransSPARQLQueryFile = \"sparql-queries/get-contributor-merging-info-without-unesco.sparql\"\n",
    "# alternatively only BELTRANS contributors without Unesco (around 3k)\n",
    "#beltransSPARQLQueryFile = \"sparql-queries/get-contributor-merging-info-without-unesco-beltrans.sparql\"\n",
    "\n",
    "# in case downloadAgain is True, the following query i sused to get Unesco authority data\n",
    "unescoSPARQLQueryFile = \"sparql-queries/get-contributor-merging-info-unesco-unknown.sparql\"\n",
    "\n",
    "# Used algorithms and similarity thresholds (the more the longer it takes)\n",
    "# initially the following values were used for comparison (plots of result stats were used to determine the best)\n",
    "#algorithms = ['partial_ratio', 'token_sort_ratio', 'token_set_ratio']\n",
    "#similarityThresholds = [95, 90, 80]\n",
    "\n",
    "# after testing we found token_sor_ratio the best, a similarity of 90 was sufficient\n",
    "algorithms = ['token_sort_ratio']\n",
    "similarityThresholds = [90]\n",
    "minTitleMatches = 1"
   ]
  },
  {
   "cell_type": "markdown",
   "id": "5f4d5e44",
   "metadata": {},
   "source": [
    "## Get BELTRANS authority data + related books\n",
    "We query the BELTRANS SPARQL endpoint to retrieve contributors and related book titles.\n",
    "When querying only contributors that are part of the BELTRANS corpus we get `3,615` contributors, when querying all contributors of integrated data we have about translations NL-FR/FR-NL 1970-2020 we get `13,943` contributors.\n",
    "Especially the latter query takes a bit, thus we store the query result and only download it again when necessary. This can be indicated by setting the `downloadAgain` variable from the code block above to True."
   ]
  },
  {
   "cell_type": "code",
   "execution_count": 3,
   "id": "aeb55910",
   "metadata": {},
   "outputs": [
    {
     "name": "stdout",
     "output_type": "stream",
     "text": [
      "\tProcessing query sparql-queries/get-contributor-merging-info-without-unesco.sparql\n",
      "Successfully retrieved 13943 persons\n"
     ]
    }
   ],
   "source": [
    "if downloadAgain:\n",
    "    # perform SPARQL query and store the result either directly in a dataframe and save as csv file\n",
    "    beltransAuthorityData = utils_sparql.queryToDataframe(endpoint, beltransSPARQLQueryFile, indexCol=\"contributorID\")\n",
    "    beltransAuthorityData.to_csv(beltransAuthorityDataCSVFile)\n",
    "else:\n",
    "    # read the already cached data (from a previous run)\n",
    "    beltransAuthorityData = pd.read_csv(beltransAuthorityDataCSVFile, index_col='contributorID')\n",
    "print(f'Successfully retrieved {beltransAuthorityData.shape[0]} persons')"
   ]
  },
  {
   "cell_type": "code",
   "execution_count": 4,
   "id": "646e1cf4",
   "metadata": {
    "scrolled": true
   },
   "outputs": [
    {
     "data": {
      "text/html": [
       "<div>\n",
       "<style scoped>\n",
       "    .dataframe tbody tr th:only-of-type {\n",
       "        vertical-align: middle;\n",
       "    }\n",
       "\n",
       "    .dataframe tbody tr th {\n",
       "        vertical-align: top;\n",
       "    }\n",
       "\n",
       "    .dataframe thead th {\n",
       "        text-align: right;\n",
       "    }\n",
       "</style>\n",
       "<table border=\"1\" class=\"dataframe\">\n",
       "  <thead>\n",
       "    <tr style=\"text-align: right;\">\n",
       "      <th></th>\n",
       "      <th>contributorName</th>\n",
       "      <th>alternateNames</th>\n",
       "      <th>titles</th>\n",
       "    </tr>\n",
       "    <tr>\n",
       "      <th>contributorID</th>\n",
       "      <th></th>\n",
       "      <th></th>\n",
       "      <th></th>\n",
       "    </tr>\n",
       "  </thead>\n",
       "  <tbody>\n",
       "    <tr>\n",
       "      <th>2150</th>\n",
       "      <td>Derib</td>\n",
       "      <td>Ribaupierre, Claude de</td>\n",
       "      <td>Yakari en de valstrik;Yakari en de gevorkte ho...</td>\n",
       "    </tr>\n",
       "    <tr>\n",
       "      <th>3548</th>\n",
       "      <td>Jacobs, Edgar P.</td>\n",
       "      <td>Jacob, Edgard Félix Pierre</td>\n",
       "      <td>Het geheim van de Zwaardvis;De 3 formules van ...</td>\n",
       "    </tr>\n",
       "    <tr>\n",
       "      <th>5119</th>\n",
       "      <td>Peyo,</td>\n",
       "      <td>Culliford, Pierre</td>\n",
       "      <td>De leerlingsmurf ; Smurfenvallen ; Smurfen in ...</td>\n",
       "    </tr>\n",
       "    <tr>\n",
       "      <th>5346</th>\n",
       "      <td>Ray, Jean</td>\n",
       "      <td>De Kremer, Reimond;Cremer, Raymond de;Рей, Жа...</td>\n",
       "      <td>De zwarte schaduw;Wel te rusten, Sir Gaunt !;S...</td>\n",
       "    </tr>\n",
       "    <tr>\n",
       "      <th>4330</th>\n",
       "      <td>Magda,</td>\n",
       "      <td>Seron, Magda;Tumak;Ginesta, Magda</td>\n",
       "      <td>Gulliver chez les Lilliputiens ; Alice au pays...</td>\n",
       "    </tr>\n",
       "    <tr>\n",
       "      <th>...</th>\n",
       "      <td>...</td>\n",
       "      <td>...</td>\n",
       "      <td>...</td>\n",
       "    </tr>\n",
       "    <tr>\n",
       "      <th>7a79a0d8-282c-4718-a333-9ad78b608f92</th>\n",
       "      <td>Marthe Seguin-Fontès</td>\n",
       "      <td>NaN</td>\n",
       "      <td>Poppenweelde</td>\n",
       "    </tr>\n",
       "    <tr>\n",
       "      <th>82489ea8-9579-4957-b332-cea86b58a69a</th>\n",
       "      <td>Jan de Hartog</td>\n",
       "      <td>NaN</td>\n",
       "      <td>Le ciel de lit : pièce en 3 actes</td>\n",
       "    </tr>\n",
       "    <tr>\n",
       "      <th>864c52ce-e1eb-4b7d-aba1-780faeae3dd8</th>\n",
       "      <td>José de Broucker</td>\n",
       "      <td>NaN</td>\n",
       "      <td>Het dossier Suenens : diagnose van een crisis</td>\n",
       "    </tr>\n",
       "    <tr>\n",
       "      <th>873fb16c-0c39-403c-bc7a-e27ed1299c70</th>\n",
       "      <td>Paul F. Regard</td>\n",
       "      <td>NaN</td>\n",
       "      <td>De zeven kruiswoorden</td>\n",
       "    </tr>\n",
       "    <tr>\n",
       "      <th>918fc625-353b-424b-bb27-7f937062b060</th>\n",
       "      <td>Éric Chevillard</td>\n",
       "      <td>NaN</td>\n",
       "      <td>Rubber staat vast</td>\n",
       "    </tr>\n",
       "  </tbody>\n",
       "</table>\n",
       "<p>13943 rows × 3 columns</p>\n",
       "</div>"
      ],
      "text/plain": [
       "                                           contributorName  \\\n",
       "contributorID                                                \n",
       "2150                                                 Derib   \n",
       "3548                                      Jacobs, Edgar P.   \n",
       "5119                                                Peyo,    \n",
       "5346                                             Ray, Jean   \n",
       "4330                                               Magda,    \n",
       "...                                                    ...   \n",
       "7a79a0d8-282c-4718-a333-9ad78b608f92  Marthe Seguin-Fontès   \n",
       "82489ea8-9579-4957-b332-cea86b58a69a         Jan de Hartog   \n",
       "864c52ce-e1eb-4b7d-aba1-780faeae3dd8      José de Broucker   \n",
       "873fb16c-0c39-403c-bc7a-e27ed1299c70        Paul F. Regard   \n",
       "918fc625-353b-424b-bb27-7f937062b060       Éric Chevillard   \n",
       "\n",
       "                                                                         alternateNames  \\\n",
       "contributorID                                                                             \n",
       "2150                                                             Ribaupierre, Claude de   \n",
       "3548                                                         Jacob, Edgard Félix Pierre   \n",
       "5119                                                                  Culliford, Pierre   \n",
       "5346                                  De Kremer, Reimond;Cremer, Raymond de;Рей, Жа...   \n",
       "4330                                                  Seron, Magda;Tumak;Ginesta, Magda   \n",
       "...                                                                                 ...   \n",
       "7a79a0d8-282c-4718-a333-9ad78b608f92                                                NaN   \n",
       "82489ea8-9579-4957-b332-cea86b58a69a                                                NaN   \n",
       "864c52ce-e1eb-4b7d-aba1-780faeae3dd8                                                NaN   \n",
       "873fb16c-0c39-403c-bc7a-e27ed1299c70                                                NaN   \n",
       "918fc625-353b-424b-bb27-7f937062b060                                                NaN   \n",
       "\n",
       "                                                                                 titles  \n",
       "contributorID                                                                            \n",
       "2150                                  Yakari en de valstrik;Yakari en de gevorkte ho...  \n",
       "3548                                  Het geheim van de Zwaardvis;De 3 formules van ...  \n",
       "5119                                  De leerlingsmurf ; Smurfenvallen ; Smurfen in ...  \n",
       "5346                                  De zwarte schaduw;Wel te rusten, Sir Gaunt !;S...  \n",
       "4330                                  Gulliver chez les Lilliputiens ; Alice au pays...  \n",
       "...                                                                                 ...  \n",
       "7a79a0d8-282c-4718-a333-9ad78b608f92                                       Poppenweelde  \n",
       "82489ea8-9579-4957-b332-cea86b58a69a                  Le ciel de lit : pièce en 3 actes  \n",
       "864c52ce-e1eb-4b7d-aba1-780faeae3dd8      Het dossier Suenens : diagnose van een crisis  \n",
       "873fb16c-0c39-403c-bc7a-e27ed1299c70                              De zeven kruiswoorden  \n",
       "918fc625-353b-424b-bb27-7f937062b060                                  Rubber staat vast  \n",
       "\n",
       "[13943 rows x 3 columns]"
      ]
     },
     "execution_count": 4,
     "metadata": {},
     "output_type": "execute_result"
    }
   ],
   "source": [
    "beltransAuthorityData"
   ]
  },
  {
   "cell_type": "markdown",
   "id": "0b9f4539",
   "metadata": {},
   "source": [
    "## Get Unesco authority data + related books"
   ]
  },
  {
   "cell_type": "code",
   "execution_count": 7,
   "id": "cab186c8",
   "metadata": {},
   "outputs": [
    {
     "name": "stdout",
     "output_type": "stream",
     "text": [
      "\tProcessing query sparql-queries/get-contributor-merging-info-unesco-unknown.sparql\n",
      "Successfully retrieved 339 persons\n"
     ]
    }
   ],
   "source": [
    "if downloadAgain:\n",
    "    unescoAuthorityData = utils_sparql.queryToDataframe(endpoint, unescoSPARQLQueryFile, indexCol=\"contributorUnescoID\")\n",
    "    unescoAuthorityData.to_csv(unescoAuthorityDataCSVFile)\n",
    "else:\n",
    "    unescoAuthorityData = pd.read_csv(unescoAuthorityDataCSVFile, index_col=\"contributorUnescoID\")\n",
    "    \n",
    "print(f'Successfully retrieved {unescoAuthorityData.shape[0]} persons')"
   ]
  },
  {
   "cell_type": "code",
   "execution_count": 8,
   "id": "7e696e5f",
   "metadata": {},
   "outputs": [
    {
     "data": {
      "text/html": [
       "<div>\n",
       "<style scoped>\n",
       "    .dataframe tbody tr th:only-of-type {\n",
       "        vertical-align: middle;\n",
       "    }\n",
       "\n",
       "    .dataframe tbody tr th {\n",
       "        vertical-align: top;\n",
       "    }\n",
       "\n",
       "    .dataframe thead th {\n",
       "        text-align: right;\n",
       "    }\n",
       "</style>\n",
       "<table border=\"1\" class=\"dataframe\">\n",
       "  <thead>\n",
       "    <tr style=\"text-align: right;\">\n",
       "      <th></th>\n",
       "      <th>contributorUnescoIDLong</th>\n",
       "      <th>contributorName</th>\n",
       "      <th>titles</th>\n",
       "    </tr>\n",
       "    <tr>\n",
       "      <th>contributorUnescoID</th>\n",
       "      <th></th>\n",
       "      <th></th>\n",
       "      <th></th>\n",
       "    </tr>\n",
       "  </thead>\n",
       "  <tbody>\n",
       "    <tr>\n",
       "      <th>u1877</th>\n",
       "      <td>u30eb427e4cb4e5404579d7efd2e8a8bd</td>\n",
       "      <td>Saint-John Perse</td>\n",
       "      <td>Anabasis</td>\n",
       "    </tr>\n",
       "    <tr>\n",
       "      <th>u5737</th>\n",
       "      <td>u62a241c146411b7e2f4765be7d16a63e</td>\n",
       "      <td>Pema Wangyal</td>\n",
       "      <td>Diamanten van wijsheid</td>\n",
       "    </tr>\n",
       "    <tr>\n",
       "      <th>u9371</th>\n",
       "      <td>ub01d038d5ef2a724d369bbfa44301c24</td>\n",
       "      <td>Def</td>\n",
       "      <td>Digital nation</td>\n",
       "    </tr>\n",
       "    <tr>\n",
       "      <th>u9693</th>\n",
       "      <td>u54d40486f6740744b48dcf2e57ffeafb</td>\n",
       "      <td>Moynot</td>\n",
       "      <td>Anatomie van de wanorde</td>\n",
       "    </tr>\n",
       "    <tr>\n",
       "      <th>u9695</th>\n",
       "      <td>uab6f603e07f1bf22bf019440f64cb81d</td>\n",
       "      <td>Zeno Texts</td>\n",
       "      <td>Valérie</td>\n",
       "    </tr>\n",
       "    <tr>\n",
       "      <th>...</th>\n",
       "      <td>...</td>\n",
       "      <td>...</td>\n",
       "      <td>...</td>\n",
       "    </tr>\n",
       "    <tr>\n",
       "      <th>u8035</th>\n",
       "      <td>ua1564baa466364409358c6584d4538e0</td>\n",
       "      <td>Šri-Ma of Pondicherry</td>\n",
       "      <td>Het Goddelijke binnen je bereik: gesprekken me...</td>\n",
       "    </tr>\n",
       "    <tr>\n",
       "      <th>u9707</th>\n",
       "      <td>u72efd0469ab363db426d6a4ee8214070</td>\n",
       "      <td>Bédu</td>\n",
       "      <td>Clifton special;De Witte Schaduw : een verhaal...</td>\n",
       "    </tr>\n",
       "    <tr>\n",
       "      <th>u10287</th>\n",
       "      <td>u600f234cca18f91e476a7cd857990e62</td>\n",
       "      <td>Rupena</td>\n",
       "      <td>De schilder &amp; de wilde zwanen : een verhaal va...</td>\n",
       "    </tr>\n",
       "    <tr>\n",
       "      <th>u13304</th>\n",
       "      <td>uc463e54fff078e1661a91985382e5034</td>\n",
       "      <td>Scribo</td>\n",
       "      <td>Pin-up</td>\n",
       "    </tr>\n",
       "    <tr>\n",
       "      <th>u2719</th>\n",
       "      <td>ud1f58b8cd1aa0e30fd3e64d8f32c233a</td>\n",
       "      <td>Tito</td>\n",
       "      <td>David;Annemiek</td>\n",
       "    </tr>\n",
       "  </tbody>\n",
       "</table>\n",
       "<p>339 rows × 3 columns</p>\n",
       "</div>"
      ],
      "text/plain": [
       "                               contributorUnescoIDLong        contributorName  \\\n",
       "contributorUnescoID                                                             \n",
       "u1877                u30eb427e4cb4e5404579d7efd2e8a8bd       Saint-John Perse   \n",
       "u5737                u62a241c146411b7e2f4765be7d16a63e           Pema Wangyal   \n",
       "u9371                ub01d038d5ef2a724d369bbfa44301c24                    Def   \n",
       "u9693                u54d40486f6740744b48dcf2e57ffeafb                 Moynot   \n",
       "u9695                uab6f603e07f1bf22bf019440f64cb81d             Zeno Texts   \n",
       "...                                                ...                    ...   \n",
       "u8035                ua1564baa466364409358c6584d4538e0  Šri-Ma of Pondicherry   \n",
       "u9707                u72efd0469ab363db426d6a4ee8214070                   Bédu   \n",
       "u10287               u600f234cca18f91e476a7cd857990e62                 Rupena   \n",
       "u13304               uc463e54fff078e1661a91985382e5034                 Scribo   \n",
       "u2719                ud1f58b8cd1aa0e30fd3e64d8f32c233a                   Tito   \n",
       "\n",
       "                                                                titles  \n",
       "contributorUnescoID                                                     \n",
       "u1877                                                         Anabasis  \n",
       "u5737                                           Diamanten van wijsheid  \n",
       "u9371                                                   Digital nation  \n",
       "u9693                                          Anatomie van de wanorde  \n",
       "u9695                                                          Valérie  \n",
       "...                                                                ...  \n",
       "u8035                Het Goddelijke binnen je bereik: gesprekken me...  \n",
       "u9707                Clifton special;De Witte Schaduw : een verhaal...  \n",
       "u10287               De schilder & de wilde zwanen : een verhaal va...  \n",
       "u13304                                                          Pin-up  \n",
       "u2719                                                   David;Annemiek  \n",
       "\n",
       "[339 rows x 3 columns]"
      ]
     },
     "execution_count": 8,
     "metadata": {},
     "output_type": "execute_result"
    }
   ],
   "source": [
    "unescoAuthorityData = unescoAuthorityData.applymap(str)\n",
    "unescoAuthorityData"
   ]
  },
  {
   "cell_type": "markdown",
   "id": "ed75d92f",
   "metadata": {},
   "source": [
    "## Perform the matching\n",
    "\n",
    "This matching is performed by (additionally) comparing the similarity of book titles linked to an authority)."
   ]
  },
  {
   "cell_type": "code",
   "execution_count": 9,
   "id": "50fbfd6c",
   "metadata": {},
   "outputs": [
    {
     "data": {
      "text/html": [
       "<div>\n",
       "<style scoped>\n",
       "    .dataframe tbody tr th:only-of-type {\n",
       "        vertical-align: middle;\n",
       "    }\n",
       "\n",
       "    .dataframe tbody tr th {\n",
       "        vertical-align: top;\n",
       "    }\n",
       "\n",
       "    .dataframe thead th {\n",
       "        text-align: right;\n",
       "    }\n",
       "</style>\n",
       "<table border=\"1\" class=\"dataframe\">\n",
       "  <thead>\n",
       "    <tr style=\"text-align: right;\">\n",
       "      <th></th>\n",
       "      <th>contributorName</th>\n",
       "      <th>alternateNames</th>\n",
       "      <th>titles</th>\n",
       "      <th>index</th>\n",
       "    </tr>\n",
       "    <tr>\n",
       "      <th>contributorID</th>\n",
       "      <th></th>\n",
       "      <th></th>\n",
       "      <th></th>\n",
       "      <th></th>\n",
       "    </tr>\n",
       "  </thead>\n",
       "  <tbody>\n",
       "    <tr>\n",
       "      <th>2150</th>\n",
       "      <td>Derib</td>\n",
       "      <td>Ribaupierre, Claude de</td>\n",
       "      <td>Yakari en de valstrik;Yakari en de gevorkte ho...</td>\n",
       "      <td>2150</td>\n",
       "    </tr>\n",
       "    <tr>\n",
       "      <th>3548</th>\n",
       "      <td>Jacobs, Edgar P.</td>\n",
       "      <td>Jacob, Edgard Félix Pierre</td>\n",
       "      <td>Het geheim van de Zwaardvis;De 3 formules van ...</td>\n",
       "      <td>3548</td>\n",
       "    </tr>\n",
       "    <tr>\n",
       "      <th>5119</th>\n",
       "      <td>Peyo,</td>\n",
       "      <td>Culliford, Pierre</td>\n",
       "      <td>De leerlingsmurf ; Smurfenvallen ; Smurfen in ...</td>\n",
       "      <td>5119</td>\n",
       "    </tr>\n",
       "    <tr>\n",
       "      <th>5346</th>\n",
       "      <td>Ray, Jean</td>\n",
       "      <td>De Kremer, Reimond;Cremer, Raymond de;Рей, Жа...</td>\n",
       "      <td>De zwarte schaduw;Wel te rusten, Sir Gaunt !;S...</td>\n",
       "      <td>5346</td>\n",
       "    </tr>\n",
       "    <tr>\n",
       "      <th>4330</th>\n",
       "      <td>Magda,</td>\n",
       "      <td>Seron, Magda;Tumak;Ginesta, Magda</td>\n",
       "      <td>Gulliver chez les Lilliputiens ; Alice au pays...</td>\n",
       "      <td>4330</td>\n",
       "    </tr>\n",
       "    <tr>\n",
       "      <th>...</th>\n",
       "      <td>...</td>\n",
       "      <td>...</td>\n",
       "      <td>...</td>\n",
       "      <td>...</td>\n",
       "    </tr>\n",
       "    <tr>\n",
       "      <th>7a79a0d8-282c-4718-a333-9ad78b608f92</th>\n",
       "      <td>Marthe Seguin-Fontès</td>\n",
       "      <td>nan</td>\n",
       "      <td>Poppenweelde</td>\n",
       "      <td>7a79a0d8-282c-4718-a333-9ad78b608f92</td>\n",
       "    </tr>\n",
       "    <tr>\n",
       "      <th>82489ea8-9579-4957-b332-cea86b58a69a</th>\n",
       "      <td>Jan de Hartog</td>\n",
       "      <td>nan</td>\n",
       "      <td>Le ciel de lit : pièce en 3 actes</td>\n",
       "      <td>82489ea8-9579-4957-b332-cea86b58a69a</td>\n",
       "    </tr>\n",
       "    <tr>\n",
       "      <th>864c52ce-e1eb-4b7d-aba1-780faeae3dd8</th>\n",
       "      <td>José de Broucker</td>\n",
       "      <td>nan</td>\n",
       "      <td>Het dossier Suenens : diagnose van een crisis</td>\n",
       "      <td>864c52ce-e1eb-4b7d-aba1-780faeae3dd8</td>\n",
       "    </tr>\n",
       "    <tr>\n",
       "      <th>873fb16c-0c39-403c-bc7a-e27ed1299c70</th>\n",
       "      <td>Paul F. Regard</td>\n",
       "      <td>nan</td>\n",
       "      <td>De zeven kruiswoorden</td>\n",
       "      <td>873fb16c-0c39-403c-bc7a-e27ed1299c70</td>\n",
       "    </tr>\n",
       "    <tr>\n",
       "      <th>918fc625-353b-424b-bb27-7f937062b060</th>\n",
       "      <td>Éric Chevillard</td>\n",
       "      <td>nan</td>\n",
       "      <td>Rubber staat vast</td>\n",
       "      <td>918fc625-353b-424b-bb27-7f937062b060</td>\n",
       "    </tr>\n",
       "  </tbody>\n",
       "</table>\n",
       "<p>13943 rows × 4 columns</p>\n",
       "</div>"
      ],
      "text/plain": [
       "                                           contributorName  \\\n",
       "contributorID                                                \n",
       "2150                                                 Derib   \n",
       "3548                                      Jacobs, Edgar P.   \n",
       "5119                                                Peyo,    \n",
       "5346                                             Ray, Jean   \n",
       "4330                                               Magda,    \n",
       "...                                                    ...   \n",
       "7a79a0d8-282c-4718-a333-9ad78b608f92  Marthe Seguin-Fontès   \n",
       "82489ea8-9579-4957-b332-cea86b58a69a         Jan de Hartog   \n",
       "864c52ce-e1eb-4b7d-aba1-780faeae3dd8      José de Broucker   \n",
       "873fb16c-0c39-403c-bc7a-e27ed1299c70        Paul F. Regard   \n",
       "918fc625-353b-424b-bb27-7f937062b060       Éric Chevillard   \n",
       "\n",
       "                                                                         alternateNames  \\\n",
       "contributorID                                                                             \n",
       "2150                                                             Ribaupierre, Claude de   \n",
       "3548                                                         Jacob, Edgard Félix Pierre   \n",
       "5119                                                                  Culliford, Pierre   \n",
       "5346                                  De Kremer, Reimond;Cremer, Raymond de;Рей, Жа...   \n",
       "4330                                                  Seron, Magda;Tumak;Ginesta, Magda   \n",
       "...                                                                                 ...   \n",
       "7a79a0d8-282c-4718-a333-9ad78b608f92                                                nan   \n",
       "82489ea8-9579-4957-b332-cea86b58a69a                                                nan   \n",
       "864c52ce-e1eb-4b7d-aba1-780faeae3dd8                                                nan   \n",
       "873fb16c-0c39-403c-bc7a-e27ed1299c70                                                nan   \n",
       "918fc625-353b-424b-bb27-7f937062b060                                                nan   \n",
       "\n",
       "                                                                                 titles  \\\n",
       "contributorID                                                                             \n",
       "2150                                  Yakari en de valstrik;Yakari en de gevorkte ho...   \n",
       "3548                                  Het geheim van de Zwaardvis;De 3 formules van ...   \n",
       "5119                                  De leerlingsmurf ; Smurfenvallen ; Smurfen in ...   \n",
       "5346                                  De zwarte schaduw;Wel te rusten, Sir Gaunt !;S...   \n",
       "4330                                  Gulliver chez les Lilliputiens ; Alice au pays...   \n",
       "...                                                                                 ...   \n",
       "7a79a0d8-282c-4718-a333-9ad78b608f92                                       Poppenweelde   \n",
       "82489ea8-9579-4957-b332-cea86b58a69a                  Le ciel de lit : pièce en 3 actes   \n",
       "864c52ce-e1eb-4b7d-aba1-780faeae3dd8      Het dossier Suenens : diagnose van een crisis   \n",
       "873fb16c-0c39-403c-bc7a-e27ed1299c70                              De zeven kruiswoorden   \n",
       "918fc625-353b-424b-bb27-7f937062b060                                  Rubber staat vast   \n",
       "\n",
       "                                                                     index  \n",
       "contributorID                                                               \n",
       "2150                                                                  2150  \n",
       "3548                                                                  3548  \n",
       "5119                                                                  5119  \n",
       "5346                                                                  5346  \n",
       "4330                                                                  4330  \n",
       "...                                                                    ...  \n",
       "7a79a0d8-282c-4718-a333-9ad78b608f92  7a79a0d8-282c-4718-a333-9ad78b608f92  \n",
       "82489ea8-9579-4957-b332-cea86b58a69a  82489ea8-9579-4957-b332-cea86b58a69a  \n",
       "864c52ce-e1eb-4b7d-aba1-780faeae3dd8  864c52ce-e1eb-4b7d-aba1-780faeae3dd8  \n",
       "873fb16c-0c39-403c-bc7a-e27ed1299c70  873fb16c-0c39-403c-bc7a-e27ed1299c70  \n",
       "918fc625-353b-424b-bb27-7f937062b060  918fc625-353b-424b-bb27-7f937062b060  \n",
       "\n",
       "[13943 rows x 4 columns]"
      ]
     },
     "execution_count": 9,
     "metadata": {},
     "output_type": "execute_result"
    }
   ],
   "source": [
    "beltransAuthorityData = beltransAuthorityData.applymap(str)\n",
    "beltransAuthorityData['index'] = beltransAuthorityData.index\n",
    "beltransAuthorityData"
   ]
  },
  {
   "cell_type": "code",
   "execution_count": 10,
   "id": "02a8746c",
   "metadata": {},
   "outputs": [
    {
     "name": "stdout",
     "output_type": "stream",
     "text": [
      "Lookup object created!\n"
     ]
    }
   ],
   "source": [
    "lookupObject = MatchingLookup()\n",
    "beltransAuthorityData.apply(\n",
    "    lambda row: lookupObject.addLookupRecord(row['index'], \n",
    "                                             row['contributorName'].split(';') + row['alternateNames'].split(';'), \n",
    "                                             row['titles'].split(';')), \n",
    "    axis=1)\n",
    "print('Lookup object created!')"
   ]
  },
  {
   "cell_type": "code",
   "execution_count": 11,
   "id": "2d8dd832",
   "metadata": {},
   "outputs": [],
   "source": [
    "allStats = {}\n",
    "stats = {'no-name-candidates': 0, \n",
    "         'more-than-one-name-candidate': 0, \n",
    "         'one-name-candidate': 0,\n",
    "         'one-authority-match-via-title': 0,\n",
    "         'more-than-one-authority-match-via-title': 0,\n",
    "         'number-name-candidates': []}"
   ]
  },
  {
   "cell_type": "code",
   "execution_count": 12,
   "id": "cbab1cc2",
   "metadata": {
    "scrolled": true
   },
   "outputs": [
    {
     "name": "stderr",
     "output_type": "stream",
     "text": [
      "Matching via token_sort_ratio and threshold 90: 100%|████████████████████████████████████████████████████████████████████████████████████████████████████████████████████| 339/339 [00:29<00:00, 11.36it/s]\n"
     ]
    }
   ],
   "source": [
    "if not os.path.exists(outputDirectory):\n",
    "    os.makedirs(outputDirectory)\n",
    "for alg in algorithms:\n",
    "    for threshold in similarityThresholds:\n",
    "        outputFilename = os.path.join(outputDirectory, f'candidates-{alg}-{threshold}.csv')\n",
    "        outputFilenameClearMatches = os.path.join(outputDirectory, f'clear-matches-{alg}-{threshold}.csv')\n",
    "        outputFilenameMultipleMatches = os.path.join(outputDirectory, f'multiple-matches-{alg}-{threshold}.csv')\n",
    "        outputFilenameOneMatchOneDiscarded = os.path.join(outputDirectory, f'one-match-one-discarded-{alg}-{threshold}.csv')\n",
    "        outputStatsFilename = os.path.join(outputDirectory, f'stats-{alg}-{threshold}.json')\n",
    "        df = unescoAuthorityData.copy()\n",
    "        statsKey = f'{alg}-{threshold}'\n",
    "        allStats[statsKey] = stats.copy()\n",
    "        tqdm.pandas(desc=f'Matching via {alg} and threshold {threshold}')\n",
    "        df[['candidatesID', 'candidatesName', 'discardedCandidateIDs', 'discardedCandidateNames']] = \\\n",
    "  df.progress_apply(\n",
    "    lambda row: matching_utils.findMatches(row, \n",
    "                                           lookupObject, \n",
    "                                           allStats[statsKey],\n",
    "                                           simAlgorithmNames=alg,\n",
    "                                           simThresholdNames=threshold,\n",
    "                                           simAlgorithmTitles=alg,\n",
    "                                           simThresholdTitles=threshold, \n",
    "                                           minTitleMatches=minTitleMatches), \n",
    "    axis=1)\n",
    "        \n",
    "        dfData = df.applymap(str)\n",
    "        dfData = dfData.fillna('')\n",
    "        dfData['index'] = dfData.index\n",
    "        clearMatches = dfData.loc[(dfData['discardedCandidateIDs'] == '') \n",
    "                          & (~dfData['candidatesID'].str.contains(';')) \n",
    "                          & (dfData['candidatesID'] != '')]\n",
    "        clearMatches.to_csv(outputFilenameClearMatches)\n",
    "        \n",
    "        oneMatchOneDiscarded = dfData.loc[(dfData['discardedCandidateIDs'] != '') \n",
    "                          & (~dfData['candidatesID'].str.contains(';')) \n",
    "                          & (dfData['candidatesID'] != '')]\n",
    "        oneMatchOneDiscarded.to_csv(outputFilenameOneMatchOneDiscarded)\n",
    "        \n",
    "        multipleMatches = dfData.loc[(dfData['candidatesID'].str.contains(';')) \n",
    "                          & (dfData['candidatesID'] != '')]\n",
    "        multipleMatches.to_csv(outputFilenameMultipleMatches)\n",
    "        \n",
    "        dfData.to_csv(outputFilename)\n",
    "        \n",
    "        # write stats of current run to a separate file (writing the stats of all runs comes later)\n",
    "        with open(outputStatsFilename, 'w') as statsOut:\n",
    "            statsOut.write(json.dumps(allStats[statsKey], indent=2))\n"
   ]
  },
  {
   "cell_type": "code",
   "execution_count": 13,
   "id": "f2fad2ac",
   "metadata": {},
   "outputs": [],
   "source": [
    "clearMatches = dfData.loc[(dfData['discardedCandidateIDs'] == '') \n",
    "                          & (~dfData['candidatesID'].str.contains(';')) \n",
    "                          & (dfData['candidatesID'] != '')]\n",
    "clearMatches.shape[0]\n",
    "clearMatches.to_csv(os.path.join(outputDirectory, f'clear-matches-token_sort_ratio-90.csv'))"
   ]
  },
  {
   "cell_type": "code",
   "execution_count": 14,
   "id": "3fe162c7",
   "metadata": {},
   "outputs": [],
   "source": [
    "oneMatchOneDiscarded = dfData.loc[(dfData['discardedCandidateIDs'] != '') \n",
    "                          & (~dfData['candidatesID'].str.contains(';')) \n",
    "                          & (dfData['candidatesID'] != '')]\n",
    "oneMatchOneDiscarded.shape[0]\n",
    "oneMatchOneDiscarded.to_csv(os.path.join(outputDirectory, f'one-match-one-discarded-token_sort_ratio-90.csv'))"
   ]
  },
  {
   "cell_type": "code",
   "execution_count": 15,
   "id": "3c19a405",
   "metadata": {},
   "outputs": [
    {
     "data": {
      "text/plain": [
       "0"
      ]
     },
     "execution_count": 15,
     "metadata": {},
     "output_type": "execute_result"
    }
   ],
   "source": [
    "multipleMatches = dfData.loc[(dfData['candidatesID'].str.contains(';')) \n",
    "                          & (dfData['candidatesID'] != '')]\n",
    "multipleMatches.to_csv(os.path.join(outputDirectory, f'multiple-matches-token_sort_ratio-90.csv'))\n",
    "multipleMatches.shape[0]"
   ]
  },
  {
   "cell_type": "code",
   "execution_count": 16,
   "id": "a04f3083",
   "metadata": {
    "scrolled": true
   },
   "outputs": [
    {
     "name": "stdout",
     "output_type": "stream",
     "text": [
      "token_sort_ratio-90\n",
      "\tno-name-candidates: 208\n",
      "\tmore-than-one-name-candidate: 13\n",
      "\tone-name-candidate: 118\n",
      "\tone-authority-match-via-title: 63\n",
      "\tmore-than-one-authority-match-via-title: 0\n",
      "\tnumber-name-candidates: 1\n"
     ]
    }
   ],
   "source": [
    "processedStats = {}\n",
    "for key,stats in allStats.items():\n",
    "    print(key)\n",
    "    processedStats[key] = {}\n",
    "    for var in stats:\n",
    "        if var == 'number-name-candidates':\n",
    "            print(f'\\t{var}: {statistics.median(stats[var])}')\n",
    "            processedStats[key]['number-name-candidates-median'] = statistics.median(stats[var])\n",
    "            processedStats[key]['number-name-candidates-max'] = max(stats[var])\n",
    "        else:\n",
    "            print(f'\\t{var}: {stats[var]}')\n",
    "            processedStats[key][var] = stats[var]"
   ]
  },
  {
   "cell_type": "code",
   "execution_count": 17,
   "id": "315da633",
   "metadata": {},
   "outputs": [],
   "source": [
    "statsDf = df.from_dict(processedStats)"
   ]
  },
  {
   "cell_type": "code",
   "execution_count": 18,
   "id": "c9029f31",
   "metadata": {},
   "outputs": [
    {
     "data": {
      "text/html": [
       "<div>\n",
       "<style scoped>\n",
       "    .dataframe tbody tr th:only-of-type {\n",
       "        vertical-align: middle;\n",
       "    }\n",
       "\n",
       "    .dataframe tbody tr th {\n",
       "        vertical-align: top;\n",
       "    }\n",
       "\n",
       "    .dataframe thead th {\n",
       "        text-align: right;\n",
       "    }\n",
       "</style>\n",
       "<table border=\"1\" class=\"dataframe\">\n",
       "  <thead>\n",
       "    <tr style=\"text-align: right;\">\n",
       "      <th></th>\n",
       "      <th>token_sort_ratio-90</th>\n",
       "    </tr>\n",
       "  </thead>\n",
       "  <tbody>\n",
       "    <tr>\n",
       "      <th>more-than-one-authority-match-via-title</th>\n",
       "      <td>0</td>\n",
       "    </tr>\n",
       "    <tr>\n",
       "      <th>more-than-one-name-candidate</th>\n",
       "      <td>13</td>\n",
       "    </tr>\n",
       "    <tr>\n",
       "      <th>no-name-candidates</th>\n",
       "      <td>208</td>\n",
       "    </tr>\n",
       "    <tr>\n",
       "      <th>number-name-candidates-max</th>\n",
       "      <td>3</td>\n",
       "    </tr>\n",
       "    <tr>\n",
       "      <th>number-name-candidates-median</th>\n",
       "      <td>1</td>\n",
       "    </tr>\n",
       "    <tr>\n",
       "      <th>one-authority-match-via-title</th>\n",
       "      <td>63</td>\n",
       "    </tr>\n",
       "    <tr>\n",
       "      <th>one-name-candidate</th>\n",
       "      <td>118</td>\n",
       "    </tr>\n",
       "  </tbody>\n",
       "</table>\n",
       "</div>"
      ],
      "text/plain": [
       "                                         token_sort_ratio-90\n",
       "more-than-one-authority-match-via-title                    0\n",
       "more-than-one-name-candidate                              13\n",
       "no-name-candidates                                       208\n",
       "number-name-candidates-max                                 3\n",
       "number-name-candidates-median                              1\n",
       "one-authority-match-via-title                             63\n",
       "one-name-candidate                                       118"
      ]
     },
     "execution_count": 18,
     "metadata": {},
     "output_type": "execute_result"
    }
   ],
   "source": [
    "statsDf"
   ]
  },
  {
   "cell_type": "code",
   "execution_count": 19,
   "id": "33cfbb81",
   "metadata": {},
   "outputs": [],
   "source": [
    "statsDf.to_csv(statsFilename)"
   ]
  },
  {
   "cell_type": "code",
   "execution_count": 20,
   "id": "23a7840f",
   "metadata": {},
   "outputs": [],
   "source": [
    "#statsDfRaw = pd.read_csv('unesco-matching-scores/bak-stats.csv')\n",
    "statsDfRaw = pd.read_csv(statsFilename)"
   ]
  },
  {
   "cell_type": "code",
   "execution_count": 21,
   "id": "b7777349",
   "metadata": {},
   "outputs": [],
   "source": [
    "statsDfJSON = json.loads(statsDfRaw.to_json(orient='records'))"
   ]
  },
  {
   "cell_type": "code",
   "execution_count": 22,
   "id": "224f8e5c",
   "metadata": {},
   "outputs": [],
   "source": [
    "formattedJSON = []\n",
    "for varDict in statsDfJSON:\n",
    "    measurement = varDict['Unnamed: 0']\n",
    "    for varName,varValue in varDict.items():\n",
    "        newRow = {}\n",
    "        if not varName.startswith('Unnamed'):\n",
    "            nameParts = varName.split('-')\n",
    "            newRow['alg'] = nameParts[0]\n",
    "            newRow['threshold'] = nameParts[1]\n",
    "            newRow['value'] = varValue\n",
    "            newRow['var'] = measurement\n",
    "            formattedJSON.append(newRow)"
   ]
  },
  {
   "cell_type": "code",
   "execution_count": 23,
   "id": "036c3a2f",
   "metadata": {},
   "outputs": [],
   "source": [
    "statsDf = pd.DataFrame(formattedJSON)"
   ]
  },
  {
   "cell_type": "code",
   "execution_count": 24,
   "id": "51462783",
   "metadata": {
    "scrolled": false
   },
   "outputs": [
    {
     "data": {
      "text/html": [
       "<div>\n",
       "<style scoped>\n",
       "    .dataframe tbody tr th:only-of-type {\n",
       "        vertical-align: middle;\n",
       "    }\n",
       "\n",
       "    .dataframe tbody tr th {\n",
       "        vertical-align: top;\n",
       "    }\n",
       "\n",
       "    .dataframe thead th {\n",
       "        text-align: right;\n",
       "    }\n",
       "</style>\n",
       "<table border=\"1\" class=\"dataframe\">\n",
       "  <thead>\n",
       "    <tr style=\"text-align: right;\">\n",
       "      <th></th>\n",
       "      <th>alg</th>\n",
       "      <th>threshold</th>\n",
       "      <th>value</th>\n",
       "      <th>var</th>\n",
       "    </tr>\n",
       "  </thead>\n",
       "  <tbody>\n",
       "    <tr>\n",
       "      <th>0</th>\n",
       "      <td>token_sort_ratio</td>\n",
       "      <td>90</td>\n",
       "      <td>0</td>\n",
       "      <td>more-than-one-authority-match-via-title</td>\n",
       "    </tr>\n",
       "    <tr>\n",
       "      <th>1</th>\n",
       "      <td>token_sort_ratio</td>\n",
       "      <td>90</td>\n",
       "      <td>13</td>\n",
       "      <td>more-than-one-name-candidate</td>\n",
       "    </tr>\n",
       "    <tr>\n",
       "      <th>2</th>\n",
       "      <td>token_sort_ratio</td>\n",
       "      <td>90</td>\n",
       "      <td>208</td>\n",
       "      <td>no-name-candidates</td>\n",
       "    </tr>\n",
       "    <tr>\n",
       "      <th>3</th>\n",
       "      <td>token_sort_ratio</td>\n",
       "      <td>90</td>\n",
       "      <td>3</td>\n",
       "      <td>number-name-candidates-max</td>\n",
       "    </tr>\n",
       "    <tr>\n",
       "      <th>4</th>\n",
       "      <td>token_sort_ratio</td>\n",
       "      <td>90</td>\n",
       "      <td>1</td>\n",
       "      <td>number-name-candidates-median</td>\n",
       "    </tr>\n",
       "    <tr>\n",
       "      <th>5</th>\n",
       "      <td>token_sort_ratio</td>\n",
       "      <td>90</td>\n",
       "      <td>63</td>\n",
       "      <td>one-authority-match-via-title</td>\n",
       "    </tr>\n",
       "    <tr>\n",
       "      <th>6</th>\n",
       "      <td>token_sort_ratio</td>\n",
       "      <td>90</td>\n",
       "      <td>118</td>\n",
       "      <td>one-name-candidate</td>\n",
       "    </tr>\n",
       "  </tbody>\n",
       "</table>\n",
       "</div>"
      ],
      "text/plain": [
       "                alg threshold  value                                      var\n",
       "0  token_sort_ratio        90      0  more-than-one-authority-match-via-title\n",
       "1  token_sort_ratio        90     13             more-than-one-name-candidate\n",
       "2  token_sort_ratio        90    208                       no-name-candidates\n",
       "3  token_sort_ratio        90      3               number-name-candidates-max\n",
       "4  token_sort_ratio        90      1            number-name-candidates-median\n",
       "5  token_sort_ratio        90     63            one-authority-match-via-title\n",
       "6  token_sort_ratio        90    118                       one-name-candidate"
      ]
     },
     "execution_count": 24,
     "metadata": {},
     "output_type": "execute_result"
    }
   ],
   "source": [
    "statsDf"
   ]
  },
  {
   "cell_type": "code",
   "execution_count": 25,
   "id": "601c75df",
   "metadata": {
    "scrolled": true
   },
   "outputs": [
    {
     "data": {
      "text/plain": [
       "<AxesSubplot:xlabel='alg'>"
      ]
     },
     "execution_count": 25,
     "metadata": {},
     "output_type": "execute_result"
    },
    {
     "data": {
      "image/png": "[encoded data removed]",
      "text/plain": [
       "<Figure size 432x288 with 1 Axes>"
      ]
     },
     "metadata": {
      "needs_background": "light"
     },
     "output_type": "display_data"
    }
   ],
   "source": [
    "statsDfOneCandidate = statsDf[statsDf['var']=='one-name-candidate']\n",
    "statsDfOneCandidate.pivot(index='alg', columns='threshold', values='value').plot(kind='bar')"
   ]
  },
  {
   "cell_type": "code",
   "execution_count": 26,
   "id": "027eca1d",
   "metadata": {},
   "outputs": [
    {
     "data": {
      "text/plain": [
       "<AxesSubplot:xlabel='alg'>"
      ]
     },
     "execution_count": 26,
     "metadata": {},
     "output_type": "execute_result"
    },
    {
     "data": {
      "image/png": "[encoded data removed]",
      "text/plain": [
       "<Figure size 432x288 with 1 Axes>"
      ]
     },
     "metadata": {
      "needs_background": "light"
     },
     "output_type": "display_data"
    }
   ],
   "source": [
    "statsDfMultipleCandidates = statsDf[statsDf['var']=='more-than-one-name-candidate']\n",
    "statsDfMultipleCandidates.pivot(index='alg', columns='threshold', values='value').plot(kind='bar')"
   ]
  },
  {
   "cell_type": "code",
   "execution_count": 27,
   "id": "a432612d",
   "metadata": {},
   "outputs": [
    {
     "data": {
      "text/plain": [
       "<AxesSubplot:xlabel='alg'>"
      ]
     },
     "execution_count": 27,
     "metadata": {},
     "output_type": "execute_result"
    },
    {
     "data": {
      "image/png": "[encoded data removed]",
      "text/plain": [
       "<Figure size 432x288 with 1 Axes>"
      ]
     },
     "metadata": {
      "needs_background": "light"
     },
     "output_type": "display_data"
    }
   ],
   "source": [
    "statsDfOneTitle = statsDf[statsDf['var']=='one-authority-match-via-title']\n",
    "statsDfOneTitle.pivot(index='alg', columns='threshold', values='value').plot(kind='bar')"
   ]
  },
  {
   "cell_type": "code",
   "execution_count": 37,
   "id": "e7125005",
   "metadata": {},
   "outputs": [
    {
     "data": {
      "text/plain": [
       "<AxesSubplot:xlabel='alg'>"
      ]
     },
     "execution_count": 37,
     "metadata": {},
     "output_type": "execute_result"
    },
    {
     "data": {
      "image/png": "[encoded data removed]",
      "text/plain": [
       "<Figure size 432x288 with 1 Axes>"
      ]
     },
     "metadata": {
      "needs_background": "light"
     },
     "output_type": "display_data"
    }
   ],
   "source": [
    "statsDfMultipleTitles = statsDf[statsDf['var']=='more-than-one-authority-match-via-title']\n",
    "statsDfMultipleTitles.pivot(index='alg', columns='threshold', values='value').plot(kind='bar')"
   ]
  },
  {
   "cell_type": "markdown",
   "id": "3e23ae3d",
   "metadata": {},
   "source": [
    "## Stats from initial run to compare different values\n",
    "We compared the algorithms `['partial_ratio', 'token_sort_ratio', 'token_set_ratio']` and the similarity values `[95, 90, 80]`.\n",
    "\n",
    "### token_sort_ratio, similarity 90\n",
    "\n",
    "There are `3,204` from `8,327` rows with *at least one* candidate. From those, `3,128` are single matches (filtered in a spreadsheet with does not contain a semicolon).\n",
    "There are also matches with switched first name and last name. We already anticipated that the token_sort algorithm will be a good choice for person authority names.\n",
    "Examples are:\n",
    "* `Kors, Magriet`  and `Magriet Kors`\n",
    "* `Abeele, Andries van den`  and `Van den Abeele, Andries` (it was not confused with `Abeele, Erik van den`), but we also had an additional check based on common book titles\n",
    "\n",
    "There are `142` that additionally have at least one discarded identifier. \n",
    "For example in one case, `Rie van Antwerpen`  was matched with `Van Antwerpen Rie` and the match with `Van Antwerpen Piet` was discarded. This seems legist.\n",
    "But there are also cases such as `Anouilh, Jean` that was matched with `Jean anouilh` and the discarded match with `anouilh jean`, the latter two seem to be duplicates in our authority data.\n",
    "\n",
    "### partial_ratio, similarity 90\n",
    "There are `2,312` from `8,327` rows with *at least one* candidate. From those, `2,264` are single matches (filtered in a spreadsheet with \"does not contain\" semicolon).\n",
    "Matches such as `Abeele, Andries van den` described above are not in the result.\n",
    "Also not `Aaron Soazig` and `Soazig Aaron`."
   ]
  },
  {
   "cell_type": "code",
   "execution_count": null,
   "id": "3aaee0f0",
   "metadata": {},
   "outputs": [],
   "source": []
  },
  {
   "cell_type": "code",
   "execution_count": null,
   "id": "37d6bb3c",
   "metadata": {},
   "outputs": [],
   "source": []
  }
 ],
 "metadata": {
  "kernelspec": {
   "display_name": "py-integration-env",
   "language": "python",
   "name": "py-integration-env"
  },
  "language_info": {
   "codemirror_mode": {
    "name": "ipython",
    "version": 3
   },
   "file_extension": ".py",
   "mimetype": "text/x-python",
   "name": "python",
   "nbconvert_exporter": "python",
   "pygments_lexer": "ipython3",
   "version": "3.8.10"
  },
  "toc": {
   "base_numbering": 1,
   "nav_menu": {},
   "number_sections": true,
   "sideBar": true,
   "skip_h1_title": false,
   "title_cell": "Table of Contents",
   "title_sidebar": "Contents",
   "toc_cell": false,
   "toc_position": {},
   "toc_section_display": true,
   "toc_window_display": false
  }
 },
 "nbformat": 4,
 "nbformat_minor": 5
}
